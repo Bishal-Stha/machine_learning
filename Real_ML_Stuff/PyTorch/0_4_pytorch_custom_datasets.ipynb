{
 "cells": [
  {
   "cell_type": "markdown",
   "id": "16930668",
   "metadata": {},
   "source": [
    "# 04. PyTorch Custom Datasets Video Notebook\n",
    "\n",
    "We've used some datasets with Pytorch before.\n",
    "\n",
    "But how do you get your own data into PyTorch ?\n",
    "\n",
    "One of the ways to do so is via: Custom datasets.\n",
    "\n",
    "## Domain libraries\n",
    "\n",
    "Depending on what you're working on, vision, text, audio, recommendation, you'll want to look into each of the PyTorch domain libraries for existing data loading functions and customizable daa loading functions.\n",
    "\n",
    "**Resources**\n",
    "- Book version of the course material for 04: https://www.learnpytorch.io/04_pytorch_custom_datasets/\n",
    "- Ground truth version of notebook 04: https://github.com/mrdbourke/pytorch-deep-learning/blob/main/04_pytorch_custom_datasets.ipynb"
   ]
  },
  {
   "cell_type": "markdown",
   "id": "a4e45d89",
   "metadata": {},
   "source": [
    "##  0. Importing PyTorch and setting up device agnostic code."
   ]
  },
  {
   "cell_type": "code",
   "execution_count": 1,
   "id": "a9d1d418",
   "metadata": {},
   "outputs": [
    {
     "data": {
      "text/plain": [
       "'2.5.1+cu121'"
      ]
     },
     "execution_count": 1,
     "metadata": {},
     "output_type": "execute_result"
    }
   ],
   "source": [
    "import torch\n",
    "import torch.nn as nn\n",
    "\n",
    "# Note: PyTorch 1.10.0 + is required for this course.\n",
    "torch.__version__"
   ]
  },
  {
   "cell_type": "code",
   "execution_count": 2,
   "id": "e5d06060",
   "metadata": {},
   "outputs": [
    {
     "data": {
      "text/plain": [
       "'cuda'"
      ]
     },
     "execution_count": 2,
     "metadata": {},
     "output_type": "execute_result"
    }
   ],
   "source": [
    "# setup device agnostic code\n",
    "\n",
    "device = \"cuda\" if torch.cuda.is_available() else \"cpu\"\n",
    "device"
   ]
  },
  {
   "cell_type": "code",
   "execution_count": 3,
   "id": "4844d49c",
   "metadata": {},
   "outputs": [
    {
     "name": "stdout",
     "output_type": "stream",
     "text": [
      "Sat Jun 14 15:38:46 2025       \n",
      "+-----------------------------------------------------------------------------------------+\n",
      "| NVIDIA-SMI 576.52                 Driver Version: 576.52         CUDA Version: 12.9     |\n",
      "|-----------------------------------------+------------------------+----------------------+\n",
      "| GPU  Name                  Driver-Model | Bus-Id          Disp.A | Volatile Uncorr. ECC |\n",
      "| Fan  Temp   Perf          Pwr:Usage/Cap |           Memory-Usage | GPU-Util  Compute M. |\n",
      "|                                         |                        |               MIG M. |\n",
      "|=========================================+========================+======================|\n",
      "|   0  NVIDIA GeForce RTX 2050      WDDM  |   00000000:01:00.0 Off |                  N/A |\n",
      "| N/A   45C    P8              3W /   55W |     197MiB /   4096MiB |      3%      Default |\n",
      "|                                         |                        |                  N/A |\n",
      "+-----------------------------------------+------------------------+----------------------+\n",
      "                                                                                         \n",
      "+-----------------------------------------------------------------------------------------+\n",
      "| Processes:                                                                              |\n",
      "|  GPU   GI   CI              PID   Type   Process name                        GPU Memory |\n",
      "|        ID   ID                                                               Usage      |\n",
      "|=========================================================================================|\n",
      "|    0   N/A  N/A            1656    C+G   ....0.3296.68\\msedgewebview2.exe      N/A      |\n",
      "|    0   N/A  N/A            4516    C+G   ...8aw4\\AcerPurifiedVoiceApp.exe      N/A      |\n",
      "|    0   N/A  N/A            6340    C+G   ...ms\\Microsoft VS Code\\Code.exe      N/A      |\n",
      "|    0   N/A  N/A            8300    C+G   ...y\\StartMenuExperienceHost.exe      N/A      |\n",
      "|    0   N/A  N/A            9424    C+G   ..._cw5n1h2txyewy\\SearchHost.exe      N/A      |\n",
      "|    0   N/A  N/A            9788    C+G   ...64__8wekyb3d8bbwe\\Copilot.exe      N/A      |\n",
      "|    0   N/A  N/A            9856    C+G   ...5n1h2txyewy\\TextInputHost.exe      N/A      |\n",
      "|    0   N/A  N/A           11560    C+G   ....0.3296.68\\msedgewebview2.exe      N/A      |\n",
      "|    0   N/A  N/A           13272    C+G   ...8bbwe\\PhoneExperienceHost.exe      N/A      |\n",
      "|    0   N/A  N/A           20680    C+G   ...x64__dt26b99r8h8gj\\RtkUWP.exe      N/A      |\n",
      "|    0   N/A  N/A           21964    C+G   ...4__cv1g1gvanyjgm\\WhatsApp.exe      N/A      |\n",
      "|    0   N/A  N/A           24368    C+G   ...indows\\System32\\ShellHost.exe      N/A      |\n",
      "+-----------------------------------------------------------------------------------------+\n"
     ]
    }
   ],
   "source": [
    "!nvidia-smi"
   ]
  },
  {
   "cell_type": "markdown",
   "id": "71410755",
   "metadata": {},
   "source": [
    " ## 1. Get data\n",
    "\n",
    " Our dataset is a subset of the Food101 dataset.\n",
    "\n",
    " Food 101 starts 101 different classes of food and 1000 images per class (750 training, 250 testing).\n",
    "\n",
    " our dataset starts with 3 classes of food and only 10% of the images (~ 75 training, 25 testing)\n",
    "\n",
    " why do this ?\n",
    "\n",
    " When starting out ML projects, its important to try things on a small scale and then increase the scale when necessary. \n",
    " \n",
    " The whole point is to speed up how fast you can experiment."
   ]
  },
  {
   "cell_type": "code",
   "execution_count": 6,
   "id": "1546967b",
   "metadata": {},
   "outputs": [
    {
     "name": "stdout",
     "output_type": "stream",
     "text": [
      "data\\pizza_streak_sushi directory already exists..skipping download\n",
      "Downloading pizza, steak, sushi data....\n",
      "Unzipping pizza, steak and sushi data...\n"
     ]
    }
   ],
   "source": [
    "import requests\n",
    "\n",
    "import zipfile\n",
    "from pathlib import Path\n",
    "\n",
    "# setup path to a data folder\n",
    "data_path = Path(\"data/\")\n",
    "image_path = data_path / \"pizza_streak_sushi\"\n",
    "\n",
    "# If the image folder doesn't exist, download it and prepare it...\n",
    "if image_path.is_dir():\n",
    "    print(f\"{image_path} directory already exists..skipping download\")\n",
    "else:\n",
    "    print(f\"{image_path} doesn't exist, creating one...\")\n",
    "    image_path.mkdir(parents=True, exist_ok=True)\n",
    "\n",
    "# Download pizza, steak and sushi data\n",
    "with open(data_path / \"pizza_steak_sushi.zip\",\"wb\") as f:\n",
    "    request = requests.get(\"https://github.com/mrdbourke/pytorch-deep-learning/raw/refs/heads/main/data/pizza_steak_sushi.zip\")\n",
    "    print(f\"Downloading pizza, steak, sushi data....\")\n",
    "    f.write(request.content)\n",
    "\n",
    "    # Unzip pizza, steak, sushi data\n",
    "    with zipfile.ZipFile(data_path/ \"pizza_steak_sushi.zip\",\"r\") as zip_ref:\n",
    "        print(\"Unzipping pizza, steak and sushi data...\")\n",
    "        zip_ref.extractall(image_path)"
   ]
  }
 ],
 "metadata": {
  "kernelspec": {
   "display_name": "Python 3",
   "language": "python",
   "name": "python3"
  },
  "language_info": {
   "codemirror_mode": {
    "name": "ipython",
    "version": 3
   },
   "file_extension": ".py",
   "mimetype": "text/x-python",
   "name": "python",
   "nbconvert_exporter": "python",
   "pygments_lexer": "ipython3",
   "version": "3.10.0"
  }
 },
 "nbformat": 4,
 "nbformat_minor": 5
}

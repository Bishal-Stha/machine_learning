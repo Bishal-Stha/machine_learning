{
 "cells": [
  {
   "cell_type": "code",
   "execution_count": 1,
   "id": "f2c22ba1",
   "metadata": {},
   "outputs": [],
   "source": [
    "import pickle\n",
    "import numpy as np"
   ]
  },
  {
   "cell_type": "code",
   "execution_count": 2,
   "id": "16a5b723",
   "metadata": {},
   "outputs": [],
   "source": [
    "loaded_model = pickle.load(open('trained_model.sav','rb'))"
   ]
  },
  {
   "cell_type": "code",
   "execution_count": 3,
   "id": "bf49e443",
   "metadata": {},
   "outputs": [],
   "source": [
    "def predict_score():\n",
    "    # input_data = (18,1,9,1.5,0,0,85,6,2,3,1,2,2,1)\n",
    "    age = int (input(\"Enter age: \"))\n",
    "    gender = int (input(\"Enter gender [1 for 'Male', 0 for 'Female']\"))\n",
    "    study_hours_per_day = float (input(\"Enter how many hours do you study per day: \"))\n",
    "    social_media_hours = float (input(\"Enter how many hours do spend on social media: \"))\n",
    "    netflix_hours = float (input(\"Enter how many hours do you spend on netflix: \"))\n",
    "    part_time_job = int (input(\"Enter your partime job status [1 for 'Yes', 0 for 'No']\"))\n",
    "    attendance_percentage = float (input(\"Enter your attendance percentage: \"))\n",
    "    sleep_hours = float (input(\"Enter how many hours do you sleep: \"))\n",
    "    diet_quality = int (input(\"Enter your diet quality ['Poor':0, 'Fair':1, 'Good':2]\"))\n",
    "    exercise_frequency = int (input(\"Enter how many days in a week do you exercise: \"))\n",
    "    parental_education_level = int (input(\"Enter your parent's education level['High School': 1,'Bachelor': 2,'Master': 3]\"))\n",
    "    internet_quality = int (input(\"Enter your internet quality ['Poor':0, 'Average':1, 'Good':2]\"))\n",
    "    mental_health_rating = int (input(\"Enter your mental health rating [1-10] 1-> means low mental health, 10-> good mental health\"))\n",
    "    extracurricular_participation = int (input(\"Enter your extracurricular participation [1 for 'Yes' or 0 for 'No'] \"))\n",
    "\n",
    "    input_data = (age, gender, study_hours_per_day, social_media_hours,\n",
    "       netflix_hours, part_time_job, attendance_percentage,\n",
    "       sleep_hours, diet_quality, exercise_frequency,\n",
    "       parental_education_level, internet_quality, mental_health_rating,\n",
    "       extracurricular_participation)\n",
    "    np_input_data = np.asarray(input_data)\n",
    "    input_featuress = np_input_data.reshape(1,-1)\n",
    "    # print(np_input_data)\n",
    "    prediction = loaded_model.predict(input_featuress)\n",
    "    print(\"Model Prediction: \")\n",
    "    print(f\"Your estimated score: {prediction[0]:.3f}\")"
   ]
  },
  {
   "cell_type": "code",
   "execution_count": 4,
   "id": "254560c5",
   "metadata": {},
   "outputs": [
    {
     "ename": "ValueError",
     "evalue": "invalid literal for int() with base 10: ''",
     "output_type": "error",
     "traceback": [
      "\u001b[1;31m---------------------------------------------------------------------------\u001b[0m",
      "\u001b[1;31mValueError\u001b[0m                                Traceback (most recent call last)",
      "Cell \u001b[1;32mIn[4], line 1\u001b[0m\n\u001b[1;32m----> 1\u001b[0m \u001b[43mpredict_score\u001b[49m\u001b[43m(\u001b[49m\u001b[43m)\u001b[49m\n",
      "Cell \u001b[1;32mIn[3], line 4\u001b[0m, in \u001b[0;36mpredict_score\u001b[1;34m()\u001b[0m\n\u001b[0;32m      1\u001b[0m \u001b[38;5;28;01mdef\u001b[39;00m\u001b[38;5;250m \u001b[39m\u001b[38;5;21mpredict_score\u001b[39m():\n\u001b[0;32m      2\u001b[0m     \u001b[38;5;66;03m# input_data = (18,1,9,1.5,0,0,85,6,2,3,1,2,2,1)\u001b[39;00m\n\u001b[0;32m      3\u001b[0m     age \u001b[38;5;241m=\u001b[39m \u001b[38;5;28mint\u001b[39m (\u001b[38;5;28minput\u001b[39m(\u001b[38;5;124m\"\u001b[39m\u001b[38;5;124mEnter age: \u001b[39m\u001b[38;5;124m\"\u001b[39m))\n\u001b[1;32m----> 4\u001b[0m     gender \u001b[38;5;241m=\u001b[39m \u001b[38;5;28;43mint\u001b[39;49m\u001b[43m \u001b[49m\u001b[43m(\u001b[49m\u001b[38;5;28;43minput\u001b[39;49m\u001b[43m(\u001b[49m\u001b[38;5;124;43m\"\u001b[39;49m\u001b[38;5;124;43mEnter gender [1 for \u001b[39;49m\u001b[38;5;124;43m'\u001b[39;49m\u001b[38;5;124;43mMale\u001b[39;49m\u001b[38;5;124;43m'\u001b[39;49m\u001b[38;5;124;43m, 0 for \u001b[39;49m\u001b[38;5;124;43m'\u001b[39;49m\u001b[38;5;124;43mFemale\u001b[39;49m\u001b[38;5;124;43m'\u001b[39;49m\u001b[38;5;124;43m]\u001b[39;49m\u001b[38;5;124;43m\"\u001b[39;49m\u001b[43m)\u001b[49m\u001b[43m)\u001b[49m\n\u001b[0;32m      5\u001b[0m     study_hours_per_day \u001b[38;5;241m=\u001b[39m \u001b[38;5;28mfloat\u001b[39m (\u001b[38;5;28minput\u001b[39m(\u001b[38;5;124m\"\u001b[39m\u001b[38;5;124mEnter how many hours do you study per day: \u001b[39m\u001b[38;5;124m\"\u001b[39m))\n\u001b[0;32m      6\u001b[0m     social_media_hours \u001b[38;5;241m=\u001b[39m \u001b[38;5;28mfloat\u001b[39m (\u001b[38;5;28minput\u001b[39m(\u001b[38;5;124m\"\u001b[39m\u001b[38;5;124mEnter how many hours do spend on social media: \u001b[39m\u001b[38;5;124m\"\u001b[39m))\n",
      "\u001b[1;31mValueError\u001b[0m: invalid literal for int() with base 10: ''"
     ]
    }
   ],
   "source": [
    "predict_score()"
   ]
  }
 ],
 "metadata": {
  "kernelspec": {
   "display_name": "Python 3",
   "language": "python",
   "name": "python3"
  },
  "language_info": {
   "codemirror_mode": {
    "name": "ipython",
    "version": 3
   },
   "file_extension": ".py",
   "mimetype": "text/x-python",
   "name": "python",
   "nbconvert_exporter": "python",
   "pygments_lexer": "ipython3",
   "version": "3.10.0"
  }
 },
 "nbformat": 4,
 "nbformat_minor": 5
}

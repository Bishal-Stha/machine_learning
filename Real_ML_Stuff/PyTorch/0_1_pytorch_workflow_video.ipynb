{
 "cells": [
  {
   "cell_type": "markdown",
   "id": "0e655576",
   "metadata": {},
   "source": [
    "# Python Workflow\n",
    "\n",
    "Let's explore an example PyTorch end-to-end workflow.\n",
    "\n",
    "Resources:\n",
    "\n",
    "- [`Ground truth notebook`](https://github.com/mrdourke/python-deep-learning/blob/main/01_pytorch_workflow.ipynb)\n",
    "- [`Book version of notebook`](https://www.learnpytorch.io/01_pytorch_workflow/)"
   ]
  },
  {
   "cell_type": "code",
   "execution_count": 11,
   "id": "d4ff7f44",
   "metadata": {},
   "outputs": [
    {
     "data": {
      "text/plain": [
       "{1: 'data (prepare and load)',\n",
       " 2: 'build model',\n",
       " 3: 'fitting the model to data (training)',\n",
       " 4: 'making predictions and evaluting a model (inference)',\n",
       " 5: 'save and loading a model',\n",
       " 6: 'putting it all together'}"
      ]
     },
     "execution_count": 11,
     "metadata": {},
     "output_type": "execute_result"
    }
   ],
   "source": [
    "what_we_covering = {\n",
    "    1: \"data (prepare and load)\",\n",
    "    2: \"build model\",\n",
    "    3: \"fitting the model to data (training)\",\n",
    "    4: \"making predictions and evaluting a model (inference)\",\n",
    "    5: \"save and loading a model\",\n",
    "    6: \"putting it all together\"\n",
    "}\n",
    "what_we_covering"
   ]
  },
  {
   "cell_type": "code",
   "execution_count": 12,
   "id": "9ebea65b",
   "metadata": {},
   "outputs": [
    {
     "data": {
      "text/plain": [
       "'2.7.0+cpu'"
      ]
     },
     "execution_count": 12,
     "metadata": {},
     "output_type": "execute_result"
    }
   ],
   "source": [
    "import torch\n",
    "from torch import nn # nn contains all of PyTorch's building for neural networks\n",
    "\n",
    "import matplotlib.pyplot as plt\n",
    "\n",
    "#check pytorch version\n",
    "torch.__version__"
   ]
  },
  {
   "cell_type": "markdown",
   "id": "6762b403",
   "metadata": {},
   "source": [
    "### 1. Data (Preparing and Loading)\n",
    "Data can be almost anything.. in machine learning.\n",
    "\n",
    "- Excel spreadsheet\n",
    "- Image of any kind\n",
    "- Videos (Youtube has lots of data)...\n",
    "- DNA\n",
    "- Text\n",
    "\n",
    "Machine learning is game of two parts:\n",
    "1. Get data into a numerical representaion.\n",
    "2. Build a model to learn patterns in that numerical representation.\n",
    "\n",
    "To showcase this, let's create some *known* data using the linear regression formula.\n",
    "\n",
    "We'll use a linear regression formula to make a straight line with known **Parameters**"
   ]
  },
  {
   "cell_type": "code",
   "execution_count": 13,
   "id": "22f6aab3",
   "metadata": {},
   "outputs": [
    {
     "data": {
      "text/plain": [
       "(tensor([[0.0000],\n",
       "         [0.0200],\n",
       "         [0.0400],\n",
       "         [0.0600],\n",
       "         [0.0800],\n",
       "         [0.1000],\n",
       "         [0.1200],\n",
       "         [0.1400],\n",
       "         [0.1600],\n",
       "         [0.1800]]),\n",
       " tensor([[0.3000],\n",
       "         [0.3140],\n",
       "         [0.3280],\n",
       "         [0.3420],\n",
       "         [0.3560],\n",
       "         [0.3700],\n",
       "         [0.3840],\n",
       "         [0.3980],\n",
       "         [0.4120],\n",
       "         [0.4260]]))"
      ]
     },
     "execution_count": 13,
     "metadata": {},
     "output_type": "execute_result"
    }
   ],
   "source": [
    "# Create known parameters\n",
    "weight = 0.7\n",
    "bias = 0.3\n",
    "\n",
    "# Create\n",
    "start =0\n",
    "end = 1\n",
    "step = 0.02\n",
    "X = torch.arange(start,end,step).unsqueeze(dim=1)\n",
    "y = weight*X +bias\n",
    "\n",
    "X[:10], y[:10]"
   ]
  },
  {
   "cell_type": "code",
   "execution_count": 14,
   "id": "876c08f2",
   "metadata": {},
   "outputs": [
    {
     "data": {
      "text/plain": [
       "(50, 50)"
      ]
     },
     "execution_count": 14,
     "metadata": {},
     "output_type": "execute_result"
    }
   ],
   "source": [
    "len(X), len(y)"
   ]
  },
  {
   "cell_type": "markdown",
   "id": "80fc0914",
   "metadata": {},
   "source": [
    "### Splitting  data into training and test sets (one of the most important concepts in machine learning in general)\n",
    "\n",
    "Let's create a training and test set with our data."
   ]
  },
  {
   "cell_type": "code",
   "execution_count": 15,
   "id": "4a40dd83",
   "metadata": {},
   "outputs": [
    {
     "data": {
      "text/plain": [
       "(40, 10, 40, 10)"
      ]
     },
     "execution_count": 15,
     "metadata": {},
     "output_type": "execute_result"
    }
   ],
   "source": [
    "# create a train/test split\n",
    "train_split = int(0.8*len(X))\n",
    "X_train, y_train = X[:train_split], y[:train_split]\n",
    "X_test, y_test = X[train_split:], y[train_split:]\n",
    "\n",
    "len(X_train), len(X_test), len(y_train), len(y_test)"
   ]
  },
  {
   "cell_type": "markdown",
   "id": "de545d27",
   "metadata": {},
   "source": [
    "### Building \n",
    "\n",
    "How might we better visualize our data ?\n",
    "\"Visualize, Visualize, Visualize \""
   ]
  },
  {
   "cell_type": "code",
   "execution_count": 16,
   "id": "f11ccd7d",
   "metadata": {},
   "outputs": [],
   "source": [
    "def plot_predictions(train_data =X_train,\n",
    "                     train_labels =y_train,\n",
    "                     test_data = X_test,\n",
    "                     test_labels =y_test,\n",
    "                     predictions =None\n",
    "                     ):\n",
    "    plt.figure(figsize=(10,7))\n",
    "    plt.scatter(train_data,train_labels, c=\"b\", s=4, label \n",
    "    =\"Training data\")\n",
    "    plt.scatter(test_data,test_labels, c=\"g\", s=4, label \n",
    "    =\"Test data\")\n",
    "\n",
    "    if predictions is not None:\n",
    "        plt.scatter(test_data,predictions, c='r',s=4, label =\"Prediction\")\n",
    "    \n",
    "    plt.legend(prop={\"size\":14})\n",
    "    plt.show()"
   ]
  },
  {
   "cell_type": "code",
   "execution_count": 17,
   "id": "8c5ec9e3",
   "metadata": {},
   "outputs": [
    {
     "data": {
      "image/png": "[encoded data removed]",
      "text/plain": [
       "<Figure size 1000x700 with 1 Axes>"
      ]
     },
     "metadata": {},
     "output_type": "display_data"
    }
   ],
   "source": [
    "plot_predictions()"
   ]
  },
  {
   "cell_type": "markdown",
   "id": "1703e2d7",
   "metadata": {},
   "source": [
    "### Creating our first pytorch model for linear regression.\n",
    "Our first pytorch model\n",
    "this is very exciting... let's do it!\n",
    "Because we're going to be building classes throughout the course, I'd recommend getting familiar with OOP in Python, to do so you can use the following resource from [Real Python](https://realpython.com/python3-object-oriented-programming)\n",
    "\n",
    "What our model does:\n",
    "- Start with random values (weight & bias)\n",
    "- Look at training data and adjust the random values to better represent (or get closer to) the ideal values (the weights & bias values we used to create the data).\n",
    "\n",
    "How does it do so ?\n",
    "\n",
    "Through two main algorithms:\n",
    "1. Gradient Descent\n",
    "2. Backpropagation"
   ]
  },
  {
   "cell_type": "code",
   "execution_count": 18,
   "id": "983d9969",
   "metadata": {},
   "outputs": [],
   "source": [
    "# creating a linear regression model class\n",
    "\n",
    "class LinearRegressionModel(nn.Module): # Almost everything in PyTorch inherits from nn.Module\n",
    "    def __init__(self):\n",
    "        super().__init__()\n",
    "        self.weights = nn.Parameter(\n",
    "            torch.randn(\n",
    "                        1,\n",
    "                        requires_grad=True,\n",
    "                        dtype=torch.float\n",
    "                        ))\n",
    "\n",
    "        self.bias = nn.Parameter(torch.randn(\n",
    "                        1,\n",
    "                        requires_grad=True,\n",
    "                        dtype=torch.float,\n",
    "                        ))\n",
    "    \n",
    "    # Forward method to define the computation in the model:\n",
    "    def forward(self,x:torch.Tensor) -> torch.Tensor: # <- \"x\" is the input data\n",
    "        return self.weights*x + self.bias # this is the linear regression formula"
   ]
  },
  {
   "cell_type": "markdown",
   "id": "120209a5",
   "metadata": {},
   "source": [
    "### Discussing some of the most important pyTorch Model Building Classes\n",
    "\n",
    "PyTorch model building essentials\n",
    "- `torch.nn` - contains all of the building blocks for computational graphs (a neural network can be considered as a computational graph)\n",
    "- `torch.nn.Parameter` - what parameters should our model try and learn, often a pyTorch layer from torch.nn will these for us.\n",
    "- `torch.nn.Module` - The base class for all neural network subclasses, if you should overwrite forward()\n",
    "- `torch.optim` - this is used where the optimizers in PyTorch live, they will help with gradient descent\n",
    "- `def forward()` - All nn.Module subclass require you to overwrite forward(), this method defines what happens in the forward computation.\n",
    "- `torch.utils.data.Dataset` - Represents a map between key (label) and sample (features) pairs of your data. Such as images and their associated labels.\n",
    "- `torch.utils.data.Dataloader` - Creates a Python iterable over a torch Dataset (allows you to iterate over your data).\n",
    "\n",
    "[Pytorch Cheat Sheet](https://docs.pytorch.org/tutorials/beginner/ptcheat.html)"
   ]
  },
  {
   "cell_type": "markdown",
   "id": "5e3580c8",
   "metadata": {},
   "source": [
    "### Checking the content of our PyTorch model\n",
    "\n",
    "Now we've created a model, let's see what's inside...\n",
    "So, we can check our model parameters or what's inside our model using `parameters()`."
   ]
  },
  {
   "cell_type": "code",
   "execution_count": 21,
   "id": "e1dd5212",
   "metadata": {},
   "outputs": [
    {
     "data": {
      "text/plain": [
       "[Parameter containing:\n",
       " tensor([0.3367], requires_grad=True),\n",
       " Parameter containing:\n",
       " tensor([0.1288], requires_grad=True)]"
      ]
     },
     "execution_count": 21,
     "metadata": {},
     "output_type": "execute_result"
    }
   ],
   "source": [
    "# Creating a random seed\n",
    "torch.manual_seed(42)\n",
    "\n",
    "# Creating an instance of this model (this is a subclass of nn.Module)\n",
    "\n",
    "model_0 = LinearRegressionModel()\n",
    "list(model_0.parameters())"
   ]
  },
  {
   "cell_type": "code",
   "execution_count": 22,
   "id": "d8d7c5f7",
   "metadata": {},
   "outputs": [
    {
     "data": {
      "text/plain": [
       "(Parameter containing:\n",
       " tensor([0.3367], requires_grad=True),\n",
       " Parameter containing:\n",
       " tensor([0.1288], requires_grad=True))"
      ]
     },
     "execution_count": 22,
     "metadata": {},
     "output_type": "execute_result"
    }
   ],
   "source": [
    "model_0.weights, model_0.bias"
   ]
  },
  {
   "cell_type": "markdown",
   "id": "c7f9db9d",
   "metadata": {},
   "source": [
    "### Making Predictions using model using `torch.inference_mode()`\n",
    "\n",
    "To check our model's predictive power, let's see how well its practice **y_test** based on **x_test**.\n",
    "When we pass the data through our model, it's going to run it through the **forward()** method.\n",
    "\n"
   ]
  },
  {
   "cell_type": "code",
   "execution_count": 24,
   "id": "849dd443",
   "metadata": {},
   "outputs": [
    {
     "data": {
      "text/plain": [
       "tensor([[0.3982],\n",
       "        [0.4049],\n",
       "        [0.4116],\n",
       "        [0.4184],\n",
       "        [0.4251],\n",
       "        [0.4318],\n",
       "        [0.4386],\n",
       "        [0.4453],\n",
       "        [0.4520],\n",
       "        [0.4588]])"
      ]
     },
     "execution_count": 24,
     "metadata": {},
     "output_type": "execute_result"
    }
   ],
   "source": [
    "# Make predictions with model:\n",
    "\n",
    "with torch.inference_mode():\n",
    "    y_preds = model_0(X_test)\n",
    "y_preds"
   ]
  },
  {
   "cell_type": "code",
   "execution_count": 25,
   "id": "71be35c9",
   "metadata": {},
   "outputs": [
    {
     "data": {
      "text/plain": [
       "tensor([[0.8600],\n",
       "        [0.8740],\n",
       "        [0.8880],\n",
       "        [0.9020],\n",
       "        [0.9160],\n",
       "        [0.9300],\n",
       "        [0.9440],\n",
       "        [0.9580],\n",
       "        [0.9720],\n",
       "        [0.9860]])"
      ]
     },
     "execution_count": 25,
     "metadata": {},
     "output_type": "execute_result"
    }
   ],
   "source": [
    "y_test"
   ]
  },
  {
   "cell_type": "code",
   "execution_count": 27,
   "id": "e5933398",
   "metadata": {},
   "outputs": [
    {
     "data": {
      "image/png": "[encoded data removed]",
      "text/plain": [
       "<Figure size 1000x700 with 1 Axes>"
      ]
     },
     "metadata": {},
     "output_type": "display_data"
    }
   ],
   "source": [
    "plot_predictions(predictions=y_preds)"
   ]
  },
  {
   "cell_type": "markdown",
   "id": "704bbce3",
   "metadata": {},
   "source": [
    "### 3. Training model\n",
    "\n",
    "The whole idea of training is for a model to move from some *unknown* parameters (these may be random) to some *known* parameters. \n",
    "\n",
    "Or in other words from a poor representation of the data to a better representation of the data.\n",
    "\n",
    "One way to measure how poor or how wrong your model prediction is use Loss Functions\n",
    "\n",
    "- Note: Loss function may also be called as cost function or criterion in different areas. For our case, we're going to refer to it as a loss function.\n",
    "\n",
    "Things we need to train:\n",
    "\n",
    "- **Loss function:** A function to measure how wrong your model's prediction are to the ideal ouptuts, lower is better.\n",
    "\n",
    "- **Optimizer:** Takes into account the loss of a model and adjusts the model's parameters (eg. weights & bias)\n",
    "\n",
    "And specially for PyTorch, we need:\n",
    "- A Training loop\n",
    "- A Testing loop"
   ]
  },
  {
   "cell_type": "markdown",
   "id": "f0d6ce17",
   "metadata": {},
   "source": [
    "### Loss Functions for Regression\n",
    "- `nn.L1Loss`: Creates a criterion that measures the mean absolute error (MAE) between each element in the input x and target y.\n",
    "- `nn.L2Loss`: reates a criterion that measures the mean squared error (squared L2 norm) between each element in the input x and target y.\n",
    "\n",
    "There are other many loss functions for regression task but these two are most widely used.\n",
    "\n",
    "### Loss Function for Classification \n",
    "- `nn.CrossEntropyLoss` - This criterion computes the cross entropy loss between input logits and target.\n",
    "- `nn.BCELoss` - Creates a criterion that measures the Binary Cross Entropy between the target and the input probabilities:"
   ]
  },
  {
   "cell_type": "code",
   "execution_count": null,
   "id": "2d9b6024",
   "metadata": {},
   "outputs": [],
   "source": [
    "# Setup a loss function\n",
    "\n",
    "loss_fn = nn.L1Loss()\n",
    "\n",
    "# Setup an optimizer\n",
    "optimizer = torch.optim.SGD(params = model_0.parameters(), lr=0.01)\n",
    "# lr = learning rate - possibly the most important hyperparameter you can set. "
   ]
  },
  {
   "cell_type": "code",
   "execution_count": 33,
   "id": "dbba3cea",
   "metadata": {},
   "outputs": [
    {
     "data": {
      "text/plain": [
       "L1Loss()"
      ]
     },
     "execution_count": 33,
     "metadata": {},
     "output_type": "execute_result"
    }
   ],
   "source": [
    "loss_fn "
   ]
  }
 ],
 "metadata": {
  "kernelspec": {
   "display_name": "Python 3",
   "language": "python",
   "name": "python3"
  },
  "language_info": {
   "codemirror_mode": {
    "name": "ipython",
    "version": 3
   },
   "file_extension": ".py",
   "mimetype": "text/x-python",
   "name": "python",
   "nbconvert_exporter": "python",
   "pygments_lexer": "ipython3",
   "version": "3.10.0"
  }
 },
 "nbformat": 4,
 "nbformat_minor": 5
}

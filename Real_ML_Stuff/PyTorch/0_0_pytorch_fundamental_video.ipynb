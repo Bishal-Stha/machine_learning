{
  "cells": [
    {
      "cell_type": "markdown",
      "metadata": {
        "id": "9eFf-yP8GP3f"
      },
      "source": [
        "Resource notebook: https://www.learnpytorch.io/00_pytorch_fundamentals/\n",
        "\n",
        "if you have a question: https://github.com/mrdbourke/pytorch-deep-learning/discussions"
      ]
    },
    {
      "cell_type": "code",
      "execution_count": 1,
      "metadata": {
        "colab": {
          "base_uri": "https://localhost:8080/"
        },
        "id": "7GEWundEDfcP",
        "outputId": "45ba0133-7558-47c6-ea8e-ee31b4eb0daa"
      },
      "outputs": [
        {
          "name": "stdout",
          "output_type": "stream",
          "text": [
            "Let's learn Pytorch\n"
          ]
        }
      ],
      "source": [
        "print(\"Let's learn Pytorch\")"
      ]
    },
    {
      "cell_type": "code",
      "execution_count": 2,
      "metadata": {
        "colab": {
          "base_uri": "https://localhost:8080/"
        },
        "id": "QMyoEFECEIz_",
        "outputId": "24b39ca1-0cd7-44be-e259-a6c927c840be"
      },
      "outputs": [
        {
          "name": "stdout",
          "output_type": "stream",
          "text": [
            "2.7.0+cpu\n"
          ]
        }
      ],
      "source": [
        "import torch\n",
        "print(torch.__version__)"
      ]
    },
    {
      "cell_type": "code",
      "execution_count": 3,
      "metadata": {
        "id": "OdBjYEvqGnlV"
      },
      "outputs": [],
      "source": [
        "## Introduction to Tensors\n",
        "\n",
        "#creating tensor"
      ]
    },
    {
      "cell_type": "code",
      "execution_count": 4,
      "metadata": {
        "colab": {
          "base_uri": "https://localhost:8080/"
        },
        "id": "y81ii79u9upJ",
        "outputId": "90695227-18e7-4b26-93eb-89307a6fffbb"
      },
      "outputs": [
        {
          "data": {
            "text/plain": [
              "tensor(1)"
            ]
          },
          "execution_count": 4,
          "metadata": {},
          "output_type": "execute_result"
        }
      ],
      "source": [
        "scaler = torch.tensor(1)\n",
        "scaler"
      ]
    },
    {
      "cell_type": "code",
      "execution_count": 5,
      "metadata": {
        "colab": {
          "base_uri": "https://localhost:8080/"
        },
        "id": "56PaUFdv-W4Y",
        "outputId": "d6fdbee6-c412-4b70-a69a-04d29f26c7bc"
      },
      "outputs": [
        {
          "data": {
            "text/plain": [
              "0"
            ]
          },
          "execution_count": 5,
          "metadata": {},
          "output_type": "execute_result"
        }
      ],
      "source": [
        "scaler.ndim"
      ]
    },
    {
      "cell_type": "code",
      "execution_count": 6,
      "metadata": {
        "colab": {
          "base_uri": "https://localhost:8080/"
        },
        "id": "tQyncVBu-aJh",
        "outputId": "54632f35-e5aa-4374-fcce-fa2277a8659e"
      },
      "outputs": [
        {
          "data": {
            "text/plain": [
              "tensor([1, 2, 3])"
            ]
          },
          "execution_count": 6,
          "metadata": {},
          "output_type": "execute_result"
        }
      ],
      "source": [
        "vector = torch.tensor([1,2,3])\n",
        "vector"
      ]
    },
    {
      "cell_type": "code",
      "execution_count": 7,
      "metadata": {
        "colab": {
          "base_uri": "https://localhost:8080/"
        },
        "id": "foIK74Ek-tnJ",
        "outputId": "a789b1d5-2237-4197-928b-e5b29b749481"
      },
      "outputs": [
        {
          "data": {
            "text/plain": [
              "1"
            ]
          },
          "execution_count": 7,
          "metadata": {},
          "output_type": "execute_result"
        }
      ],
      "source": [
        "vector.ndim"
      ]
    },
    {
      "cell_type": "code",
      "execution_count": 8,
      "metadata": {
        "colab": {
          "base_uri": "https://localhost:8080/"
        },
        "id": "HAo0ZvTF-0a4",
        "outputId": "8c897dcf-bcc1-4b01-f84d-a060cfa7f259"
      },
      "outputs": [
        {
          "data": {
            "text/plain": [
              "tensor([[1, 2, 3],\n",
              "        [4, 5, 6]])"
            ]
          },
          "execution_count": 8,
          "metadata": {},
          "output_type": "execute_result"
        }
      ],
      "source": [
        "matrix = torch.tensor([[1,2,3],[4,5,6]])\n",
        "matrix"
      ]
    },
    {
      "cell_type": "code",
      "execution_count": 9,
      "metadata": {
        "colab": {
          "base_uri": "https://localhost:8080/"
        },
        "id": "zjCAcgw5-6Vh",
        "outputId": "c2321ff4-f13c-460f-8830-a4c02ac04056"
      },
      "outputs": [
        {
          "data": {
            "text/plain": [
              "2"
            ]
          },
          "execution_count": 9,
          "metadata": {},
          "output_type": "execute_result"
        }
      ],
      "source": [
        "matrix.ndim"
      ]
    },
    {
      "cell_type": "code",
      "execution_count": 10,
      "metadata": {
        "colab": {
          "base_uri": "https://localhost:8080/"
        },
        "id": "ozrh8R7f-8JQ",
        "outputId": "2fbd6fd8-b776-4b76-9b0a-b3e2f7ff409e"
      },
      "outputs": [
        {
          "data": {
            "text/plain": [
              "tensor([[[1, 2, 3],\n",
              "         [4, 5, 6],\n",
              "         [7, 8, 9]]])"
            ]
          },
          "execution_count": 10,
          "metadata": {},
          "output_type": "execute_result"
        }
      ],
      "source": [
        "tensor = torch.tensor([\n",
        "    [\n",
        "        [1,2,3],\n",
        "        [4,5,6],\n",
        "        [7,8,9]\n",
        "    ]\n",
        "])\n",
        "tensor"
      ]
    },
    {
      "cell_type": "code",
      "execution_count": 11,
      "metadata": {
        "colab": {
          "base_uri": "https://localhost:8080/"
        },
        "id": "saUZ0HggAT0Y",
        "outputId": "e0b8cd1e-00f1-4ed7-fe0b-9de1658a6e0b"
      },
      "outputs": [
        {
          "data": {
            "text/plain": [
              "torch.Size([1, 3, 3])"
            ]
          },
          "execution_count": 11,
          "metadata": {},
          "output_type": "execute_result"
        }
      ],
      "source": [
        "tensor.shape"
      ]
    },
    {
      "cell_type": "code",
      "execution_count": 12,
      "metadata": {
        "colab": {
          "base_uri": "https://localhost:8080/"
        },
        "id": "NxwOt8MB_JPx",
        "outputId": "61deb6c3-9755-4e4e-9745-cd5815bac85b"
      },
      "outputs": [
        {
          "data": {
            "text/plain": [
              "3"
            ]
          },
          "execution_count": 12,
          "metadata": {},
          "output_type": "execute_result"
        }
      ],
      "source": [
        "tensor.ndim"
      ]
    },
    {
      "cell_type": "code",
      "execution_count": 13,
      "metadata": {
        "colab": {
          "base_uri": "https://localhost:8080/"
        },
        "id": "rgsE8UzHADWq",
        "outputId": "c9f88378-8a4c-4d47-aafd-541f7153e1eb"
      },
      "outputs": [
        {
          "data": {
            "text/plain": [
              "tensor([[[[1, 2],\n",
              "          [3, 4],\n",
              "          [5, 6]]]])"
            ]
          },
          "execution_count": 13,
          "metadata": {},
          "output_type": "execute_result"
        }
      ],
      "source": [
        "sword = torch.tensor(\n",
        "    [[[[1,2],\n",
        "       [3,4],\n",
        "       [5,6]]]]\n",
        ")\n",
        "sword"
      ]
    },
    {
      "cell_type": "code",
      "execution_count": 14,
      "metadata": {
        "colab": {
          "base_uri": "https://localhost:8080/"
        },
        "id": "gTX-amwwAOag",
        "outputId": "98779a17-e5a0-490b-a5e5-c75d9e715384"
      },
      "outputs": [
        {
          "data": {
            "text/plain": [
              "4"
            ]
          },
          "execution_count": 14,
          "metadata": {},
          "output_type": "execute_result"
        }
      ],
      "source": [
        "sword.ndim"
      ]
    },
    {
      "cell_type": "code",
      "execution_count": 15,
      "metadata": {
        "colab": {
          "base_uri": "https://localhost:8080/"
        },
        "id": "UFH9akKHArYo",
        "outputId": "31614fa1-6749-466f-a342-ce5752eaa5d7"
      },
      "outputs": [
        {
          "data": {
            "text/plain": [
              "torch.Size([1, 1, 3, 2])"
            ]
          },
          "execution_count": 15,
          "metadata": {},
          "output_type": "execute_result"
        }
      ],
      "source": [
        "sword.shape"
      ]
    },
    {
      "cell_type": "code",
      "execution_count": 16,
      "metadata": {
        "colab": {
          "base_uri": "https://localhost:8080/"
        },
        "id": "gsCFC5byA3Po",
        "outputId": "821eed09-11b0-4148-f54e-d5308c02a4e2"
      },
      "outputs": [
        {
          "data": {
            "text/plain": [
              "torch.Size([2, 3, 3])"
            ]
          },
          "execution_count": 16,
          "metadata": {},
          "output_type": "execute_result"
        }
      ],
      "source": [
        "a = torch.tensor( [\n",
        "    [ [1,2,3],\n",
        "     [2,4,6],\n",
        "      [3,6,9]],\n",
        "\n",
        "    [ [3,2,1],\n",
        "     [6, 4, 2],\n",
        "      [9,6,3]]\n",
        "])\n",
        "a.shape"
      ]
    },
    {
      "cell_type": "code",
      "execution_count": 17,
      "metadata": {
        "colab": {
          "base_uri": "https://localhost:8080/"
        },
        "id": "y4ScocJpBkKA",
        "outputId": "377486dd-69b4-440c-8b45-558613a4f34e"
      },
      "outputs": [
        {
          "data": {
            "text/plain": [
              "torch.Size([1, 2, 3])"
            ]
          },
          "execution_count": 17,
          "metadata": {},
          "output_type": "execute_result"
        }
      ],
      "source": [
        "# make a tensor of torch.Size([1,2,3])\n",
        "\n",
        "b = torch.tensor([\n",
        "    [\n",
        "    [1,2,3],\n",
        "    [4,5,6]\n",
        "]\n",
        "])\n",
        "b.shape"
      ]
    },
    {
      "cell_type": "markdown",
      "metadata": {
        "id": "xXrfknfNClvI"
      },
      "source": [
        "### why Random Tensors ?\n",
        "Random tensors are important because the way neural network learn is that they start with tensors full of random numbers and then adjust those random numbers to better represent the data.\n",
        "\n",
        "`Start with random numbers -> look at data -> update random numbers -> look at data -> update random numbers`"
      ]
    },
    {
      "cell_type": "code",
      "execution_count": 18,
      "metadata": {
        "colab": {
          "base_uri": "https://localhost:8080/"
        },
        "id": "8eI2GNiDCe8P",
        "outputId": "43482276-96ba-4de8-98a2-7bf3ae1892ef"
      },
      "outputs": [
        {
          "data": {
            "text/plain": [
              "tensor([[0.2974, 0.4498, 0.1022, 0.0055],\n",
              "        [0.5180, 0.6498, 0.8736, 0.8244],\n",
              "        [0.2240, 0.9038, 0.7019, 0.0102]])"
            ]
          },
          "execution_count": 18,
          "metadata": {},
          "output_type": "execute_result"
        }
      ],
      "source": [
        "random_tensor = torch.rand(3,4)\n",
        "random_tensor"
      ]
    },
    {
      "cell_type": "code",
      "execution_count": 19,
      "metadata": {
        "colab": {
          "base_uri": "https://localhost:8080/"
        },
        "id": "Gwqy09G7DmrJ",
        "outputId": "f2a7fe2a-423a-4675-c4e6-a117fc0617f9"
      },
      "outputs": [
        {
          "data": {
            "text/plain": [
              "2"
            ]
          },
          "execution_count": 19,
          "metadata": {},
          "output_type": "execute_result"
        }
      ],
      "source": [
        "random_tensor.ndim"
      ]
    },
    {
      "cell_type": "code",
      "execution_count": 20,
      "metadata": {
        "colab": {
          "base_uri": "https://localhost:8080/"
        },
        "id": "OwYhWoQ6Dpfo",
        "outputId": "83527876-e342-4e3d-f711-aca2af17187a"
      },
      "outputs": [
        {
          "data": {
            "text/plain": [
              "(torch.Size([3, 224, 224]), 3)"
            ]
          },
          "execution_count": 20,
          "metadata": {},
          "output_type": "execute_result"
        }
      ],
      "source": [
        "# create a random tensor with similar shape to an image tensor\n",
        "\n",
        "random_image_size_tensor = torch.rand(size =(3,224,224))\n",
        "random_image_size_tensor.shape, random_image_size_tensor.ndim"
      ]
    },
    {
      "cell_type": "code",
      "execution_count": 21,
      "metadata": {
        "colab": {
          "base_uri": "https://localhost:8080/"
        },
        "id": "0Yb28qsqECo4",
        "outputId": "4fa2e7a0-c2f3-4287-c1ab-e6f939b2dce0"
      },
      "outputs": [
        {
          "data": {
            "text/plain": [
              "tensor([[[0.0624, 0.4218, 0.2246,  ..., 0.7797, 0.2300, 0.0573],\n",
              "         [0.0514, 0.4578, 0.3847,  ..., 0.1807, 0.5681, 0.8050],\n",
              "         [0.4896, 0.2216, 0.1639,  ..., 0.9063, 0.7378, 0.0154],\n",
              "         ...,\n",
              "         [0.0649, 0.9909, 0.3246,  ..., 0.3542, 0.4431, 0.4180],\n",
              "         [0.7857, 0.6886, 0.9777,  ..., 0.3808, 0.4675, 0.5631],\n",
              "         [0.8066, 0.3528, 0.3662,  ..., 0.6678, 0.6180, 0.5764]],\n",
              "\n",
              "        [[0.0155, 0.4283, 0.4548,  ..., 0.9507, 0.3189, 0.1464],\n",
              "         [0.2993, 0.9530, 0.5402,  ..., 0.6948, 0.7815, 0.2889],\n",
              "         [0.2767, 0.6911, 0.8492,  ..., 0.3513, 0.5692, 0.3929],\n",
              "         ...,\n",
              "         [0.8505, 0.1478, 0.9626,  ..., 0.5758, 0.0221, 0.5147],\n",
              "         [0.4372, 0.4162, 0.9257,  ..., 0.1427, 0.7283, 0.4154],\n",
              "         [0.2487, 0.5379, 0.5505,  ..., 0.6811, 0.7360, 0.9557]],\n",
              "\n",
              "        [[0.6298, 0.3051, 0.4025,  ..., 0.5555, 0.9831, 0.8781],\n",
              "         [0.1917, 0.4030, 0.0030,  ..., 0.2582, 0.4874, 0.7260],\n",
              "         [0.1241, 0.4301, 0.7525,  ..., 0.8837, 0.7552, 0.4002],\n",
              "         ...,\n",
              "         [0.4389, 0.4039, 0.6510,  ..., 0.0886, 0.5416, 0.5869],\n",
              "         [0.1452, 0.7762, 0.2672,  ..., 0.6432, 0.8136, 0.8305],\n",
              "         [0.4875, 0.9325, 0.0086,  ..., 0.2189, 0.1200, 0.0581]]])"
            ]
          },
          "execution_count": 21,
          "metadata": {},
          "output_type": "execute_result"
        }
      ],
      "source": [
        "random_image_size_tensor"
      ]
    },
    {
      "cell_type": "markdown",
      "metadata": {
        "id": "v9e-vu4vEZt4"
      },
      "source": [
        "### Creating random tensors with value 0 or 1"
      ]
    },
    {
      "cell_type": "code",
      "execution_count": 22,
      "metadata": {
        "colab": {
          "base_uri": "https://localhost:8080/"
        },
        "id": "DbBx6EWNEZa5",
        "outputId": "903a2d5f-a26e-416a-c09d-fe3fbf8d3381"
      },
      "outputs": [
        {
          "data": {
            "text/plain": [
              "tensor([[0., 0., 0., 0.],\n",
              "        [0., 0., 0., 0.],\n",
              "        [0., 0., 0., 0.]])"
            ]
          },
          "execution_count": 22,
          "metadata": {},
          "output_type": "execute_result"
        }
      ],
      "source": [
        "zeros = torch.zeros(size=(3,4))\n",
        "zeros"
      ]
    },
    {
      "cell_type": "code",
      "execution_count": 23,
      "metadata": {
        "colab": {
          "base_uri": "https://localhost:8080/"
        },
        "id": "UvDYtMv0EwQ4",
        "outputId": "8a7230b4-1b7d-4ea8-e4cb-4c39760aa420"
      },
      "outputs": [
        {
          "data": {
            "text/plain": [
              "tensor([[0.2974, 0.4498, 0.1022, 0.0055],\n",
              "        [0.5180, 0.6498, 0.8736, 0.8244],\n",
              "        [0.2240, 0.9038, 0.7019, 0.0102]])"
            ]
          },
          "execution_count": 23,
          "metadata": {},
          "output_type": "execute_result"
        }
      ],
      "source": [
        "zeros = zeros + random_tensor\n",
        "zeros"
      ]
    },
    {
      "cell_type": "code",
      "execution_count": 24,
      "metadata": {
        "colab": {
          "base_uri": "https://localhost:8080/"
        },
        "id": "oLZcU_yAE-4x",
        "outputId": "b227f3d5-4fbc-4e07-bb52-0003c7a8ac85"
      },
      "outputs": [
        {
          "data": {
            "text/plain": [
              "tensor([[1., 1., 1., 1.],\n",
              "        [1., 1., 1., 1.],\n",
              "        [1., 1., 1., 1.]])"
            ]
          },
          "execution_count": 24,
          "metadata": {},
          "output_type": "execute_result"
        }
      ],
      "source": [
        "ones = torch.ones(size = (3,4))\n",
        "ones"
      ]
    },
    {
      "cell_type": "code",
      "execution_count": 25,
      "metadata": {
        "colab": {
          "base_uri": "https://localhost:8080/"
        },
        "id": "SHMJvKKPFEr4",
        "outputId": "476cf923-3505-46f4-9d0c-ca72dee9f10b"
      },
      "outputs": [
        {
          "data": {
            "text/plain": [
              "torch.float32"
            ]
          },
          "execution_count": 25,
          "metadata": {},
          "output_type": "execute_result"
        }
      ],
      "source": [
        "ones.dtype"
      ]
    },
    {
      "cell_type": "markdown",
      "metadata": {
        "id": "S8MUQi_wFO1v"
      },
      "source": [
        "### Creating a tensor range and tensors like other tensors"
      ]
    },
    {
      "cell_type": "code",
      "execution_count": 26,
      "metadata": {
        "id": "Tj_yEO1TFTwX"
      },
      "outputs": [],
      "source": [
        "# Use torch.range()\n",
        "\n",
        "# torch.range(1,100)\n",
        "# works but it is deprecated. so, we'll use torch.arange\n",
        "\n",
        "one_to_ten = torch.arange(start =0, end =11, step=1)"
      ]
    },
    {
      "cell_type": "code",
      "execution_count": 27,
      "metadata": {
        "colab": {
          "base_uri": "https://localhost:8080/"
        },
        "id": "NoDtGSGiGYxf",
        "outputId": "066618f1-5027-4fcd-e174-15e0bafe109a"
      },
      "outputs": [
        {
          "data": {
            "text/plain": [
              "torch.Size([11])"
            ]
          },
          "execution_count": 27,
          "metadata": {},
          "output_type": "execute_result"
        }
      ],
      "source": [
        "one_to_ten.shape"
      ]
    },
    {
      "cell_type": "code",
      "execution_count": 28,
      "metadata": {
        "colab": {
          "base_uri": "https://localhost:8080/"
        },
        "id": "I2V95LgKGNw4",
        "outputId": "591708ff-13f6-4fd4-dccf-09146af53841"
      },
      "outputs": [
        {
          "data": {
            "text/plain": [
              "tensor([0, 0, 0, 0, 0, 0, 0, 0, 0, 0, 0])"
            ]
          },
          "execution_count": 28,
          "metadata": {},
          "output_type": "execute_result"
        }
      ],
      "source": [
        "# Creating tensors like\n",
        "ten_zeros = torch.zeros_like(input =one_to_ten)\n",
        "ten_zeros"
      ]
    },
    {
      "cell_type": "markdown",
      "metadata": {
        "id": "eFhwc-UoJpxX"
      },
      "source": []
    },
    {
      "cell_type": "markdown",
      "metadata": {
        "id": "spaM4_dDIcxH"
      },
      "source": [
        "### Dealing with Tensor Datatypes"
      ]
    },
    {
      "cell_type": "markdown",
      "metadata": {
        "id": "hTwcqrv9Ty8x"
      },
      "source": [
        "**Note:** Tensor datatypes is one of the 3 big errors you'll run into with PyTorch & deep Learning:\n",
        "1. Tensors not right datatype\n",
        "2. Tensors not right shape\n",
        "3. Tensors not on the right device"
      ]
    },
    {
      "cell_type": "code",
      "execution_count": 29,
      "metadata": {
        "colab": {
          "base_uri": "https://localhost:8080/"
        },
        "id": "Vj3By5yWIbKw",
        "outputId": "a1c3a36b-4e2c-44b1-e978-e0c477d8314b"
      },
      "outputs": [
        {
          "data": {
            "text/plain": [
              "tensor([4., 5., 2.])"
            ]
          },
          "execution_count": 29,
          "metadata": {},
          "output_type": "execute_result"
        }
      ],
      "source": [
        "# Float 32 tensor\n",
        "float_32_tensor = torch.tensor([4.0,5.0,2.0],\n",
        "                               dtype=None, #What dataType is the tensor\n",
        "                               device = None, # what device is your tensor on\n",
        "                               requires_grad=False # whether or not to track gradients with the tensor operations\n",
        "                               )\n",
        "\n",
        "float_16_tensor = torch.tensor([1.2,3.1,5.5],\n",
        "                               dtype= torch.float16, #What dataType is the tensor\n",
        "                               device = None, # what device is your tensor on\n",
        "                               requires_grad=False # whether or not to track gradients with the tensor operations\n",
        "                               )\n",
        "float_32_tensor"
      ]
    },
    {
      "cell_type": "code",
      "execution_count": 30,
      "metadata": {
        "colab": {
          "base_uri": "https://localhost:8080/"
        },
        "id": "XM9EMU38JIFf",
        "outputId": "5d519dab-f3bd-4785-ac92-2471ab041ed1"
      },
      "outputs": [
        {
          "data": {
            "text/plain": [
              "torch.float32"
            ]
          },
          "execution_count": 30,
          "metadata": {},
          "output_type": "execute_result"
        }
      ],
      "source": [
        "float_32_tensor.dtype"
      ]
    },
    {
      "cell_type": "markdown",
      "metadata": {
        "id": "7aBApAibZ0ke"
      },
      "source": [
        "### Getting Tensor Attributes"
      ]
    },
    {
      "cell_type": "code",
      "execution_count": 31,
      "metadata": {
        "colab": {
          "base_uri": "https://localhost:8080/"
        },
        "id": "5IvRIN2tUUl_",
        "outputId": "be1599a6-96cf-46c7-feb9-608a4dae8158"
      },
      "outputs": [
        {
          "data": {
            "text/plain": [
              "tensor([ 4.8008, 15.4980, 11.0000])"
            ]
          },
          "execution_count": 31,
          "metadata": {},
          "output_type": "execute_result"
        }
      ],
      "source": [
        "float_16_tensor * float_32_tensor"
      ]
    },
    {
      "cell_type": "code",
      "execution_count": 32,
      "metadata": {
        "id": "ULXaD2scaxS_"
      },
      "outputs": [],
      "source": [
        "int_32_tensor = torch.tensor([4,6,7], dtype=torch.int64)"
      ]
    },
    {
      "cell_type": "code",
      "execution_count": 33,
      "metadata": {
        "colab": {
          "base_uri": "https://localhost:8080/"
        },
        "id": "nt963BfGbA4l",
        "outputId": "f7151f10-2cfa-4d9e-fe59-329a1c4c9018"
      },
      "outputs": [
        {
          "data": {
            "text/plain": [
              "tensor([16., 30., 14.])"
            ]
          },
          "execution_count": 33,
          "metadata": {},
          "output_type": "execute_result"
        }
      ],
      "source": [
        "float_32_tensor * int_32_tensor"
      ]
    },
    {
      "cell_type": "markdown",
      "metadata": {
        "id": "gBw9OX3xb_iv"
      },
      "source": [
        "### Getting Information from tensors\n",
        "1. Tensors not right datatype -> to get datatype from a tensor, can use `tensor.dtype`\n",
        "2. Tensors not right shape -> to get shape from tensor, can use `tensor.shape`\n",
        "3. Tensors not on the right device -> to get device from a tensor, can use `tensor.device`"
      ]
    },
    {
      "cell_type": "code",
      "execution_count": 34,
      "metadata": {
        "colab": {
          "base_uri": "https://localhost:8080/"
        },
        "id": "opeig2sJbcxd",
        "outputId": "e094d820-a8e9-4cf0-ce78-d892d6e8b164"
      },
      "outputs": [
        {
          "data": {
            "text/plain": [
              "tensor([[0.3329, 0.3491, 0.2234, 0.1730],\n",
              "        [0.6398, 0.6530, 0.7108, 0.0518]])"
            ]
          },
          "execution_count": 34,
          "metadata": {},
          "output_type": "execute_result"
        }
      ],
      "source": [
        "# create a tensor\n",
        "\n",
        "some_tensor = torch.rand(2,4)\n",
        "some_tensor"
      ]
    },
    {
      "cell_type": "code",
      "execution_count": 35,
      "metadata": {
        "colab": {
          "base_uri": "https://localhost:8080/"
        },
        "id": "s_RzY9k2cUCm",
        "outputId": "7e7cbcf1-b480-4201-916a-8a53aeb2981e"
      },
      "outputs": [
        {
          "name": "stdout",
          "output_type": "stream",
          "text": [
            "torch.float32\n",
            "torch.Size([2, 4])\n",
            "cpu\n"
          ]
        }
      ],
      "source": [
        "print(some_tensor.dtype)\n",
        "print(some_tensor.shape)\n",
        "print(some_tensor.device)"
      ]
    },
    {
      "cell_type": "markdown",
      "metadata": {
        "id": "3gqxnNE7dDb_"
      },
      "source": [
        "### Manipulating Tensors (Tensor Operations)\n",
        "\n",
        "Tensor operations include:\n",
        "- Addition\n",
        "- Subtraction\n",
        "- Multiplication (element-wise)\n",
        "- Division\n",
        "- Matrix Multiplication\n"
      ]
    },
    {
      "cell_type": "code",
      "execution_count": 36,
      "metadata": {
        "colab": {
          "base_uri": "https://localhost:8080/"
        },
        "id": "_nCuhWUOd6rG",
        "outputId": "c51b8b38-ac27-441b-f626-20e3e14395b1"
      },
      "outputs": [
        {
          "name": "stdout",
          "output_type": "stream",
          "text": [
            "Sum:  tensor([11, 12, 13])\n",
            "Difference:  tensor([0, 1, 2])\n",
            "Product:  tensor([10, 20, 30])\n",
            "Division:  tensor([0.5000, 1.0000, 1.5000])\n"
          ]
        }
      ],
      "source": [
        "# Create a tensor and perform basic arithmetic operations\n",
        "\n",
        "tensor = torch.tensor([1,2,3])\n",
        "print(\"Sum: \",tensor+10) #torch.sum(tensor,10)\n",
        "print(\"Difference: \",tensor-1) #torch.diff(tensor,1)\n",
        "print(\"Product: \",tensor*10) #torch.mul(tensor,10)\n",
        "print(\"Division: \",tensor/2) #torch.divide(tensor,2)"
      ]
    },
    {
      "cell_type": "markdown",
      "metadata": {
        "id": "T3m8eqIgf9nO"
      },
      "source": [
        "### Matrix Multiplication\n",
        "\n",
        "Two main ways of performing multiplication in neural networks and deep learning:\n",
        "1. Element-wise Multiplication\n",
        "2. Matrix multiplication (dot product)\n",
        "\n",
        "There are two main rules that performing matrix multiplication needs to satisfy:\n",
        "1. The `Inner Dimension` must match:\n",
        "\n",
        "- `(3,2) & (3,2)` won't work\n",
        "- `(3,2) & (2,3)` will work\n",
        "- `(3,2) & (2,3)` will work\n",
        "\n",
        "2. The resulting matrix has a shape of **outer dimensions**:\n",
        "- `(2,3) & (3,2)` -> (2,2)\n",
        "- `(3,2) & (2,3)` -> (3,3)"
      ]
    },
    {
      "cell_type": "code",
      "execution_count": 37,
      "metadata": {
        "colab": {
          "base_uri": "https://localhost:8080/"
        },
        "id": "wrSRlNe3fZzm",
        "outputId": "ac99b534-ff46-4e40-e3ec-7a14fd193962"
      },
      "outputs": [
        {
          "name": "stdout",
          "output_type": "stream",
          "text": [
            "tensor * tensor\n",
            "tensor([1, 4, 9])\n"
          ]
        }
      ],
      "source": [
        "# Element wise multiplication\n",
        "print(\"tensor * tensor\")\n",
        "print(tensor * tensor)"
      ]
    },
    {
      "cell_type": "code",
      "execution_count": 38,
      "metadata": {
        "colab": {
          "base_uri": "https://localhost:8080/"
        },
        "id": "vZHd75VhkJ9f",
        "outputId": "1c2842ef-e93d-4232-a659-99ee841cd9fe"
      },
      "outputs": [
        {
          "name": "stdout",
          "output_type": "stream",
          "text": [
            "tensor to tensor matrix multiplication\n",
            "tensor(14)\n"
          ]
        }
      ],
      "source": [
        "# Matrix multiplication\n",
        "\n",
        "print(\"tensor to tensor matrix multiplication\")\n",
        "print(torch.matmul(tensor,tensor))"
      ]
    },
    {
      "cell_type": "code",
      "execution_count": 39,
      "metadata": {
        "colab": {
          "base_uri": "https://localhost:8080/"
        },
        "id": "723b0sD1lTg1",
        "outputId": "92b90b2d-7415-4403-809b-1335046049db"
      },
      "outputs": [
        {
          "name": "stdout",
          "output_type": "stream",
          "text": [
            "tensor([[0.3117, 0.0615, 0.9207],\n",
            "        [0.8113, 0.4721, 0.8688]])\n",
            "tensor([[0.8315, 0.7254, 0.2810],\n",
            "        [0.9003, 0.0896, 0.5442]])\n"
          ]
        }
      ],
      "source": [
        "m1 = torch.rand(2,3)\n",
        "m2 = torch.rand(2,3)\n",
        "\n",
        "print(m1)\n",
        "print(m2)"
      ]
    },
    {
      "cell_type": "code",
      "execution_count": 40,
      "metadata": {
        "colab": {
          "base_uri": "https://localhost:8080/",
          "height": 158
        },
        "id": "R6avLFnAm_qW",
        "outputId": "a81d5f5b-d2ca-4354-cf39-bf3c3459d9dc"
      },
      "outputs": [
        {
          "ename": "RuntimeError",
          "evalue": "mat1 and mat2 shapes cannot be multiplied (2x3 and 2x3)",
          "output_type": "error",
          "traceback": [
            "\u001b[1;31m---------------------------------------------------------------------------\u001b[0m",
            "\u001b[1;31mRuntimeError\u001b[0m                              Traceback (most recent call last)",
            "Cell \u001b[1;32mIn[40], line 2\u001b[0m\n\u001b[0;32m      1\u001b[0m \u001b[38;5;66;03m# torch.matmul(m1,m2)\u001b[39;00m\n\u001b[1;32m----> 2\u001b[0m \u001b[43mtorch\u001b[49m\u001b[38;5;241;43m.\u001b[39;49m\u001b[43mmatmul\u001b[49m\u001b[43m(\u001b[49m\u001b[43mm1\u001b[49m\u001b[43m,\u001b[49m\u001b[43mm2\u001b[49m\u001b[43m)\u001b[49m\n",
            "\u001b[1;31mRuntimeError\u001b[0m: mat1 and mat2 shapes cannot be multiplied (2x3 and 2x3)"
          ]
        }
      ],
      "source": [
        "# torch.matmul(m1,m2)\n",
        "torch.matmul(m1,m2)"
      ]
    },
    {
      "cell_type": "code",
      "execution_count": null,
      "metadata": {
        "colab": {
          "base_uri": "https://localhost:8080/"
        },
        "id": "0ayni_VNnH2H",
        "outputId": "abbdad0e-60e3-4729-c4ea-6255ea012edc"
      },
      "outputs": [
        {
          "data": {
            "text/plain": [
              "tensor([[0.7609, 0.5051, 0.3691],\n",
              "        [0.4306, 0.3259, 0.1767],\n",
              "        [0.4564, 0.3416, 0.1904]])"
            ]
          },
          "execution_count": 93,
          "metadata": {},
          "output_type": "execute_result"
        }
      ],
      "source": [
        "a = torch.rand(3,2)\n",
        "b = torch.rand(2,3)\n",
        "# If you notice you'll see, shape of two matrices. row of mat1 and column of mat2 is shape of matrix multiplication\n",
        "torch.matmul(a,b)"
      ]
    },
    {
      "cell_type": "markdown",
      "metadata": {
        "id": "uSvOkMV4orne"
      },
      "source": [
        "### One of the most common errors in deep learning: Shape Errors"
      ]
    },
    {
      "cell_type": "code",
      "execution_count": null,
      "metadata": {
        "colab": {
          "base_uri": "https://localhost:8080/",
          "height": 176
        },
        "id": "Oz0aPxE0o49G",
        "outputId": "3a15004b-caba-4f2c-be09-9c3b3612c824"
      },
      "outputs": [
        {
          "ename": "RuntimeError",
          "evalue": "mat1 and mat2 shapes cannot be multiplied (3x2 and 3x2)",
          "output_type": "error",
          "traceback": [
            "\u001b[0;31m---------------------------------------------------------------------------\u001b[0m",
            "\u001b[0;31mRuntimeError\u001b[0m                              Traceback (most recent call last)",
            "\u001b[0;32m<ipython-input-94-33e18837c742>\u001b[0m in \u001b[0;36m<cell line: 0>\u001b[0;34m()\u001b[0m\n\u001b[1;32m     12\u001b[0m \u001b[0;34m\u001b[0m\u001b[0m\n\u001b[1;32m     13\u001b[0m \u001b[0;31m# torch.matmul == torch.mm\u001b[0m\u001b[0;34m\u001b[0m\u001b[0;34m\u001b[0m\u001b[0m\n\u001b[0;32m---> 14\u001b[0;31m \u001b[0mtorch\u001b[0m\u001b[0;34m.\u001b[0m\u001b[0mmm\u001b[0m\u001b[0;34m(\u001b[0m\u001b[0mtensor_A\u001b[0m\u001b[0;34m,\u001b[0m \u001b[0mtensor_B\u001b[0m\u001b[0;34m)\u001b[0m\u001b[0;34m\u001b[0m\u001b[0;34m\u001b[0m\u001b[0m\n\u001b[0m",
            "\u001b[0;31mRuntimeError\u001b[0m: mat1 and mat2 shapes cannot be multiplied (3x2 and 3x2)"
          ]
        }
      ],
      "source": [
        "tensor_A = torch.tensor([\n",
        "    [1,2],\n",
        "    [3,4],\n",
        "    [5,6]\n",
        "])\n",
        "\n",
        "tensor_B = torch.tensor([\n",
        "    [7,10],\n",
        "    [8,11],\n",
        "    [9,12]\n",
        "])\n",
        "\n",
        "# torch.matmul == torch.mm\n",
        "torch.mm(tensor_A, tensor_B)"
      ]
    },
    {
      "cell_type": "markdown",
      "metadata": {
        "id": "z-zDHk0spt2x"
      },
      "source": [
        "To fix our tensor shape issues, we can manipulate the shape of one of our tensor using a **transpose**\n",
        "\n",
        "A transpose switches the axes or dimension of a given tensor"
      ]
    },
    {
      "cell_type": "code",
      "execution_count": null,
      "metadata": {
        "colab": {
          "base_uri": "https://localhost:8080/"
        },
        "id": "YYu3Ed3yqlDN",
        "outputId": "72fd3fd8-54ac-46ca-f678-0293f86a1134"
      },
      "outputs": [
        {
          "data": {
            "text/plain": [
              "tensor([[1, 2],\n",
              "        [3, 4],\n",
              "        [5, 6]])"
            ]
          },
          "execution_count": 96,
          "metadata": {},
          "output_type": "execute_result"
        }
      ],
      "source": [
        "tensor_A"
      ]
    },
    {
      "cell_type": "code",
      "execution_count": null,
      "metadata": {
        "colab": {
          "base_uri": "https://localhost:8080/"
        },
        "id": "G15OXnh7qnLm",
        "outputId": "d55d0cfc-9029-47c4-eb50-dbea92d3f65b"
      },
      "outputs": [
        {
          "data": {
            "text/plain": [
              "tensor([[ 7,  8,  9],\n",
              "        [10, 11, 12]])"
            ]
          },
          "execution_count": 97,
          "metadata": {},
          "output_type": "execute_result"
        }
      ],
      "source": [
        "tensor_B.T"
      ]
    },
    {
      "cell_type": "code",
      "execution_count": null,
      "metadata": {
        "colab": {
          "base_uri": "https://localhost:8080/"
        },
        "id": "ZIgy239trd_c",
        "outputId": "1440bafe-8b56-4f13-b9e5-8b564771645e"
      },
      "outputs": [
        {
          "name": "stdout",
          "output_type": "stream",
          "text": [
            "Original shapes: tensor_A: torch.Size([3, 2]), tensor_B: torch.Size([3, 2])\n",
            "New shapes: tensor_A: torch.Size([3, 2]), tensor_B: torch.Size([2, 3])\n"
          ]
        }
      ],
      "source": [
        "print(f\"Original shapes: tensor_A: {tensor_A.shape}, tensor_B: {tensor_B.shape}\")\n",
        "print(f\"New shapes: tensor_A: {tensor_A.shape}, tensor_B: {tensor_B.T.shape}\")"
      ]
    },
    {
      "cell_type": "code",
      "execution_count": null,
      "metadata": {
        "colab": {
          "base_uri": "https://localhost:8080/"
        },
        "id": "KSa_axnD1Hrg",
        "outputId": "69492ef8-5a4e-4a05-9178-2f58c8c188f1"
      },
      "outputs": [
        {
          "data": {
            "text/plain": [
              "tensor([[ 27,  30,  33],\n",
              "        [ 61,  68,  75],\n",
              "        [ 95, 106, 117]])"
            ]
          },
          "execution_count": 101,
          "metadata": {},
          "output_type": "execute_result"
        }
      ],
      "source": [
        "torch.mm(tensor_A,tensor_B.T\n",
        "         )"
      ]
    },
    {
      "cell_type": "code",
      "execution_count": null,
      "metadata": {
        "colab": {
          "base_uri": "https://localhost:8080/"
        },
        "id": "zwi4ifr0p791",
        "outputId": "c5097df0-288a-4016-d0c7-c68ab7a61da1"
      },
      "outputs": [
        {
          "data": {
            "text/plain": [
              "tensor([[ 76, 103],\n",
              "        [100, 136]])"
            ]
          },
          "execution_count": 100,
          "metadata": {},
          "output_type": "execute_result"
        }
      ],
      "source": [
        "torch.mm(tensor_A.T,tensor_B)"
      ]
    },
    {
      "cell_type": "markdown",
      "metadata": {
        "id": "VcLNgkEL3G5A"
      },
      "source": [
        "### finding the min, max, mean, sum, etc (Tensor Aggregation)"
      ]
    },
    {
      "cell_type": "code",
      "execution_count": null,
      "metadata": {
        "colab": {
          "base_uri": "https://localhost:8080/"
        },
        "id": "98Yv_sDv1f71",
        "outputId": "dabf3a62-ef86-44c7-9157-7ec3a8c0d9f5"
      },
      "outputs": [
        {
          "data": {
            "text/plain": [
              "tensor([  0.,   5.,  10.,  15.,  20.,  25.,  30.,  35.,  40.,  45.,  50.,  55.,\n",
              "         60.,  65.,  70.,  75.,  80.,  85.,  90.,  95., 100.])"
            ]
          },
          "execution_count": 107,
          "metadata": {},
          "output_type": "execute_result"
        }
      ],
      "source": [
        "data = torch.arange(0,105,5)\n",
        "# When datatype is not specified, it assigns Long and gives error which giving mean value.\n",
        "data"
      ]
    },
    {
      "cell_type": "code",
      "execution_count": null,
      "metadata": {
        "colab": {
          "base_uri": "https://localhost:8080/"
        },
        "id": "awThAbR_3cxf",
        "outputId": "307b914b-b203-4582-8dcf-ee52372f8414"
      },
      "outputs": [
        {
          "name": "stdout",
          "output_type": "stream",
          "text": [
            "min tensor(0.)\n",
            "max tensor(100.)\n",
            "mean tensor(50.)\n",
            "median tensor(50.)\n",
            "min tensor(1050.)\n"
          ]
        }
      ],
      "source": [
        "print(\"min\",data.min())\n",
        "print(\"max\",data.max())\n",
        "print(\"mean\", torch.mean(data.type(torch.float32)))\n",
        "print(\"median\",data.median())\n",
        "print(\"min\",data.sum())"
      ]
    },
    {
      "cell_type": "code",
      "execution_count": null,
      "metadata": {
        "colab": {
          "base_uri": "https://localhost:8080/"
        },
        "id": "Dshgp1hN5fv3",
        "outputId": "df1c13f4-3973-4b2e-8178-a0de4bdcf982"
      },
      "outputs": [
        {
          "data": {
            "text/plain": [
              "tensor(50.)"
            ]
          },
          "execution_count": 113,
          "metadata": {},
          "output_type": "execute_result"
        }
      ],
      "source": [
        "data.type(torch.float32).mean()"
      ]
    },
    {
      "cell_type": "markdown",
      "metadata": {
        "id": "HPcjMqkO6cQn"
      },
      "source": [
        "### Finding the Positional Min and Max of Tensors"
      ]
    },
    {
      "cell_type": "code",
      "execution_count": null,
      "metadata": {
        "colab": {
          "base_uri": "https://localhost:8080/"
        },
        "id": "DJxgPOp96jwO",
        "outputId": "8c58935f-451e-4071-9e3e-b9d91966fd02"
      },
      "outputs": [
        {
          "data": {
            "text/plain": [
              "tensor(0)"
            ]
          },
          "execution_count": 120,
          "metadata": {},
          "output_type": "execute_result"
        }
      ],
      "source": [
        "# find the position in tensor that has the minimum value with argmin() -> returns index of min value from the tensor.\n",
        "data.argmin()\n"
      ]
    },
    {
      "cell_type": "code",
      "execution_count": null,
      "metadata": {
        "colab": {
          "base_uri": "https://localhost:8080/"
        },
        "id": "qkVA3xfB64i2",
        "outputId": "dc328f69-7178-4319-be4d-86ae69deec27"
      },
      "outputs": [
        {
          "data": {
            "text/plain": [
              "tensor(20)"
            ]
          },
          "execution_count": 119,
          "metadata": {},
          "output_type": "execute_result"
        }
      ],
      "source": [
        "# find the position in tensor that has the maxiumu value with argmax() -> returns index of max value from the tensor.\n",
        "data.argmax()\n"
      ]
    }
  ],
  "metadata": {
    "colab": {
      "provenance": [],
      "toc_visible": true
    },
    "kernelspec": {
      "display_name": "Python 3",
      "name": "python3"
    },
    "language_info": {
      "codemirror_mode": {
        "name": "ipython",
        "version": 3
      },
      "file_extension": ".py",
      "mimetype": "text/x-python",
      "name": "python",
      "nbconvert_exporter": "python",
      "pygments_lexer": "ipython3",
      "version": "3.10.0"
    }
  },
  "nbformat": 4,
  "nbformat_minor": 0
}

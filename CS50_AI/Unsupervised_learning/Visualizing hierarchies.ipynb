{
 "cells": [
  {
   "cell_type": "markdown",
   "metadata": {},
   "source": [
    "> # ***Visualizing Heirarchy***\n",
    "- below you'll come across a word called Dendogram: Dendogram is a tree like structure that shows the heirarchy.\n",
    "- Agglomerative Clustering: A type of **heirarchical clustering** where all the clusters are merged to form a **dendogram**."
   ]
  },
  {
   "cell_type": "markdown",
   "metadata": {},
   "source": [
    "> Step1: Import The libraries"
   ]
  },
  {
   "cell_type": "code",
   "execution_count": 15,
   "metadata": {},
   "outputs": [],
   "source": [
    "import numpy as np\n",
    "import pandas as pd\n",
    "import matplotlib.pyplot as plt\n",
    "from scipy.cluster.hierarchy import linkage, dendrogram"
   ]
  },
  {
   "cell_type": "markdown",
   "metadata": {},
   "source": [
    "> Step2: Read CSV file, check shape, info, column and describe"
   ]
  },
  {
   "cell_type": "code",
   "execution_count": 16,
   "metadata": {},
   "outputs": [
    {
     "name": "stdout",
     "output_type": "stream",
     "text": [
      "<class 'pandas.core.frame.DataFrame'>\n",
      "RangeIndex: 1066 entries, 0 to 1065\n",
      "Data columns (total 11 columns):\n",
      " #   Column           Non-Null Count  Dtype  \n",
      "---  ------           --------------  -----  \n",
      " 0   From country     1066 non-null   object \n",
      " 1   To country       1066 non-null   object \n",
      " 2   Jury A           1066 non-null   int64  \n",
      " 3   Jury B           1066 non-null   int64  \n",
      " 4   Jury C           1066 non-null   int64  \n",
      " 5   Jury D           1066 non-null   int64  \n",
      " 6   Jury E           1066 non-null   int64  \n",
      " 7   Jury Rank        1066 non-null   int64  \n",
      " 8   Televote Rank    1066 non-null   int64  \n",
      " 9   Jury Points      420 non-null    float64\n",
      " 10  Televote Points  420 non-null    float64\n",
      "dtypes: float64(2), int64(7), object(2)\n",
      "memory usage: 91.7+ KB\n"
     ]
    }
   ],
   "source": [
    "samples = pd.read_csv(\"Eurovision 2016.csv\")\n",
    "samples.info()\n",
    "\n"
   ]
  },
  {
   "cell_type": "code",
   "execution_count": 21,
   "metadata": {},
   "outputs": [
    {
     "data": {
      "text/html": [
       "<div>\n",
       "<style scoped>\n",
       "    .dataframe tbody tr th:only-of-type {\n",
       "        vertical-align: middle;\n",
       "    }\n",
       "\n",
       "    .dataframe tbody tr th {\n",
       "        vertical-align: top;\n",
       "    }\n",
       "\n",
       "    .dataframe thead th {\n",
       "        text-align: right;\n",
       "    }\n",
       "</style>\n",
       "<table border=\"1\" class=\"dataframe\">\n",
       "  <thead>\n",
       "    <tr style=\"text-align: right;\">\n",
       "      <th></th>\n",
       "      <th>From country</th>\n",
       "      <th>To country</th>\n",
       "      <th>Jury A</th>\n",
       "      <th>Jury B</th>\n",
       "      <th>Jury C</th>\n",
       "      <th>Jury D</th>\n",
       "      <th>Jury E</th>\n",
       "      <th>Jury Rank</th>\n",
       "      <th>Televote Rank</th>\n",
       "      <th>Jury Points</th>\n",
       "      <th>Televote Points</th>\n",
       "    </tr>\n",
       "  </thead>\n",
       "  <tbody>\n",
       "    <tr>\n",
       "      <th>0</th>\n",
       "      <td>Albania</td>\n",
       "      <td>Belgium</td>\n",
       "      <td>20</td>\n",
       "      <td>16</td>\n",
       "      <td>24</td>\n",
       "      <td>22</td>\n",
       "      <td>24</td>\n",
       "      <td>25</td>\n",
       "      <td>14</td>\n",
       "      <td>NaN</td>\n",
       "      <td>NaN</td>\n",
       "    </tr>\n",
       "    <tr>\n",
       "      <th>1</th>\n",
       "      <td>Albania</td>\n",
       "      <td>Czech Republic</td>\n",
       "      <td>21</td>\n",
       "      <td>15</td>\n",
       "      <td>25</td>\n",
       "      <td>23</td>\n",
       "      <td>16</td>\n",
       "      <td>22</td>\n",
       "      <td>22</td>\n",
       "      <td>NaN</td>\n",
       "      <td>NaN</td>\n",
       "    </tr>\n",
       "    <tr>\n",
       "      <th>2</th>\n",
       "      <td>Albania</td>\n",
       "      <td>The Netherlands</td>\n",
       "      <td>22</td>\n",
       "      <td>14</td>\n",
       "      <td>23</td>\n",
       "      <td>24</td>\n",
       "      <td>21</td>\n",
       "      <td>24</td>\n",
       "      <td>24</td>\n",
       "      <td>NaN</td>\n",
       "      <td>NaN</td>\n",
       "    </tr>\n",
       "    <tr>\n",
       "      <th>3</th>\n",
       "      <td>Albania</td>\n",
       "      <td>Azerbaijan</td>\n",
       "      <td>19</td>\n",
       "      <td>12</td>\n",
       "      <td>11</td>\n",
       "      <td>21</td>\n",
       "      <td>11</td>\n",
       "      <td>13</td>\n",
       "      <td>19</td>\n",
       "      <td>NaN</td>\n",
       "      <td>NaN</td>\n",
       "    </tr>\n",
       "    <tr>\n",
       "      <th>4</th>\n",
       "      <td>Albania</td>\n",
       "      <td>Hungary</td>\n",
       "      <td>8</td>\n",
       "      <td>13</td>\n",
       "      <td>9</td>\n",
       "      <td>14</td>\n",
       "      <td>9</td>\n",
       "      <td>10</td>\n",
       "      <td>10</td>\n",
       "      <td>1.0</td>\n",
       "      <td>1.0</td>\n",
       "    </tr>\n",
       "  </tbody>\n",
       "</table>\n",
       "</div>"
      ],
      "text/plain": [
       "  From country       To country  Jury A  Jury B  Jury C  Jury D  Jury E  \\\n",
       "0      Albania          Belgium      20      16      24      22      24   \n",
       "1      Albania   Czech Republic      21      15      25      23      16   \n",
       "2      Albania  The Netherlands      22      14      23      24      21   \n",
       "3      Albania       Azerbaijan      19      12      11      21      11   \n",
       "4      Albania          Hungary       8      13       9      14       9   \n",
       "\n",
       "   Jury Rank  Televote Rank  Jury Points  Televote Points  \n",
       "0         25             14          NaN              NaN  \n",
       "1         22             22          NaN              NaN  \n",
       "2         24             24          NaN              NaN  \n",
       "3         13             19          NaN              NaN  \n",
       "4         10             10          1.0              1.0  "
      ]
     },
     "execution_count": 21,
     "metadata": {},
     "output_type": "execute_result"
    }
   ],
   "source": [
    "samples.head()"
   ]
  },
  {
   "cell_type": "code",
   "execution_count": 17,
   "metadata": {},
   "outputs": [
    {
     "data": {
      "text/plain": [
       "(1066, 11)"
      ]
     },
     "execution_count": 17,
     "metadata": {},
     "output_type": "execute_result"
    }
   ],
   "source": [
    "samples.shape\n"
   ]
  },
  {
   "cell_type": "code",
   "execution_count": 18,
   "metadata": {},
   "outputs": [
    {
     "data": {
      "text/plain": [
       "Index(['From country', 'To country', 'Jury A', 'Jury B', 'Jury C', 'Jury D',\n",
       "       'Jury E', 'Jury Rank', 'Televote Rank', 'Jury Points',\n",
       "       'Televote Points'],\n",
       "      dtype='object')"
      ]
     },
     "execution_count": 18,
     "metadata": {},
     "output_type": "execute_result"
    }
   ],
   "source": [
    "samples.columns\n"
   ]
  },
  {
   "cell_type": "code",
   "execution_count": 19,
   "metadata": {},
   "outputs": [
    {
     "data": {
      "text/html": [
       "<div>\n",
       "<style scoped>\n",
       "    .dataframe tbody tr th:only-of-type {\n",
       "        vertical-align: middle;\n",
       "    }\n",
       "\n",
       "    .dataframe tbody tr th {\n",
       "        vertical-align: top;\n",
       "    }\n",
       "\n",
       "    .dataframe thead th {\n",
       "        text-align: right;\n",
       "    }\n",
       "</style>\n",
       "<table border=\"1\" class=\"dataframe\">\n",
       "  <thead>\n",
       "    <tr style=\"text-align: right;\">\n",
       "      <th></th>\n",
       "      <th>Jury A</th>\n",
       "      <th>Jury B</th>\n",
       "      <th>Jury C</th>\n",
       "      <th>Jury D</th>\n",
       "      <th>Jury E</th>\n",
       "      <th>Jury Rank</th>\n",
       "      <th>Televote Rank</th>\n",
       "      <th>Jury Points</th>\n",
       "      <th>Televote Points</th>\n",
       "    </tr>\n",
       "  </thead>\n",
       "  <tbody>\n",
       "    <tr>\n",
       "      <th>count</th>\n",
       "      <td>1066.000000</td>\n",
       "      <td>1066.000000</td>\n",
       "      <td>1066.000000</td>\n",
       "      <td>1066.000000</td>\n",
       "      <td>1066.000000</td>\n",
       "      <td>1066.000000</td>\n",
       "      <td>1066.000000</td>\n",
       "      <td>420.000000</td>\n",
       "      <td>420.000000</td>\n",
       "    </tr>\n",
       "    <tr>\n",
       "      <th>mean</th>\n",
       "      <td>13.195122</td>\n",
       "      <td>13.195122</td>\n",
       "      <td>13.195122</td>\n",
       "      <td>13.195122</td>\n",
       "      <td>13.195122</td>\n",
       "      <td>13.195122</td>\n",
       "      <td>13.195122</td>\n",
       "      <td>5.800000</td>\n",
       "      <td>5.800000</td>\n",
       "    </tr>\n",
       "    <tr>\n",
       "      <th>std</th>\n",
       "      <td>7.332698</td>\n",
       "      <td>7.332698</td>\n",
       "      <td>7.332698</td>\n",
       "      <td>7.332698</td>\n",
       "      <td>7.332698</td>\n",
       "      <td>7.332698</td>\n",
       "      <td>7.332698</td>\n",
       "      <td>3.344643</td>\n",
       "      <td>3.344643</td>\n",
       "    </tr>\n",
       "    <tr>\n",
       "      <th>min</th>\n",
       "      <td>1.000000</td>\n",
       "      <td>1.000000</td>\n",
       "      <td>1.000000</td>\n",
       "      <td>1.000000</td>\n",
       "      <td>1.000000</td>\n",
       "      <td>1.000000</td>\n",
       "      <td>1.000000</td>\n",
       "      <td>1.000000</td>\n",
       "      <td>1.000000</td>\n",
       "    </tr>\n",
       "    <tr>\n",
       "      <th>25%</th>\n",
       "      <td>7.000000</td>\n",
       "      <td>7.000000</td>\n",
       "      <td>7.000000</td>\n",
       "      <td>7.000000</td>\n",
       "      <td>7.000000</td>\n",
       "      <td>7.000000</td>\n",
       "      <td>7.000000</td>\n",
       "      <td>3.000000</td>\n",
       "      <td>3.000000</td>\n",
       "    </tr>\n",
       "    <tr>\n",
       "      <th>50%</th>\n",
       "      <td>13.000000</td>\n",
       "      <td>13.000000</td>\n",
       "      <td>13.000000</td>\n",
       "      <td>13.000000</td>\n",
       "      <td>13.000000</td>\n",
       "      <td>13.000000</td>\n",
       "      <td>13.000000</td>\n",
       "      <td>5.500000</td>\n",
       "      <td>5.500000</td>\n",
       "    </tr>\n",
       "    <tr>\n",
       "      <th>75%</th>\n",
       "      <td>20.000000</td>\n",
       "      <td>20.000000</td>\n",
       "      <td>20.000000</td>\n",
       "      <td>20.000000</td>\n",
       "      <td>20.000000</td>\n",
       "      <td>20.000000</td>\n",
       "      <td>20.000000</td>\n",
       "      <td>8.000000</td>\n",
       "      <td>8.000000</td>\n",
       "    </tr>\n",
       "    <tr>\n",
       "      <th>max</th>\n",
       "      <td>26.000000</td>\n",
       "      <td>26.000000</td>\n",
       "      <td>26.000000</td>\n",
       "      <td>26.000000</td>\n",
       "      <td>26.000000</td>\n",
       "      <td>26.000000</td>\n",
       "      <td>26.000000</td>\n",
       "      <td>12.000000</td>\n",
       "      <td>12.000000</td>\n",
       "    </tr>\n",
       "  </tbody>\n",
       "</table>\n",
       "</div>"
      ],
      "text/plain": [
       "            Jury A       Jury B       Jury C       Jury D       Jury E  \\\n",
       "count  1066.000000  1066.000000  1066.000000  1066.000000  1066.000000   \n",
       "mean     13.195122    13.195122    13.195122    13.195122    13.195122   \n",
       "std       7.332698     7.332698     7.332698     7.332698     7.332698   \n",
       "min       1.000000     1.000000     1.000000     1.000000     1.000000   \n",
       "25%       7.000000     7.000000     7.000000     7.000000     7.000000   \n",
       "50%      13.000000    13.000000    13.000000    13.000000    13.000000   \n",
       "75%      20.000000    20.000000    20.000000    20.000000    20.000000   \n",
       "max      26.000000    26.000000    26.000000    26.000000    26.000000   \n",
       "\n",
       "         Jury Rank  Televote Rank  Jury Points  Televote Points  \n",
       "count  1066.000000    1066.000000   420.000000       420.000000  \n",
       "mean     13.195122      13.195122     5.800000         5.800000  \n",
       "std       7.332698       7.332698     3.344643         3.344643  \n",
       "min       1.000000       1.000000     1.000000         1.000000  \n",
       "25%       7.000000       7.000000     3.000000         3.000000  \n",
       "50%      13.000000      13.000000     5.500000         5.500000  \n",
       "75%      20.000000      20.000000     8.000000         8.000000  \n",
       "max      26.000000      26.000000    12.000000        12.000000  "
      ]
     },
     "execution_count": 19,
     "metadata": {},
     "output_type": "execute_result"
    }
   ],
   "source": [
    "samples.describe()"
   ]
  },
  {
   "cell_type": "code",
   "execution_count": 22,
   "metadata": {},
   "outputs": [],
   "source": [
    "samples = samples.drop(columns=['From country', 'To country'],axis=2)"
   ]
  },
  {
   "cell_type": "markdown",
   "metadata": {},
   "source": [
    "> Step2: Heirarchical Clustering with Scipy."
   ]
  },
  {
   "cell_type": "code",
   "execution_count": 24,
   "metadata": {},
   "outputs": [
    {
     "ename": "ValueError",
     "evalue": "The condensed distance matrix must contain only finite values.",
     "output_type": "error",
     "traceback": [
      "\u001b[1;31m---------------------------------------------------------------------------\u001b[0m",
      "\u001b[1;31mValueError\u001b[0m                                Traceback (most recent call last)",
      "Cell \u001b[1;32mIn[24], line 2\u001b[0m\n\u001b[0;32m      1\u001b[0m \u001b[38;5;66;03m# Calculate the linkage: mergings\u001b[39;00m\n\u001b[1;32m----> 2\u001b[0m mergings \u001b[38;5;241m=\u001b[39m \u001b[43mlinkage\u001b[49m\u001b[43m(\u001b[49m\u001b[43msamples\u001b[49m\u001b[43m,\u001b[49m\u001b[43m \u001b[49m\u001b[43mmethod\u001b[49m\u001b[38;5;241;43m=\u001b[39;49m\u001b[38;5;124;43m'\u001b[39;49m\u001b[38;5;124;43mcomplete\u001b[39;49m\u001b[38;5;124;43m'\u001b[39;49m\u001b[43m)\u001b[49m\n\u001b[0;32m      4\u001b[0m \u001b[38;5;66;03m# Plot the dendrogram, using varieties as labels\u001b[39;00m\n\u001b[0;32m      5\u001b[0m dendrogram(mergings,\n\u001b[0;32m      6\u001b[0m            leaf_rotation\u001b[38;5;241m=\u001b[39m\u001b[38;5;241m90\u001b[39m,\n\u001b[0;32m      7\u001b[0m            leaf_font_size\u001b[38;5;241m=\u001b[39m\u001b[38;5;241m6\u001b[39m,\n\u001b[0;32m      8\u001b[0m )\n",
      "File \u001b[1;32mc:\\Users\\bisha\\AppData\\Local\\Programs\\Python\\Python313\\Lib\\site-packages\\scipy\\cluster\\hierarchy.py:1030\u001b[0m, in \u001b[0;36mlinkage\u001b[1;34m(y, method, metric, optimal_ordering)\u001b[0m\n\u001b[0;32m   1027\u001b[0m     \u001b[38;5;28;01mraise\u001b[39;00m \u001b[38;5;167;01mValueError\u001b[39;00m(\u001b[38;5;124m\"\u001b[39m\u001b[38;5;124m`y` must be 1 or 2 dimensional.\u001b[39m\u001b[38;5;124m\"\u001b[39m)\n\u001b[0;32m   1029\u001b[0m \u001b[38;5;28;01mif\u001b[39;00m \u001b[38;5;129;01mnot\u001b[39;00m xp\u001b[38;5;241m.\u001b[39mall(xp\u001b[38;5;241m.\u001b[39misfinite(y)):\n\u001b[1;32m-> 1030\u001b[0m     \u001b[38;5;28;01mraise\u001b[39;00m \u001b[38;5;167;01mValueError\u001b[39;00m(\u001b[38;5;124m\"\u001b[39m\u001b[38;5;124mThe condensed distance matrix must contain only \u001b[39m\u001b[38;5;124m\"\u001b[39m\n\u001b[0;32m   1031\u001b[0m                      \u001b[38;5;124m\"\u001b[39m\u001b[38;5;124mfinite values.\u001b[39m\u001b[38;5;124m\"\u001b[39m)\n\u001b[0;32m   1033\u001b[0m n \u001b[38;5;241m=\u001b[39m \u001b[38;5;28mint\u001b[39m(distance\u001b[38;5;241m.\u001b[39mnum_obs_y(y))\n\u001b[0;32m   1034\u001b[0m method_code \u001b[38;5;241m=\u001b[39m _LINKAGE_METHODS[method]\n",
      "\u001b[1;31mValueError\u001b[0m: The condensed distance matrix must contain only finite values."
     ]
    }
   ],
   "source": [
    "\n",
    "# Calculate the linkage: mergings\n",
    "mergings = linkage(samples, method='complete')\n",
    "\n",
    "# Plot the dendrogram, using varieties as labels\n",
    "dendrogram(mergings,\n",
    "           labels=varieties,\n",
    "           leaf_rotation=90,\n",
    "           leaf_font_size=6,\n",
    ")\n",
    "plt.show()"
   ]
  }
 ],
 "metadata": {
  "kernelspec": {
   "display_name": "Python 3",
   "language": "python",
   "name": "python3"
  },
  "language_info": {
   "codemirror_mode": {
    "name": "ipython",
    "version": 3
   },
   "file_extension": ".py",
   "mimetype": "text/x-python",
   "name": "python",
   "nbconvert_exporter": "python",
   "pygments_lexer": "ipython3",
   "version": "3.13.1"
  }
 },
 "nbformat": 4,
 "nbformat_minor": 2
}

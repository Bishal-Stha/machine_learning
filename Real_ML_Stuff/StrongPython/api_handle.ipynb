{
 "cells": [
  {
   "cell_type": "code",
   "execution_count": 6,
   "id": "60121f43",
   "metadata": {},
   "outputs": [],
   "source": [
    "import requests\n",
    "import json\n",
    "\n",
    "max_results = 1\n",
    "query = str(input(\"Enter the name of book: \"))\n",
    "url = f\"https://www.googleapis.com/books/v1/volumes?q={query}&maxResults={max_results}\""
   ]
  },
  {
   "cell_type": "code",
   "execution_count": 7,
   "id": "a0204095",
   "metadata": {},
   "outputs": [
    {
     "ename": "KeyError",
     "evalue": "('items', 'title')",
     "output_type": "error",
     "traceback": [
      "\u001b[1;31m---------------------------------------------------------------------------\u001b[0m",
      "\u001b[1;31mKeyError\u001b[0m                                  Traceback (most recent call last)",
      "Cell \u001b[1;32mIn[7], line 6\u001b[0m\n\u001b[0;32m      4\u001b[0m     data \u001b[38;5;241m=\u001b[39m response\u001b[38;5;241m.\u001b[39mjson()\n\u001b[0;32m      5\u001b[0m     \u001b[38;5;66;03m# print(f\"{data[\"items\"][\"volumeInfo\"][\"title\"]}\")\u001b[39;00m\n\u001b[1;32m----> 6\u001b[0m     \u001b[38;5;28mprint\u001b[39m(\u001b[38;5;124mf\u001b[39m\u001b[38;5;124m'\u001b[39m\u001b[38;5;132;01m{\u001b[39;00mdata[\u001b[38;5;124m\"\u001b[39m\u001b[38;5;124mitems\u001b[39m\u001b[38;5;124m\"\u001b[39m,\u001b[38;5;124m\"\u001b[39m\u001b[38;5;124mtitle\u001b[39m\u001b[38;5;124m\"\u001b[39m]\u001b[38;5;132;01m}\u001b[39;00m\u001b[38;5;124m'\u001b[39m)\n\u001b[0;32m      7\u001b[0m \u001b[38;5;28;01melse\u001b[39;00m: \u001b[38;5;28mprint\u001b[39m(\u001b[38;5;124mf\u001b[39m\u001b[38;5;124m\"\u001b[39m\u001b[38;5;124mError Fetching Book: \u001b[39m\u001b[38;5;132;01m{\u001b[39;00mresponse\u001b[38;5;241m.\u001b[39mstatus_code\u001b[38;5;132;01m}\u001b[39;00m\u001b[38;5;124m\"\u001b[39m)\n",
      "\u001b[1;31mKeyError\u001b[0m: ('items', 'title')"
     ]
    }
   ],
   "source": [
    "response = requests.get(url, headers= {'accept':'application/json'})\n",
    "\n",
    "if(response.status_code ==200):\n",
    "    data = response.json()\n",
    "    # print(f\"{data[\"items\"][\"volumeInfo\"][\"title\"]}\")\n",
    "    print(f'{data[\"items\",\"title\"]}')\n",
    "else: print(f\"Error Fetching Book: {response.status_code}\")"
   ]
  },
  {
   "cell_type": "code",
   "execution_count": 8,
   "id": "0439d689",
   "metadata": {},
   "outputs": [],
   "source": [
    "my_dict = {\n",
    "    \"name\":\"bishal\",\n",
    "    \"address\": [{\"country\":\"Nepal\", \"city\": {\"Itahari\":18}}]\n",
    "}"
   ]
  },
  {
   "cell_type": "code",
   "execution_count": 11,
   "id": "7231ba9b",
   "metadata": {},
   "outputs": [
    {
     "data": {
      "text/plain": [
       "18"
      ]
     },
     "execution_count": 11,
     "metadata": {},
     "output_type": "execute_result"
    }
   ],
   "source": [
    "my_dict[\"address\"][0][\"city\"][\"Itahari\"]"
   ]
  }
 ],
 "metadata": {
  "kernelspec": {
   "display_name": "Python 3",
   "language": "python",
   "name": "python3"
  },
  "language_info": {
   "codemirror_mode": {
    "name": "ipython",
    "version": 3
   },
   "file_extension": ".py",
   "mimetype": "text/x-python",
   "name": "python",
   "nbconvert_exporter": "python",
   "pygments_lexer": "ipython3",
   "version": "3.10.0"
  }
 },
 "nbformat": 4,
 "nbformat_minor": 5
}

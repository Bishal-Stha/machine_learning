{
 "cells": [
  {
   "cell_type": "code",
   "execution_count": null,
   "id": "68fad71c",
   "metadata": {},
   "outputs": [],
   "source": [
    "import pandas as pd\n",
    "import numpy as np\n",
    "import matplotlib.pyplot as plt\n",
    "\n",
    "df = pd.read_csv('../Dataset/tested.csv')\n",
    "df.head()\n",
    "df.info()\n",
    "df.values\n",
    "df.iloc[0:11,:]\n",
    "df.values\n",
    "df.columns\n",
    "df.index\n",
    "#sorting values based on something.\n",
    "df.sort_values(\"Age\", ascending=False) # if ascending is true. Ascending, else descending.\n",
    "df.sort_values([\"PassengerId\",\"Age\"], ascending=False)\n",
    "df.sort_values([\"Age\",\"PassengerId\"], ascending=[False, True])\n",
    "df[df['Age'] > 25].sort_values('Age')\n",
    "# (df['Age'] >25) and (df['Age'] < 40)\n",
    "df[df['Cabin'].isnull()]\n",
    "survived = df['Survived'] ==1\n",
    "age40abv = df['Age'] >40\n",
    "\n",
    "df[ survived & age40abv]\n",
    "# df.isin([survived,age40abv]).sort_values('Age', ascending=False)\n",
    "# df[(survived) | (age40abv)]\n",
    "\n",
    "#This is from Datacamp and it highlights the usage of .isin() method.\n",
    "\n",
    "# # The Mojave Desert states\n",
    "# canu = [\"California\", \"Arizona\", \"Nevada\", \"Utah\"]\n",
    "\n",
    "# # Filter for rows in the Mojave Desert states\n",
    "# mojave_homelessness = homelessness[homelessness['state'].isin(canu)]\n",
    "\n",
    "# # See the result\n",
    "# print(mojave_homelessness)"
   ]
  }
 ],
 "metadata": {
  "language_info": {
   "name": "python"
  }
 },
 "nbformat": 4,
 "nbformat_minor": 5
}

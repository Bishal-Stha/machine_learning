{
  "cells": [
    {
      "cell_type": "markdown",
      "metadata": {
        "id": "9eFf-yP8GP3f"
      },
      "source": [
        "Resource notebook: https://www.learnpytorch.io/00_pytorch_fundamentals/\n",
        "\n",
        "if you have a question: https://github.com/mrdbourke/pytorch-deep-learning/discussions"
      ]
    },
    {
      "cell_type": "markdown",
      "metadata": {},
      "source": [
        "### Note\n",
        "**I left errors in some place intentionally, because error can teach you more than a working code can do.**"
      ]
    },
    {
      "cell_type": "code",
      "execution_count": 193,
      "metadata": {
        "colab": {
          "base_uri": "https://localhost:8080/"
        },
        "id": "7GEWundEDfcP",
        "outputId": "45ba0133-7558-47c6-ea8e-ee31b4eb0daa"
      },
      "outputs": [
        {
          "name": "stdout",
          "output_type": "stream",
          "text": [
            "Let's learn Pytorch\n"
          ]
        }
      ],
      "source": [
        "print(\"Let's learn Pytorch\")"
      ]
    },
    {
      "cell_type": "code",
      "execution_count": 194,
      "metadata": {
        "colab": {
          "base_uri": "https://localhost:8080/"
        },
        "id": "QMyoEFECEIz_",
        "outputId": "24b39ca1-0cd7-44be-e259-a6c927c840be"
      },
      "outputs": [
        {
          "name": "stdout",
          "output_type": "stream",
          "text": [
            "2.7.0+cpu\n"
          ]
        }
      ],
      "source": [
        "import torch\n",
        "print(torch.__version__)"
      ]
    },
    {
      "cell_type": "code",
      "execution_count": 195,
      "metadata": {
        "id": "OdBjYEvqGnlV"
      },
      "outputs": [],
      "source": [
        "## Introduction to Tensors\n",
        "\n",
        "#creating tensor"
      ]
    },
    {
      "cell_type": "code",
      "execution_count": 196,
      "metadata": {
        "colab": {
          "base_uri": "https://localhost:8080/"
        },
        "id": "y81ii79u9upJ",
        "outputId": "90695227-18e7-4b26-93eb-89307a6fffbb"
      },
      "outputs": [
        {
          "data": {
            "text/plain": [
              "tensor(1)"
            ]
          },
          "execution_count": 196,
          "metadata": {},
          "output_type": "execute_result"
        }
      ],
      "source": [
        "scaler = torch.tensor(1)\n",
        "scaler"
      ]
    },
    {
      "cell_type": "code",
      "execution_count": 197,
      "metadata": {
        "colab": {
          "base_uri": "https://localhost:8080/"
        },
        "id": "56PaUFdv-W4Y",
        "outputId": "d6fdbee6-c412-4b70-a69a-04d29f26c7bc"
      },
      "outputs": [
        {
          "data": {
            "text/plain": [
              "0"
            ]
          },
          "execution_count": 197,
          "metadata": {},
          "output_type": "execute_result"
        }
      ],
      "source": [
        "scaler.ndim"
      ]
    },
    {
      "cell_type": "code",
      "execution_count": 198,
      "metadata": {
        "colab": {
          "base_uri": "https://localhost:8080/"
        },
        "id": "tQyncVBu-aJh",
        "outputId": "54632f35-e5aa-4374-fcce-fa2277a8659e"
      },
      "outputs": [
        {
          "data": {
            "text/plain": [
              "tensor([1, 2, 3])"
            ]
          },
          "execution_count": 198,
          "metadata": {},
          "output_type": "execute_result"
        }
      ],
      "source": [
        "vector = torch.tensor([1,2,3])\n",
        "vector"
      ]
    },
    {
      "cell_type": "code",
      "execution_count": 199,
      "metadata": {
        "colab": {
          "base_uri": "https://localhost:8080/"
        },
        "id": "foIK74Ek-tnJ",
        "outputId": "a789b1d5-2237-4197-928b-e5b29b749481"
      },
      "outputs": [
        {
          "data": {
            "text/plain": [
              "1"
            ]
          },
          "execution_count": 199,
          "metadata": {},
          "output_type": "execute_result"
        }
      ],
      "source": [
        "vector.ndim"
      ]
    },
    {
      "cell_type": "code",
      "execution_count": 200,
      "metadata": {
        "colab": {
          "base_uri": "https://localhost:8080/"
        },
        "id": "HAo0ZvTF-0a4",
        "outputId": "8c897dcf-bcc1-4b01-f84d-a060cfa7f259"
      },
      "outputs": [
        {
          "data": {
            "text/plain": [
              "tensor([[1, 2, 3],\n",
              "        [4, 5, 6]])"
            ]
          },
          "execution_count": 200,
          "metadata": {},
          "output_type": "execute_result"
        }
      ],
      "source": [
        "matrix = torch.tensor([[1,2,3],[4,5,6]])\n",
        "matrix"
      ]
    },
    {
      "cell_type": "code",
      "execution_count": 201,
      "metadata": {
        "colab": {
          "base_uri": "https://localhost:8080/"
        },
        "id": "zjCAcgw5-6Vh",
        "outputId": "c2321ff4-f13c-460f-8830-a4c02ac04056"
      },
      "outputs": [
        {
          "data": {
            "text/plain": [
              "2"
            ]
          },
          "execution_count": 201,
          "metadata": {},
          "output_type": "execute_result"
        }
      ],
      "source": [
        "matrix.ndim"
      ]
    },
    {
      "cell_type": "code",
      "execution_count": 202,
      "metadata": {
        "colab": {
          "base_uri": "https://localhost:8080/"
        },
        "id": "ozrh8R7f-8JQ",
        "outputId": "2fbd6fd8-b776-4b76-9b0a-b3e2f7ff409e"
      },
      "outputs": [
        {
          "data": {
            "text/plain": [
              "tensor([[[1, 2, 3],\n",
              "         [4, 5, 6],\n",
              "         [7, 8, 9]]])"
            ]
          },
          "execution_count": 202,
          "metadata": {},
          "output_type": "execute_result"
        }
      ],
      "source": [
        "tensor = torch.tensor([\n",
        "    [\n",
        "        [1,2,3],\n",
        "        [4,5,6],\n",
        "        [7,8,9]\n",
        "    ]\n",
        "])\n",
        "tensor"
      ]
    },
    {
      "cell_type": "code",
      "execution_count": 203,
      "metadata": {
        "colab": {
          "base_uri": "https://localhost:8080/"
        },
        "id": "saUZ0HggAT0Y",
        "outputId": "e0b8cd1e-00f1-4ed7-fe0b-9de1658a6e0b"
      },
      "outputs": [
        {
          "data": {
            "text/plain": [
              "torch.Size([1, 3, 3])"
            ]
          },
          "execution_count": 203,
          "metadata": {},
          "output_type": "execute_result"
        }
      ],
      "source": [
        "tensor.shape"
      ]
    },
    {
      "cell_type": "code",
      "execution_count": 204,
      "metadata": {
        "colab": {
          "base_uri": "https://localhost:8080/"
        },
        "id": "NxwOt8MB_JPx",
        "outputId": "61deb6c3-9755-4e4e-9745-cd5815bac85b"
      },
      "outputs": [
        {
          "data": {
            "text/plain": [
              "3"
            ]
          },
          "execution_count": 204,
          "metadata": {},
          "output_type": "execute_result"
        }
      ],
      "source": [
        "tensor.ndim"
      ]
    },
    {
      "cell_type": "code",
      "execution_count": 205,
      "metadata": {
        "colab": {
          "base_uri": "https://localhost:8080/"
        },
        "id": "rgsE8UzHADWq",
        "outputId": "c9f88378-8a4c-4d47-aafd-541f7153e1eb"
      },
      "outputs": [
        {
          "data": {
            "text/plain": [
              "tensor([[[[1, 2],\n",
              "          [3, 4],\n",
              "          [5, 6]]]])"
            ]
          },
          "execution_count": 205,
          "metadata": {},
          "output_type": "execute_result"
        }
      ],
      "source": [
        "sword = torch.tensor(\n",
        "    [[[[1,2],\n",
        "       [3,4],\n",
        "       [5,6]]]]\n",
        ")\n",
        "sword"
      ]
    },
    {
      "cell_type": "code",
      "execution_count": 206,
      "metadata": {
        "colab": {
          "base_uri": "https://localhost:8080/"
        },
        "id": "gTX-amwwAOag",
        "outputId": "98779a17-e5a0-490b-a5e5-c75d9e715384"
      },
      "outputs": [
        {
          "data": {
            "text/plain": [
              "4"
            ]
          },
          "execution_count": 206,
          "metadata": {},
          "output_type": "execute_result"
        }
      ],
      "source": [
        "sword.ndim"
      ]
    },
    {
      "cell_type": "code",
      "execution_count": 207,
      "metadata": {
        "colab": {
          "base_uri": "https://localhost:8080/"
        },
        "id": "UFH9akKHArYo",
        "outputId": "31614fa1-6749-466f-a342-ce5752eaa5d7"
      },
      "outputs": [
        {
          "data": {
            "text/plain": [
              "torch.Size([1, 1, 3, 2])"
            ]
          },
          "execution_count": 207,
          "metadata": {},
          "output_type": "execute_result"
        }
      ],
      "source": [
        "sword.shape"
      ]
    },
    {
      "cell_type": "code",
      "execution_count": 208,
      "metadata": {
        "colab": {
          "base_uri": "https://localhost:8080/"
        },
        "id": "gsCFC5byA3Po",
        "outputId": "821eed09-11b0-4148-f54e-d5308c02a4e2"
      },
      "outputs": [
        {
          "data": {
            "text/plain": [
              "torch.Size([2, 3, 3])"
            ]
          },
          "execution_count": 208,
          "metadata": {},
          "output_type": "execute_result"
        }
      ],
      "source": [
        "a = torch.tensor( [\n",
        "    [ [1,2,3],\n",
        "     [2,4,6],\n",
        "      [3,6,9]],\n",
        "\n",
        "    [ [3,2,1],\n",
        "     [6, 4, 2],\n",
        "      [9,6,3]]\n",
        "])\n",
        "a.shape"
      ]
    },
    {
      "cell_type": "code",
      "execution_count": 209,
      "metadata": {
        "colab": {
          "base_uri": "https://localhost:8080/"
        },
        "id": "y4ScocJpBkKA",
        "outputId": "377486dd-69b4-440c-8b45-558613a4f34e"
      },
      "outputs": [
        {
          "data": {
            "text/plain": [
              "torch.Size([1, 2, 3])"
            ]
          },
          "execution_count": 209,
          "metadata": {},
          "output_type": "execute_result"
        }
      ],
      "source": [
        "# make a tensor of torch.Size([1,2,3])\n",
        "\n",
        "b = torch.tensor([\n",
        "    [\n",
        "    [1,2,3],\n",
        "    [4,5,6]\n",
        "]\n",
        "])\n",
        "b.shape"
      ]
    },
    {
      "cell_type": "markdown",
      "metadata": {
        "id": "xXrfknfNClvI"
      },
      "source": [
        "### why Random Tensors ?\n",
        "Random tensors are important because the way neural network learn is that they start with tensors full of random numbers and then adjust those random numbers to better represent the data.\n",
        "\n",
        "`Start with random numbers -> look at data -> update random numbers -> look at data -> update random numbers`"
      ]
    },
    {
      "cell_type": "code",
      "execution_count": 210,
      "metadata": {
        "colab": {
          "base_uri": "https://localhost:8080/"
        },
        "id": "8eI2GNiDCe8P",
        "outputId": "43482276-96ba-4de8-98a2-7bf3ae1892ef"
      },
      "outputs": [
        {
          "data": {
            "text/plain": [
              "tensor([[0.8694, 0.5677, 0.7411, 0.4294],\n",
              "        [0.8854, 0.5739, 0.2666, 0.6274],\n",
              "        [0.2696, 0.4414, 0.2969, 0.8317]])"
            ]
          },
          "execution_count": 210,
          "metadata": {},
          "output_type": "execute_result"
        }
      ],
      "source": [
        "random_tensor = torch.rand(3,4)\n",
        "random_tensor"
      ]
    },
    {
      "cell_type": "code",
      "execution_count": 211,
      "metadata": {
        "colab": {
          "base_uri": "https://localhost:8080/"
        },
        "id": "Gwqy09G7DmrJ",
        "outputId": "f2a7fe2a-423a-4675-c4e6-a117fc0617f9"
      },
      "outputs": [
        {
          "data": {
            "text/plain": [
              "2"
            ]
          },
          "execution_count": 211,
          "metadata": {},
          "output_type": "execute_result"
        }
      ],
      "source": [
        "random_tensor.ndim"
      ]
    },
    {
      "cell_type": "code",
      "execution_count": 212,
      "metadata": {
        "colab": {
          "base_uri": "https://localhost:8080/"
        },
        "id": "OwYhWoQ6Dpfo",
        "outputId": "83527876-e342-4e3d-f711-aca2af17187a"
      },
      "outputs": [
        {
          "data": {
            "text/plain": [
              "(torch.Size([3, 224, 224]), 3)"
            ]
          },
          "execution_count": 212,
          "metadata": {},
          "output_type": "execute_result"
        }
      ],
      "source": [
        "# create a random tensor with similar shape to an image tensor\n",
        "\n",
        "random_image_size_tensor = torch.rand(size =(3,224,224))\n",
        "random_image_size_tensor.shape, random_image_size_tensor.ndim"
      ]
    },
    {
      "cell_type": "code",
      "execution_count": 213,
      "metadata": {
        "colab": {
          "base_uri": "https://localhost:8080/"
        },
        "id": "0Yb28qsqECo4",
        "outputId": "4fa2e7a0-c2f3-4287-c1ab-e6f939b2dce0"
      },
      "outputs": [
        {
          "data": {
            "text/plain": [
              "tensor([[[0.1053, 0.2695, 0.3588,  ..., 0.1481, 0.1733, 0.6659],\n",
              "         [0.3514, 0.8087, 0.3396,  ..., 0.9274, 0.9477, 0.7935],\n",
              "         [0.8777, 0.4331, 0.2249,  ..., 0.9902, 0.5978, 0.7888],\n",
              "         ...,\n",
              "         [0.7965, 0.7666, 0.8725,  ..., 0.1494, 0.1160, 0.7257],\n",
              "         [0.2102, 0.0767, 0.9499,  ..., 0.6599, 0.7642, 0.1562],\n",
              "         [0.9902, 0.5277, 0.5861,  ..., 0.4111, 0.9908, 0.8855]],\n",
              "\n",
              "        [[0.5449, 0.1263, 0.6236,  ..., 0.2283, 0.8619, 0.7597],\n",
              "         [0.5820, 0.1566, 0.1371,  ..., 0.1744, 0.3222, 0.5495],\n",
              "         [0.7420, 0.3132, 0.6374,  ..., 0.6496, 0.5809, 0.2162],\n",
              "         ...,\n",
              "         [0.9435, 0.7362, 0.4158,  ..., 0.5498, 0.8349, 0.9400],\n",
              "         [0.3117, 0.9626, 0.5265,  ..., 0.2752, 0.6565, 0.5912],\n",
              "         [0.6687, 0.3950, 0.4023,  ..., 0.4438, 0.9989, 0.3017]],\n",
              "\n",
              "        [[0.1901, 0.4283, 0.1539,  ..., 0.9442, 0.1459, 0.6084],\n",
              "         [0.4032, 0.1417, 0.6007,  ..., 0.5106, 0.3808, 0.4320],\n",
              "         [0.3945, 0.6757, 0.9492,  ..., 0.5638, 0.0656, 0.2499],\n",
              "         ...,\n",
              "         [0.2424, 0.8264, 0.0015,  ..., 0.2236, 0.9608, 0.2619],\n",
              "         [0.3251, 0.8857, 0.8975,  ..., 0.5501, 0.2298, 0.5729],\n",
              "         [0.9004, 0.0847, 0.5875,  ..., 0.9663, 0.7687, 0.4566]]])"
            ]
          },
          "execution_count": 213,
          "metadata": {},
          "output_type": "execute_result"
        }
      ],
      "source": [
        "random_image_size_tensor"
      ]
    },
    {
      "cell_type": "markdown",
      "metadata": {
        "id": "v9e-vu4vEZt4"
      },
      "source": [
        "### Creating random tensors with value 0 or 1"
      ]
    },
    {
      "cell_type": "code",
      "execution_count": 214,
      "metadata": {
        "colab": {
          "base_uri": "https://localhost:8080/"
        },
        "id": "DbBx6EWNEZa5",
        "outputId": "903a2d5f-a26e-416a-c09d-fe3fbf8d3381"
      },
      "outputs": [
        {
          "data": {
            "text/plain": [
              "tensor([[0., 0., 0., 0.],\n",
              "        [0., 0., 0., 0.],\n",
              "        [0., 0., 0., 0.]])"
            ]
          },
          "execution_count": 214,
          "metadata": {},
          "output_type": "execute_result"
        }
      ],
      "source": [
        "zeros = torch.zeros(size=(3,4))\n",
        "zeros"
      ]
    },
    {
      "cell_type": "code",
      "execution_count": 215,
      "metadata": {
        "colab": {
          "base_uri": "https://localhost:8080/"
        },
        "id": "UvDYtMv0EwQ4",
        "outputId": "8a7230b4-1b7d-4ea8-e4cb-4c39760aa420"
      },
      "outputs": [
        {
          "data": {
            "text/plain": [
              "tensor([[0.8694, 0.5677, 0.7411, 0.4294],\n",
              "        [0.8854, 0.5739, 0.2666, 0.6274],\n",
              "        [0.2696, 0.4414, 0.2969, 0.8317]])"
            ]
          },
          "execution_count": 215,
          "metadata": {},
          "output_type": "execute_result"
        }
      ],
      "source": [
        "zeros = zeros + random_tensor\n",
        "zeros"
      ]
    },
    {
      "cell_type": "code",
      "execution_count": 216,
      "metadata": {
        "colab": {
          "base_uri": "https://localhost:8080/"
        },
        "id": "oLZcU_yAE-4x",
        "outputId": "b227f3d5-4fbc-4e07-bb52-0003c7a8ac85"
      },
      "outputs": [
        {
          "data": {
            "text/plain": [
              "tensor([[1., 1., 1., 1.],\n",
              "        [1., 1., 1., 1.],\n",
              "        [1., 1., 1., 1.]])"
            ]
          },
          "execution_count": 216,
          "metadata": {},
          "output_type": "execute_result"
        }
      ],
      "source": [
        "ones = torch.ones(size = (3,4))\n",
        "ones"
      ]
    },
    {
      "cell_type": "code",
      "execution_count": 217,
      "metadata": {
        "colab": {
          "base_uri": "https://localhost:8080/"
        },
        "id": "SHMJvKKPFEr4",
        "outputId": "476cf923-3505-46f4-9d0c-ca72dee9f10b"
      },
      "outputs": [
        {
          "data": {
            "text/plain": [
              "torch.float32"
            ]
          },
          "execution_count": 217,
          "metadata": {},
          "output_type": "execute_result"
        }
      ],
      "source": [
        "ones.dtype"
      ]
    },
    {
      "cell_type": "markdown",
      "metadata": {
        "id": "S8MUQi_wFO1v"
      },
      "source": [
        "### Creating a tensor range and tensors like other tensors"
      ]
    },
    {
      "cell_type": "code",
      "execution_count": 218,
      "metadata": {
        "id": "Tj_yEO1TFTwX"
      },
      "outputs": [],
      "source": [
        "# Use torch.range()\n",
        "\n",
        "# torch.range(1,100)\n",
        "# works but it is deprecated. so, we'll use torch.arange\n",
        "\n",
        "one_to_ten = torch.arange(start =0, end =11, step=1)"
      ]
    },
    {
      "cell_type": "code",
      "execution_count": 219,
      "metadata": {
        "colab": {
          "base_uri": "https://localhost:8080/"
        },
        "id": "NoDtGSGiGYxf",
        "outputId": "066618f1-5027-4fcd-e174-15e0bafe109a"
      },
      "outputs": [
        {
          "data": {
            "text/plain": [
              "torch.Size([11])"
            ]
          },
          "execution_count": 219,
          "metadata": {},
          "output_type": "execute_result"
        }
      ],
      "source": [
        "one_to_ten.shape"
      ]
    },
    {
      "cell_type": "code",
      "execution_count": 220,
      "metadata": {
        "colab": {
          "base_uri": "https://localhost:8080/"
        },
        "id": "I2V95LgKGNw4",
        "outputId": "591708ff-13f6-4fd4-dccf-09146af53841"
      },
      "outputs": [
        {
          "data": {
            "text/plain": [
              "tensor([0, 0, 0, 0, 0, 0, 0, 0, 0, 0, 0])"
            ]
          },
          "execution_count": 220,
          "metadata": {},
          "output_type": "execute_result"
        }
      ],
      "source": [
        "# Creating tensors like\n",
        "ten_zeros = torch.zeros_like(input =one_to_ten)\n",
        "ten_zeros"
      ]
    },
    {
      "cell_type": "markdown",
      "metadata": {
        "id": "eFhwc-UoJpxX"
      },
      "source": []
    },
    {
      "cell_type": "markdown",
      "metadata": {
        "id": "spaM4_dDIcxH"
      },
      "source": [
        "### Dealing with Tensor Datatypes"
      ]
    },
    {
      "cell_type": "markdown",
      "metadata": {
        "id": "hTwcqrv9Ty8x"
      },
      "source": [
        "**Note:** Tensor datatypes is one of the 3 big errors you'll run into with PyTorch & deep Learning:\n",
        "1. Tensors not right datatype\n",
        "2. Tensors not right shape\n",
        "3. Tensors not on the right device"
      ]
    },
    {
      "cell_type": "code",
      "execution_count": 221,
      "metadata": {
        "colab": {
          "base_uri": "https://localhost:8080/"
        },
        "id": "Vj3By5yWIbKw",
        "outputId": "a1c3a36b-4e2c-44b1-e978-e0c477d8314b"
      },
      "outputs": [
        {
          "data": {
            "text/plain": [
              "tensor([4., 5., 2.])"
            ]
          },
          "execution_count": 221,
          "metadata": {},
          "output_type": "execute_result"
        }
      ],
      "source": [
        "# Float 32 tensor\n",
        "float_32_tensor = torch.tensor([4.0,5.0,2.0],\n",
        "                               dtype=None, #What dataType is the tensor\n",
        "                               device = None, # what device is your tensor on\n",
        "                               requires_grad=False # whether or not to track gradients with the tensor operations\n",
        "                               )\n",
        "\n",
        "float_16_tensor = torch.tensor([1.2,3.1,5.5],\n",
        "                               dtype= torch.float16, #What dataType is the tensor\n",
        "                               device = None, # what device is your tensor on\n",
        "                               requires_grad=False # whether or not to track gradients with the tensor operations\n",
        "                               )\n",
        "float_32_tensor"
      ]
    },
    {
      "cell_type": "code",
      "execution_count": 222,
      "metadata": {
        "colab": {
          "base_uri": "https://localhost:8080/"
        },
        "id": "XM9EMU38JIFf",
        "outputId": "5d519dab-f3bd-4785-ac92-2471ab041ed1"
      },
      "outputs": [
        {
          "data": {
            "text/plain": [
              "torch.float32"
            ]
          },
          "execution_count": 222,
          "metadata": {},
          "output_type": "execute_result"
        }
      ],
      "source": [
        "float_32_tensor.dtype"
      ]
    },
    {
      "cell_type": "markdown",
      "metadata": {
        "id": "7aBApAibZ0ke"
      },
      "source": [
        "### Getting Tensor Attributes"
      ]
    },
    {
      "cell_type": "code",
      "execution_count": 223,
      "metadata": {
        "colab": {
          "base_uri": "https://localhost:8080/"
        },
        "id": "5IvRIN2tUUl_",
        "outputId": "be1599a6-96cf-46c7-feb9-608a4dae8158"
      },
      "outputs": [
        {
          "data": {
            "text/plain": [
              "tensor([ 4.8008, 15.4980, 11.0000])"
            ]
          },
          "execution_count": 223,
          "metadata": {},
          "output_type": "execute_result"
        }
      ],
      "source": [
        "float_16_tensor * float_32_tensor"
      ]
    },
    {
      "cell_type": "code",
      "execution_count": 224,
      "metadata": {
        "id": "ULXaD2scaxS_"
      },
      "outputs": [],
      "source": [
        "int_32_tensor = torch.tensor([4,6,7], dtype=torch.int64)"
      ]
    },
    {
      "cell_type": "code",
      "execution_count": 225,
      "metadata": {
        "colab": {
          "base_uri": "https://localhost:8080/"
        },
        "id": "nt963BfGbA4l",
        "outputId": "f7151f10-2cfa-4d9e-fe59-329a1c4c9018"
      },
      "outputs": [
        {
          "data": {
            "text/plain": [
              "tensor([16., 30., 14.])"
            ]
          },
          "execution_count": 225,
          "metadata": {},
          "output_type": "execute_result"
        }
      ],
      "source": [
        "float_32_tensor * int_32_tensor"
      ]
    },
    {
      "cell_type": "markdown",
      "metadata": {
        "id": "gBw9OX3xb_iv"
      },
      "source": [
        "### Getting Information from tensors\n",
        "1. Tensors not right datatype -> to get datatype from a tensor, can use `tensor.dtype`\n",
        "2. Tensors not right shape -> to get shape from tensor, can use `tensor.shape`\n",
        "3. Tensors not on the right device -> to get device from a tensor, can use `tensor.device`"
      ]
    },
    {
      "cell_type": "code",
      "execution_count": 226,
      "metadata": {
        "colab": {
          "base_uri": "https://localhost:8080/"
        },
        "id": "opeig2sJbcxd",
        "outputId": "e094d820-a8e9-4cf0-ce78-d892d6e8b164"
      },
      "outputs": [
        {
          "data": {
            "text/plain": [
              "tensor([[0.5745, 0.9200, 0.3230, 0.8613],\n",
              "        [0.0919, 0.3102, 0.9536, 0.6002]])"
            ]
          },
          "execution_count": 226,
          "metadata": {},
          "output_type": "execute_result"
        }
      ],
      "source": [
        "# create a tensor\n",
        "\n",
        "some_tensor = torch.rand(2,4)\n",
        "some_tensor"
      ]
    },
    {
      "cell_type": "code",
      "execution_count": 227,
      "metadata": {
        "colab": {
          "base_uri": "https://localhost:8080/"
        },
        "id": "s_RzY9k2cUCm",
        "outputId": "7e7cbcf1-b480-4201-916a-8a53aeb2981e"
      },
      "outputs": [
        {
          "name": "stdout",
          "output_type": "stream",
          "text": [
            "torch.float32\n",
            "torch.Size([2, 4])\n",
            "cpu\n"
          ]
        }
      ],
      "source": [
        "print(some_tensor.dtype)\n",
        "print(some_tensor.shape)\n",
        "print(some_tensor.device)"
      ]
    },
    {
      "cell_type": "markdown",
      "metadata": {
        "id": "3gqxnNE7dDb_"
      },
      "source": [
        "### Manipulating Tensors (Tensor Operations)\n",
        "\n",
        "Tensor operations include:\n",
        "- Addition\n",
        "- Subtraction\n",
        "- Multiplication (element-wise)\n",
        "- Division\n",
        "- Matrix Multiplication\n"
      ]
    },
    {
      "cell_type": "code",
      "execution_count": 228,
      "metadata": {
        "colab": {
          "base_uri": "https://localhost:8080/"
        },
        "id": "_nCuhWUOd6rG",
        "outputId": "c51b8b38-ac27-441b-f626-20e3e14395b1"
      },
      "outputs": [
        {
          "name": "stdout",
          "output_type": "stream",
          "text": [
            "Sum:  tensor([11, 12, 13])\n",
            "Difference:  tensor([0, 1, 2])\n",
            "Product:  tensor([10, 20, 30])\n",
            "Division:  tensor([0.5000, 1.0000, 1.5000])\n"
          ]
        }
      ],
      "source": [
        "# Create a tensor and perform basic arithmetic operations\n",
        "\n",
        "tensor = torch.tensor([1,2,3])\n",
        "print(\"Sum: \",tensor+10) #torch.sum(tensor,10)\n",
        "print(\"Difference: \",tensor-1) #torch.diff(tensor,1)\n",
        "print(\"Product: \",tensor*10) #torch.mul(tensor,10)\n",
        "print(\"Division: \",tensor/2) #torch.divide(tensor,2)"
      ]
    },
    {
      "cell_type": "markdown",
      "metadata": {
        "id": "T3m8eqIgf9nO"
      },
      "source": [
        "### Matrix Multiplication\n",
        "\n",
        "Two main ways of performing multiplication in neural networks and deep learning:\n",
        "1. Element-wise Multiplication\n",
        "2. Matrix multiplication (dot product)\n",
        "\n",
        "There are two main rules that performing matrix multiplication needs to satisfy:\n",
        "1. The `Inner Dimension` must match:\n",
        "\n",
        "- `(3,2) & (3,2)` won't work\n",
        "- `(3,2) & (2,3)` will work\n",
        "- `(3,2) & (2,3)` will work\n",
        "\n",
        "2. The resulting matrix has a shape of **outer dimensions**:\n",
        "- `(2,3) & (3,2)` -> (2,2)\n",
        "- `(3,2) & (2,3)` -> (3,3)"
      ]
    },
    {
      "cell_type": "code",
      "execution_count": 229,
      "metadata": {
        "colab": {
          "base_uri": "https://localhost:8080/"
        },
        "id": "wrSRlNe3fZzm",
        "outputId": "ac99b534-ff46-4e40-e3ec-7a14fd193962"
      },
      "outputs": [
        {
          "name": "stdout",
          "output_type": "stream",
          "text": [
            "tensor * tensor\n",
            "tensor([1, 4, 9])\n"
          ]
        }
      ],
      "source": [
        "# Element wise multiplication\n",
        "print(\"tensor * tensor\")\n",
        "print(tensor * tensor)"
      ]
    },
    {
      "cell_type": "code",
      "execution_count": 230,
      "metadata": {
        "colab": {
          "base_uri": "https://localhost:8080/"
        },
        "id": "vZHd75VhkJ9f",
        "outputId": "1c2842ef-e93d-4232-a659-99ee841cd9fe"
      },
      "outputs": [
        {
          "name": "stdout",
          "output_type": "stream",
          "text": [
            "tensor to tensor matrix multiplication\n",
            "tensor(14)\n"
          ]
        }
      ],
      "source": [
        "# Matrix multiplication\n",
        "\n",
        "print(\"tensor to tensor matrix multiplication\")\n",
        "print(torch.matmul(tensor,tensor))"
      ]
    },
    {
      "cell_type": "code",
      "execution_count": 231,
      "metadata": {
        "colab": {
          "base_uri": "https://localhost:8080/"
        },
        "id": "723b0sD1lTg1",
        "outputId": "92b90b2d-7415-4403-809b-1335046049db"
      },
      "outputs": [
        {
          "name": "stdout",
          "output_type": "stream",
          "text": [
            "tensor([[0.0351, 0.6826, 0.3743],\n",
            "        [0.5220, 0.1336, 0.9666]])\n",
            "tensor([[0.9754, 0.8474, 0.8988],\n",
            "        [0.1105, 0.4563, 0.9719]])\n"
          ]
        }
      ],
      "source": [
        "m1 = torch.rand(2,3)\n",
        "m2 = torch.rand(2,3)\n",
        "\n",
        "print(m1)\n",
        "print(m2)"
      ]
    },
    {
      "cell_type": "code",
      "execution_count": 232,
      "metadata": {
        "colab": {
          "base_uri": "https://localhost:8080/",
          "height": 158
        },
        "id": "R6avLFnAm_qW",
        "outputId": "a81d5f5b-d2ca-4354-cf39-bf3c3459d9dc"
      },
      "outputs": [
        {
          "ename": "RuntimeError",
          "evalue": "mat1 and mat2 shapes cannot be multiplied (2x3 and 2x3)",
          "output_type": "error",
          "traceback": [
            "\u001b[1;31m---------------------------------------------------------------------------\u001b[0m",
            "\u001b[1;31mRuntimeError\u001b[0m                              Traceback (most recent call last)",
            "Cell \u001b[1;32mIn[232], line 2\u001b[0m\n\u001b[0;32m      1\u001b[0m \u001b[38;5;66;03m# torch.matmul(m1,m2)\u001b[39;00m\n\u001b[1;32m----> 2\u001b[0m \u001b[43mtorch\u001b[49m\u001b[38;5;241;43m.\u001b[39;49m\u001b[43mmatmul\u001b[49m\u001b[43m(\u001b[49m\u001b[43mm1\u001b[49m\u001b[43m,\u001b[49m\u001b[43mm2\u001b[49m\u001b[43m)\u001b[49m\n",
            "\u001b[1;31mRuntimeError\u001b[0m: mat1 and mat2 shapes cannot be multiplied (2x3 and 2x3)"
          ]
        }
      ],
      "source": [
        "# torch.matmul(m1,m2)\n",
        "torch.matmul(m1,m2)"
      ]
    },
    {
      "cell_type": "code",
      "execution_count": 233,
      "metadata": {
        "colab": {
          "base_uri": "https://localhost:8080/"
        },
        "id": "0ayni_VNnH2H",
        "outputId": "abbdad0e-60e3-4729-c4ea-6255ea012edc"
      },
      "outputs": [
        {
          "data": {
            "text/plain": [
              "tensor([[0.2564, 0.3298, 0.3051],\n",
              "        [0.5817, 1.0402, 0.5033],\n",
              "        [0.5574, 1.0042, 0.4774]])"
            ]
          },
          "execution_count": 233,
          "metadata": {},
          "output_type": "execute_result"
        }
      ],
      "source": [
        "a = torch.rand(3,2)\n",
        "b = torch.rand(2,3)\n",
        "# If you notice you'll see, shape of two matrices. row of mat1 and column of mat2 is shape of matrix multiplication\n",
        "torch.matmul(a,b)"
      ]
    },
    {
      "cell_type": "markdown",
      "metadata": {
        "id": "uSvOkMV4orne"
      },
      "source": [
        "### One of the most common errors in deep learning: Shape Errors"
      ]
    },
    {
      "cell_type": "code",
      "execution_count": 234,
      "metadata": {
        "colab": {
          "base_uri": "https://localhost:8080/",
          "height": 176
        },
        "id": "Oz0aPxE0o49G",
        "outputId": "3a15004b-caba-4f2c-be09-9c3b3612c824"
      },
      "outputs": [
        {
          "ename": "RuntimeError",
          "evalue": "mat1 and mat2 shapes cannot be multiplied (3x2 and 3x2)",
          "output_type": "error",
          "traceback": [
            "\u001b[1;31m---------------------------------------------------------------------------\u001b[0m",
            "\u001b[1;31mRuntimeError\u001b[0m                              Traceback (most recent call last)",
            "Cell \u001b[1;32mIn[234], line 14\u001b[0m\n\u001b[0;32m      7\u001b[0m tensor_B \u001b[38;5;241m=\u001b[39m torch\u001b[38;5;241m.\u001b[39mtensor([\n\u001b[0;32m      8\u001b[0m     [\u001b[38;5;241m7\u001b[39m,\u001b[38;5;241m10\u001b[39m],\n\u001b[0;32m      9\u001b[0m     [\u001b[38;5;241m8\u001b[39m,\u001b[38;5;241m11\u001b[39m],\n\u001b[0;32m     10\u001b[0m     [\u001b[38;5;241m9\u001b[39m,\u001b[38;5;241m12\u001b[39m]\n\u001b[0;32m     11\u001b[0m ])\n\u001b[0;32m     13\u001b[0m \u001b[38;5;66;03m# torch.matmul == torch.mm\u001b[39;00m\n\u001b[1;32m---> 14\u001b[0m \u001b[43mtorch\u001b[49m\u001b[38;5;241;43m.\u001b[39;49m\u001b[43mmm\u001b[49m\u001b[43m(\u001b[49m\u001b[43mtensor_A\u001b[49m\u001b[43m,\u001b[49m\u001b[43m \u001b[49m\u001b[43mtensor_B\u001b[49m\u001b[43m)\u001b[49m\n",
            "\u001b[1;31mRuntimeError\u001b[0m: mat1 and mat2 shapes cannot be multiplied (3x2 and 3x2)"
          ]
        }
      ],
      "source": [
        "tensor_A = torch.tensor([\n",
        "    [1,2],\n",
        "    [3,4],\n",
        "    [5,6]\n",
        "])\n",
        "\n",
        "tensor_B = torch.tensor([\n",
        "    [7,10],\n",
        "    [8,11],\n",
        "    [9,12]\n",
        "])\n",
        "\n",
        "# torch.matmul == torch.mm\n",
        "torch.mm(tensor_A, tensor_B)"
      ]
    },
    {
      "cell_type": "markdown",
      "metadata": {
        "id": "z-zDHk0spt2x"
      },
      "source": [
        "To fix our tensor shape issues, we can manipulate the shape of one of our tensor using a **transpose**\n",
        "\n",
        "A transpose switches the axes or dimension of a given tensor"
      ]
    },
    {
      "cell_type": "code",
      "execution_count": 235,
      "metadata": {
        "colab": {
          "base_uri": "https://localhost:8080/"
        },
        "id": "YYu3Ed3yqlDN",
        "outputId": "72fd3fd8-54ac-46ca-f678-0293f86a1134"
      },
      "outputs": [
        {
          "data": {
            "text/plain": [
              "tensor([[1, 2],\n",
              "        [3, 4],\n",
              "        [5, 6]])"
            ]
          },
          "execution_count": 235,
          "metadata": {},
          "output_type": "execute_result"
        }
      ],
      "source": [
        "tensor_A"
      ]
    },
    {
      "cell_type": "code",
      "execution_count": 236,
      "metadata": {
        "colab": {
          "base_uri": "https://localhost:8080/"
        },
        "id": "G15OXnh7qnLm",
        "outputId": "d55d0cfc-9029-47c4-eb50-dbea92d3f65b"
      },
      "outputs": [
        {
          "data": {
            "text/plain": [
              "tensor([[ 7,  8,  9],\n",
              "        [10, 11, 12]])"
            ]
          },
          "execution_count": 236,
          "metadata": {},
          "output_type": "execute_result"
        }
      ],
      "source": [
        "tensor_B.T"
      ]
    },
    {
      "cell_type": "code",
      "execution_count": 237,
      "metadata": {
        "colab": {
          "base_uri": "https://localhost:8080/"
        },
        "id": "ZIgy239trd_c",
        "outputId": "1440bafe-8b56-4f13-b9e5-8b564771645e"
      },
      "outputs": [
        {
          "name": "stdout",
          "output_type": "stream",
          "text": [
            "Original shapes: tensor_A: torch.Size([3, 2]), tensor_B: torch.Size([3, 2])\n",
            "New shapes: tensor_A: torch.Size([3, 2]), tensor_B: torch.Size([2, 3])\n"
          ]
        }
      ],
      "source": [
        "print(f\"Original shapes: tensor_A: {tensor_A.shape}, tensor_B: {tensor_B.shape}\")\n",
        "print(f\"New shapes: tensor_A: {tensor_A.shape}, tensor_B: {tensor_B.T.shape}\")"
      ]
    },
    {
      "cell_type": "code",
      "execution_count": 238,
      "metadata": {
        "colab": {
          "base_uri": "https://localhost:8080/"
        },
        "id": "KSa_axnD1Hrg",
        "outputId": "69492ef8-5a4e-4a05-9178-2f58c8c188f1"
      },
      "outputs": [
        {
          "data": {
            "text/plain": [
              "tensor([[ 27,  30,  33],\n",
              "        [ 61,  68,  75],\n",
              "        [ 95, 106, 117]])"
            ]
          },
          "execution_count": 238,
          "metadata": {},
          "output_type": "execute_result"
        }
      ],
      "source": [
        "torch.mm(tensor_A,tensor_B.T\n",
        "         )"
      ]
    },
    {
      "cell_type": "code",
      "execution_count": 239,
      "metadata": {
        "colab": {
          "base_uri": "https://localhost:8080/"
        },
        "id": "zwi4ifr0p791",
        "outputId": "c5097df0-288a-4016-d0c7-c68ab7a61da1"
      },
      "outputs": [
        {
          "data": {
            "text/plain": [
              "tensor([[ 76, 103],\n",
              "        [100, 136]])"
            ]
          },
          "execution_count": 239,
          "metadata": {},
          "output_type": "execute_result"
        }
      ],
      "source": [
        "torch.mm(tensor_A.T,tensor_B)"
      ]
    },
    {
      "cell_type": "markdown",
      "metadata": {
        "id": "VcLNgkEL3G5A"
      },
      "source": [
        "### finding the min, max, mean, sum, etc (Tensor Aggregation)"
      ]
    },
    {
      "cell_type": "code",
      "execution_count": 240,
      "metadata": {
        "colab": {
          "base_uri": "https://localhost:8080/"
        },
        "id": "98Yv_sDv1f71",
        "outputId": "dabf3a62-ef86-44c7-9157-7ec3a8c0d9f5"
      },
      "outputs": [
        {
          "data": {
            "text/plain": [
              "tensor([  0,   5,  10,  15,  20,  25,  30,  35,  40,  45,  50,  55,  60,  65,\n",
              "         70,  75,  80,  85,  90,  95, 100])"
            ]
          },
          "execution_count": 240,
          "metadata": {},
          "output_type": "execute_result"
        }
      ],
      "source": [
        "data = torch.arange(0,105,5)\n",
        "# When datatype is not specified, it assigns Long and gives error which giving mean value.\n",
        "data"
      ]
    },
    {
      "cell_type": "code",
      "execution_count": 241,
      "metadata": {
        "colab": {
          "base_uri": "https://localhost:8080/"
        },
        "id": "awThAbR_3cxf",
        "outputId": "307b914b-b203-4582-8dcf-ee52372f8414"
      },
      "outputs": [
        {
          "name": "stdout",
          "output_type": "stream",
          "text": [
            "min tensor(0)\n",
            "max tensor(100)\n",
            "mean tensor(50.)\n",
            "median tensor(50)\n",
            "min tensor(1050)\n"
          ]
        }
      ],
      "source": [
        "print(\"min\",data.min())\n",
        "print(\"max\",data.max())\n",
        "print(\"mean\", torch.mean(data.type(torch.float32)))\n",
        "print(\"median\",data.median())\n",
        "print(\"min\",data.sum())"
      ]
    },
    {
      "cell_type": "code",
      "execution_count": 242,
      "metadata": {
        "colab": {
          "base_uri": "https://localhost:8080/"
        },
        "id": "Dshgp1hN5fv3",
        "outputId": "df1c13f4-3973-4b2e-8178-a0de4bdcf982"
      },
      "outputs": [
        {
          "data": {
            "text/plain": [
              "tensor(50.)"
            ]
          },
          "execution_count": 242,
          "metadata": {},
          "output_type": "execute_result"
        }
      ],
      "source": [
        "data.type(torch.float32).mean()"
      ]
    },
    {
      "cell_type": "markdown",
      "metadata": {
        "id": "HPcjMqkO6cQn"
      },
      "source": [
        "### Finding the Positional Min and Max of Tensors"
      ]
    },
    {
      "cell_type": "code",
      "execution_count": 243,
      "metadata": {
        "colab": {
          "base_uri": "https://localhost:8080/"
        },
        "id": "DJxgPOp96jwO",
        "outputId": "8c58935f-451e-4071-9e3e-b9d91966fd02"
      },
      "outputs": [
        {
          "data": {
            "text/plain": [
              "tensor(0)"
            ]
          },
          "execution_count": 243,
          "metadata": {},
          "output_type": "execute_result"
        }
      ],
      "source": [
        "# find the position in tensor that has the minimum value with argmin() -> returns index of min value from the tensor.\n",
        "data.argmin()\n"
      ]
    },
    {
      "cell_type": "code",
      "execution_count": 244,
      "metadata": {
        "colab": {
          "base_uri": "https://localhost:8080/"
        },
        "id": "qkVA3xfB64i2",
        "outputId": "dc328f69-7178-4319-be4d-86ae69deec27"
      },
      "outputs": [
        {
          "data": {
            "text/plain": [
              "tensor(20)"
            ]
          },
          "execution_count": 244,
          "metadata": {},
          "output_type": "execute_result"
        }
      ],
      "source": [
        "# find the position in tensor that has the maxiumu value with argmax() -> returns index of max value from the tensor.\n",
        "data.argmax()\n"
      ]
    },
    {
      "cell_type": "markdown",
      "metadata": {},
      "source": [
        "### Reshaping, Viewing and stacking tensors\n",
        "- Reshaping - reshapes an input tensor to a defined shape\n",
        "- View - Return a view of an input tensor of certain shapes but keep the same memory as the original tensor\n",
        "- Stacking - Combine multiple tensors on top of each other (vstack) or side by side (hstack)\n",
        "- Squeeze - remove all `1` dimension from a tensor\n",
        "- Unsqueeze - add a `1` dimension to a target tensor\n",
        "- Permute - Return a view of the input with dimensions permuted (swapped) into a certain way"
      ]
    },
    {
      "cell_type": "code",
      "execution_count": 245,
      "metadata": {},
      "outputs": [
        {
          "data": {
            "text/plain": [
              "(tensor([ 1,  2,  3,  4,  5,  6,  7,  8,  9, 10]), torch.Size([10]))"
            ]
          },
          "execution_count": 245,
          "metadata": {},
          "output_type": "execute_result"
        }
      ],
      "source": [
        "#Let's create a tensor\n",
        "x = torch.arange(1,11)\n",
        "x, x.shape"
      ]
    },
    {
      "cell_type": "code",
      "execution_count": 246,
      "metadata": {},
      "outputs": [
        {
          "ename": "RuntimeError",
          "evalue": "shape '[1, 5]' is invalid for input of size 10",
          "output_type": "error",
          "traceback": [
            "\u001b[1;31m---------------------------------------------------------------------------\u001b[0m",
            "\u001b[1;31mRuntimeError\u001b[0m                              Traceback (most recent call last)",
            "Cell \u001b[1;32mIn[246], line 2\u001b[0m\n\u001b[0;32m      1\u001b[0m \u001b[38;5;66;03m# Add an extra dimension\u001b[39;00m\n\u001b[1;32m----> 2\u001b[0m x_reshaped \u001b[38;5;241m=\u001b[39m \u001b[43mx\u001b[49m\u001b[38;5;241;43m.\u001b[39;49m\u001b[43mreshape\u001b[49m\u001b[43m(\u001b[49m\u001b[38;5;241;43m1\u001b[39;49m\u001b[43m,\u001b[49m\u001b[38;5;241;43m5\u001b[39;49m\u001b[43m)\u001b[49m\n",
            "\u001b[1;31mRuntimeError\u001b[0m: shape '[1, 5]' is invalid for input of size 10"
          ]
        }
      ],
      "source": [
        "# Add an extra dimension\n",
        "x_reshaped = x.reshape(1,5)"
      ]
    },
    {
      "cell_type": "code",
      "execution_count": null,
      "metadata": {},
      "outputs": [
        {
          "data": {
            "text/plain": [
              "tensor([[ 5,  2,  3,  4,  5,  6,  7,  8,  9, 10]])"
            ]
          },
          "execution_count": 73,
          "metadata": {},
          "output_type": "execute_result"
        }
      ],
      "source": [
        "x_reshaped = x.reshape(1,10)\n",
        "x_reshaped"
      ]
    },
    {
      "cell_type": "code",
      "execution_count": 247,
      "metadata": {},
      "outputs": [
        {
          "data": {
            "text/plain": [
              "(tensor([[ 1,  2,  3,  4,  5,  6,  7,  8,  9, 10]]), torch.Size([1, 10]))"
            ]
          },
          "execution_count": 247,
          "metadata": {},
          "output_type": "execute_result"
        }
      ],
      "source": [
        "# change the view\n",
        "z = x.view(1,10)\n",
        "z,z.shape"
      ]
    },
    {
      "cell_type": "code",
      "execution_count": 248,
      "metadata": {},
      "outputs": [
        {
          "data": {
            "text/plain": [
              "(tensor([[ 5,  2,  3,  4,  5,  6,  7,  8,  9, 10]]),\n",
              " tensor([ 5,  2,  3,  4,  5,  6,  7,  8,  9, 10]))"
            ]
          },
          "execution_count": 248,
          "metadata": {},
          "output_type": "execute_result"
        }
      ],
      "source": [
        "# Changing z changes x (because a view of tensor shares the same memory as the original input)\n",
        "z[:,0] =5\n",
        "z,x"
      ]
    },
    {
      "cell_type": "code",
      "execution_count": 249,
      "metadata": {},
      "outputs": [
        {
          "data": {
            "text/plain": [
              "tensor([[ 5,  5,  5,  5],\n",
              "        [ 2,  2,  2,  2],\n",
              "        [ 3,  3,  3,  3],\n",
              "        [ 4,  4,  4,  4],\n",
              "        [ 5,  5,  5,  5],\n",
              "        [ 6,  6,  6,  6],\n",
              "        [ 7,  7,  7,  7],\n",
              "        [ 8,  8,  8,  8],\n",
              "        [ 9,  9,  9,  9],\n",
              "        [10, 10, 10, 10]])"
            ]
          },
          "execution_count": 249,
          "metadata": {},
          "output_type": "execute_result"
        }
      ],
      "source": [
        "# Stack tensors on top of each other\n",
        "# x_stacked = torch.stack([x,x,x,x], dim=2)\n",
        "x_stacked = torch.stack([x,x,x,x], dim=1)\n",
        "x_stacked"
      ]
    },
    {
      "cell_type": "code",
      "execution_count": 250,
      "metadata": {},
      "outputs": [
        {
          "data": {
            "text/plain": [
              "(tensor([1, 2, 3, 4, 5, 6, 7, 8, 9]), torch.Size([9]))"
            ]
          },
          "execution_count": 250,
          "metadata": {},
          "output_type": "execute_result"
        }
      ],
      "source": [
        "a = torch.arange(1,10)\n",
        "a, a.shape"
      ]
    },
    {
      "cell_type": "code",
      "execution_count": 251,
      "metadata": {},
      "outputs": [
        {
          "data": {
            "text/plain": [
              "(tensor([[1, 2, 3, 4, 5, 6, 7, 8, 9]]), torch.Size([1, 9]))"
            ]
          },
          "execution_count": 251,
          "metadata": {},
          "output_type": "execute_result"
        }
      ],
      "source": [
        "a = a.reshape(1,9)\n",
        "a, a.shape"
      ]
    },
    {
      "cell_type": "code",
      "execution_count": 252,
      "metadata": {},
      "outputs": [],
      "source": [
        "# torch.squeeze() -> removes all single dimensions from a target tensor"
      ]
    },
    {
      "cell_type": "code",
      "execution_count": 253,
      "metadata": {},
      "outputs": [
        {
          "name": "stdout",
          "output_type": "stream",
          "text": [
            "Previous tensor: tensor([[1, 2, 3, 4, 5, 6, 7, 8, 9]])\n",
            "Previous shape: torch.Size([1, 9])\n",
            "\n",
            "New tensor: tensor([1, 2, 3, 4, 5, 6, 7, 8, 9])\n",
            "New shape: torch.Size([9])\n"
          ]
        }
      ],
      "source": [
        "print(f\"Previous tensor: {a}\")\n",
        "print(f\"Previous shape: {a.shape}\")\n",
        "print(\"\")\n",
        "a_squeezed = a.squeeze()\n",
        "print(f\"New tensor: {a_squeezed}\")\n",
        "print(f\"New shape: {a_squeezed.shape}\")"
      ]
    },
    {
      "cell_type": "code",
      "execution_count": 254,
      "metadata": {},
      "outputs": [
        {
          "name": "stdout",
          "output_type": "stream",
          "text": [
            "Previous tensor: tensor([1, 2, 3, 4, 5, 6, 7, 8, 9])\n",
            "Previous shape: torch.Size([9])\n",
            "\n",
            "New tensor: tensor([[1, 2, 3, 4, 5, 6, 7, 8, 9]])\n",
            "New shape: torch.Size([1, 9])\n"
          ]
        }
      ],
      "source": [
        "# torch.unsqueeze() - adds a single dimension a target at a specific dim (dimension)\n",
        "a_unsqueeze = a_squeezed.unsqueeze(dim=0)\n",
        "\n",
        "print(f\"Previous tensor: {a_squeezed}\")\n",
        "print(f\"Previous shape: {a_squeezed.shape}\")\n",
        "print(\"\")\n",
        "print(f\"New tensor: {a_unsqueeze}\")\n",
        "print(f\"New shape: {a_unsqueeze.shape}\")"
      ]
    },
    {
      "cell_type": "code",
      "execution_count": 255,
      "metadata": {},
      "outputs": [
        {
          "name": "stdout",
          "output_type": "stream",
          "text": [
            "Previous tensor shape: torch.Size([224, 224, 3])\n",
            "New tensor shape: torch.Size([3, 224, 224])\n"
          ]
        }
      ],
      "source": [
        "### torch.permute - rearrange the dimension of tensor in a specific order\n",
        "x_original = torch.rand(size=(224,224,3)) # [height, width, colour_channels]\n",
        "\n",
        "# permute the original tensor to rerrange the axis (or dim) order\n",
        "x_permuted = x_original.permute(2,0,1) # shifts axis 0->2, 1->0 and 2->1\n",
        "\n",
        "# print(f\"Previous tensor: {x_original}\")\n",
        "print(f\"Previous tensor shape: {x_original.shape}\")\n",
        "\n",
        "# print(f\"\\nNew tensor: {x_permuted}\")\n",
        "print(f\"New tensor shape: {x_permuted.shape}\")"
      ]
    },
    {
      "cell_type": "markdown",
      "metadata": {},
      "source": [
        "### Selecting data from the tensor (Indexing)\n",
        "\n",
        "indexing with pyTorch is similar to indexing with Numpy."
      ]
    },
    {
      "cell_type": "code",
      "execution_count": 256,
      "metadata": {},
      "outputs": [
        {
          "data": {
            "text/plain": [
              "(tensor([[[  1,   2,   3,   4,   5],\n",
              "          [  6,   7,   8,   9,  10],\n",
              "          [ 11,  12,  13,  14,  15],\n",
              "          [ 16,  17,  18,  19,  20],\n",
              "          [ 21,  22,  23,  24,  25]],\n",
              " \n",
              "         [[ 26,  27,  28,  29,  30],\n",
              "          [ 31,  32,  33,  34,  35],\n",
              "          [ 36,  37,  38,  39,  40],\n",
              "          [ 41,  42,  43,  44,  45],\n",
              "          [ 46,  47,  48,  49,  50]],\n",
              " \n",
              "         [[ 51,  52,  53,  54,  55],\n",
              "          [ 56,  57,  58,  59,  60],\n",
              "          [ 61,  62,  63,  64,  65],\n",
              "          [ 66,  67,  68,  69,  70],\n",
              "          [ 71,  72,  73,  74,  75]],\n",
              " \n",
              "         [[ 76,  77,  78,  79,  80],\n",
              "          [ 81,  82,  83,  84,  85],\n",
              "          [ 86,  87,  88,  89,  90],\n",
              "          [ 91,  92,  93,  94,  95],\n",
              "          [ 96,  97,  98,  99, 100]],\n",
              " \n",
              "         [[101, 102, 103, 104, 105],\n",
              "          [106, 107, 108, 109, 110],\n",
              "          [111, 112, 113, 114, 115],\n",
              "          [116, 117, 118, 119, 120],\n",
              "          [121, 122, 123, 124, 125]]]),\n",
              " torch.Size([5, 5, 5]))"
            ]
          },
          "execution_count": 256,
          "metadata": {},
          "output_type": "execute_result"
        }
      ],
      "source": [
        "x = torch.arange(1,126).reshape(5,5,5)\n",
        "x,x.shape"
      ]
    },
    {
      "cell_type": "code",
      "execution_count": 257,
      "metadata": {},
      "outputs": [
        {
          "data": {
            "text/plain": [
              "tensor(8)"
            ]
          },
          "execution_count": 257,
          "metadata": {},
          "output_type": "execute_result"
        }
      ],
      "source": [
        "x[0,1,2]"
      ]
    },
    {
      "cell_type": "code",
      "execution_count": 258,
      "metadata": {},
      "outputs": [
        {
          "name": "stdout",
          "output_type": "stream",
          "text": [
            "tensor([[2, 5, 8]])\n",
            "tensor([5])\n",
            "tensor([1, 2, 3])\n",
            "tensor(9)\n",
            "tensor([3, 6, 9])\n"
          ]
        }
      ],
      "source": [
        "y = torch.arange(1,10).reshape(1,3,3)\n",
        "\n",
        "# Get all values of  0th and 1st dimensions but only index 1 and 2nd dimension\n",
        "print(y[:, :,1])\n",
        "\n",
        "# Get all values of the 0 dimension but only the 1 index value of 1st and 2nd dimension\n",
        "print(y[:,1,1])\n",
        "\n",
        "# Get index 0 of 0th and last dimension and all values of 2nd dimension\n",
        "print(y[0,0,:])\n",
        "\n",
        "#index on y to return 9\n",
        "print(y[0,2,2])\n",
        "\n",
        "# index on y to return 3,6,9\n",
        "print(y[0,:,2])"
      ]
    },
    {
      "cell_type": "markdown",
      "metadata": {},
      "source": [
        "### PyTorch tensor and Numpy\n",
        "Numpy is a popular scientific python numerical library and because of this, PyTorch has functionality to interact with it. \n",
        "- Data in numpy, want in PyTorch tensor -> `torch.from_numpy(ndarray)`\n",
        "- PyTorch tensor -> Numpy -> `torch.Tensor.numpy()`\n",
        "\n",
        "\n",
        "- By default numpy array creates an array of `float64` whereas tensor creates a tensor of `torch.float32`\n",
        "\n",
        "- you can use `tensor.type()` method to change the datatype."
      ]
    },
    {
      "cell_type": "code",
      "execution_count": 259,
      "metadata": {},
      "outputs": [
        {
          "data": {
            "text/plain": [
              "(dtype('float64'), torch.float64)"
            ]
          },
          "execution_count": 259,
          "metadata": {},
          "output_type": "execute_result"
        }
      ],
      "source": [
        "# Numpy array to tensor\n",
        "import numpy as np\n",
        "\n",
        "array = np.arange(1.0,10.0)\n",
        "# tensor =torch.arange(1.0,10.0)\n",
        "tensor = torch.from_numpy(array)\n",
        "array.dtype, tensor.dtype\n",
        "\n",
        "#Warning: when converting from numpy -> pytorch, pytorch reflects numpy's default datatype of float 64 unless specified otherwise"
      ]
    },
    {
      "cell_type": "code",
      "execution_count": 260,
      "metadata": {},
      "outputs": [
        {
          "data": {
            "text/plain": [
              "(array([ 2.,  3.,  4.,  5.,  6.,  7.,  8.,  9., 10.]),\n",
              " tensor([1., 2., 3., 4., 5., 6., 7., 8., 9.], dtype=torch.float64))"
            ]
          },
          "execution_count": 260,
          "metadata": {},
          "output_type": "execute_result"
        }
      ],
      "source": [
        "# Change the value of array, what will this do to `tensor` ?\n",
        "# Ans -> No, It won't change tensor.\n",
        "array = array+1\n",
        "array,tensor"
      ]
    },
    {
      "cell_type": "code",
      "execution_count": 261,
      "metadata": {},
      "outputs": [
        {
          "data": {
            "text/plain": [
              "(tensor([1., 1., 1., 1., 1., 1., 1.]),\n",
              " torch.float32,\n",
              " array([1., 1., 1., 1., 1., 1., 1.], dtype=float32),\n",
              " dtype('float32'))"
            ]
          },
          "execution_count": 261,
          "metadata": {},
          "output_type": "execute_result"
        }
      ],
      "source": [
        "# Tensor to Numpy array\n",
        "tensor = torch.ones(7)\n",
        "numpy_tensor = tensor.numpy()\n",
        "tensor,tensor.dtype, numpy_tensor, numpy_tensor.dtype\n"
      ]
    },
    {
      "cell_type": "code",
      "execution_count": 262,
      "metadata": {},
      "outputs": [
        {
          "data": {
            "text/plain": [
              "(tensor([2., 2., 2., 2., 2., 2., 2.]),\n",
              " array([1., 1., 1., 1., 1., 1., 1.], dtype=float32))"
            ]
          },
          "execution_count": 262,
          "metadata": {},
          "output_type": "execute_result"
        }
      ],
      "source": [
        "tensor = tensor+1\n",
        "tensor,numpy_tensor"
      ]
    },
    {
      "cell_type": "markdown",
      "metadata": {},
      "source": [
        "### PyTorch REPRODUCIBILITY (taking the random out of random)\n",
        "\n",
        "In short how a neural network learns:\n",
        "\n",
        "`start with random numbers -> tensor operations -> update random numbers to try and make them better representations of the data -> again -> again -> again ....`\n",
        "\n",
        "To reduce the randomness in neural network and PyTorch comes the concept of **random seed.**\n",
        "Essentially what the random seed does is `flavour` the randomness."
      ]
    },
    {
      "cell_type": "code",
      "execution_count": 263,
      "metadata": {},
      "outputs": [],
      "source": [
        "RANDOM_SEED = 42"
      ]
    },
    {
      "cell_type": "code",
      "execution_count": 264,
      "metadata": {},
      "outputs": [
        {
          "name": "stdout",
          "output_type": "stream",
          "text": [
            "tensor([[0.8823, 0.9150, 0.3829, 0.9593],\n",
            "        [0.3904, 0.6009, 0.2566, 0.7936],\n",
            "        [0.9408, 0.1332, 0.9346, 0.5936]])\n",
            "tensor([[0.8823, 0.9150, 0.3829, 0.9593],\n",
            "        [0.3904, 0.6009, 0.2566, 0.7936],\n",
            "        [0.9408, 0.1332, 0.9346, 0.5936]])\n",
            "tensor([[True, True, True, True],\n",
            "        [True, True, True, True],\n",
            "        [True, True, True, True]])\n"
          ]
        }
      ],
      "source": [
        "torch.manual_seed(RANDOM_SEED)\n",
        "random_tensor_A = torch.rand(3,4)\n",
        "torch.manual_seed(RANDOM_SEED)\n",
        "random_tensor_B = torch.rand(3,4)\n",
        "\n",
        "print(random_tensor_A)\n",
        "print(random_tensor_B)\n",
        "print(random_tensor_A == random_tensor_B)"
      ]
    },
    {
      "cell_type": "markdown",
      "metadata": {},
      "source": [
        "### Runing tensors and pyTorch objects on the GPUs (and making faster computations)\n",
        "\n",
        "GPU = faster computation on numbers, thanks to CUDA + Nvidia hardware + PyTorch working behind the scenes top make everything good.\n",
        "\n",
        "### 1. Getting CPU\n",
        "\n",
        "1. Easiest - Use Google Colab for free GPU (options to upgrade as well)\n",
        "2. Use your own GPU - takes a little bit of setup and require he investment of purchasing a GPU, theres lot of options...\n",
        "3. Use cloud computing - GCP, AWS, Azure, these services allows you to rent computers on the cloud and access them.\n",
        "\n",
        "For 2,3 Pytorch +GPU drivers (CUDA) takes a little bit of setting up, to do this, refer to PyTorch setup documentation."
      ]
    },
    {
      "cell_type": "markdown",
      "metadata": {},
      "source": [
        "### 2. Check for GPU access with PyTorch"
      ]
    },
    {
      "cell_type": "code",
      "execution_count": 265,
      "metadata": {},
      "outputs": [
        {
          "data": {
            "text/plain": [
              "False"
            ]
          },
          "execution_count": 265,
          "metadata": {},
          "output_type": "execute_result"
        }
      ],
      "source": [
        "torch.cuda.is_available()"
      ]
    },
    {
      "cell_type": "code",
      "execution_count": 266,
      "metadata": {},
      "outputs": [
        {
          "data": {
            "text/plain": [
              "'cpu'"
            ]
          },
          "execution_count": 266,
          "metadata": {},
          "output_type": "execute_result"
        }
      ],
      "source": [
        "# Setup device agnostic code\n",
        "device = \"cuda\" if torch.cuda.is_available() else \"cpu\"\n",
        "device"
      ]
    },
    {
      "cell_type": "code",
      "execution_count": 267,
      "metadata": {},
      "outputs": [
        {
          "data": {
            "text/plain": [
              "0"
            ]
          },
          "execution_count": 267,
          "metadata": {},
          "output_type": "execute_result"
        }
      ],
      "source": [
        "# count number of devices\n",
        "torch.cuda.device_count()"
      ]
    },
    {
      "cell_type": "markdown",
      "metadata": {},
      "source": [
        "For PyTorch since it's capable of running compute on the GPU or CPU, it's best practice to setup device agnostic code: https://pytorch.org/docs/stable/notes/cuda.html#best-practices\n",
        "\n",
        "E.g. run on \"gpu\" if available, else default to \"cpu\""
      ]
    },
    {
      "cell_type": "markdown",
      "metadata": {},
      "source": [
        "### 3. Putting tensors (and models) on GPU\n",
        "the reason we want our tensors/models on GPU is because using a GPU results in faster computations."
      ]
    },
    {
      "cell_type": "code",
      "execution_count": 268,
      "metadata": {},
      "outputs": [
        {
          "name": "stdout",
          "output_type": "stream",
          "text": [
            "tensor([1, 2, 3]) cpu\n"
          ]
        }
      ],
      "source": [
        "# create a tensor (default on the CPU)\n",
        "tensor = torch.tensor([1,2,3])\n",
        "\n",
        "# tensor not on GPU\n",
        "print(tensor, tensor.device)"
      ]
    },
    {
      "cell_type": "code",
      "execution_count": 269,
      "metadata": {},
      "outputs": [
        {
          "data": {
            "text/plain": [
              "tensor([1, 2, 3])"
            ]
          },
          "execution_count": 269,
          "metadata": {},
          "output_type": "execute_result"
        }
      ],
      "source": [
        "#Move tensor to GPU (if available)\n",
        "tensor_on_gpu = tensor.to(device)\n",
        "tensor_on_gpu"
      ]
    },
    {
      "cell_type": "markdown",
      "metadata": {},
      "source": [
        "### Moving tensors back to the CPU\n",
        "- if tensor is on the GPU, can't transform it to Numpy\n",
        "`tensor_on_gpu.numpy()`\n",
        "- this is working because my device is \"cpu\" not \"gpu\", otherwise it would give an error."
      ]
    },
    {
      "cell_type": "code",
      "execution_count": 270,
      "metadata": {},
      "outputs": [
        {
          "data": {
            "text/plain": [
              "array([1, 2, 3])"
            ]
          },
          "execution_count": 270,
          "metadata": {},
          "output_type": "execute_result"
        }
      ],
      "source": [
        "# To fix the GPU tensor with Numpy issue, we can first set it to the CPU\n",
        "tensor_back_on_gpu =  tensor_on_gpu.cpu().numpy()\n",
        "tensor_back_on_gpu"
      ]
    },
    {
      "cell_type": "markdown",
      "metadata": {},
      "source": [
        "### PyTorch Fundamentals: (Exercise and Extra Curriculam)\n",
        "See exercies for this notebook here: https://www.learnpytorch.io/00_pytorch_fundamentals/#exercise"
      ]
    }
  ],
  "metadata": {
    "colab": {
      "provenance": [],
      "toc_visible": true
    },
    "kernelspec": {
      "display_name": "Python 3",
      "name": "python3"
    },
    "language_info": {
      "codemirror_mode": {
        "name": "ipython",
        "version": 3
      },
      "file_extension": ".py",
      "mimetype": "text/x-python",
      "name": "python",
      "nbconvert_exporter": "python",
      "pygments_lexer": "ipython3",
      "version": "3.10.0"
    }
  },
  "nbformat": 4,
  "nbformat_minor": 0
}

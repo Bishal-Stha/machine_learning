{
 "cells": [
  {
   "cell_type": "markdown",
   "metadata": {},
   "source": [
    "![image](https://www.odinschool.com/hs-fs/hubfs/OdinSchool_V3/Blog%20Images/Inside%20Images/64%20a.webp?width=649&height=649&name=64%20a.webp)"
   ]
  },
  {
   "cell_type": "markdown",
   "metadata": {},
   "source": [
    "![image](https://www.researchgate.net/publication/350296216/figure/fig2/AS:11431281115859663@1675133526153/Reflection-of-the-development-history-of-AI.png)"
   ]
  },
  {
   "cell_type": "markdown",
   "metadata": {},
   "source": [
    "## Bad Data\n",
    "\n",
    "- Duplicate Data\n",
    "- Missing/Incomplete Data\n",
    "- Inaccurate Data\n",
    "- Inconsistent Data"
   ]
  },
  {
   "cell_type": "markdown",
   "metadata": {},
   "source": [
    "## Quality Data\n",
    "\n",
    "- Accurate \n",
    "- Compelete\n",
    "- Consitent\n",
    "- Timely\n",
    "- Reliable\n",
    "- Valueable\n",
    "- Interpretable"
   ]
  },
  {
   "cell_type": "markdown",
   "metadata": {},
   "source": [
    "## Stroke Prediction Dataset\n",
    "\n",
    "**Business Problem Understanding**\n",
    "\n",
    "- According to the World Health Organization (WHO) stroke is the 2nd leading cause of death globally, responsible for approximately 11% of total deaths.\n",
    "\n",
    "- This dataset is used to predict whether a patient is likely to get stroke based on the input parameters like gender, age, various diseases, and smoking status.\n",
    "\n",
    "- Each row in the data provides relavant information about the patient.\n",
    "\n",
    "**Attribute Information**\n",
    "- 1) id: unique identifier\n",
    "- 2) gender: \"Male\", \"Female\" or \"Other\"\n",
    "- 3) age: age of the patient\n",
    "- 4) hypertension: 0 if the patient doesn't have hypertension, 1 if the patient has hypertension\n",
    "- 5) heart_disease: 0 if the patient doesn't have any heart diseases, 1 if the patient has a heart disease\n",
    "- 6) ever_married: \"No\" or \"Yes\"\n",
    "- 7) work_type: \"children\", \"Govt_jov\", \"Never_worked\", \"Private\" or \"Self-employed\"\n",
    "- 8) Residence_type: \"Rural\" or \"Urban\"\n",
    "- 9) avg_glucose_level: average glucose level in blood\n",
    "- 10) bmi: body mass index\n",
    "- 11) smoking_status: \"formerly smoked\", \"never smoked\", \"smokes\" or \"Unknown\"*\n",
    "- 12) stroke: 1 if the patient had a stroke or 0 if not\n",
    "\n",
    "*Note: \"Unknown\" in smoking_status means that the information is unavailable for this patient"
   ]
  },
  {
   "cell_type": "markdown",
   "metadata": {},
   "source": [
    "## Download Dataset\n",
    "\n",
    "Link -> https://drive.google.com/file/d/1-m7xw8D4ZpPQN6V0ae0O2zpXlsWPe4JB/view?usp=sharing"
   ]
  },
  {
   "cell_type": "markdown",
   "metadata": {},
   "source": [
    "## Important Libraries\n",
    "\n",
    "- **NumPy**: A library for efficient numerical computations, primarily used for working with arrays and performing mathematical operations.\n",
    "- **Pandas**: A library for data manipulation and analysis, offering powerful tools like DataFrames for structured data handling.\n",
    "- **Seaborn**: A statistical data visualization library built on Matplotlib, providing attractive and informative plots with ease.\n",
    "- **Matplotlib**: A comprehensive library for creating static, interactive, and animated visualizations in Python."
   ]
  },
  {
   "cell_type": "code",
   "execution_count": 1,
   "metadata": {},
   "outputs": [],
   "source": [
    "# Import your libraries\n",
    "import numpy as np # type: ignore\n",
    "import pandas as pd\n",
    "import seaborn as scn # type: ignore\n",
    "import matplotlib.pyplot as plt # type: ignore"
   ]
  },
  {
   "cell_type": "markdown",
   "metadata": {},
   "source": [
    "### Importing Data from CSV Using Pandas"
   ]
  },
  {
   "cell_type": "code",
   "execution_count": 2,
   "metadata": {},
   "outputs": [],
   "source": [
    "# Import your csv file here \n",
    "df = pd.read_csv(\"stroke_data.csv\")"
   ]
  },
  {
   "cell_type": "markdown",
   "metadata": {},
   "source": [
    "### Data Understanding/Profiling"
   ]
  },
  {
   "cell_type": "markdown",
   "metadata": {},
   "source": [
    "**Print first 5 row of the pandas dataframe**"
   ]
  },
  {
   "cell_type": "code",
   "execution_count": 3,
   "metadata": {},
   "outputs": [
    {
     "data": {
      "text/html": [
       "<div>\n",
       "<style scoped>\n",
       "    .dataframe tbody tr th:only-of-type {\n",
       "        vertical-align: middle;\n",
       "    }\n",
       "\n",
       "    .dataframe tbody tr th {\n",
       "        vertical-align: top;\n",
       "    }\n",
       "\n",
       "    .dataframe thead th {\n",
       "        text-align: right;\n",
       "    }\n",
       "</style>\n",
       "<table border=\"1\" class=\"dataframe\">\n",
       "  <thead>\n",
       "    <tr style=\"text-align: right;\">\n",
       "      <th></th>\n",
       "      <th>id</th>\n",
       "      <th>gender</th>\n",
       "      <th>age</th>\n",
       "      <th>height_in_m</th>\n",
       "      <th>weight_in_kg</th>\n",
       "      <th>avg_glucose_level</th>\n",
       "      <th>bmi</th>\n",
       "      <th>smoking_status</th>\n",
       "      <th>hypertension</th>\n",
       "      <th>heart_disease</th>\n",
       "      <th>ever_married</th>\n",
       "      <th>work_type</th>\n",
       "      <th>Residence_type</th>\n",
       "      <th>stroke</th>\n",
       "    </tr>\n",
       "  </thead>\n",
       "  <tbody>\n",
       "    <tr>\n",
       "      <th>0</th>\n",
       "      <td>9046</td>\n",
       "      <td>Male</td>\n",
       "      <td>67.0</td>\n",
       "      <td>1.82880</td>\n",
       "      <td>122.409046</td>\n",
       "      <td>169.35</td>\n",
       "      <td>36.6</td>\n",
       "      <td>formerly smoked</td>\n",
       "      <td>0</td>\n",
       "      <td>1</td>\n",
       "      <td>Yes</td>\n",
       "      <td>Private</td>\n",
       "      <td>Urban</td>\n",
       "      <td>1</td>\n",
       "    </tr>\n",
       "    <tr>\n",
       "      <th>1</th>\n",
       "      <td>51676</td>\n",
       "      <td>Female</td>\n",
       "      <td>61.0</td>\n",
       "      <td>1.64592</td>\n",
       "      <td>NaN</td>\n",
       "      <td>169.35</td>\n",
       "      <td>NaN</td>\n",
       "      <td>never smoked</td>\n",
       "      <td>0</td>\n",
       "      <td>0</td>\n",
       "      <td>Yes</td>\n",
       "      <td>Self-employed</td>\n",
       "      <td>Rural</td>\n",
       "      <td>1</td>\n",
       "    </tr>\n",
       "    <tr>\n",
       "      <th>2</th>\n",
       "      <td>31112</td>\n",
       "      <td>Male</td>\n",
       "      <td>80.0</td>\n",
       "      <td>1.79832</td>\n",
       "      <td>105.103532</td>\n",
       "      <td>105.92</td>\n",
       "      <td>32.5</td>\n",
       "      <td>never smoked</td>\n",
       "      <td>0</td>\n",
       "      <td>1</td>\n",
       "      <td>Yes</td>\n",
       "      <td>Private</td>\n",
       "      <td>Rural</td>\n",
       "      <td>1</td>\n",
       "    </tr>\n",
       "    <tr>\n",
       "      <th>3</th>\n",
       "      <td>60182</td>\n",
       "      <td>Female</td>\n",
       "      <td>49.0</td>\n",
       "      <td>1.92024</td>\n",
       "      <td>126.843865</td>\n",
       "      <td>169.35</td>\n",
       "      <td>34.4</td>\n",
       "      <td>smokes</td>\n",
       "      <td>0</td>\n",
       "      <td>0</td>\n",
       "      <td>Yes</td>\n",
       "      <td>Private</td>\n",
       "      <td>Urban</td>\n",
       "      <td>1</td>\n",
       "    </tr>\n",
       "    <tr>\n",
       "      <th>4</th>\n",
       "      <td>1665</td>\n",
       "      <td>female</td>\n",
       "      <td>79.0</td>\n",
       "      <td>1.85928</td>\n",
       "      <td>82.966131</td>\n",
       "      <td>169.35</td>\n",
       "      <td>24.0</td>\n",
       "      <td>never smoked</td>\n",
       "      <td>1</td>\n",
       "      <td>0</td>\n",
       "      <td>Yes</td>\n",
       "      <td>Self-employed</td>\n",
       "      <td>Rural</td>\n",
       "      <td>1</td>\n",
       "    </tr>\n",
       "  </tbody>\n",
       "</table>\n",
       "</div>"
      ],
      "text/plain": [
       "      id  gender   age  height_in_m  weight_in_kg  avg_glucose_level   bmi  \\\n",
       "0   9046    Male  67.0      1.82880    122.409046             169.35  36.6   \n",
       "1  51676  Female  61.0      1.64592           NaN             169.35   NaN   \n",
       "2  31112    Male  80.0      1.79832    105.103532             105.92  32.5   \n",
       "3  60182  Female  49.0      1.92024    126.843865             169.35  34.4   \n",
       "4   1665  female  79.0      1.85928     82.966131             169.35  24.0   \n",
       "\n",
       "    smoking_status  hypertension  heart_disease ever_married      work_type  \\\n",
       "0  formerly smoked             0              1          Yes        Private   \n",
       "1     never smoked             0              0          Yes  Self-employed   \n",
       "2     never smoked             0              1          Yes        Private   \n",
       "3           smokes             0              0          Yes        Private   \n",
       "4     never smoked             1              0          Yes  Self-employed   \n",
       "\n",
       "  Residence_type  stroke  \n",
       "0          Urban       1  \n",
       "1          Rural       1  \n",
       "2          Rural       1  \n",
       "3          Urban       1  \n",
       "4          Rural       1  "
      ]
     },
     "execution_count": 3,
     "metadata": {},
     "output_type": "execute_result"
    }
   ],
   "source": [
    "# Code to print first 5 row\n",
    "df.head()"
   ]
  },
  {
   "cell_type": "markdown",
   "metadata": {},
   "source": [
    "**Print the last 5 row of the pandas dataframe**"
   ]
  },
  {
   "cell_type": "code",
   "execution_count": 4,
   "metadata": {},
   "outputs": [
    {
     "data": {
      "text/html": [
       "<div>\n",
       "<style scoped>\n",
       "    .dataframe tbody tr th:only-of-type {\n",
       "        vertical-align: middle;\n",
       "    }\n",
       "\n",
       "    .dataframe tbody tr th {\n",
       "        vertical-align: top;\n",
       "    }\n",
       "\n",
       "    .dataframe thead th {\n",
       "        text-align: right;\n",
       "    }\n",
       "</style>\n",
       "<table border=\"1\" class=\"dataframe\">\n",
       "  <thead>\n",
       "    <tr style=\"text-align: right;\">\n",
       "      <th></th>\n",
       "      <th>id</th>\n",
       "      <th>gender</th>\n",
       "      <th>age</th>\n",
       "      <th>height_in_m</th>\n",
       "      <th>weight_in_kg</th>\n",
       "      <th>avg_glucose_level</th>\n",
       "      <th>bmi</th>\n",
       "      <th>smoking_status</th>\n",
       "      <th>hypertension</th>\n",
       "      <th>heart_disease</th>\n",
       "      <th>ever_married</th>\n",
       "      <th>work_type</th>\n",
       "      <th>Residence_type</th>\n",
       "      <th>stroke</th>\n",
       "    </tr>\n",
       "  </thead>\n",
       "  <tbody>\n",
       "    <tr>\n",
       "      <th>5130</th>\n",
       "      <td>46373</td>\n",
       "      <td>Female</td>\n",
       "      <td>57.0</td>\n",
       "      <td>1.67640</td>\n",
       "      <td>72.506178</td>\n",
       "      <td>169.97</td>\n",
       "      <td>25.8</td>\n",
       "      <td>never smoked</td>\n",
       "      <td>0</td>\n",
       "      <td>0</td>\n",
       "      <td>Yes</td>\n",
       "      <td>Private</td>\n",
       "      <td>Rural</td>\n",
       "      <td>0</td>\n",
       "    </tr>\n",
       "    <tr>\n",
       "      <th>5131</th>\n",
       "      <td>40112</td>\n",
       "      <td>Female</td>\n",
       "      <td>37.0</td>\n",
       "      <td>1.92024</td>\n",
       "      <td>92.551774</td>\n",
       "      <td>118.41</td>\n",
       "      <td>25.1</td>\n",
       "      <td>never smoked</td>\n",
       "      <td>0</td>\n",
       "      <td>0</td>\n",
       "      <td>No</td>\n",
       "      <td>Private</td>\n",
       "      <td>Urban</td>\n",
       "      <td>0</td>\n",
       "    </tr>\n",
       "    <tr>\n",
       "      <th>5132</th>\n",
       "      <td>32240</td>\n",
       "      <td>Female</td>\n",
       "      <td>27.0</td>\n",
       "      <td>1.82880</td>\n",
       "      <td>139.131593</td>\n",
       "      <td>93.55</td>\n",
       "      <td>41.6</td>\n",
       "      <td>never smoked</td>\n",
       "      <td>0</td>\n",
       "      <td>0</td>\n",
       "      <td>No</td>\n",
       "      <td>Private</td>\n",
       "      <td>Urban</td>\n",
       "      <td>0</td>\n",
       "    </tr>\n",
       "    <tr>\n",
       "      <th>5133</th>\n",
       "      <td>69312</td>\n",
       "      <td>Female</td>\n",
       "      <td>48.0</td>\n",
       "      <td>1.58496</td>\n",
       "      <td>78.377464</td>\n",
       "      <td>99.29</td>\n",
       "      <td>31.2</td>\n",
       "      <td>never smoked</td>\n",
       "      <td>0</td>\n",
       "      <td>0</td>\n",
       "      <td>Yes</td>\n",
       "      <td>Self-employed</td>\n",
       "      <td>Urban</td>\n",
       "      <td>0</td>\n",
       "    </tr>\n",
       "    <tr>\n",
       "      <th>5134</th>\n",
       "      <td>25763</td>\n",
       "      <td>Female</td>\n",
       "      <td>23.0</td>\n",
       "      <td>1.64592</td>\n",
       "      <td>76.666190</td>\n",
       "      <td>98.66</td>\n",
       "      <td>28.3</td>\n",
       "      <td>Unknown</td>\n",
       "      <td>0</td>\n",
       "      <td>0</td>\n",
       "      <td>No</td>\n",
       "      <td>Private</td>\n",
       "      <td>Urban</td>\n",
       "      <td>0</td>\n",
       "    </tr>\n",
       "  </tbody>\n",
       "</table>\n",
       "</div>"
      ],
      "text/plain": [
       "         id  gender   age  height_in_m  weight_in_kg  avg_glucose_level   bmi  \\\n",
       "5130  46373  Female  57.0      1.67640     72.506178             169.97  25.8   \n",
       "5131  40112  Female  37.0      1.92024     92.551774             118.41  25.1   \n",
       "5132  32240  Female  27.0      1.82880    139.131593              93.55  41.6   \n",
       "5133  69312  Female  48.0      1.58496     78.377464              99.29  31.2   \n",
       "5134  25763  Female  23.0      1.64592     76.666190              98.66  28.3   \n",
       "\n",
       "     smoking_status  hypertension  heart_disease ever_married      work_type  \\\n",
       "5130   never smoked             0              0          Yes        Private   \n",
       "5131   never smoked             0              0           No        Private   \n",
       "5132   never smoked             0              0           No        Private   \n",
       "5133   never smoked             0              0          Yes  Self-employed   \n",
       "5134        Unknown             0              0           No        Private   \n",
       "\n",
       "     Residence_type  stroke  \n",
       "5130          Rural       0  \n",
       "5131          Urban       0  \n",
       "5132          Urban       0  \n",
       "5133          Urban       0  \n",
       "5134          Urban       0  "
      ]
     },
     "execution_count": 4,
     "metadata": {},
     "output_type": "execute_result"
    }
   ],
   "source": [
    "# Code to print 5 row of pandas dataframe\n",
    "df.tail()"
   ]
  },
  {
   "cell_type": "markdown",
   "metadata": {},
   "source": [
    "**Shape of the Dataset**"
   ]
  },
  {
   "cell_type": "code",
   "execution_count": 5,
   "metadata": {},
   "outputs": [
    {
     "data": {
      "text/plain": [
       "(5135, 14)"
      ]
     },
     "execution_count": 5,
     "metadata": {},
     "output_type": "execute_result"
    }
   ],
   "source": [
    "# Code to find shape of Dataset\n",
    "df.shape"
   ]
  },
  {
   "cell_type": "markdown",
   "metadata": {},
   "source": [
    "**Name of the columns in Dataframe**"
   ]
  },
  {
   "cell_type": "code",
   "execution_count": 6,
   "metadata": {},
   "outputs": [
    {
     "data": {
      "text/plain": [
       "Index(['id', 'gender', 'age', 'height_in_m', 'weight_in_kg',\n",
       "       'avg_glucose_level', 'bmi', 'smoking_status', 'hypertension',\n",
       "       'heart_disease', 'ever_married', 'work_type', 'Residence_type',\n",
       "       'stroke'],\n",
       "      dtype='object')"
      ]
     },
     "execution_count": 6,
     "metadata": {},
     "output_type": "execute_result"
    }
   ],
   "source": [
    "# Code to find columns of Data\n",
    "df.columns"
   ]
  },
  {
   "cell_type": "markdown",
   "metadata": {},
   "source": [
    "### MetaData of Data"
   ]
  },
  {
   "cell_type": "markdown",
   "metadata": {},
   "source": [
    "**Datatypes of each feature in Dataset**"
   ]
  },
  {
   "cell_type": "code",
   "execution_count": 7,
   "metadata": {},
   "outputs": [
    {
     "name": "stdout",
     "output_type": "stream",
     "text": [
      "<class 'pandas.core.frame.DataFrame'>\n",
      "RangeIndex: 5135 entries, 0 to 5134\n",
      "Data columns (total 14 columns):\n",
      " #   Column             Non-Null Count  Dtype  \n",
      "---  ------             --------------  -----  \n",
      " 0   id                 5135 non-null   int64  \n",
      " 1   gender             5135 non-null   object \n",
      " 2   age                5135 non-null   float64\n",
      " 3   height_in_m        5135 non-null   float64\n",
      " 4   weight_in_kg       4934 non-null   float64\n",
      " 5   avg_glucose_level  5135 non-null   float64\n",
      " 6   bmi                4934 non-null   float64\n",
      " 7   smoking_status     5135 non-null   object \n",
      " 8   hypertension       5135 non-null   int64  \n",
      " 9   heart_disease      5135 non-null   int64  \n",
      " 10  ever_married       4933 non-null   object \n",
      " 11  work_type          5135 non-null   object \n",
      " 12  Residence_type     5135 non-null   object \n",
      " 13  stroke             5135 non-null   int64  \n",
      "dtypes: float64(5), int64(4), object(5)\n",
      "memory usage: 561.8+ KB\n"
     ]
    }
   ],
   "source": [
    "# Code to find datatypes of each feature\n",
    "df.info()\n"
   ]
  },
  {
   "cell_type": "code",
   "execution_count": 8,
   "metadata": {},
   "outputs": [
    {
     "name": "stdout",
     "output_type": "stream",
     "text": [
      "<class 'pandas.core.frame.DataFrame'>\n",
      "RangeIndex: 5135 entries, 0 to 5134\n",
      "Data columns (total 14 columns):\n",
      " #   Column             Non-Null Count  Dtype  \n",
      "---  ------             --------------  -----  \n",
      " 0   id                 5135 non-null   int64  \n",
      " 1   gender             5135 non-null   object \n",
      " 2   age                5135 non-null   float64\n",
      " 3   height_in_m        5135 non-null   float64\n",
      " 4   weight_in_kg       4934 non-null   float64\n",
      " 5   avg_glucose_level  5135 non-null   float64\n",
      " 6   bmi                4934 non-null   float64\n",
      " 7   smoking_status     5135 non-null   object \n",
      " 8   hypertension       5135 non-null   int64  \n",
      " 9   heart_disease      5135 non-null   int64  \n",
      " 10  ever_married       4933 non-null   object \n",
      " 11  work_type          5135 non-null   object \n",
      " 12  Residence_type     5135 non-null   object \n",
      " 13  stroke             5135 non-null   int64  \n",
      "dtypes: float64(5), int64(4), object(5)\n",
      "memory usage: 561.8+ KB\n"
     ]
    }
   ],
   "source": [
    "# Code here\n",
    "df.info()"
   ]
  },
  {
   "cell_type": "markdown",
   "metadata": {},
   "source": [
    "### Descriptive Statistics\n",
    "\n",
    "Descriptive statistics involve a set of summary measures that provide a snapshot of the dataset's characteristics. These measures help us understand the distribution, central tendency, and variability within the data.\n",
    "\n",
    "- Mean: The average value of the data.\n",
    "- Median: The middle value when the data is sorted.\n",
    "- Mode: The most frequently occurring value.\n",
    "- Range: The difference between the maximum and minimum values.\n",
    "- Standard Deviation: A more interpretable measure of data spread.\n",
    "These statistics provide a preliminary understanding of the dataset, which is valuable for subsequent analysis and decision-making."
   ]
  },
  {
   "cell_type": "markdown",
   "metadata": {},
   "source": [
    "**Descriptive Statistics of Dataset**"
   ]
  },
  {
   "cell_type": "code",
   "execution_count": 9,
   "metadata": {},
   "outputs": [
    {
     "data": {
      "text/html": [
       "<div>\n",
       "<style scoped>\n",
       "    .dataframe tbody tr th:only-of-type {\n",
       "        vertical-align: middle;\n",
       "    }\n",
       "\n",
       "    .dataframe tbody tr th {\n",
       "        vertical-align: top;\n",
       "    }\n",
       "\n",
       "    .dataframe thead th {\n",
       "        text-align: right;\n",
       "    }\n",
       "</style>\n",
       "<table border=\"1\" class=\"dataframe\">\n",
       "  <thead>\n",
       "    <tr style=\"text-align: right;\">\n",
       "      <th></th>\n",
       "      <th>id</th>\n",
       "      <th>age</th>\n",
       "      <th>height_in_m</th>\n",
       "      <th>weight_in_kg</th>\n",
       "      <th>avg_glucose_level</th>\n",
       "      <th>bmi</th>\n",
       "      <th>hypertension</th>\n",
       "      <th>heart_disease</th>\n",
       "      <th>stroke</th>\n",
       "    </tr>\n",
       "  </thead>\n",
       "  <tbody>\n",
       "    <tr>\n",
       "      <th>count</th>\n",
       "      <td>5135.000000</td>\n",
       "      <td>5135.000000</td>\n",
       "      <td>5135.000000</td>\n",
       "      <td>4934.000000</td>\n",
       "      <td>5135.000000</td>\n",
       "      <td>4934.000000</td>\n",
       "      <td>5135.000000</td>\n",
       "      <td>5135.000000</td>\n",
       "      <td>5135.000000</td>\n",
       "    </tr>\n",
       "    <tr>\n",
       "      <th>mean</th>\n",
       "      <td>36510.305940</td>\n",
       "      <td>43.237390</td>\n",
       "      <td>1.751992</td>\n",
       "      <td>89.172256</td>\n",
       "      <td>101.383180</td>\n",
       "      <td>28.899959</td>\n",
       "      <td>0.097176</td>\n",
       "      <td>0.053944</td>\n",
       "      <td>0.048491</td>\n",
       "    </tr>\n",
       "    <tr>\n",
       "      <th>std</th>\n",
       "      <td>21153.824243</td>\n",
       "      <td>22.601553</td>\n",
       "      <td>0.132236</td>\n",
       "      <td>27.910274</td>\n",
       "      <td>34.605155</td>\n",
       "      <td>7.847094</td>\n",
       "      <td>0.296226</td>\n",
       "      <td>0.225928</td>\n",
       "      <td>0.214822</td>\n",
       "    </tr>\n",
       "    <tr>\n",
       "      <th>min</th>\n",
       "      <td>67.000000</td>\n",
       "      <td>0.080000</td>\n",
       "      <td>1.524000</td>\n",
       "      <td>32.516064</td>\n",
       "      <td>55.120000</td>\n",
       "      <td>10.300000</td>\n",
       "      <td>0.000000</td>\n",
       "      <td>0.000000</td>\n",
       "      <td>0.000000</td>\n",
       "    </tr>\n",
       "    <tr>\n",
       "      <th>25%</th>\n",
       "      <td>17757.000000</td>\n",
       "      <td>25.000000</td>\n",
       "      <td>1.645920</td>\n",
       "      <td>69.416594</td>\n",
       "      <td>77.285000</td>\n",
       "      <td>23.500000</td>\n",
       "      <td>0.000000</td>\n",
       "      <td>0.000000</td>\n",
       "      <td>0.000000</td>\n",
       "    </tr>\n",
       "    <tr>\n",
       "      <th>50%</th>\n",
       "      <td>36896.000000</td>\n",
       "      <td>45.000000</td>\n",
       "      <td>1.737360</td>\n",
       "      <td>85.357641</td>\n",
       "      <td>91.850000</td>\n",
       "      <td>28.100000</td>\n",
       "      <td>0.000000</td>\n",
       "      <td>0.000000</td>\n",
       "      <td>0.000000</td>\n",
       "    </tr>\n",
       "    <tr>\n",
       "      <th>75%</th>\n",
       "      <td>54631.500000</td>\n",
       "      <td>61.000000</td>\n",
       "      <td>1.859280</td>\n",
       "      <td>104.671347</td>\n",
       "      <td>113.985000</td>\n",
       "      <td>33.100000</td>\n",
       "      <td>0.000000</td>\n",
       "      <td>0.000000</td>\n",
       "      <td>0.000000</td>\n",
       "    </tr>\n",
       "    <tr>\n",
       "      <th>max</th>\n",
       "      <td>72940.000000</td>\n",
       "      <td>82.000000</td>\n",
       "      <td>1.981200</td>\n",
       "      <td>348.548423</td>\n",
       "      <td>271.740000</td>\n",
       "      <td>97.600000</td>\n",
       "      <td>1.000000</td>\n",
       "      <td>1.000000</td>\n",
       "      <td>1.000000</td>\n",
       "    </tr>\n",
       "  </tbody>\n",
       "</table>\n",
       "</div>"
      ],
      "text/plain": [
       "                 id          age  height_in_m  weight_in_kg  \\\n",
       "count   5135.000000  5135.000000  5135.000000   4934.000000   \n",
       "mean   36510.305940    43.237390     1.751992     89.172256   \n",
       "std    21153.824243    22.601553     0.132236     27.910274   \n",
       "min       67.000000     0.080000     1.524000     32.516064   \n",
       "25%    17757.000000    25.000000     1.645920     69.416594   \n",
       "50%    36896.000000    45.000000     1.737360     85.357641   \n",
       "75%    54631.500000    61.000000     1.859280    104.671347   \n",
       "max    72940.000000    82.000000     1.981200    348.548423   \n",
       "\n",
       "       avg_glucose_level          bmi  hypertension  heart_disease  \\\n",
       "count        5135.000000  4934.000000   5135.000000    5135.000000   \n",
       "mean          101.383180    28.899959      0.097176       0.053944   \n",
       "std            34.605155     7.847094      0.296226       0.225928   \n",
       "min            55.120000    10.300000      0.000000       0.000000   \n",
       "25%            77.285000    23.500000      0.000000       0.000000   \n",
       "50%            91.850000    28.100000      0.000000       0.000000   \n",
       "75%           113.985000    33.100000      0.000000       0.000000   \n",
       "max           271.740000    97.600000      1.000000       1.000000   \n",
       "\n",
       "            stroke  \n",
       "count  5135.000000  \n",
       "mean      0.048491  \n",
       "std       0.214822  \n",
       "min       0.000000  \n",
       "25%       0.000000  \n",
       "50%       0.000000  \n",
       "75%       0.000000  \n",
       "max       1.000000  "
      ]
     },
     "execution_count": 9,
     "metadata": {},
     "output_type": "execute_result"
    }
   ],
   "source": [
    "# Code to find descriptive statistics of dataset\n",
    "df.describe()"
   ]
  },
  {
   "cell_type": "markdown",
   "metadata": {},
   "source": [
    "**Select multiple columns : gender, age, bmi, stroke**"
   ]
  },
  {
   "cell_type": "code",
   "execution_count": 10,
   "metadata": {},
   "outputs": [
    {
     "data": {
      "text/html": [
       "<div>\n",
       "<style scoped>\n",
       "    .dataframe tbody tr th:only-of-type {\n",
       "        vertical-align: middle;\n",
       "    }\n",
       "\n",
       "    .dataframe tbody tr th {\n",
       "        vertical-align: top;\n",
       "    }\n",
       "\n",
       "    .dataframe thead th {\n",
       "        text-align: right;\n",
       "    }\n",
       "</style>\n",
       "<table border=\"1\" class=\"dataframe\">\n",
       "  <thead>\n",
       "    <tr style=\"text-align: right;\">\n",
       "      <th></th>\n",
       "      <th>age</th>\n",
       "      <th>bmi</th>\n",
       "      <th>hypertension</th>\n",
       "      <th>stroke</th>\n",
       "    </tr>\n",
       "  </thead>\n",
       "  <tbody>\n",
       "    <tr>\n",
       "      <th>0</th>\n",
       "      <td>67.0</td>\n",
       "      <td>36.6</td>\n",
       "      <td>0</td>\n",
       "      <td>1</td>\n",
       "    </tr>\n",
       "    <tr>\n",
       "      <th>1</th>\n",
       "      <td>61.0</td>\n",
       "      <td>NaN</td>\n",
       "      <td>0</td>\n",
       "      <td>1</td>\n",
       "    </tr>\n",
       "    <tr>\n",
       "      <th>2</th>\n",
       "      <td>80.0</td>\n",
       "      <td>32.5</td>\n",
       "      <td>0</td>\n",
       "      <td>1</td>\n",
       "    </tr>\n",
       "    <tr>\n",
       "      <th>3</th>\n",
       "      <td>49.0</td>\n",
       "      <td>34.4</td>\n",
       "      <td>0</td>\n",
       "      <td>1</td>\n",
       "    </tr>\n",
       "    <tr>\n",
       "      <th>4</th>\n",
       "      <td>79.0</td>\n",
       "      <td>24.0</td>\n",
       "      <td>1</td>\n",
       "      <td>1</td>\n",
       "    </tr>\n",
       "    <tr>\n",
       "      <th>...</th>\n",
       "      <td>...</td>\n",
       "      <td>...</td>\n",
       "      <td>...</td>\n",
       "      <td>...</td>\n",
       "    </tr>\n",
       "    <tr>\n",
       "      <th>5130</th>\n",
       "      <td>57.0</td>\n",
       "      <td>25.8</td>\n",
       "      <td>0</td>\n",
       "      <td>0</td>\n",
       "    </tr>\n",
       "    <tr>\n",
       "      <th>5131</th>\n",
       "      <td>37.0</td>\n",
       "      <td>25.1</td>\n",
       "      <td>0</td>\n",
       "      <td>0</td>\n",
       "    </tr>\n",
       "    <tr>\n",
       "      <th>5132</th>\n",
       "      <td>27.0</td>\n",
       "      <td>41.6</td>\n",
       "      <td>0</td>\n",
       "      <td>0</td>\n",
       "    </tr>\n",
       "    <tr>\n",
       "      <th>5133</th>\n",
       "      <td>48.0</td>\n",
       "      <td>31.2</td>\n",
       "      <td>0</td>\n",
       "      <td>0</td>\n",
       "    </tr>\n",
       "    <tr>\n",
       "      <th>5134</th>\n",
       "      <td>23.0</td>\n",
       "      <td>28.3</td>\n",
       "      <td>0</td>\n",
       "      <td>0</td>\n",
       "    </tr>\n",
       "  </tbody>\n",
       "</table>\n",
       "<p>5135 rows × 4 columns</p>\n",
       "</div>"
      ],
      "text/plain": [
       "       age   bmi  hypertension  stroke\n",
       "0     67.0  36.6             0       1\n",
       "1     61.0   NaN             0       1\n",
       "2     80.0  32.5             0       1\n",
       "3     49.0  34.4             0       1\n",
       "4     79.0  24.0             1       1\n",
       "...    ...   ...           ...     ...\n",
       "5130  57.0  25.8             0       0\n",
       "5131  37.0  25.1             0       0\n",
       "5132  27.0  41.6             0       0\n",
       "5133  48.0  31.2             0       0\n",
       "5134  23.0  28.3             0       0\n",
       "\n",
       "[5135 rows x 4 columns]"
      ]
     },
     "execution_count": 10,
     "metadata": {},
     "output_type": "execute_result"
    }
   ],
   "source": [
    "# Code to select single column\n",
    "df[['age','bmi','hypertension','stroke']]"
   ]
  },
  {
   "cell_type": "code",
   "execution_count": 11,
   "metadata": {},
   "outputs": [],
   "source": [
    "# Code to select multiple columns\n"
   ]
  },
  {
   "cell_type": "markdown",
   "metadata": {},
   "source": [
    "**Select 10th row of the pandas dataframe**"
   ]
  },
  {
   "cell_type": "code",
   "execution_count": 12,
   "metadata": {},
   "outputs": [
    {
     "data": {
      "text/plain": [
       "id                       60491\n",
       "gender                  Female\n",
       "age                       78.0\n",
       "height_in_m             1.9812\n",
       "weight_in_kg         94.988713\n",
       "avg_glucose_level        58.57\n",
       "bmi                       24.2\n",
       "smoking_status         Unknown\n",
       "hypertension                 0\n",
       "heart_disease                0\n",
       "ever_married               Yes\n",
       "work_type              Private\n",
       "Residence_type           Urban\n",
       "stroke                       1\n",
       "Name: 9, dtype: object"
      ]
     },
     "execution_count": 12,
     "metadata": {},
     "output_type": "execute_result"
    }
   ],
   "source": [
    "# Code to select row\n",
    "df.iloc[9]"
   ]
  },
  {
   "cell_type": "code",
   "execution_count": 13,
   "metadata": {},
   "outputs": [
    {
     "data": {
      "text/plain": [
       "id                          58978\n",
       "gender                     Female\n",
       "age                          70.0\n",
       "height_in_m               1.92024\n",
       "weight_in_kg            96.239095\n",
       "avg_glucose_level          169.35\n",
       "bmi                          26.1\n",
       "smoking_status       never smoked\n",
       "hypertension                    0\n",
       "heart_disease                   1\n",
       "ever_married                  Yes\n",
       "work_type                 Private\n",
       "Residence_type              Rural\n",
       "stroke                          1\n",
       "Name: 149, dtype: object"
      ]
     },
     "execution_count": 13,
     "metadata": {},
     "output_type": "execute_result"
    }
   ],
   "source": [
    "#Code to 150th row\n",
    "df.iloc[150-1]"
   ]
  },
  {
   "cell_type": "markdown",
   "metadata": {},
   "source": [
    "**Select 7th column** "
   ]
  },
  {
   "cell_type": "code",
   "execution_count": 14,
   "metadata": {},
   "outputs": [
    {
     "data": {
      "text/plain": [
       "0       36.6\n",
       "1        NaN\n",
       "2       32.5\n",
       "3       34.4\n",
       "4       24.0\n",
       "        ... \n",
       "5130    25.8\n",
       "5131    25.1\n",
       "5132    41.6\n",
       "5133    31.2\n",
       "5134    28.3\n",
       "Name: bmi, Length: 5135, dtype: float64"
      ]
     },
     "execution_count": 14,
     "metadata": {},
     "output_type": "execute_result"
    }
   ],
   "source": [
    "# Code to select 7th column\n",
    "df.iloc[:,6]"
   ]
  },
  {
   "cell_type": "markdown",
   "metadata": {},
   "source": [
    "**Select 12th to 23rd row and 3rd to 6th column in Dataframe**"
   ]
  },
  {
   "cell_type": "code",
   "execution_count": 15,
   "metadata": {},
   "outputs": [
    {
     "data": {
      "text/html": [
       "<div>\n",
       "<style scoped>\n",
       "    .dataframe tbody tr th:only-of-type {\n",
       "        vertical-align: middle;\n",
       "    }\n",
       "\n",
       "    .dataframe tbody tr th {\n",
       "        vertical-align: top;\n",
       "    }\n",
       "\n",
       "    .dataframe thead th {\n",
       "        text-align: right;\n",
       "    }\n",
       "</style>\n",
       "<table border=\"1\" class=\"dataframe\">\n",
       "  <thead>\n",
       "    <tr style=\"text-align: right;\">\n",
       "      <th></th>\n",
       "      <th>age</th>\n",
       "      <th>height_in_m</th>\n",
       "      <th>weight_in_kg</th>\n",
       "      <th>avg_glucose_level</th>\n",
       "    </tr>\n",
       "  </thead>\n",
       "  <tbody>\n",
       "    <tr>\n",
       "      <th>11</th>\n",
       "      <td>61.0</td>\n",
       "      <td>1.64592</td>\n",
       "      <td>99.693137</td>\n",
       "      <td>120.46</td>\n",
       "    </tr>\n",
       "    <tr>\n",
       "      <th>12</th>\n",
       "      <td>54.0</td>\n",
       "      <td>1.88976</td>\n",
       "      <td>97.493565</td>\n",
       "      <td>104.51</td>\n",
       "    </tr>\n",
       "    <tr>\n",
       "      <th>13</th>\n",
       "      <td>78.0</td>\n",
       "      <td>1.52400</td>\n",
       "      <td>NaN</td>\n",
       "      <td>169.35</td>\n",
       "    </tr>\n",
       "    <tr>\n",
       "      <th>14</th>\n",
       "      <td>79.0</td>\n",
       "      <td>1.82880</td>\n",
       "      <td>94.315166</td>\n",
       "      <td>169.35</td>\n",
       "    </tr>\n",
       "    <tr>\n",
       "      <th>15</th>\n",
       "      <td>50.0</td>\n",
       "      <td>1.88976</td>\n",
       "      <td>110.349859</td>\n",
       "      <td>167.41</td>\n",
       "    </tr>\n",
       "    <tr>\n",
       "      <th>16</th>\n",
       "      <td>64.0</td>\n",
       "      <td>1.95072</td>\n",
       "      <td>142.699069</td>\n",
       "      <td>169.35</td>\n",
       "    </tr>\n",
       "    <tr>\n",
       "      <th>17</th>\n",
       "      <td>75.0</td>\n",
       "      <td>1.70688</td>\n",
       "      <td>75.166735</td>\n",
       "      <td>169.35</td>\n",
       "    </tr>\n",
       "    <tr>\n",
       "      <th>18</th>\n",
       "      <td>60.0</td>\n",
       "      <td>1.64592</td>\n",
       "      <td>102.402190</td>\n",
       "      <td>89.22</td>\n",
       "    </tr>\n",
       "    <tr>\n",
       "      <th>19</th>\n",
       "      <td>57.0</td>\n",
       "      <td>1.85928</td>\n",
       "      <td>NaN</td>\n",
       "      <td>169.35</td>\n",
       "    </tr>\n",
       "    <tr>\n",
       "      <th>20</th>\n",
       "      <td>71.0</td>\n",
       "      <td>1.85928</td>\n",
       "      <td>77.435055</td>\n",
       "      <td>169.35</td>\n",
       "    </tr>\n",
       "    <tr>\n",
       "      <th>21</th>\n",
       "      <td>52.0</td>\n",
       "      <td>1.95072</td>\n",
       "      <td>186.079587</td>\n",
       "      <td>169.35</td>\n",
       "    </tr>\n",
       "    <tr>\n",
       "      <th>22</th>\n",
       "      <td>79.0</td>\n",
       "      <td>1.55448</td>\n",
       "      <td>64.276455</td>\n",
       "      <td>169.35</td>\n",
       "    </tr>\n",
       "  </tbody>\n",
       "</table>\n",
       "</div>"
      ],
      "text/plain": [
       "     age  height_in_m  weight_in_kg  avg_glucose_level\n",
       "11  61.0      1.64592     99.693137             120.46\n",
       "12  54.0      1.88976     97.493565             104.51\n",
       "13  78.0      1.52400           NaN             169.35\n",
       "14  79.0      1.82880     94.315166             169.35\n",
       "15  50.0      1.88976    110.349859             167.41\n",
       "16  64.0      1.95072    142.699069             169.35\n",
       "17  75.0      1.70688     75.166735             169.35\n",
       "18  60.0      1.64592    102.402190              89.22\n",
       "19  57.0      1.85928           NaN             169.35\n",
       "20  71.0      1.85928     77.435055             169.35\n",
       "21  52.0      1.95072    186.079587             169.35\n",
       "22  79.0      1.55448     64.276455             169.35"
      ]
     },
     "execution_count": 15,
     "metadata": {},
     "output_type": "execute_result"
    }
   ],
   "source": [
    "# Code here\n",
    "df.iloc[11:23,2:6]"
   ]
  },
  {
   "cell_type": "markdown",
   "metadata": {},
   "source": [
    "**Select 40th to 60th row and 1st to 8th column**"
   ]
  },
  {
   "cell_type": "code",
   "execution_count": 16,
   "metadata": {},
   "outputs": [
    {
     "data": {
      "text/html": [
       "<div>\n",
       "<style scoped>\n",
       "    .dataframe tbody tr th:only-of-type {\n",
       "        vertical-align: middle;\n",
       "    }\n",
       "\n",
       "    .dataframe tbody tr th {\n",
       "        vertical-align: top;\n",
       "    }\n",
       "\n",
       "    .dataframe thead th {\n",
       "        text-align: right;\n",
       "    }\n",
       "</style>\n",
       "<table border=\"1\" class=\"dataframe\">\n",
       "  <thead>\n",
       "    <tr style=\"text-align: right;\">\n",
       "      <th></th>\n",
       "      <th>id</th>\n",
       "      <th>gender</th>\n",
       "      <th>age</th>\n",
       "      <th>height_in_m</th>\n",
       "      <th>weight_in_kg</th>\n",
       "      <th>avg_glucose_level</th>\n",
       "      <th>bmi</th>\n",
       "      <th>smoking_status</th>\n",
       "    </tr>\n",
       "  </thead>\n",
       "  <tbody>\n",
       "    <tr>\n",
       "      <th>39</th>\n",
       "      <td>62602</td>\n",
       "      <td>Female</td>\n",
       "      <td>49.0</td>\n",
       "      <td>1.76784</td>\n",
       "      <td>93.445222</td>\n",
       "      <td>60.91</td>\n",
       "      <td>29.9</td>\n",
       "      <td>never smoked</td>\n",
       "    </tr>\n",
       "    <tr>\n",
       "      <th>40</th>\n",
       "      <td>4651</td>\n",
       "      <td>Male</td>\n",
       "      <td>78.0</td>\n",
       "      <td>1.73736</td>\n",
       "      <td>72.140232</td>\n",
       "      <td>78.03</td>\n",
       "      <td>23.9</td>\n",
       "      <td>formerly smoked</td>\n",
       "    </tr>\n",
       "    <tr>\n",
       "      <th>41</th>\n",
       "      <td>1261</td>\n",
       "      <td>Male</td>\n",
       "      <td>54.0</td>\n",
       "      <td>1.64592</td>\n",
       "      <td>77.208000</td>\n",
       "      <td>71.22</td>\n",
       "      <td>28.5</td>\n",
       "      <td>never smoked</td>\n",
       "    </tr>\n",
       "    <tr>\n",
       "      <th>42</th>\n",
       "      <td>61960</td>\n",
       "      <td>Male</td>\n",
       "      <td>82.0</td>\n",
       "      <td>1.55448</td>\n",
       "      <td>63.793173</td>\n",
       "      <td>144.90</td>\n",
       "      <td>26.4</td>\n",
       "      <td>smokes</td>\n",
       "    </tr>\n",
       "    <tr>\n",
       "      <th>43</th>\n",
       "      <td>1845</td>\n",
       "      <td>Female</td>\n",
       "      <td>63.0</td>\n",
       "      <td>1.76784</td>\n",
       "      <td>NaN</td>\n",
       "      <td>90.90</td>\n",
       "      <td>NaN</td>\n",
       "      <td>formerly smoked</td>\n",
       "    </tr>\n",
       "    <tr>\n",
       "      <th>44</th>\n",
       "      <td>7937</td>\n",
       "      <td>Male</td>\n",
       "      <td>60.0</td>\n",
       "      <td>1.67640</td>\n",
       "      <td>56.768403</td>\n",
       "      <td>169.35</td>\n",
       "      <td>20.2</td>\n",
       "      <td>smokes</td>\n",
       "    </tr>\n",
       "    <tr>\n",
       "      <th>45</th>\n",
       "      <td>19824</td>\n",
       "      <td>Male</td>\n",
       "      <td>76.0</td>\n",
       "      <td>1.85928</td>\n",
       "      <td>116.152583</td>\n",
       "      <td>169.35</td>\n",
       "      <td>33.6</td>\n",
       "      <td>never smoked</td>\n",
       "    </tr>\n",
       "    <tr>\n",
       "      <th>46</th>\n",
       "      <td>37937</td>\n",
       "      <td>Female</td>\n",
       "      <td>75.0</td>\n",
       "      <td>1.58496</td>\n",
       "      <td>NaN</td>\n",
       "      <td>109.78</td>\n",
       "      <td>NaN</td>\n",
       "      <td>Unknown</td>\n",
       "    </tr>\n",
       "    <tr>\n",
       "      <th>47</th>\n",
       "      <td>47472</td>\n",
       "      <td>Female</td>\n",
       "      <td>58.0</td>\n",
       "      <td>1.70688</td>\n",
       "      <td>112.458758</td>\n",
       "      <td>107.26</td>\n",
       "      <td>38.6</td>\n",
       "      <td>formerly smoked</td>\n",
       "    </tr>\n",
       "    <tr>\n",
       "      <th>48</th>\n",
       "      <td>35626</td>\n",
       "      <td>Male</td>\n",
       "      <td>81.0</td>\n",
       "      <td>1.98120</td>\n",
       "      <td>132.277671</td>\n",
       "      <td>99.33</td>\n",
       "      <td>33.7</td>\n",
       "      <td>never smoked</td>\n",
       "    </tr>\n",
       "    <tr>\n",
       "      <th>49</th>\n",
       "      <td>36338</td>\n",
       "      <td>Female</td>\n",
       "      <td>39.0</td>\n",
       "      <td>1.85928</td>\n",
       "      <td>135.511347</td>\n",
       "      <td>58.09</td>\n",
       "      <td>39.2</td>\n",
       "      <td>smokes</td>\n",
       "    </tr>\n",
       "    <tr>\n",
       "      <th>50</th>\n",
       "      <td>18587</td>\n",
       "      <td>Female</td>\n",
       "      <td>76.0</td>\n",
       "      <td>1.70688</td>\n",
       "      <td>NaN</td>\n",
       "      <td>89.96</td>\n",
       "      <td>NaN</td>\n",
       "      <td>Unknown</td>\n",
       "    </tr>\n",
       "    <tr>\n",
       "      <th>51</th>\n",
       "      <td>15102</td>\n",
       "      <td>Male</td>\n",
       "      <td>78.0</td>\n",
       "      <td>1.61544</td>\n",
       "      <td>NaN</td>\n",
       "      <td>75.32</td>\n",
       "      <td>NaN</td>\n",
       "      <td>formerly smoked</td>\n",
       "    </tr>\n",
       "    <tr>\n",
       "      <th>52</th>\n",
       "      <td>59190</td>\n",
       "      <td>Female</td>\n",
       "      <td>79.0</td>\n",
       "      <td>1.61544</td>\n",
       "      <td>72.287205</td>\n",
       "      <td>127.29</td>\n",
       "      <td>27.7</td>\n",
       "      <td>never smoked</td>\n",
       "    </tr>\n",
       "    <tr>\n",
       "      <th>53</th>\n",
       "      <td>47167</td>\n",
       "      <td>Female</td>\n",
       "      <td>77.0</td>\n",
       "      <td>1.70688</td>\n",
       "      <td>91.481995</td>\n",
       "      <td>124.13</td>\n",
       "      <td>31.4</td>\n",
       "      <td>never smoked</td>\n",
       "    </tr>\n",
       "    <tr>\n",
       "      <th>54</th>\n",
       "      <td>8752</td>\n",
       "      <td>Female</td>\n",
       "      <td>63.0</td>\n",
       "      <td>1.79832</td>\n",
       "      <td>NaN</td>\n",
       "      <td>169.35</td>\n",
       "      <td>NaN</td>\n",
       "      <td>never smoked</td>\n",
       "    </tr>\n",
       "    <tr>\n",
       "      <th>55</th>\n",
       "      <td>25831</td>\n",
       "      <td>Male</td>\n",
       "      <td>63.0</td>\n",
       "      <td>1.58496</td>\n",
       "      <td>91.691584</td>\n",
       "      <td>169.35</td>\n",
       "      <td>36.5</td>\n",
       "      <td>formerly smoked</td>\n",
       "    </tr>\n",
       "    <tr>\n",
       "      <th>56</th>\n",
       "      <td>38829</td>\n",
       "      <td>Female</td>\n",
       "      <td>82.0</td>\n",
       "      <td>1.98120</td>\n",
       "      <td>130.315094</td>\n",
       "      <td>59.32</td>\n",
       "      <td>33.2</td>\n",
       "      <td>never smoked</td>\n",
       "    </tr>\n",
       "    <tr>\n",
       "      <th>57</th>\n",
       "      <td>66400</td>\n",
       "      <td>Male</td>\n",
       "      <td>78.0</td>\n",
       "      <td>1.52400</td>\n",
       "      <td>NaN</td>\n",
       "      <td>169.35</td>\n",
       "      <td>NaN</td>\n",
       "      <td>formerly smoked</td>\n",
       "    </tr>\n",
       "    <tr>\n",
       "      <th>58</th>\n",
       "      <td>58631</td>\n",
       "      <td>Male</td>\n",
       "      <td>73.0</td>\n",
       "      <td>1.88976</td>\n",
       "      <td>117.135126</td>\n",
       "      <td>169.35</td>\n",
       "      <td>32.8</td>\n",
       "      <td>never smoked</td>\n",
       "    </tr>\n",
       "    <tr>\n",
       "      <th>59</th>\n",
       "      <td>5111</td>\n",
       "      <td>Female</td>\n",
       "      <td>54.0</td>\n",
       "      <td>1.52400</td>\n",
       "      <td>64.335355</td>\n",
       "      <td>169.35</td>\n",
       "      <td>27.7</td>\n",
       "      <td>never smoked</td>\n",
       "    </tr>\n",
       "  </tbody>\n",
       "</table>\n",
       "</div>"
      ],
      "text/plain": [
       "       id  gender   age  height_in_m  weight_in_kg  avg_glucose_level   bmi  \\\n",
       "39  62602  Female  49.0      1.76784     93.445222              60.91  29.9   \n",
       "40   4651    Male  78.0      1.73736     72.140232              78.03  23.9   \n",
       "41   1261    Male  54.0      1.64592     77.208000              71.22  28.5   \n",
       "42  61960    Male  82.0      1.55448     63.793173             144.90  26.4   \n",
       "43   1845  Female  63.0      1.76784           NaN              90.90   NaN   \n",
       "44   7937    Male  60.0      1.67640     56.768403             169.35  20.2   \n",
       "45  19824    Male  76.0      1.85928    116.152583             169.35  33.6   \n",
       "46  37937  Female  75.0      1.58496           NaN             109.78   NaN   \n",
       "47  47472  Female  58.0      1.70688    112.458758             107.26  38.6   \n",
       "48  35626    Male  81.0      1.98120    132.277671              99.33  33.7   \n",
       "49  36338  Female  39.0      1.85928    135.511347              58.09  39.2   \n",
       "50  18587  Female  76.0      1.70688           NaN              89.96   NaN   \n",
       "51  15102    Male  78.0      1.61544           NaN              75.32   NaN   \n",
       "52  59190  Female  79.0      1.61544     72.287205             127.29  27.7   \n",
       "53  47167  Female  77.0      1.70688     91.481995             124.13  31.4   \n",
       "54   8752  Female  63.0      1.79832           NaN             169.35   NaN   \n",
       "55  25831    Male  63.0      1.58496     91.691584             169.35  36.5   \n",
       "56  38829  Female  82.0      1.98120    130.315094              59.32  33.2   \n",
       "57  66400    Male  78.0      1.52400           NaN             169.35   NaN   \n",
       "58  58631    Male  73.0      1.88976    117.135126             169.35  32.8   \n",
       "59   5111  Female  54.0      1.52400     64.335355             169.35  27.7   \n",
       "\n",
       "     smoking_status  \n",
       "39     never smoked  \n",
       "40  formerly smoked  \n",
       "41     never smoked  \n",
       "42           smokes  \n",
       "43  formerly smoked  \n",
       "44           smokes  \n",
       "45     never smoked  \n",
       "46          Unknown  \n",
       "47  formerly smoked  \n",
       "48     never smoked  \n",
       "49           smokes  \n",
       "50          Unknown  \n",
       "51  formerly smoked  \n",
       "52     never smoked  \n",
       "53     never smoked  \n",
       "54     never smoked  \n",
       "55  formerly smoked  \n",
       "56     never smoked  \n",
       "57  formerly smoked  \n",
       "58     never smoked  \n",
       "59     never smoked  "
      ]
     },
     "execution_count": 16,
     "metadata": {},
     "output_type": "execute_result"
    }
   ],
   "source": [
    "# Code here\n",
    "df.iloc[39:60,0:8]"
   ]
  },
  {
   "cell_type": "markdown",
   "metadata": {},
   "source": [
    "**Select rows with gender 'Male'**"
   ]
  },
  {
   "cell_type": "code",
   "execution_count": 17,
   "metadata": {},
   "outputs": [
    {
     "data": {
      "text/html": [
       "<div>\n",
       "<style scoped>\n",
       "    .dataframe tbody tr th:only-of-type {\n",
       "        vertical-align: middle;\n",
       "    }\n",
       "\n",
       "    .dataframe tbody tr th {\n",
       "        vertical-align: top;\n",
       "    }\n",
       "\n",
       "    .dataframe thead th {\n",
       "        text-align: right;\n",
       "    }\n",
       "</style>\n",
       "<table border=\"1\" class=\"dataframe\">\n",
       "  <thead>\n",
       "    <tr style=\"text-align: right;\">\n",
       "      <th></th>\n",
       "      <th>id</th>\n",
       "      <th>gender</th>\n",
       "      <th>age</th>\n",
       "      <th>height_in_m</th>\n",
       "      <th>weight_in_kg</th>\n",
       "      <th>avg_glucose_level</th>\n",
       "      <th>bmi</th>\n",
       "      <th>smoking_status</th>\n",
       "      <th>hypertension</th>\n",
       "      <th>heart_disease</th>\n",
       "      <th>ever_married</th>\n",
       "      <th>work_type</th>\n",
       "      <th>Residence_type</th>\n",
       "      <th>stroke</th>\n",
       "    </tr>\n",
       "  </thead>\n",
       "  <tbody>\n",
       "    <tr>\n",
       "      <th>0</th>\n",
       "      <td>9046</td>\n",
       "      <td>Male</td>\n",
       "      <td>67.0</td>\n",
       "      <td>1.82880</td>\n",
       "      <td>122.409046</td>\n",
       "      <td>169.35</td>\n",
       "      <td>36.6</td>\n",
       "      <td>formerly smoked</td>\n",
       "      <td>0</td>\n",
       "      <td>1</td>\n",
       "      <td>Yes</td>\n",
       "      <td>Private</td>\n",
       "      <td>Urban</td>\n",
       "      <td>1</td>\n",
       "    </tr>\n",
       "    <tr>\n",
       "      <th>2</th>\n",
       "      <td>31112</td>\n",
       "      <td>Male</td>\n",
       "      <td>80.0</td>\n",
       "      <td>1.79832</td>\n",
       "      <td>105.103532</td>\n",
       "      <td>105.92</td>\n",
       "      <td>32.5</td>\n",
       "      <td>never smoked</td>\n",
       "      <td>0</td>\n",
       "      <td>1</td>\n",
       "      <td>Yes</td>\n",
       "      <td>Private</td>\n",
       "      <td>Rural</td>\n",
       "      <td>1</td>\n",
       "    </tr>\n",
       "    <tr>\n",
       "      <th>5</th>\n",
       "      <td>56669</td>\n",
       "      <td>Male</td>\n",
       "      <td>81.0</td>\n",
       "      <td>1.79832</td>\n",
       "      <td>93.784690</td>\n",
       "      <td>169.35</td>\n",
       "      <td>29.0</td>\n",
       "      <td>formerly smoked</td>\n",
       "      <td>0</td>\n",
       "      <td>0</td>\n",
       "      <td>Yes</td>\n",
       "      <td>Private</td>\n",
       "      <td>Urban</td>\n",
       "      <td>1</td>\n",
       "    </tr>\n",
       "    <tr>\n",
       "      <th>6</th>\n",
       "      <td>53882</td>\n",
       "      <td>Male</td>\n",
       "      <td>74.0</td>\n",
       "      <td>1.88976</td>\n",
       "      <td>97.850684</td>\n",
       "      <td>70.09</td>\n",
       "      <td>27.4</td>\n",
       "      <td>never smoked</td>\n",
       "      <td>1</td>\n",
       "      <td>1</td>\n",
       "      <td>Yes</td>\n",
       "      <td>Private</td>\n",
       "      <td>Rural</td>\n",
       "      <td>1</td>\n",
       "    </tr>\n",
       "    <tr>\n",
       "      <th>13</th>\n",
       "      <td>8213</td>\n",
       "      <td>Male</td>\n",
       "      <td>78.0</td>\n",
       "      <td>1.52400</td>\n",
       "      <td>NaN</td>\n",
       "      <td>169.35</td>\n",
       "      <td>NaN</td>\n",
       "      <td>Unknown</td>\n",
       "      <td>0</td>\n",
       "      <td>1</td>\n",
       "      <td>Yes</td>\n",
       "      <td>Private</td>\n",
       "      <td>Urban</td>\n",
       "      <td>1</td>\n",
       "    </tr>\n",
       "    <tr>\n",
       "      <th>...</th>\n",
       "      <td>...</td>\n",
       "      <td>...</td>\n",
       "      <td>...</td>\n",
       "      <td>...</td>\n",
       "      <td>...</td>\n",
       "      <td>...</td>\n",
       "      <td>...</td>\n",
       "      <td>...</td>\n",
       "      <td>...</td>\n",
       "      <td>...</td>\n",
       "      <td>...</td>\n",
       "      <td>...</td>\n",
       "      <td>...</td>\n",
       "      <td>...</td>\n",
       "    </tr>\n",
       "    <tr>\n",
       "      <th>5119</th>\n",
       "      <td>26242</td>\n",
       "      <td>Male</td>\n",
       "      <td>6.0</td>\n",
       "      <td>1.55448</td>\n",
       "      <td>48.328161</td>\n",
       "      <td>83.28</td>\n",
       "      <td>20.0</td>\n",
       "      <td>Unknown</td>\n",
       "      <td>0</td>\n",
       "      <td>0</td>\n",
       "      <td>NaN</td>\n",
       "      <td>children</td>\n",
       "      <td>Urban</td>\n",
       "      <td>0</td>\n",
       "    </tr>\n",
       "    <tr>\n",
       "      <th>5121</th>\n",
       "      <td>20973</td>\n",
       "      <td>Male</td>\n",
       "      <td>45.0</td>\n",
       "      <td>1.73736</td>\n",
       "      <td>114.398109</td>\n",
       "      <td>86.99</td>\n",
       "      <td>37.9</td>\n",
       "      <td>never smoked</td>\n",
       "      <td>0</td>\n",
       "      <td>0</td>\n",
       "      <td>Yes</td>\n",
       "      <td>Govt_job</td>\n",
       "      <td>Rural</td>\n",
       "      <td>0</td>\n",
       "    </tr>\n",
       "    <tr>\n",
       "      <th>5122</th>\n",
       "      <td>62793</td>\n",
       "      <td>Male</td>\n",
       "      <td>37.0</td>\n",
       "      <td>1.95072</td>\n",
       "      <td>95.893775</td>\n",
       "      <td>79.56</td>\n",
       "      <td>25.2</td>\n",
       "      <td>never smoked</td>\n",
       "      <td>0</td>\n",
       "      <td>0</td>\n",
       "      <td>Yes</td>\n",
       "      <td>Private</td>\n",
       "      <td>Urban</td>\n",
       "      <td>0</td>\n",
       "    </tr>\n",
       "    <tr>\n",
       "      <th>5125</th>\n",
       "      <td>64520</td>\n",
       "      <td>Male</td>\n",
       "      <td>68.0</td>\n",
       "      <td>1.61544</td>\n",
       "      <td>106.473573</td>\n",
       "      <td>91.68</td>\n",
       "      <td>40.8</td>\n",
       "      <td>Unknown</td>\n",
       "      <td>0</td>\n",
       "      <td>0</td>\n",
       "      <td>Yes</td>\n",
       "      <td>Self-employed</td>\n",
       "      <td>Urban</td>\n",
       "      <td>0</td>\n",
       "    </tr>\n",
       "    <tr>\n",
       "      <th>5128</th>\n",
       "      <td>35295</td>\n",
       "      <td>Male</td>\n",
       "      <td>69.0</td>\n",
       "      <td>1.95072</td>\n",
       "      <td>103.884923</td>\n",
       "      <td>65.08</td>\n",
       "      <td>27.3</td>\n",
       "      <td>formerly smoked</td>\n",
       "      <td>0</td>\n",
       "      <td>0</td>\n",
       "      <td>Yes</td>\n",
       "      <td>Private</td>\n",
       "      <td>Urban</td>\n",
       "      <td>0</td>\n",
       "    </tr>\n",
       "  </tbody>\n",
       "</table>\n",
       "<p>2072 rows × 14 columns</p>\n",
       "</div>"
      ],
      "text/plain": [
       "         id gender   age  height_in_m  weight_in_kg  avg_glucose_level   bmi  \\\n",
       "0      9046   Male  67.0      1.82880    122.409046             169.35  36.6   \n",
       "2     31112   Male  80.0      1.79832    105.103532             105.92  32.5   \n",
       "5     56669   Male  81.0      1.79832     93.784690             169.35  29.0   \n",
       "6     53882   Male  74.0      1.88976     97.850684              70.09  27.4   \n",
       "13     8213   Male  78.0      1.52400           NaN             169.35   NaN   \n",
       "...     ...    ...   ...          ...           ...                ...   ...   \n",
       "5119  26242   Male   6.0      1.55448     48.328161              83.28  20.0   \n",
       "5121  20973   Male  45.0      1.73736    114.398109              86.99  37.9   \n",
       "5122  62793   Male  37.0      1.95072     95.893775              79.56  25.2   \n",
       "5125  64520   Male  68.0      1.61544    106.473573              91.68  40.8   \n",
       "5128  35295   Male  69.0      1.95072    103.884923              65.08  27.3   \n",
       "\n",
       "       smoking_status  hypertension  heart_disease ever_married  \\\n",
       "0     formerly smoked             0              1          Yes   \n",
       "2        never smoked             0              1          Yes   \n",
       "5     formerly smoked             0              0          Yes   \n",
       "6        never smoked             1              1          Yes   \n",
       "13            Unknown             0              1          Yes   \n",
       "...               ...           ...            ...          ...   \n",
       "5119          Unknown             0              0          NaN   \n",
       "5121     never smoked             0              0          Yes   \n",
       "5122     never smoked             0              0          Yes   \n",
       "5125          Unknown             0              0          Yes   \n",
       "5128  formerly smoked             0              0          Yes   \n",
       "\n",
       "          work_type Residence_type  stroke  \n",
       "0           Private          Urban       1  \n",
       "2           Private          Rural       1  \n",
       "5           Private          Urban       1  \n",
       "6           Private          Rural       1  \n",
       "13          Private          Urban       1  \n",
       "...             ...            ...     ...  \n",
       "5119       children          Urban       0  \n",
       "5121       Govt_job          Rural       0  \n",
       "5122        Private          Urban       0  \n",
       "5125  Self-employed          Urban       0  \n",
       "5128        Private          Urban       0  \n",
       "\n",
       "[2072 rows x 14 columns]"
      ]
     },
     "execution_count": 17,
     "metadata": {},
     "output_type": "execute_result"
    }
   ],
   "source": [
    "# Code here\n",
    "df.loc[df['gender'] == 'Male']"
   ]
  },
  {
   "cell_type": "markdown",
   "metadata": {},
   "source": [
    "**Select rows with gender 'Female'**"
   ]
  },
  {
   "cell_type": "code",
   "execution_count": 18,
   "metadata": {},
   "outputs": [
    {
     "data": {
      "text/html": [
       "<div>\n",
       "<style scoped>\n",
       "    .dataframe tbody tr th:only-of-type {\n",
       "        vertical-align: middle;\n",
       "    }\n",
       "\n",
       "    .dataframe tbody tr th {\n",
       "        vertical-align: top;\n",
       "    }\n",
       "\n",
       "    .dataframe thead th {\n",
       "        text-align: right;\n",
       "    }\n",
       "</style>\n",
       "<table border=\"1\" class=\"dataframe\">\n",
       "  <thead>\n",
       "    <tr style=\"text-align: right;\">\n",
       "      <th></th>\n",
       "      <th>id</th>\n",
       "      <th>gender</th>\n",
       "      <th>age</th>\n",
       "      <th>height_in_m</th>\n",
       "      <th>weight_in_kg</th>\n",
       "      <th>avg_glucose_level</th>\n",
       "      <th>bmi</th>\n",
       "      <th>smoking_status</th>\n",
       "      <th>hypertension</th>\n",
       "      <th>heart_disease</th>\n",
       "      <th>ever_married</th>\n",
       "      <th>work_type</th>\n",
       "      <th>Residence_type</th>\n",
       "      <th>stroke</th>\n",
       "    </tr>\n",
       "  </thead>\n",
       "  <tbody>\n",
       "    <tr>\n",
       "      <th>1</th>\n",
       "      <td>51676</td>\n",
       "      <td>Female</td>\n",
       "      <td>61.0</td>\n",
       "      <td>1.64592</td>\n",
       "      <td>NaN</td>\n",
       "      <td>169.35</td>\n",
       "      <td>NaN</td>\n",
       "      <td>never smoked</td>\n",
       "      <td>0</td>\n",
       "      <td>0</td>\n",
       "      <td>Yes</td>\n",
       "      <td>Self-employed</td>\n",
       "      <td>Rural</td>\n",
       "      <td>1</td>\n",
       "    </tr>\n",
       "    <tr>\n",
       "      <th>3</th>\n",
       "      <td>60182</td>\n",
       "      <td>Female</td>\n",
       "      <td>49.0</td>\n",
       "      <td>1.92024</td>\n",
       "      <td>126.843865</td>\n",
       "      <td>169.35</td>\n",
       "      <td>34.4</td>\n",
       "      <td>smokes</td>\n",
       "      <td>0</td>\n",
       "      <td>0</td>\n",
       "      <td>Yes</td>\n",
       "      <td>Private</td>\n",
       "      <td>Urban</td>\n",
       "      <td>1</td>\n",
       "    </tr>\n",
       "    <tr>\n",
       "      <th>7</th>\n",
       "      <td>10434</td>\n",
       "      <td>Female</td>\n",
       "      <td>69.0</td>\n",
       "      <td>1.61544</td>\n",
       "      <td>59.499938</td>\n",
       "      <td>94.39</td>\n",
       "      <td>22.8</td>\n",
       "      <td>never smoked</td>\n",
       "      <td>0</td>\n",
       "      <td>0</td>\n",
       "      <td>No</td>\n",
       "      <td>Private</td>\n",
       "      <td>Urban</td>\n",
       "      <td>1</td>\n",
       "    </tr>\n",
       "    <tr>\n",
       "      <th>8</th>\n",
       "      <td>27419</td>\n",
       "      <td>Female</td>\n",
       "      <td>59.0</td>\n",
       "      <td>1.85928</td>\n",
       "      <td>NaN</td>\n",
       "      <td>76.15</td>\n",
       "      <td>NaN</td>\n",
       "      <td>Unknown</td>\n",
       "      <td>0</td>\n",
       "      <td>0</td>\n",
       "      <td>Yes</td>\n",
       "      <td>Private</td>\n",
       "      <td>Rural</td>\n",
       "      <td>1</td>\n",
       "    </tr>\n",
       "    <tr>\n",
       "      <th>9</th>\n",
       "      <td>60491</td>\n",
       "      <td>Female</td>\n",
       "      <td>78.0</td>\n",
       "      <td>1.98120</td>\n",
       "      <td>94.988713</td>\n",
       "      <td>58.57</td>\n",
       "      <td>24.2</td>\n",
       "      <td>Unknown</td>\n",
       "      <td>0</td>\n",
       "      <td>0</td>\n",
       "      <td>Yes</td>\n",
       "      <td>Private</td>\n",
       "      <td>Urban</td>\n",
       "      <td>1</td>\n",
       "    </tr>\n",
       "    <tr>\n",
       "      <th>...</th>\n",
       "      <td>...</td>\n",
       "      <td>...</td>\n",
       "      <td>...</td>\n",
       "      <td>...</td>\n",
       "      <td>...</td>\n",
       "      <td>...</td>\n",
       "      <td>...</td>\n",
       "      <td>...</td>\n",
       "      <td>...</td>\n",
       "      <td>...</td>\n",
       "      <td>...</td>\n",
       "      <td>...</td>\n",
       "      <td>...</td>\n",
       "      <td>...</td>\n",
       "    </tr>\n",
       "    <tr>\n",
       "      <th>5130</th>\n",
       "      <td>46373</td>\n",
       "      <td>Female</td>\n",
       "      <td>57.0</td>\n",
       "      <td>1.67640</td>\n",
       "      <td>72.506178</td>\n",
       "      <td>169.97</td>\n",
       "      <td>25.8</td>\n",
       "      <td>never smoked</td>\n",
       "      <td>0</td>\n",
       "      <td>0</td>\n",
       "      <td>Yes</td>\n",
       "      <td>Private</td>\n",
       "      <td>Rural</td>\n",
       "      <td>0</td>\n",
       "    </tr>\n",
       "    <tr>\n",
       "      <th>5131</th>\n",
       "      <td>40112</td>\n",
       "      <td>Female</td>\n",
       "      <td>37.0</td>\n",
       "      <td>1.92024</td>\n",
       "      <td>92.551774</td>\n",
       "      <td>118.41</td>\n",
       "      <td>25.1</td>\n",
       "      <td>never smoked</td>\n",
       "      <td>0</td>\n",
       "      <td>0</td>\n",
       "      <td>No</td>\n",
       "      <td>Private</td>\n",
       "      <td>Urban</td>\n",
       "      <td>0</td>\n",
       "    </tr>\n",
       "    <tr>\n",
       "      <th>5132</th>\n",
       "      <td>32240</td>\n",
       "      <td>Female</td>\n",
       "      <td>27.0</td>\n",
       "      <td>1.82880</td>\n",
       "      <td>139.131593</td>\n",
       "      <td>93.55</td>\n",
       "      <td>41.6</td>\n",
       "      <td>never smoked</td>\n",
       "      <td>0</td>\n",
       "      <td>0</td>\n",
       "      <td>No</td>\n",
       "      <td>Private</td>\n",
       "      <td>Urban</td>\n",
       "      <td>0</td>\n",
       "    </tr>\n",
       "    <tr>\n",
       "      <th>5133</th>\n",
       "      <td>69312</td>\n",
       "      <td>Female</td>\n",
       "      <td>48.0</td>\n",
       "      <td>1.58496</td>\n",
       "      <td>78.377464</td>\n",
       "      <td>99.29</td>\n",
       "      <td>31.2</td>\n",
       "      <td>never smoked</td>\n",
       "      <td>0</td>\n",
       "      <td>0</td>\n",
       "      <td>Yes</td>\n",
       "      <td>Self-employed</td>\n",
       "      <td>Urban</td>\n",
       "      <td>0</td>\n",
       "    </tr>\n",
       "    <tr>\n",
       "      <th>5134</th>\n",
       "      <td>25763</td>\n",
       "      <td>Female</td>\n",
       "      <td>23.0</td>\n",
       "      <td>1.64592</td>\n",
       "      <td>76.666190</td>\n",
       "      <td>98.66</td>\n",
       "      <td>28.3</td>\n",
       "      <td>Unknown</td>\n",
       "      <td>0</td>\n",
       "      <td>0</td>\n",
       "      <td>No</td>\n",
       "      <td>Private</td>\n",
       "      <td>Urban</td>\n",
       "      <td>0</td>\n",
       "    </tr>\n",
       "  </tbody>\n",
       "</table>\n",
       "<p>2962 rows × 14 columns</p>\n",
       "</div>"
      ],
      "text/plain": [
       "         id  gender   age  height_in_m  weight_in_kg  avg_glucose_level   bmi  \\\n",
       "1     51676  Female  61.0      1.64592           NaN             169.35   NaN   \n",
       "3     60182  Female  49.0      1.92024    126.843865             169.35  34.4   \n",
       "7     10434  Female  69.0      1.61544     59.499938              94.39  22.8   \n",
       "8     27419  Female  59.0      1.85928           NaN              76.15   NaN   \n",
       "9     60491  Female  78.0      1.98120     94.988713              58.57  24.2   \n",
       "...     ...     ...   ...          ...           ...                ...   ...   \n",
       "5130  46373  Female  57.0      1.67640     72.506178             169.97  25.8   \n",
       "5131  40112  Female  37.0      1.92024     92.551774             118.41  25.1   \n",
       "5132  32240  Female  27.0      1.82880    139.131593              93.55  41.6   \n",
       "5133  69312  Female  48.0      1.58496     78.377464              99.29  31.2   \n",
       "5134  25763  Female  23.0      1.64592     76.666190              98.66  28.3   \n",
       "\n",
       "     smoking_status  hypertension  heart_disease ever_married      work_type  \\\n",
       "1      never smoked             0              0          Yes  Self-employed   \n",
       "3            smokes             0              0          Yes        Private   \n",
       "7      never smoked             0              0           No        Private   \n",
       "8           Unknown             0              0          Yes        Private   \n",
       "9           Unknown             0              0          Yes        Private   \n",
       "...             ...           ...            ...          ...            ...   \n",
       "5130   never smoked             0              0          Yes        Private   \n",
       "5131   never smoked             0              0           No        Private   \n",
       "5132   never smoked             0              0           No        Private   \n",
       "5133   never smoked             0              0          Yes  Self-employed   \n",
       "5134        Unknown             0              0           No        Private   \n",
       "\n",
       "     Residence_type  stroke  \n",
       "1             Rural       1  \n",
       "3             Urban       1  \n",
       "7             Urban       1  \n",
       "8             Rural       1  \n",
       "9             Urban       1  \n",
       "...             ...     ...  \n",
       "5130          Rural       0  \n",
       "5131          Urban       0  \n",
       "5132          Urban       0  \n",
       "5133          Urban       0  \n",
       "5134          Urban       0  \n",
       "\n",
       "[2962 rows x 14 columns]"
      ]
     },
     "execution_count": 18,
     "metadata": {},
     "output_type": "execute_result"
    }
   ],
   "source": [
    "# Code here\n",
    "df.loc[df['gender'] == 'Female']"
   ]
  },
  {
   "cell_type": "markdown",
   "metadata": {},
   "source": [
    "**Select rows with age grater than 30 and columns age,gender,bmi, stroke**"
   ]
  },
  {
   "cell_type": "code",
   "execution_count": 19,
   "metadata": {},
   "outputs": [
    {
     "data": {
      "text/html": [
       "<div>\n",
       "<style scoped>\n",
       "    .dataframe tbody tr th:only-of-type {\n",
       "        vertical-align: middle;\n",
       "    }\n",
       "\n",
       "    .dataframe tbody tr th {\n",
       "        vertical-align: top;\n",
       "    }\n",
       "\n",
       "    .dataframe thead th {\n",
       "        text-align: right;\n",
       "    }\n",
       "</style>\n",
       "<table border=\"1\" class=\"dataframe\">\n",
       "  <thead>\n",
       "    <tr style=\"text-align: right;\">\n",
       "      <th></th>\n",
       "      <th>age</th>\n",
       "      <th>gender</th>\n",
       "      <th>bmi</th>\n",
       "      <th>stroke</th>\n",
       "    </tr>\n",
       "  </thead>\n",
       "  <tbody>\n",
       "    <tr>\n",
       "      <th>0</th>\n",
       "      <td>67.0</td>\n",
       "      <td>Male</td>\n",
       "      <td>36.6</td>\n",
       "      <td>1</td>\n",
       "    </tr>\n",
       "    <tr>\n",
       "      <th>1</th>\n",
       "      <td>61.0</td>\n",
       "      <td>Female</td>\n",
       "      <td>NaN</td>\n",
       "      <td>1</td>\n",
       "    </tr>\n",
       "    <tr>\n",
       "      <th>2</th>\n",
       "      <td>80.0</td>\n",
       "      <td>Male</td>\n",
       "      <td>32.5</td>\n",
       "      <td>1</td>\n",
       "    </tr>\n",
       "    <tr>\n",
       "      <th>3</th>\n",
       "      <td>49.0</td>\n",
       "      <td>Female</td>\n",
       "      <td>34.4</td>\n",
       "      <td>1</td>\n",
       "    </tr>\n",
       "    <tr>\n",
       "      <th>4</th>\n",
       "      <td>79.0</td>\n",
       "      <td>female</td>\n",
       "      <td>24.0</td>\n",
       "      <td>1</td>\n",
       "    </tr>\n",
       "    <tr>\n",
       "      <th>...</th>\n",
       "      <td>...</td>\n",
       "      <td>...</td>\n",
       "      <td>...</td>\n",
       "      <td>...</td>\n",
       "    </tr>\n",
       "    <tr>\n",
       "      <th>5128</th>\n",
       "      <td>69.0</td>\n",
       "      <td>Male</td>\n",
       "      <td>27.3</td>\n",
       "      <td>0</td>\n",
       "    </tr>\n",
       "    <tr>\n",
       "      <th>5129</th>\n",
       "      <td>43.0</td>\n",
       "      <td>Female</td>\n",
       "      <td>39.7</td>\n",
       "      <td>0</td>\n",
       "    </tr>\n",
       "    <tr>\n",
       "      <th>5130</th>\n",
       "      <td>57.0</td>\n",
       "      <td>Female</td>\n",
       "      <td>25.8</td>\n",
       "      <td>0</td>\n",
       "    </tr>\n",
       "    <tr>\n",
       "      <th>5131</th>\n",
       "      <td>37.0</td>\n",
       "      <td>Female</td>\n",
       "      <td>25.1</td>\n",
       "      <td>0</td>\n",
       "    </tr>\n",
       "    <tr>\n",
       "      <th>5133</th>\n",
       "      <td>48.0</td>\n",
       "      <td>Female</td>\n",
       "      <td>31.2</td>\n",
       "      <td>0</td>\n",
       "    </tr>\n",
       "  </tbody>\n",
       "</table>\n",
       "<p>3559 rows × 4 columns</p>\n",
       "</div>"
      ],
      "text/plain": [
       "       age  gender   bmi  stroke\n",
       "0     67.0    Male  36.6       1\n",
       "1     61.0  Female   NaN       1\n",
       "2     80.0    Male  32.5       1\n",
       "3     49.0  Female  34.4       1\n",
       "4     79.0  female  24.0       1\n",
       "...    ...     ...   ...     ...\n",
       "5128  69.0    Male  27.3       0\n",
       "5129  43.0  Female  39.7       0\n",
       "5130  57.0  Female  25.8       0\n",
       "5131  37.0  Female  25.1       0\n",
       "5133  48.0  Female  31.2       0\n",
       "\n",
       "[3559 rows x 4 columns]"
      ]
     },
     "execution_count": 19,
     "metadata": {},
     "output_type": "execute_result"
    }
   ],
   "source": [
    "# Code here\n",
    "df.loc[df['age'] > 30, ['age','gender','bmi','stroke']]"
   ]
  },
  {
   "cell_type": "markdown",
   "metadata": {},
   "source": [
    "**Select females who are older than 40 years**"
   ]
  },
  {
   "cell_type": "code",
   "execution_count": 20,
   "metadata": {},
   "outputs": [
    {
     "data": {
      "text/html": [
       "<div>\n",
       "<style scoped>\n",
       "    .dataframe tbody tr th:only-of-type {\n",
       "        vertical-align: middle;\n",
       "    }\n",
       "\n",
       "    .dataframe tbody tr th {\n",
       "        vertical-align: top;\n",
       "    }\n",
       "\n",
       "    .dataframe thead th {\n",
       "        text-align: right;\n",
       "    }\n",
       "</style>\n",
       "<table border=\"1\" class=\"dataframe\">\n",
       "  <thead>\n",
       "    <tr style=\"text-align: right;\">\n",
       "      <th></th>\n",
       "      <th>id</th>\n",
       "      <th>gender</th>\n",
       "      <th>age</th>\n",
       "      <th>height_in_m</th>\n",
       "      <th>weight_in_kg</th>\n",
       "      <th>avg_glucose_level</th>\n",
       "      <th>bmi</th>\n",
       "      <th>smoking_status</th>\n",
       "      <th>hypertension</th>\n",
       "      <th>heart_disease</th>\n",
       "      <th>ever_married</th>\n",
       "      <th>work_type</th>\n",
       "      <th>Residence_type</th>\n",
       "      <th>stroke</th>\n",
       "    </tr>\n",
       "  </thead>\n",
       "  <tbody>\n",
       "    <tr>\n",
       "      <th>4</th>\n",
       "      <td>1665</td>\n",
       "      <td>female</td>\n",
       "      <td>79.0</td>\n",
       "      <td>1.85928</td>\n",
       "      <td>82.966131</td>\n",
       "      <td>169.35</td>\n",
       "      <td>24.0</td>\n",
       "      <td>never smoked</td>\n",
       "      <td>1</td>\n",
       "      <td>0</td>\n",
       "      <td>Yes</td>\n",
       "      <td>Self-employed</td>\n",
       "      <td>Rural</td>\n",
       "      <td>1</td>\n",
       "    </tr>\n",
       "    <tr>\n",
       "      <th>75</th>\n",
       "      <td>66159</td>\n",
       "      <td>female</td>\n",
       "      <td>80.0</td>\n",
       "      <td>1.82880</td>\n",
       "      <td>72.575855</td>\n",
       "      <td>66.72</td>\n",
       "      <td>21.7</td>\n",
       "      <td>formerly smoked</td>\n",
       "      <td>0</td>\n",
       "      <td>1</td>\n",
       "      <td>Yes</td>\n",
       "      <td>Self-employed</td>\n",
       "      <td>Rural</td>\n",
       "      <td>1</td>\n",
       "    </tr>\n",
       "    <tr>\n",
       "      <th>158</th>\n",
       "      <td>66258</td>\n",
       "      <td>female</td>\n",
       "      <td>71.0</td>\n",
       "      <td>1.95072</td>\n",
       "      <td>129.761020</td>\n",
       "      <td>169.35</td>\n",
       "      <td>34.1</td>\n",
       "      <td>formerly smoked</td>\n",
       "      <td>0</td>\n",
       "      <td>0</td>\n",
       "      <td>Yes</td>\n",
       "      <td>Self-employed</td>\n",
       "      <td>Urban</td>\n",
       "      <td>1</td>\n",
       "    </tr>\n",
       "    <tr>\n",
       "      <th>948</th>\n",
       "      <td>7273</td>\n",
       "      <td>female</td>\n",
       "      <td>51.0</td>\n",
       "      <td>1.88976</td>\n",
       "      <td>121.420557</td>\n",
       "      <td>169.35</td>\n",
       "      <td>34.0</td>\n",
       "      <td>smokes</td>\n",
       "      <td>0</td>\n",
       "      <td>0</td>\n",
       "      <td>Yes</td>\n",
       "      <td>Self-employed</td>\n",
       "      <td>Urban</td>\n",
       "      <td>0</td>\n",
       "    </tr>\n",
       "    <tr>\n",
       "      <th>1070</th>\n",
       "      <td>42550</td>\n",
       "      <td>female</td>\n",
       "      <td>81.0</td>\n",
       "      <td>1.76784</td>\n",
       "      <td>65.942949</td>\n",
       "      <td>169.35</td>\n",
       "      <td>21.1</td>\n",
       "      <td>never smoked</td>\n",
       "      <td>0</td>\n",
       "      <td>0</td>\n",
       "      <td>Yes</td>\n",
       "      <td>Self-employed</td>\n",
       "      <td>Rural</td>\n",
       "      <td>0</td>\n",
       "    </tr>\n",
       "    <tr>\n",
       "      <th>1257</th>\n",
       "      <td>5821</td>\n",
       "      <td>female</td>\n",
       "      <td>50.0</td>\n",
       "      <td>1.73736</td>\n",
       "      <td>152.732040</td>\n",
       "      <td>169.35</td>\n",
       "      <td>50.6</td>\n",
       "      <td>Unknown</td>\n",
       "      <td>0</td>\n",
       "      <td>0</td>\n",
       "      <td>Yes</td>\n",
       "      <td>Private</td>\n",
       "      <td>Rural</td>\n",
       "      <td>0</td>\n",
       "    </tr>\n",
       "    <tr>\n",
       "      <th>1654</th>\n",
       "      <td>44781</td>\n",
       "      <td>female</td>\n",
       "      <td>60.0</td>\n",
       "      <td>1.70688</td>\n",
       "      <td>102.844409</td>\n",
       "      <td>169.35</td>\n",
       "      <td>35.3</td>\n",
       "      <td>smokes</td>\n",
       "      <td>0</td>\n",
       "      <td>1</td>\n",
       "      <td>Yes</td>\n",
       "      <td>Private</td>\n",
       "      <td>Urban</td>\n",
       "      <td>0</td>\n",
       "    </tr>\n",
       "    <tr>\n",
       "      <th>1717</th>\n",
       "      <td>5043</td>\n",
       "      <td>female</td>\n",
       "      <td>53.0</td>\n",
       "      <td>1.67640</td>\n",
       "      <td>84.028477</td>\n",
       "      <td>83.41</td>\n",
       "      <td>29.9</td>\n",
       "      <td>never smoked</td>\n",
       "      <td>0</td>\n",
       "      <td>0</td>\n",
       "      <td>Yes</td>\n",
       "      <td>Private</td>\n",
       "      <td>Urban</td>\n",
       "      <td>0</td>\n",
       "    </tr>\n",
       "    <tr>\n",
       "      <th>1722</th>\n",
       "      <td>26826</td>\n",
       "      <td>female</td>\n",
       "      <td>61.0</td>\n",
       "      <td>1.82880</td>\n",
       "      <td>53.846602</td>\n",
       "      <td>73.36</td>\n",
       "      <td>16.1</td>\n",
       "      <td>never smoked</td>\n",
       "      <td>0</td>\n",
       "      <td>0</td>\n",
       "      <td>Yes</td>\n",
       "      <td>Self-employed</td>\n",
       "      <td>Urban</td>\n",
       "      <td>0</td>\n",
       "    </tr>\n",
       "    <tr>\n",
       "      <th>2342</th>\n",
       "      <td>28258</td>\n",
       "      <td>female</td>\n",
       "      <td>80.0</td>\n",
       "      <td>1.73736</td>\n",
       "      <td>89.647067</td>\n",
       "      <td>75.06</td>\n",
       "      <td>29.7</td>\n",
       "      <td>Unknown</td>\n",
       "      <td>0</td>\n",
       "      <td>0</td>\n",
       "      <td>Yes</td>\n",
       "      <td>Self-employed</td>\n",
       "      <td>Urban</td>\n",
       "      <td>0</td>\n",
       "    </tr>\n",
       "    <tr>\n",
       "      <th>2451</th>\n",
       "      <td>47937</td>\n",
       "      <td>female</td>\n",
       "      <td>57.0</td>\n",
       "      <td>1.64592</td>\n",
       "      <td>96.984085</td>\n",
       "      <td>78.14</td>\n",
       "      <td>35.8</td>\n",
       "      <td>never smoked</td>\n",
       "      <td>0</td>\n",
       "      <td>0</td>\n",
       "      <td>Yes</td>\n",
       "      <td>Self-employed</td>\n",
       "      <td>Rural</td>\n",
       "      <td>0</td>\n",
       "    </tr>\n",
       "    <tr>\n",
       "      <th>2614</th>\n",
       "      <td>364</td>\n",
       "      <td>female</td>\n",
       "      <td>58.0</td>\n",
       "      <td>1.73736</td>\n",
       "      <td>80.893650</td>\n",
       "      <td>105.74</td>\n",
       "      <td>26.8</td>\n",
       "      <td>formerly smoked</td>\n",
       "      <td>0</td>\n",
       "      <td>0</td>\n",
       "      <td>Yes</td>\n",
       "      <td>Private</td>\n",
       "      <td>Urban</td>\n",
       "      <td>0</td>\n",
       "    </tr>\n",
       "    <tr>\n",
       "      <th>2641</th>\n",
       "      <td>21971</td>\n",
       "      <td>female</td>\n",
       "      <td>52.0</td>\n",
       "      <td>1.55448</td>\n",
       "      <td>63.309891</td>\n",
       "      <td>169.35</td>\n",
       "      <td>26.2</td>\n",
       "      <td>never smoked</td>\n",
       "      <td>0</td>\n",
       "      <td>0</td>\n",
       "      <td>Yes</td>\n",
       "      <td>Govt_job</td>\n",
       "      <td>Rural</td>\n",
       "      <td>0</td>\n",
       "    </tr>\n",
       "    <tr>\n",
       "      <th>3065</th>\n",
       "      <td>46455</td>\n",
       "      <td>female</td>\n",
       "      <td>61.0</td>\n",
       "      <td>1.98120</td>\n",
       "      <td>127.960002</td>\n",
       "      <td>125.74</td>\n",
       "      <td>32.6</td>\n",
       "      <td>Unknown</td>\n",
       "      <td>0</td>\n",
       "      <td>0</td>\n",
       "      <td>Yes</td>\n",
       "      <td>Private</td>\n",
       "      <td>Urban</td>\n",
       "      <td>0</td>\n",
       "    </tr>\n",
       "    <tr>\n",
       "      <th>3074</th>\n",
       "      <td>72231</td>\n",
       "      <td>female</td>\n",
       "      <td>47.0</td>\n",
       "      <td>1.76784</td>\n",
       "      <td>NaN</td>\n",
       "      <td>169.35</td>\n",
       "      <td>NaN</td>\n",
       "      <td>never smoked</td>\n",
       "      <td>0</td>\n",
       "      <td>0</td>\n",
       "      <td>Yes</td>\n",
       "      <td>Self-employed</td>\n",
       "      <td>Rural</td>\n",
       "      <td>0</td>\n",
       "    </tr>\n",
       "    <tr>\n",
       "      <th>3139</th>\n",
       "      <td>39984</td>\n",
       "      <td>female</td>\n",
       "      <td>42.0</td>\n",
       "      <td>1.61544</td>\n",
       "      <td>59.238973</td>\n",
       "      <td>157.67</td>\n",
       "      <td>22.7</td>\n",
       "      <td>formerly smoked</td>\n",
       "      <td>0</td>\n",
       "      <td>0</td>\n",
       "      <td>Yes</td>\n",
       "      <td>Govt_job</td>\n",
       "      <td>Rural</td>\n",
       "      <td>0</td>\n",
       "    </tr>\n",
       "    <tr>\n",
       "      <th>3421</th>\n",
       "      <td>3003</td>\n",
       "      <td>female</td>\n",
       "      <td>51.0</td>\n",
       "      <td>1.61544</td>\n",
       "      <td>79.594215</td>\n",
       "      <td>85.59</td>\n",
       "      <td>30.5</td>\n",
       "      <td>never smoked</td>\n",
       "      <td>0</td>\n",
       "      <td>0</td>\n",
       "      <td>Yes</td>\n",
       "      <td>Govt_job</td>\n",
       "      <td>Rural</td>\n",
       "      <td>0</td>\n",
       "    </tr>\n",
       "    <tr>\n",
       "      <th>3432</th>\n",
       "      <td>38783</td>\n",
       "      <td>female</td>\n",
       "      <td>41.0</td>\n",
       "      <td>1.61544</td>\n",
       "      <td>89.510871</td>\n",
       "      <td>146.21</td>\n",
       "      <td>34.3</td>\n",
       "      <td>Unknown</td>\n",
       "      <td>0</td>\n",
       "      <td>0</td>\n",
       "      <td>Yes</td>\n",
       "      <td>Self-employed</td>\n",
       "      <td>Urban</td>\n",
       "      <td>0</td>\n",
       "    </tr>\n",
       "    <tr>\n",
       "      <th>3469</th>\n",
       "      <td>62306</td>\n",
       "      <td>female</td>\n",
       "      <td>69.0</td>\n",
       "      <td>1.61544</td>\n",
       "      <td>68.111771</td>\n",
       "      <td>111.81</td>\n",
       "      <td>26.1</td>\n",
       "      <td>formerly smoked</td>\n",
       "      <td>1</td>\n",
       "      <td>0</td>\n",
       "      <td>Yes</td>\n",
       "      <td>Self-employed</td>\n",
       "      <td>Urban</td>\n",
       "      <td>0</td>\n",
       "    </tr>\n",
       "    <tr>\n",
       "      <th>3701</th>\n",
       "      <td>46130</td>\n",
       "      <td>female</td>\n",
       "      <td>57.0</td>\n",
       "      <td>1.85928</td>\n",
       "      <td>121.683659</td>\n",
       "      <td>142.31</td>\n",
       "      <td>35.2</td>\n",
       "      <td>smokes</td>\n",
       "      <td>0</td>\n",
       "      <td>0</td>\n",
       "      <td>Yes</td>\n",
       "      <td>Self-employed</td>\n",
       "      <td>Urban</td>\n",
       "      <td>0</td>\n",
       "    </tr>\n",
       "    <tr>\n",
       "      <th>3759</th>\n",
       "      <td>53552</td>\n",
       "      <td>female</td>\n",
       "      <td>62.0</td>\n",
       "      <td>1.92024</td>\n",
       "      <td>86.283327</td>\n",
       "      <td>101.19</td>\n",
       "      <td>23.4</td>\n",
       "      <td>never smoked</td>\n",
       "      <td>0</td>\n",
       "      <td>0</td>\n",
       "      <td>Yes</td>\n",
       "      <td>Private</td>\n",
       "      <td>Urban</td>\n",
       "      <td>0</td>\n",
       "    </tr>\n",
       "    <tr>\n",
       "      <th>4060</th>\n",
       "      <td>68330</td>\n",
       "      <td>female</td>\n",
       "      <td>69.0</td>\n",
       "      <td>1.92024</td>\n",
       "      <td>95.501631</td>\n",
       "      <td>110.96</td>\n",
       "      <td>25.9</td>\n",
       "      <td>never smoked</td>\n",
       "      <td>0</td>\n",
       "      <td>0</td>\n",
       "      <td>Yes</td>\n",
       "      <td>Self-employed</td>\n",
       "      <td>Rural</td>\n",
       "      <td>0</td>\n",
       "    </tr>\n",
       "    <tr>\n",
       "      <th>4362</th>\n",
       "      <td>56575</td>\n",
       "      <td>female</td>\n",
       "      <td>51.0</td>\n",
       "      <td>1.76784</td>\n",
       "      <td>104.071100</td>\n",
       "      <td>69.94</td>\n",
       "      <td>33.3</td>\n",
       "      <td>smokes</td>\n",
       "      <td>1</td>\n",
       "      <td>0</td>\n",
       "      <td>Yes</td>\n",
       "      <td>Govt_job</td>\n",
       "      <td>Urban</td>\n",
       "      <td>0</td>\n",
       "    </tr>\n",
       "    <tr>\n",
       "      <th>4371</th>\n",
       "      <td>62296</td>\n",
       "      <td>female</td>\n",
       "      <td>44.0</td>\n",
       "      <td>1.73736</td>\n",
       "      <td>83.610228</td>\n",
       "      <td>108.38</td>\n",
       "      <td>27.7</td>\n",
       "      <td>Unknown</td>\n",
       "      <td>0</td>\n",
       "      <td>0</td>\n",
       "      <td>Yes</td>\n",
       "      <td>Govt_job</td>\n",
       "      <td>Rural</td>\n",
       "      <td>0</td>\n",
       "    </tr>\n",
       "  </tbody>\n",
       "</table>\n",
       "</div>"
      ],
      "text/plain": [
       "         id  gender   age  height_in_m  weight_in_kg  avg_glucose_level   bmi  \\\n",
       "4      1665  female  79.0      1.85928     82.966131             169.35  24.0   \n",
       "75    66159  female  80.0      1.82880     72.575855              66.72  21.7   \n",
       "158   66258  female  71.0      1.95072    129.761020             169.35  34.1   \n",
       "948    7273  female  51.0      1.88976    121.420557             169.35  34.0   \n",
       "1070  42550  female  81.0      1.76784     65.942949             169.35  21.1   \n",
       "1257   5821  female  50.0      1.73736    152.732040             169.35  50.6   \n",
       "1654  44781  female  60.0      1.70688    102.844409             169.35  35.3   \n",
       "1717   5043  female  53.0      1.67640     84.028477              83.41  29.9   \n",
       "1722  26826  female  61.0      1.82880     53.846602              73.36  16.1   \n",
       "2342  28258  female  80.0      1.73736     89.647067              75.06  29.7   \n",
       "2451  47937  female  57.0      1.64592     96.984085              78.14  35.8   \n",
       "2614    364  female  58.0      1.73736     80.893650             105.74  26.8   \n",
       "2641  21971  female  52.0      1.55448     63.309891             169.35  26.2   \n",
       "3065  46455  female  61.0      1.98120    127.960002             125.74  32.6   \n",
       "3074  72231  female  47.0      1.76784           NaN             169.35   NaN   \n",
       "3139  39984  female  42.0      1.61544     59.238973             157.67  22.7   \n",
       "3421   3003  female  51.0      1.61544     79.594215              85.59  30.5   \n",
       "3432  38783  female  41.0      1.61544     89.510871             146.21  34.3   \n",
       "3469  62306  female  69.0      1.61544     68.111771             111.81  26.1   \n",
       "3701  46130  female  57.0      1.85928    121.683659             142.31  35.2   \n",
       "3759  53552  female  62.0      1.92024     86.283327             101.19  23.4   \n",
       "4060  68330  female  69.0      1.92024     95.501631             110.96  25.9   \n",
       "4362  56575  female  51.0      1.76784    104.071100              69.94  33.3   \n",
       "4371  62296  female  44.0      1.73736     83.610228             108.38  27.7   \n",
       "\n",
       "       smoking_status  hypertension  heart_disease ever_married  \\\n",
       "4        never smoked             1              0          Yes   \n",
       "75    formerly smoked             0              1          Yes   \n",
       "158   formerly smoked             0              0          Yes   \n",
       "948            smokes             0              0          Yes   \n",
       "1070     never smoked             0              0          Yes   \n",
       "1257          Unknown             0              0          Yes   \n",
       "1654           smokes             0              1          Yes   \n",
       "1717     never smoked             0              0          Yes   \n",
       "1722     never smoked             0              0          Yes   \n",
       "2342          Unknown             0              0          Yes   \n",
       "2451     never smoked             0              0          Yes   \n",
       "2614  formerly smoked             0              0          Yes   \n",
       "2641     never smoked             0              0          Yes   \n",
       "3065          Unknown             0              0          Yes   \n",
       "3074     never smoked             0              0          Yes   \n",
       "3139  formerly smoked             0              0          Yes   \n",
       "3421     never smoked             0              0          Yes   \n",
       "3432          Unknown             0              0          Yes   \n",
       "3469  formerly smoked             1              0          Yes   \n",
       "3701           smokes             0              0          Yes   \n",
       "3759     never smoked             0              0          Yes   \n",
       "4060     never smoked             0              0          Yes   \n",
       "4362           smokes             1              0          Yes   \n",
       "4371          Unknown             0              0          Yes   \n",
       "\n",
       "          work_type Residence_type  stroke  \n",
       "4     Self-employed          Rural       1  \n",
       "75    Self-employed          Rural       1  \n",
       "158   Self-employed          Urban       1  \n",
       "948   Self-employed          Urban       0  \n",
       "1070  Self-employed          Rural       0  \n",
       "1257        Private          Rural       0  \n",
       "1654        Private          Urban       0  \n",
       "1717        Private          Urban       0  \n",
       "1722  Self-employed          Urban       0  \n",
       "2342  Self-employed          Urban       0  \n",
       "2451  Self-employed          Rural       0  \n",
       "2614        Private          Urban       0  \n",
       "2641       Govt_job          Rural       0  \n",
       "3065        Private          Urban       0  \n",
       "3074  Self-employed          Rural       0  \n",
       "3139       Govt_job          Rural       0  \n",
       "3421       Govt_job          Rural       0  \n",
       "3432  Self-employed          Urban       0  \n",
       "3469  Self-employed          Urban       0  \n",
       "3701  Self-employed          Urban       0  \n",
       "3759        Private          Urban       0  \n",
       "4060  Self-employed          Rural       0  \n",
       "4362       Govt_job          Urban       0  \n",
       "4371       Govt_job          Rural       0  "
      ]
     },
     "execution_count": 20,
     "metadata": {},
     "output_type": "execute_result"
    }
   ],
   "source": [
    "# Code here\n",
    "df.loc[(df['age'] > 40) & (df['gender'] == 'female')]"
   ]
  },
  {
   "cell_type": "code",
   "execution_count": 21,
   "metadata": {},
   "outputs": [
    {
     "data": {
      "text/html": [
       "<div>\n",
       "<style scoped>\n",
       "    .dataframe tbody tr th:only-of-type {\n",
       "        vertical-align: middle;\n",
       "    }\n",
       "\n",
       "    .dataframe tbody tr th {\n",
       "        vertical-align: top;\n",
       "    }\n",
       "\n",
       "    .dataframe thead th {\n",
       "        text-align: right;\n",
       "    }\n",
       "</style>\n",
       "<table border=\"1\" class=\"dataframe\">\n",
       "  <thead>\n",
       "    <tr style=\"text-align: right;\">\n",
       "      <th></th>\n",
       "      <th>id</th>\n",
       "      <th>gender</th>\n",
       "      <th>age</th>\n",
       "      <th>height_in_m</th>\n",
       "      <th>weight_in_kg</th>\n",
       "      <th>avg_glucose_level</th>\n",
       "      <th>bmi</th>\n",
       "      <th>smoking_status</th>\n",
       "      <th>hypertension</th>\n",
       "      <th>heart_disease</th>\n",
       "      <th>ever_married</th>\n",
       "      <th>work_type</th>\n",
       "      <th>Residence_type</th>\n",
       "      <th>stroke</th>\n",
       "    </tr>\n",
       "  </thead>\n",
       "  <tbody>\n",
       "    <tr>\n",
       "      <th>249</th>\n",
       "      <td>30669</td>\n",
       "      <td>Male</td>\n",
       "      <td>3.00</td>\n",
       "      <td>1.64592</td>\n",
       "      <td>48.762948</td>\n",
       "      <td>95.12</td>\n",
       "      <td>18.0</td>\n",
       "      <td>Unknown</td>\n",
       "      <td>0</td>\n",
       "      <td>0</td>\n",
       "      <td>NaN</td>\n",
       "      <td>children</td>\n",
       "      <td>Rural</td>\n",
       "      <td>0</td>\n",
       "    </tr>\n",
       "    <tr>\n",
       "      <th>253</th>\n",
       "      <td>46136</td>\n",
       "      <td>Male</td>\n",
       "      <td>14.00</td>\n",
       "      <td>1.55448</td>\n",
       "      <td>46.153394</td>\n",
       "      <td>161.28</td>\n",
       "      <td>19.1</td>\n",
       "      <td>Unknown</td>\n",
       "      <td>0</td>\n",
       "      <td>0</td>\n",
       "      <td>No</td>\n",
       "      <td>Never_worked</td>\n",
       "      <td>Rural</td>\n",
       "      <td>0</td>\n",
       "    </tr>\n",
       "    <tr>\n",
       "      <th>279</th>\n",
       "      <td>67210</td>\n",
       "      <td>Male</td>\n",
       "      <td>27.00</td>\n",
       "      <td>1.55448</td>\n",
       "      <td>60.410202</td>\n",
       "      <td>82.90</td>\n",
       "      <td>25.0</td>\n",
       "      <td>Unknown</td>\n",
       "      <td>0</td>\n",
       "      <td>0</td>\n",
       "      <td>Yes</td>\n",
       "      <td>Self-employed</td>\n",
       "      <td>Urban</td>\n",
       "      <td>0</td>\n",
       "    </tr>\n",
       "    <tr>\n",
       "      <th>284</th>\n",
       "      <td>26325</td>\n",
       "      <td>Male</td>\n",
       "      <td>14.00</td>\n",
       "      <td>1.67640</td>\n",
       "      <td>88.806016</td>\n",
       "      <td>82.34</td>\n",
       "      <td>31.6</td>\n",
       "      <td>Unknown</td>\n",
       "      <td>0</td>\n",
       "      <td>0</td>\n",
       "      <td>No</td>\n",
       "      <td>Govt_job</td>\n",
       "      <td>Urban</td>\n",
       "      <td>0</td>\n",
       "    </tr>\n",
       "    <tr>\n",
       "      <th>290</th>\n",
       "      <td>55680</td>\n",
       "      <td>Male</td>\n",
       "      <td>13.00</td>\n",
       "      <td>1.88976</td>\n",
       "      <td>65.352829</td>\n",
       "      <td>114.84</td>\n",
       "      <td>18.3</td>\n",
       "      <td>Unknown</td>\n",
       "      <td>0</td>\n",
       "      <td>0</td>\n",
       "      <td>No</td>\n",
       "      <td>children</td>\n",
       "      <td>Urban</td>\n",
       "      <td>0</td>\n",
       "    </tr>\n",
       "    <tr>\n",
       "      <th>...</th>\n",
       "      <td>...</td>\n",
       "      <td>...</td>\n",
       "      <td>...</td>\n",
       "      <td>...</td>\n",
       "      <td>...</td>\n",
       "      <td>...</td>\n",
       "      <td>...</td>\n",
       "      <td>...</td>\n",
       "      <td>...</td>\n",
       "      <td>...</td>\n",
       "      <td>...</td>\n",
       "      <td>...</td>\n",
       "      <td>...</td>\n",
       "      <td>...</td>\n",
       "    </tr>\n",
       "    <tr>\n",
       "      <th>5090</th>\n",
       "      <td>4211</td>\n",
       "      <td>Male</td>\n",
       "      <td>26.00</td>\n",
       "      <td>1.82880</td>\n",
       "      <td>70.234698</td>\n",
       "      <td>100.85</td>\n",
       "      <td>21.0</td>\n",
       "      <td>smokes</td>\n",
       "      <td>0</td>\n",
       "      <td>0</td>\n",
       "      <td>No</td>\n",
       "      <td>Govt_job</td>\n",
       "      <td>Rural</td>\n",
       "      <td>0</td>\n",
       "    </tr>\n",
       "    <tr>\n",
       "      <th>5094</th>\n",
       "      <td>28048</td>\n",
       "      <td>Male</td>\n",
       "      <td>13.00</td>\n",
       "      <td>1.79832</td>\n",
       "      <td>78.585102</td>\n",
       "      <td>82.38</td>\n",
       "      <td>24.3</td>\n",
       "      <td>Unknown</td>\n",
       "      <td>0</td>\n",
       "      <td>0</td>\n",
       "      <td>No</td>\n",
       "      <td>children</td>\n",
       "      <td>Urban</td>\n",
       "      <td>0</td>\n",
       "    </tr>\n",
       "    <tr>\n",
       "      <th>5095</th>\n",
       "      <td>68598</td>\n",
       "      <td>Male</td>\n",
       "      <td>1.08</td>\n",
       "      <td>1.82880</td>\n",
       "      <td>58.194464</td>\n",
       "      <td>79.15</td>\n",
       "      <td>17.4</td>\n",
       "      <td>Unknown</td>\n",
       "      <td>0</td>\n",
       "      <td>0</td>\n",
       "      <td>No</td>\n",
       "      <td>children</td>\n",
       "      <td>Rural</td>\n",
       "      <td>0</td>\n",
       "    </tr>\n",
       "    <tr>\n",
       "      <th>5098</th>\n",
       "      <td>579</td>\n",
       "      <td>Male</td>\n",
       "      <td>9.00</td>\n",
       "      <td>1.82880</td>\n",
       "      <td>58.528915</td>\n",
       "      <td>71.88</td>\n",
       "      <td>17.5</td>\n",
       "      <td>Unknown</td>\n",
       "      <td>0</td>\n",
       "      <td>0</td>\n",
       "      <td>No</td>\n",
       "      <td>children</td>\n",
       "      <td>Urban</td>\n",
       "      <td>0</td>\n",
       "    </tr>\n",
       "    <tr>\n",
       "      <th>5119</th>\n",
       "      <td>26242</td>\n",
       "      <td>Male</td>\n",
       "      <td>6.00</td>\n",
       "      <td>1.55448</td>\n",
       "      <td>48.328161</td>\n",
       "      <td>83.28</td>\n",
       "      <td>20.0</td>\n",
       "      <td>Unknown</td>\n",
       "      <td>0</td>\n",
       "      <td>0</td>\n",
       "      <td>NaN</td>\n",
       "      <td>children</td>\n",
       "      <td>Urban</td>\n",
       "      <td>0</td>\n",
       "    </tr>\n",
       "  </tbody>\n",
       "</table>\n",
       "<p>646 rows × 14 columns</p>\n",
       "</div>"
      ],
      "text/plain": [
       "         id gender    age  height_in_m  weight_in_kg  avg_glucose_level   bmi  \\\n",
       "249   30669   Male   3.00      1.64592     48.762948              95.12  18.0   \n",
       "253   46136   Male  14.00      1.55448     46.153394             161.28  19.1   \n",
       "279   67210   Male  27.00      1.55448     60.410202              82.90  25.0   \n",
       "284   26325   Male  14.00      1.67640     88.806016              82.34  31.6   \n",
       "290   55680   Male  13.00      1.88976     65.352829             114.84  18.3   \n",
       "...     ...    ...    ...          ...           ...                ...   ...   \n",
       "5090   4211   Male  26.00      1.82880     70.234698             100.85  21.0   \n",
       "5094  28048   Male  13.00      1.79832     78.585102              82.38  24.3   \n",
       "5095  68598   Male   1.08      1.82880     58.194464              79.15  17.4   \n",
       "5098    579   Male   9.00      1.82880     58.528915              71.88  17.5   \n",
       "5119  26242   Male   6.00      1.55448     48.328161              83.28  20.0   \n",
       "\n",
       "     smoking_status  hypertension  heart_disease ever_married      work_type  \\\n",
       "249         Unknown             0              0          NaN       children   \n",
       "253         Unknown             0              0           No   Never_worked   \n",
       "279         Unknown             0              0          Yes  Self-employed   \n",
       "284         Unknown             0              0           No       Govt_job   \n",
       "290         Unknown             0              0           No       children   \n",
       "...             ...           ...            ...          ...            ...   \n",
       "5090         smokes             0              0           No       Govt_job   \n",
       "5094        Unknown             0              0           No       children   \n",
       "5095        Unknown             0              0           No       children   \n",
       "5098        Unknown             0              0           No       children   \n",
       "5119        Unknown             0              0          NaN       children   \n",
       "\n",
       "     Residence_type  stroke  \n",
       "249           Rural       0  \n",
       "253           Rural       0  \n",
       "279           Urban       0  \n",
       "284           Urban       0  \n",
       "290           Urban       0  \n",
       "...             ...     ...  \n",
       "5090          Rural       0  \n",
       "5094          Urban       0  \n",
       "5095          Rural       0  \n",
       "5098          Urban       0  \n",
       "5119          Urban       0  \n",
       "\n",
       "[646 rows x 14 columns]"
      ]
     },
     "execution_count": 21,
     "metadata": {},
     "output_type": "execute_result"
    }
   ],
   "source": [
    "#Male younger than 30 with height more than 1.5m\n",
    "df.loc[(df['gender'] == 'Male') & (df['height_in_m'] > 1.5) & (df['age'] <30)]"
   ]
  },
  {
   "cell_type": "markdown",
   "metadata": {},
   "source": [
    "### Data Wrangling\n",
    "\n",
    "- Data Inspection\n",
    "  - Checking Duplicate Enties\n",
    "  - Checking Missing Values\n",
    "  - Checking standard format\n",
    "  - Checking data entry typos and errors\n",
    "- Data Cleaning\n",
    "  - Removing Duplicates\n",
    "  - Handling Missing Values\n",
    "  - Standardizing Formats\n",
    "  - Correcting Errors\n",
    "- Data Transformation\n",
    "  - Feature Engineering\n",
    "  - Normalization/Scaling\n",
    "  - One-Hot Encoding\n",
    "- Data Integration\n",
    "- Data Reduction\n",
    "- Data Formatting\n",
    "- Data Enrichment\n",
    "- Data Validation\n",
    "- Documentation\n",
    "- Exploratory Data Analysis (EDA)\n"
   ]
  },
  {
   "cell_type": "markdown",
   "metadata": {},
   "source": [
    "**Checking Duplicate Entries**\n",
    "- Check if duplicate entries are present or not.\n",
    "- If present find how many of duplicate entries are there?"
   ]
  },
  {
   "cell_type": "code",
   "execution_count": 22,
   "metadata": {},
   "outputs": [
    {
     "data": {
      "text/plain": [
       "0       False\n",
       "1       False\n",
       "2       False\n",
       "3       False\n",
       "4       False\n",
       "        ...  \n",
       "5130     True\n",
       "5131     True\n",
       "5132     True\n",
       "5133     True\n",
       "5134     True\n",
       "Length: 5135, dtype: bool"
      ]
     },
     "execution_count": 22,
     "metadata": {},
     "output_type": "execute_result"
    }
   ],
   "source": [
    "#code here\n",
    "df.duplicated()"
   ]
  },
  {
   "cell_type": "code",
   "execution_count": 23,
   "metadata": {},
   "outputs": [
    {
     "data": {
      "text/plain": [
       "<bound method DataFrame.duplicated of          id  gender   age  height_in_m  weight_in_kg  avg_glucose_level   bmi  \\\n",
       "0      9046    Male  67.0      1.82880    122.409046             169.35  36.6   \n",
       "1     51676  Female  61.0      1.64592           NaN             169.35   NaN   \n",
       "2     31112    Male  80.0      1.79832    105.103532             105.92  32.5   \n",
       "3     60182  Female  49.0      1.92024    126.843865             169.35  34.4   \n",
       "4      1665  female  79.0      1.85928     82.966131             169.35  24.0   \n",
       "...     ...     ...   ...          ...           ...                ...   ...   \n",
       "5130  46373  Female  57.0      1.67640     72.506178             169.97  25.8   \n",
       "5131  40112  Female  37.0      1.92024     92.551774             118.41  25.1   \n",
       "5132  32240  Female  27.0      1.82880    139.131593              93.55  41.6   \n",
       "5133  69312  Female  48.0      1.58496     78.377464              99.29  31.2   \n",
       "5134  25763  Female  23.0      1.64592     76.666190              98.66  28.3   \n",
       "\n",
       "       smoking_status  hypertension  heart_disease ever_married  \\\n",
       "0     formerly smoked             0              1          Yes   \n",
       "1        never smoked             0              0          Yes   \n",
       "2        never smoked             0              1          Yes   \n",
       "3              smokes             0              0          Yes   \n",
       "4        never smoked             1              0          Yes   \n",
       "...               ...           ...            ...          ...   \n",
       "5130     never smoked             0              0          Yes   \n",
       "5131     never smoked             0              0           No   \n",
       "5132     never smoked             0              0           No   \n",
       "5133     never smoked             0              0          Yes   \n",
       "5134          Unknown             0              0           No   \n",
       "\n",
       "          work_type Residence_type  stroke  \n",
       "0           Private          Urban       1  \n",
       "1     Self-employed          Rural       1  \n",
       "2           Private          Rural       1  \n",
       "3           Private          Urban       1  \n",
       "4     Self-employed          Rural       1  \n",
       "...             ...            ...     ...  \n",
       "5130        Private          Rural       0  \n",
       "5131        Private          Urban       0  \n",
       "5132        Private          Urban       0  \n",
       "5133  Self-employed          Urban       0  \n",
       "5134        Private          Urban       0  \n",
       "\n",
       "[5135 rows x 14 columns]>"
      ]
     },
     "execution_count": 23,
     "metadata": {},
     "output_type": "execute_result"
    }
   ],
   "source": [
    "# Code here\n",
    "df.duplicated"
   ]
  },
  {
   "cell_type": "code",
   "execution_count": 24,
   "metadata": {},
   "outputs": [],
   "source": [
    "# Code here \n",
    "# df[df.duplicated()].shape\n",
    "non_df = df[~df.duplicated()]"
   ]
  },
  {
   "cell_type": "markdown",
   "metadata": {},
   "source": [
    "**Remove Duplicate Entries**"
   ]
  },
  {
   "cell_type": "markdown",
   "metadata": {},
   "source": [
    "**Checking Missing Values**\n",
    "- Find missing values (NAN) values in the datasets\n",
    "- Find columns which has missing values with their frequency"
   ]
  },
  {
   "cell_type": "code",
   "execution_count": 25,
   "metadata": {},
   "outputs": [
    {
     "data": {
      "text/html": [
       "<div>\n",
       "<style scoped>\n",
       "    .dataframe tbody tr th:only-of-type {\n",
       "        vertical-align: middle;\n",
       "    }\n",
       "\n",
       "    .dataframe tbody tr th {\n",
       "        vertical-align: top;\n",
       "    }\n",
       "\n",
       "    .dataframe thead th {\n",
       "        text-align: right;\n",
       "    }\n",
       "</style>\n",
       "<table border=\"1\" class=\"dataframe\">\n",
       "  <thead>\n",
       "    <tr style=\"text-align: right;\">\n",
       "      <th></th>\n",
       "      <th>id</th>\n",
       "      <th>gender</th>\n",
       "      <th>age</th>\n",
       "      <th>height_in_m</th>\n",
       "      <th>weight_in_kg</th>\n",
       "      <th>avg_glucose_level</th>\n",
       "      <th>bmi</th>\n",
       "      <th>smoking_status</th>\n",
       "      <th>hypertension</th>\n",
       "      <th>heart_disease</th>\n",
       "      <th>ever_married</th>\n",
       "      <th>work_type</th>\n",
       "      <th>Residence_type</th>\n",
       "      <th>stroke</th>\n",
       "    </tr>\n",
       "  </thead>\n",
       "  <tbody>\n",
       "    <tr>\n",
       "      <th>0</th>\n",
       "      <td>False</td>\n",
       "      <td>False</td>\n",
       "      <td>False</td>\n",
       "      <td>False</td>\n",
       "      <td>False</td>\n",
       "      <td>False</td>\n",
       "      <td>False</td>\n",
       "      <td>False</td>\n",
       "      <td>False</td>\n",
       "      <td>False</td>\n",
       "      <td>False</td>\n",
       "      <td>False</td>\n",
       "      <td>False</td>\n",
       "      <td>False</td>\n",
       "    </tr>\n",
       "    <tr>\n",
       "      <th>1</th>\n",
       "      <td>False</td>\n",
       "      <td>False</td>\n",
       "      <td>False</td>\n",
       "      <td>False</td>\n",
       "      <td>True</td>\n",
       "      <td>False</td>\n",
       "      <td>True</td>\n",
       "      <td>False</td>\n",
       "      <td>False</td>\n",
       "      <td>False</td>\n",
       "      <td>False</td>\n",
       "      <td>False</td>\n",
       "      <td>False</td>\n",
       "      <td>False</td>\n",
       "    </tr>\n",
       "    <tr>\n",
       "      <th>2</th>\n",
       "      <td>False</td>\n",
       "      <td>False</td>\n",
       "      <td>False</td>\n",
       "      <td>False</td>\n",
       "      <td>False</td>\n",
       "      <td>False</td>\n",
       "      <td>False</td>\n",
       "      <td>False</td>\n",
       "      <td>False</td>\n",
       "      <td>False</td>\n",
       "      <td>False</td>\n",
       "      <td>False</td>\n",
       "      <td>False</td>\n",
       "      <td>False</td>\n",
       "    </tr>\n",
       "    <tr>\n",
       "      <th>3</th>\n",
       "      <td>False</td>\n",
       "      <td>False</td>\n",
       "      <td>False</td>\n",
       "      <td>False</td>\n",
       "      <td>False</td>\n",
       "      <td>False</td>\n",
       "      <td>False</td>\n",
       "      <td>False</td>\n",
       "      <td>False</td>\n",
       "      <td>False</td>\n",
       "      <td>False</td>\n",
       "      <td>False</td>\n",
       "      <td>False</td>\n",
       "      <td>False</td>\n",
       "    </tr>\n",
       "    <tr>\n",
       "      <th>4</th>\n",
       "      <td>False</td>\n",
       "      <td>False</td>\n",
       "      <td>False</td>\n",
       "      <td>False</td>\n",
       "      <td>False</td>\n",
       "      <td>False</td>\n",
       "      <td>False</td>\n",
       "      <td>False</td>\n",
       "      <td>False</td>\n",
       "      <td>False</td>\n",
       "      <td>False</td>\n",
       "      <td>False</td>\n",
       "      <td>False</td>\n",
       "      <td>False</td>\n",
       "    </tr>\n",
       "    <tr>\n",
       "      <th>...</th>\n",
       "      <td>...</td>\n",
       "      <td>...</td>\n",
       "      <td>...</td>\n",
       "      <td>...</td>\n",
       "      <td>...</td>\n",
       "      <td>...</td>\n",
       "      <td>...</td>\n",
       "      <td>...</td>\n",
       "      <td>...</td>\n",
       "      <td>...</td>\n",
       "      <td>...</td>\n",
       "      <td>...</td>\n",
       "      <td>...</td>\n",
       "      <td>...</td>\n",
       "    </tr>\n",
       "    <tr>\n",
       "      <th>5105</th>\n",
       "      <td>False</td>\n",
       "      <td>False</td>\n",
       "      <td>False</td>\n",
       "      <td>False</td>\n",
       "      <td>True</td>\n",
       "      <td>False</td>\n",
       "      <td>True</td>\n",
       "      <td>False</td>\n",
       "      <td>False</td>\n",
       "      <td>False</td>\n",
       "      <td>False</td>\n",
       "      <td>False</td>\n",
       "      <td>False</td>\n",
       "      <td>False</td>\n",
       "    </tr>\n",
       "    <tr>\n",
       "      <th>5106</th>\n",
       "      <td>False</td>\n",
       "      <td>False</td>\n",
       "      <td>False</td>\n",
       "      <td>False</td>\n",
       "      <td>False</td>\n",
       "      <td>False</td>\n",
       "      <td>False</td>\n",
       "      <td>False</td>\n",
       "      <td>False</td>\n",
       "      <td>False</td>\n",
       "      <td>False</td>\n",
       "      <td>False</td>\n",
       "      <td>False</td>\n",
       "      <td>False</td>\n",
       "    </tr>\n",
       "    <tr>\n",
       "      <th>5107</th>\n",
       "      <td>False</td>\n",
       "      <td>False</td>\n",
       "      <td>False</td>\n",
       "      <td>False</td>\n",
       "      <td>False</td>\n",
       "      <td>False</td>\n",
       "      <td>False</td>\n",
       "      <td>False</td>\n",
       "      <td>False</td>\n",
       "      <td>False</td>\n",
       "      <td>False</td>\n",
       "      <td>False</td>\n",
       "      <td>False</td>\n",
       "      <td>False</td>\n",
       "    </tr>\n",
       "    <tr>\n",
       "      <th>5108</th>\n",
       "      <td>False</td>\n",
       "      <td>False</td>\n",
       "      <td>False</td>\n",
       "      <td>False</td>\n",
       "      <td>False</td>\n",
       "      <td>False</td>\n",
       "      <td>False</td>\n",
       "      <td>False</td>\n",
       "      <td>False</td>\n",
       "      <td>False</td>\n",
       "      <td>False</td>\n",
       "      <td>False</td>\n",
       "      <td>False</td>\n",
       "      <td>False</td>\n",
       "    </tr>\n",
       "    <tr>\n",
       "      <th>5109</th>\n",
       "      <td>False</td>\n",
       "      <td>False</td>\n",
       "      <td>False</td>\n",
       "      <td>False</td>\n",
       "      <td>False</td>\n",
       "      <td>False</td>\n",
       "      <td>False</td>\n",
       "      <td>False</td>\n",
       "      <td>False</td>\n",
       "      <td>False</td>\n",
       "      <td>False</td>\n",
       "      <td>False</td>\n",
       "      <td>False</td>\n",
       "      <td>False</td>\n",
       "    </tr>\n",
       "  </tbody>\n",
       "</table>\n",
       "<p>5110 rows × 14 columns</p>\n",
       "</div>"
      ],
      "text/plain": [
       "         id  gender    age  height_in_m  weight_in_kg  avg_glucose_level  \\\n",
       "0     False   False  False        False         False              False   \n",
       "1     False   False  False        False          True              False   \n",
       "2     False   False  False        False         False              False   \n",
       "3     False   False  False        False         False              False   \n",
       "4     False   False  False        False         False              False   \n",
       "...     ...     ...    ...          ...           ...                ...   \n",
       "5105  False   False  False        False          True              False   \n",
       "5106  False   False  False        False         False              False   \n",
       "5107  False   False  False        False         False              False   \n",
       "5108  False   False  False        False         False              False   \n",
       "5109  False   False  False        False         False              False   \n",
       "\n",
       "        bmi  smoking_status  hypertension  heart_disease  ever_married  \\\n",
       "0     False           False         False          False         False   \n",
       "1      True           False         False          False         False   \n",
       "2     False           False         False          False         False   \n",
       "3     False           False         False          False         False   \n",
       "4     False           False         False          False         False   \n",
       "...     ...             ...           ...            ...           ...   \n",
       "5105   True           False         False          False         False   \n",
       "5106  False           False         False          False         False   \n",
       "5107  False           False         False          False         False   \n",
       "5108  False           False         False          False         False   \n",
       "5109  False           False         False          False         False   \n",
       "\n",
       "      work_type  Residence_type  stroke  \n",
       "0         False           False   False  \n",
       "1         False           False   False  \n",
       "2         False           False   False  \n",
       "3         False           False   False  \n",
       "4         False           False   False  \n",
       "...         ...             ...     ...  \n",
       "5105      False           False   False  \n",
       "5106      False           False   False  \n",
       "5107      False           False   False  \n",
       "5108      False           False   False  \n",
       "5109      False           False   False  \n",
       "\n",
       "[5110 rows x 14 columns]"
      ]
     },
     "execution_count": 25,
     "metadata": {},
     "output_type": "execute_result"
    }
   ],
   "source": [
    "# Code here\n",
    "non_df.isna()"
   ]
  },
  {
   "cell_type": "code",
   "execution_count": 26,
   "metadata": {},
   "outputs": [
    {
     "data": {
      "text/plain": [
       "<bound method DataFrame.isnull of          id  gender   age  height_in_m  weight_in_kg  avg_glucose_level   bmi  \\\n",
       "0      9046    Male  67.0      1.82880    122.409046             169.35  36.6   \n",
       "1     51676  Female  61.0      1.64592           NaN             169.35   NaN   \n",
       "2     31112    Male  80.0      1.79832    105.103532             105.92  32.5   \n",
       "3     60182  Female  49.0      1.92024    126.843865             169.35  34.4   \n",
       "4      1665  female  79.0      1.85928     82.966131             169.35  24.0   \n",
       "...     ...     ...   ...          ...           ...                ...   ...   \n",
       "5105  18234  Female  80.0      1.73736           NaN              83.75   NaN   \n",
       "5106  44873  Female  81.0      1.88976    142.847714             125.20  40.0   \n",
       "5107  19723  Female  35.0      1.82880    102.341989              82.99  30.6   \n",
       "5108  37544    Male  51.0      1.82880     85.619442             166.29  25.6   \n",
       "5109  44679  Female  44.0      1.58496     65.816973              85.28  26.2   \n",
       "\n",
       "       smoking_status  hypertension  heart_disease ever_married  \\\n",
       "0     formerly smoked             0              1          Yes   \n",
       "1        never smoked             0              0          Yes   \n",
       "2        never smoked             0              1          Yes   \n",
       "3              smokes             0              0          Yes   \n",
       "4        never smoked             1              0          Yes   \n",
       "...               ...           ...            ...          ...   \n",
       "5105     never smoked             1              0          Yes   \n",
       "5106     never smoked             0              0          Yes   \n",
       "5107     never smoked             0              0          Yes   \n",
       "5108  formerly smoked             0              0          Yes   \n",
       "5109          Unknown             0              0          Yes   \n",
       "\n",
       "          work_type Residence_type  stroke  \n",
       "0           Private          Urban       1  \n",
       "1     Self-employed          Rural       1  \n",
       "2           Private          Rural       1  \n",
       "3           Private          Urban       1  \n",
       "4     Self-employed          Rural       1  \n",
       "...             ...            ...     ...  \n",
       "5105        Private          Urban       0  \n",
       "5106  Self-employed          Urban       0  \n",
       "5107  Self-employed          Rural       0  \n",
       "5108        Private          Rural       0  \n",
       "5109       Govt_job          Urban       0  \n",
       "\n",
       "[5110 rows x 14 columns]>"
      ]
     },
     "execution_count": 26,
     "metadata": {},
     "output_type": "execute_result"
    }
   ],
   "source": [
    "# Code here\n",
    "non_df.isnull"
   ]
  },
  {
   "cell_type": "code",
   "execution_count": 27,
   "metadata": {},
   "outputs": [],
   "source": [
    "# Code here\n"
   ]
  },
  {
   "cell_type": "markdown",
   "metadata": {},
   "source": [
    "**Visulaize missing Values Using Heatmaps**"
   ]
  },
  {
   "cell_type": "markdown",
   "metadata": {},
   "source": [
    "### Heatmap\n",
    "\n",
    "- 2D representation of correlation between datafeatures\n",
    "- shows missing values"
   ]
  },
  {
   "cell_type": "code",
   "execution_count": 28,
   "metadata": {},
   "outputs": [
    {
     "data": {
      "text/plain": [
       "<Axes: >"
      ]
     },
     "execution_count": 28,
     "metadata": {},
     "output_type": "execute_result"
    },
    {
     "data": {
      "image/png": "[encoded data removed]",
      "text/plain": [
       "<Figure size 640x480 with 2 Axes>"
      ]
     },
     "metadata": {},
     "output_type": "display_data"
    }
   ],
   "source": [
    "# Code here\n",
    "scn.heatmap(non_df.isnull(), cmap= 'hot')"
   ]
  },
  {
   "cell_type": "markdown",
   "metadata": {},
   "source": [
    "### Handling Missing Values\n",
    "\n",
    "- **Deletion** : Deleting Data of missing values\n",
    "- **Imputation** : Process of replacing missing or incomplete data with estimated values to ensure the dataset remains usable for analysis or modeling.\n",
    "\n",
    "\n",
    "1. Univariate Imputation\n",
    "    - Categorical : Mode\n",
    "    - Numerical : Mean, Median\n",
    "2. Multivariate Imputation\n",
    "    - Iterative Imputer"
   ]
  },
  {
   "cell_type": "code",
   "execution_count": 29,
   "metadata": {},
   "outputs": [],
   "source": [
    "# from sklearn.impute import SimpleImputer,IterativeImputer\n",
    "\n",
    "# imputer_median = SimpleImputer(strategy='median')\n",
    "# df['A_median'] = imputer_median.fit_transform(df[['A']])\n",
    "\n",
    "# imputer_mode = SimpleImputer(strategy='most_frequent')\n",
    "# df['B_mode'] = imputer_mode.fit_transform(df[['B']])\n",
    "\n",
    "# imputer_mean = SimpleImputer(strategy='mean')\n",
    "# df['C_mean'] = imputer_mean.fit_transform(df[['C']])\n",
    "\n",
    "# imputer = IterativeImputer(max_iter=10, random_state=0)\n",
    "# df_imputed = pd.DataFrame(imputer.fit_transform(df), columns=['A','B','C'])"
   ]
  },
  {
   "cell_type": "markdown",
   "metadata": {},
   "source": [
    "**Handle missing values for ever_married column, bmi and weight_in_kg column**"
   ]
  },
  {
   "cell_type": "code",
   "execution_count": 30,
   "metadata": {},
   "outputs": [],
   "source": [
    "# Code here\n"
   ]
  },
  {
   "cell_type": "code",
   "execution_count": 31,
   "metadata": {},
   "outputs": [],
   "source": [
    "# Code here"
   ]
  },
  {
   "cell_type": "code",
   "execution_count": 32,
   "metadata": {},
   "outputs": [],
   "source": [
    "# Code here"
   ]
  },
  {
   "cell_type": "code",
   "execution_count": 33,
   "metadata": {},
   "outputs": [],
   "source": [
    "# Code here"
   ]
  },
  {
   "cell_type": "code",
   "execution_count": 34,
   "metadata": {},
   "outputs": [],
   "source": [
    "# Code here\n"
   ]
  },
  {
   "cell_type": "code",
   "execution_count": 35,
   "metadata": {},
   "outputs": [],
   "source": [
    "# Code here"
   ]
  },
  {
   "cell_type": "code",
   "execution_count": 36,
   "metadata": {},
   "outputs": [],
   "source": [
    "# Code here"
   ]
  },
  {
   "cell_type": "code",
   "execution_count": 37,
   "metadata": {},
   "outputs": [],
   "source": [
    "# Code here"
   ]
  },
  {
   "cell_type": "markdown",
   "metadata": {},
   "source": [
    "**Exploratory Data Analysis**\n",
    "\n",
    "- Univariate Analysis: Studying one variable at a time\n",
    "- Bivariate Analysis: Studying two variables at a time\n",
    "- Multivariate Analysis: Studying multiple variables at a time\n",
    "- We need to investigate each feature properly"
   ]
  },
  {
   "cell_type": "markdown",
   "metadata": {},
   "source": [
    "**Id Features**"
   ]
  },
  {
   "cell_type": "code",
   "execution_count": 38,
   "metadata": {},
   "outputs": [],
   "source": [
    "# Code here\n",
    "\n"
   ]
  },
  {
   "cell_type": "code",
   "execution_count": 39,
   "metadata": {},
   "outputs": [],
   "source": [
    "# Code here"
   ]
  },
  {
   "cell_type": "code",
   "execution_count": 40,
   "metadata": {},
   "outputs": [],
   "source": [
    "# Code here\n"
   ]
  },
  {
   "cell_type": "markdown",
   "metadata": {},
   "source": [
    "**Gender Feature**"
   ]
  },
  {
   "cell_type": "code",
   "execution_count": 41,
   "metadata": {},
   "outputs": [],
   "source": [
    "# Code here"
   ]
  },
  {
   "cell_type": "code",
   "execution_count": 42,
   "metadata": {},
   "outputs": [],
   "source": [
    "# Code here"
   ]
  },
  {
   "cell_type": "code",
   "execution_count": 43,
   "metadata": {},
   "outputs": [],
   "source": [
    "# Code here"
   ]
  },
  {
   "cell_type": "code",
   "execution_count": 44,
   "metadata": {},
   "outputs": [],
   "source": [
    "# Code here"
   ]
  },
  {
   "cell_type": "code",
   "execution_count": 45,
   "metadata": {},
   "outputs": [],
   "source": [
    "# Code here"
   ]
  },
  {
   "cell_type": "code",
   "execution_count": 46,
   "metadata": {},
   "outputs": [],
   "source": [
    "# Code here "
   ]
  },
  {
   "cell_type": "markdown",
   "metadata": {},
   "source": [
    "**Univariate Analysis**\n",
    "- Categorical : Bargraph, Piechart\n",
    "- Numerical : Distribution Plot, KDE Plot, Histogram, Boxplot"
   ]
  },
  {
   "cell_type": "code",
   "execution_count": 47,
   "metadata": {},
   "outputs": [],
   "source": [
    "# Code here"
   ]
  },
  {
   "cell_type": "code",
   "execution_count": 48,
   "metadata": {},
   "outputs": [],
   "source": [
    "# Code here"
   ]
  },
  {
   "cell_type": "code",
   "execution_count": 49,
   "metadata": {},
   "outputs": [],
   "source": [
    "# Code here"
   ]
  },
  {
   "cell_type": "markdown",
   "metadata": {},
   "source": [
    "**Smoking Status**"
   ]
  },
  {
   "cell_type": "code",
   "execution_count": 50,
   "metadata": {},
   "outputs": [],
   "source": [
    "# Code here"
   ]
  },
  {
   "cell_type": "code",
   "execution_count": 51,
   "metadata": {},
   "outputs": [],
   "source": [
    "# Code here"
   ]
  },
  {
   "cell_type": "code",
   "execution_count": 52,
   "metadata": {},
   "outputs": [],
   "source": [
    "# Code here"
   ]
  },
  {
   "cell_type": "code",
   "execution_count": 53,
   "metadata": {},
   "outputs": [],
   "source": [
    "# Code here"
   ]
  },
  {
   "cell_type": "code",
   "execution_count": 54,
   "metadata": {},
   "outputs": [],
   "source": [
    "# Code here"
   ]
  },
  {
   "cell_type": "code",
   "execution_count": 55,
   "metadata": {},
   "outputs": [],
   "source": [
    "# Code here"
   ]
  },
  {
   "cell_type": "code",
   "execution_count": 56,
   "metadata": {},
   "outputs": [],
   "source": [
    "# Code here"
   ]
  },
  {
   "cell_type": "markdown",
   "metadata": {},
   "source": [
    "**Hypertension**"
   ]
  },
  {
   "cell_type": "code",
   "execution_count": null,
   "metadata": {},
   "outputs": [],
   "source": []
  },
  {
   "cell_type": "markdown",
   "metadata": {},
   "source": [
    "**Stroke Feature**"
   ]
  },
  {
   "cell_type": "code",
   "execution_count": null,
   "metadata": {},
   "outputs": [],
   "source": []
  },
  {
   "cell_type": "markdown",
   "metadata": {},
   "source": [
    "**Bivariate Analysis**\n",
    "\n",
    "\n",
    "\n",
    "1. Hypothesis Testing [Mathematical Method]<br>***Chi Squared Test***\n",
    "    - Null Hypothesis(H0) : There is no relationship between\n",
    "    - Alternate Hypothesis (H1) : This is strong relationship\n",
    "    - Observe p-value\n",
    "    - p-value < 0.05 : Accept Alternate Hypothesis\n",
    "    - p-value > 0.05 : Accept Null Hypothesis\n",
    "    - for this we need contingency table\n",
    "\n",
    "\n",
    "\n",
    "2. Visualization\n",
    "    - Stacked Bargraph\n",
    "    - Grouped Bargraph\n",
    "    - Scatterplot\n",
    "    - KDE plot\n",
    "    - Pair Plot\n",
    "    - 3D plot\n",
    "    - TesorBoard Embedding Projector"
   ]
  },
  {
   "cell_type": "markdown",
   "metadata": {},
   "source": [
    "**Is there a chance that patients with hypertension has more likely to get a stroke or not?**"
   ]
  },
  {
   "cell_type": "code",
   "execution_count": 57,
   "metadata": {},
   "outputs": [],
   "source": [
    "# Code here"
   ]
  },
  {
   "cell_type": "code",
   "execution_count": 58,
   "metadata": {},
   "outputs": [],
   "source": [
    "# Code here"
   ]
  },
  {
   "cell_type": "markdown",
   "metadata": {},
   "source": [
    "**Group Barplot**"
   ]
  },
  {
   "cell_type": "code",
   "execution_count": 59,
   "metadata": {},
   "outputs": [],
   "source": [
    "# Code here"
   ]
  },
  {
   "cell_type": "code",
   "execution_count": 60,
   "metadata": {},
   "outputs": [],
   "source": [
    "# Code here"
   ]
  },
  {
   "cell_type": "markdown",
   "metadata": {},
   "source": [
    "**Is there a chance that patients with heartdiseases has more likely to get a stroke or not?**"
   ]
  },
  {
   "cell_type": "code",
   "execution_count": null,
   "metadata": {},
   "outputs": [],
   "source": []
  },
  {
   "cell_type": "code",
   "execution_count": null,
   "metadata": {},
   "outputs": [],
   "source": []
  },
  {
   "cell_type": "markdown",
   "metadata": {},
   "source": [
    "## Numerical Features"
   ]
  },
  {
   "cell_type": "code",
   "execution_count": 107,
   "metadata": {},
   "outputs": [],
   "source": [
    "# Code here\n",
    "clean_df = non_df.loc[~non_df['bmi'].isnull()]"
   ]
  },
  {
   "cell_type": "code",
   "execution_count": null,
   "metadata": {},
   "outputs": [],
   "source": []
  },
  {
   "cell_type": "code",
   "execution_count": 108,
   "metadata": {},
   "outputs": [
    {
     "data": {
      "text/plain": [
       "id                     0\n",
       "gender                 0\n",
       "age                    0\n",
       "height_in_m            0\n",
       "weight_in_kg           0\n",
       "avg_glucose_level      0\n",
       "bmi                    0\n",
       "smoking_status         0\n",
       "hypertension           0\n",
       "heart_disease          0\n",
       "ever_married         196\n",
       "work_type              0\n",
       "Residence_type         0\n",
       "stroke                 0\n",
       "dtype: int64"
      ]
     },
     "execution_count": 108,
     "metadata": {},
     "output_type": "execute_result"
    }
   ],
   "source": [
    "#code here\n",
    "clean_df.isnull().sum()"
   ]
  },
  {
   "cell_type": "markdown",
   "metadata": {},
   "source": [
    "**Height in Meter**"
   ]
  },
  {
   "cell_type": "code",
   "execution_count": 109,
   "metadata": {},
   "outputs": [],
   "source": [
    "# Code here"
   ]
  },
  {
   "cell_type": "markdown",
   "metadata": {},
   "source": [
    "**Age**"
   ]
  },
  {
   "cell_type": "code",
   "execution_count": 110,
   "metadata": {},
   "outputs": [],
   "source": [
    "# Code here"
   ]
  },
  {
   "cell_type": "markdown",
   "metadata": {},
   "source": [
    "Ever Married\n"
   ]
  },
  {
   "cell_type": "code",
   "execution_count": 111,
   "metadata": {},
   "outputs": [
    {
     "data": {
      "text/plain": [
       "age\n",
       "5.0    64\n",
       "3.0    44\n",
       "4.0    34\n",
       "7.0    31\n",
       "6.0    23\n",
       "Name: count, dtype: int64"
      ]
     },
     "execution_count": 111,
     "metadata": {},
     "output_type": "execute_result"
    }
   ],
   "source": [
    "clean_df.loc[clean_df['ever_married'].isnull(),['age']].value_counts()"
   ]
  },
  {
   "cell_type": "code",
   "execution_count": 112,
   "metadata": {},
   "outputs": [
    {
     "data": {
      "text/plain": [
       "ever_married\n",
       "Yes    3259\n",
       "No     1454\n",
       "Name: count, dtype: int64"
      ]
     },
     "execution_count": 112,
     "metadata": {},
     "output_type": "execute_result"
    }
   ],
   "source": [
    "# Code here\n",
    "clean_df['ever_married'].value_counts()"
   ]
  },
  {
   "cell_type": "code",
   "execution_count": 113,
   "metadata": {},
   "outputs": [
    {
     "data": {
      "text/plain": [
       "0       False\n",
       "2       False\n",
       "3       False\n",
       "4       False\n",
       "5       False\n",
       "        ...  \n",
       "5104    False\n",
       "5106    False\n",
       "5107    False\n",
       "5108    False\n",
       "5109    False\n",
       "Name: ever_married, Length: 4909, dtype: bool"
      ]
     },
     "execution_count": 113,
     "metadata": {},
     "output_type": "execute_result"
    }
   ],
   "source": [
    "# Code here\n",
    "clean_df['ever_married'].isnull()"
   ]
  },
  {
   "cell_type": "markdown",
   "metadata": {},
   "source": [
    "**Barplot**\n",
    "\n",
    "- Provides decriptive statistics of data in viusals\n",
    "- helps identifying outliers"
   ]
  },
  {
   "cell_type": "code",
   "execution_count": 114,
   "metadata": {},
   "outputs": [
    {
     "data": {
      "text/plain": [
       "age\n",
       "5.0    64\n",
       "3.0    44\n",
       "4.0    34\n",
       "7.0    31\n",
       "6.0    23\n",
       "Name: count, dtype: int64"
      ]
     },
     "execution_count": 114,
     "metadata": {},
     "output_type": "execute_result"
    }
   ],
   "source": [
    "clean_df.loc[clean_df['ever_married'].isnull(),['age']].value_counts()"
   ]
  },
  {
   "cell_type": "code",
   "execution_count": 115,
   "metadata": {},
   "outputs": [],
   "source": [
    "# Code here\n",
    "clean_df.loc[clean_df['ever_married'].isnull(), ['ever_married']] = 'No'"
   ]
  },
  {
   "cell_type": "markdown",
   "metadata": {},
   "source": [
    "**Scaterplot**\n",
    "\n",
    "- relationship between numerical data\n",
    "- can be used for outliers detections"
   ]
  },
  {
   "cell_type": "markdown",
   "metadata": {},
   "source": [
    "**Is there a relationship between age, bmi and stroke??**"
   ]
  },
  {
   "cell_type": "code",
   "execution_count": 116,
   "metadata": {},
   "outputs": [],
   "source": [
    "# Code here\n"
   ]
  },
  {
   "cell_type": "markdown",
   "metadata": {},
   "source": [
    "**Correlation Plot and Heatmaps**"
   ]
  },
  {
   "cell_type": "code",
   "execution_count": 117,
   "metadata": {},
   "outputs": [],
   "source": [
    "# Code here"
   ]
  },
  {
   "cell_type": "code",
   "execution_count": 118,
   "metadata": {},
   "outputs": [],
   "source": [
    "#Id features"
   ]
  },
  {
   "cell_type": "code",
   "execution_count": 119,
   "metadata": {},
   "outputs": [
    {
     "data": {
      "text/plain": [
       "id\n",
       "44679    1\n",
       "9046     1\n",
       "31112    1\n",
       "60182    1\n",
       "1665     1\n",
       "        ..\n",
       "13861    1\n",
       "70630    1\n",
       "27458    1\n",
       "34120    1\n",
       "56112    1\n",
       "Name: count, Length: 4909, dtype: int64"
      ]
     },
     "execution_count": 119,
     "metadata": {},
     "output_type": "execute_result"
    }
   ],
   "source": [
    "clean_df['id'].value_counts()"
   ]
  },
  {
   "cell_type": "code",
   "execution_count": 120,
   "metadata": {},
   "outputs": [
    {
     "data": {
      "text/plain": [
       "gender\n",
       "Female    2850\n",
       "Male      1966\n",
       "female      47\n",
       "male        45\n",
       "Other        1\n",
       "Name: count, dtype: int64"
      ]
     },
     "execution_count": 120,
     "metadata": {},
     "output_type": "execute_result"
    }
   ],
   "source": [
    "clean_df['gender'].value_counts()"
   ]
  },
  {
   "cell_type": "code",
   "execution_count": 121,
   "metadata": {},
   "outputs": [
    {
     "name": "stderr",
     "output_type": "stream",
     "text": [
      "C:\\Users\\bisha\\AppData\\Local\\Temp\\ipykernel_12180\\1779052789.py:1: SettingWithCopyWarning: \n",
      "A value is trying to be set on a copy of a slice from a DataFrame.\n",
      "Try using .loc[row_indexer,col_indexer] = value instead\n",
      "\n",
      "See the caveats in the documentation: https://pandas.pydata.org/pandas-docs/stable/user_guide/indexing.html#returning-a-view-versus-a-copy\n",
      "  clean_df['gender'] = clean_df['gender'].str.lower()\n"
     ]
    }
   ],
   "source": [
    "clean_df['gender'] = clean_df['gender'].str.lower()"
   ]
  },
  {
   "cell_type": "code",
   "execution_count": 122,
   "metadata": {},
   "outputs": [
    {
     "data": {
      "text/plain": [
       "gender\n",
       "female    2897\n",
       "male      2011\n",
       "other        1\n",
       "Name: count, dtype: int64"
      ]
     },
     "execution_count": 122,
     "metadata": {},
     "output_type": "execute_result"
    }
   ],
   "source": [
    "clean_df['gender'].value_counts()"
   ]
  },
  {
   "cell_type": "code",
   "execution_count": 123,
   "metadata": {},
   "outputs": [],
   "source": [
    "clean_df = clean_df.loc[clean_df['gender'] != 'other']"
   ]
  },
  {
   "cell_type": "code",
   "execution_count": 124,
   "metadata": {},
   "outputs": [
    {
     "data": {
      "text/plain": [
       "gender\n",
       "female    2897\n",
       "male      2011\n",
       "Name: count, dtype: int64"
      ]
     },
     "execution_count": 124,
     "metadata": {},
     "output_type": "execute_result"
    }
   ],
   "source": [
    "clean_df['gender'].value_counts()"
   ]
  },
  {
   "cell_type": "code",
   "execution_count": 125,
   "metadata": {},
   "outputs": [
    {
     "data": {
      "text/plain": [
       "(2,)"
      ]
     },
     "execution_count": 125,
     "metadata": {},
     "output_type": "execute_result"
    }
   ],
   "source": [
    "clean_df['gender'].value_counts().shape"
   ]
  },
  {
   "cell_type": "code",
   "execution_count": 126,
   "metadata": {},
   "outputs": [],
   "source": [
    "gender_df = clean_df['gender'].value_counts().reset_index()"
   ]
  },
  {
   "cell_type": "code",
   "execution_count": 127,
   "metadata": {},
   "outputs": [
    {
     "data": {
      "text/plain": [
       "<matplotlib.legend.Legend at 0x16f041f9e50>"
      ]
     },
     "execution_count": 127,
     "metadata": {},
     "output_type": "execute_result"
    },
    {
     "data": {
      "image/png": "[encoded data removed]",
      "text/plain": [
       "<Figure size 1500x500 with 1 Axes>"
      ]
     },
     "metadata": {},
     "output_type": "display_data"
    }
   ],
   "source": [
    "plt.figure(figsize=(15,5))\n",
    "plt.pie(gender_df['count'],labels=gender_df['gender'],autopct='%.2f',colors=('#ff0000','#0000ff'))\n",
    "plt.legend()"
   ]
  },
  {
   "cell_type": "code",
   "execution_count": 128,
   "metadata": {},
   "outputs": [],
   "source": [
    "#For smoking status:"
   ]
  },
  {
   "cell_type": "code",
   "execution_count": 129,
   "metadata": {},
   "outputs": [],
   "source": [
    "smoking_df = clean_df['smoking_status'].value_counts().reset_index()"
   ]
  },
  {
   "cell_type": "code",
   "execution_count": 130,
   "metadata": {},
   "outputs": [
    {
     "data": {
      "text/plain": [
       "age    22.0\n",
       "dtype: float64"
      ]
     },
     "execution_count": 130,
     "metadata": {},
     "output_type": "execute_result"
    }
   ],
   "source": [
    "clean_df.loc[clean_df['smoking_status'] == 'Unknown', ['age'] ].median()"
   ]
  },
  {
   "cell_type": "code",
   "execution_count": 131,
   "metadata": {},
   "outputs": [],
   "source": [
    "clean_df.loc[clean_df['smoking_status'] == 'Unknown', ['smoking_status'] ] = 'never smoked'"
   ]
  },
  {
   "cell_type": "code",
   "execution_count": 132,
   "metadata": {},
   "outputs": [
    {
     "data": {
      "text/plain": [
       "smoking_status\n",
       "never smoked       3335\n",
       "formerly smoked     836\n",
       "smokes              737\n",
       "Name: count, dtype: int64"
      ]
     },
     "execution_count": 132,
     "metadata": {},
     "output_type": "execute_result"
    }
   ],
   "source": [
    "clean_df['smoking_status'].value_counts()"
   ]
  },
  {
   "cell_type": "code",
   "execution_count": 133,
   "metadata": {},
   "outputs": [
    {
     "data": {
      "text/plain": [
       "<matplotlib.legend.Legend at 0x16f0422f750>"
      ]
     },
     "execution_count": 133,
     "metadata": {},
     "output_type": "execute_result"
    },
    {
     "data": {
      "image/png": "[encoded data removed]",
      "text/plain": [
       "<Figure size 1200x500 with 1 Axes>"
      ]
     },
     "metadata": {},
     "output_type": "display_data"
    }
   ],
   "source": [
    "plt.figure(figsize=(12,5))\n",
    "plt.title(label='Smoking Status')\n",
    "plt.pie(smoking_df['count'],labels=smoking_df['smoking_status'],autopct='%.2f',colors=['g','y','r'])\n",
    "plt.legend()"
   ]
  },
  {
   "cell_type": "code",
   "execution_count": 134,
   "metadata": {},
   "outputs": [
    {
     "name": "stderr",
     "output_type": "stream",
     "text": [
      "C:\\Users\\bisha\\AppData\\Local\\Temp\\ipykernel_12180\\186752096.py:1: FutureWarning: \n",
      "\n",
      "Passing `palette` without assigning `hue` is deprecated and will be removed in v0.14.0. Assign the `x` variable to `hue` and set `legend=False` for the same effect.\n",
      "\n",
      "  scn.barplot(data=smoking_df,x= 'smoking_status',y= 'count', palette=['r','b','g'])\n",
      "C:\\Users\\bisha\\AppData\\Local\\Temp\\ipykernel_12180\\186752096.py:1: UserWarning: \n",
      "The palette list has fewer values (3) than needed (4) and will cycle, which may produce an uninterpretable plot.\n",
      "  scn.barplot(data=smoking_df,x= 'smoking_status',y= 'count', palette=['r','b','g'])\n"
     ]
    },
    {
     "data": {
      "text/plain": [
       "Text(0.5, 1.0, 'Distribution Table of Smoking Status')"
      ]
     },
     "execution_count": 134,
     "metadata": {},
     "output_type": "execute_result"
    },
    {
     "data": {
      "image/png": "[encoded data removed]",
      "text/plain": [
       "<Figure size 640x480 with 1 Axes>"
      ]
     },
     "metadata": {},
     "output_type": "display_data"
    }
   ],
   "source": [
    "scn.barplot(data=smoking_df,x= 'smoking_status',y= 'count', palette=['r','b','g'])\n",
    "plt.title(\"Distribution Table of Smoking Status\")"
   ]
  },
  {
   "cell_type": "code",
   "execution_count": 135,
   "metadata": {},
   "outputs": [],
   "source": [
    "# Do the same for stroke, bmi and height."
   ]
  },
  {
   "cell_type": "markdown",
   "metadata": {},
   "source": [
    "Bivariate Analysis"
   ]
  },
  {
   "cell_type": "markdown",
   "metadata": {},
   "source": [
    "Is there a chance that patients with hypertension has more likely to get stroke or not."
   ]
  },
  {
   "cell_type": "code",
   "execution_count": 163,
   "metadata": {},
   "outputs": [],
   "source": [
    "stroke_df = pd.crosstab(clean_df['stroke'],clean_df['hypertension'])"
   ]
  },
  {
   "cell_type": "code",
   "execution_count": 137,
   "metadata": {},
   "outputs": [],
   "source": [
    "from scipy.stats import chi2_contingency"
   ]
  },
  {
   "cell_type": "code",
   "execution_count": 138,
   "metadata": {},
   "outputs": [],
   "source": [
    "chi2, p, dof, expected = chi2_contingency(stroke_df)"
   ]
  },
  {
   "cell_type": "code",
   "execution_count": 139,
   "metadata": {},
   "outputs": [
    {
     "name": "stdout",
     "output_type": "stream",
     "text": [
      "6.143875464115642e-23\n",
      "97.23918231192063\n",
      "1\n",
      "[[4267.20517522  431.79482478]\n",
      " [ 189.79482478   19.20517522]]\n"
     ]
    }
   ],
   "source": [
    "print(p)\n",
    "print(chi2)\n",
    "print(dof)\n",
    "print(expected)"
   ]
  },
  {
   "cell_type": "code",
   "execution_count": 140,
   "metadata": {},
   "outputs": [],
   "source": [
    "sthp = clean_df[['stroke','hypertension']].value_counts().reset_index()"
   ]
  },
  {
   "cell_type": "code",
   "execution_count": 141,
   "metadata": {},
   "outputs": [
    {
     "data": {
      "text/plain": [
       "<Axes: xlabel='hypertension', ylabel='count'>"
      ]
     },
     "execution_count": 141,
     "metadata": {},
     "output_type": "execute_result"
    },
    {
     "data": {
      "image/png": "[encoded data removed]",
      "text/plain": [
       "<Figure size 640x480 with 1 Axes>"
      ]
     },
     "metadata": {},
     "output_type": "display_data"
    }
   ],
   "source": [
    "scn.barplot(data=sthp,x=\"hypertension\",y=\"count\",hue=\"stroke\")"
   ]
  },
  {
   "cell_type": "markdown",
   "metadata": {},
   "source": [
    "Is there a chance that patients with heart_disease has more likely to get stroke or not."
   ]
  },
  {
   "cell_type": "code",
   "execution_count": 142,
   "metadata": {},
   "outputs": [],
   "source": [
    "heart_df = pd.crosstab(clean_df['stroke'],clean_df['heart_disease'])"
   ]
  },
  {
   "cell_type": "code",
   "execution_count": 143,
   "metadata": {},
   "outputs": [],
   "source": [
    "chi2, p, dof, expected = chi2_contingency(heart_df)"
   ]
  },
  {
   "cell_type": "code",
   "execution_count": 144,
   "metadata": {},
   "outputs": [],
   "source": [
    "ssmb = clean_df[['stroke','heart_disease']].value_counts().reset_index()"
   ]
  },
  {
   "cell_type": "code",
   "execution_count": 145,
   "metadata": {},
   "outputs": [
    {
     "data": {
      "text/plain": [
       "<Axes: xlabel='heart_disease', ylabel='count'>"
      ]
     },
     "execution_count": 145,
     "metadata": {},
     "output_type": "execute_result"
    },
    {
     "data": {
      "image/png": "[encoded data removed]",
      "text/plain": [
       "<Figure size 640x480 with 1 Axes>"
      ]
     },
     "metadata": {},
     "output_type": "display_data"
    }
   ],
   "source": [
    "scn.barplot(data=ssmb,x=\"heart_disease\",y=\"count\",hue=\"stroke\")"
   ]
  },
  {
   "cell_type": "markdown",
   "metadata": {},
   "source": [
    "Height in Meters"
   ]
  },
  {
   "cell_type": "code",
   "execution_count": 146,
   "metadata": {},
   "outputs": [
    {
     "name": "stderr",
     "output_type": "stream",
     "text": [
      "C:\\Users\\bisha\\AppData\\Local\\Temp\\ipykernel_12180\\3004074148.py:1: FutureWarning: \n",
      "\n",
      "`shade` is now deprecated in favor of `fill`; setting `fill=r`.\n",
      "This will become an error in seaborn v0.14.0; please update your code.\n",
      "\n",
      "  scn.kdeplot(clean_df['height_in_m'],shade='r')\n"
     ]
    },
    {
     "data": {
      "text/plain": [
       "<Axes: xlabel='height_in_m', ylabel='Density'>"
      ]
     },
     "execution_count": 146,
     "metadata": {},
     "output_type": "execute_result"
    },
    {
     "data": {
      "image/png": "[encoded data removed]",
      "text/plain": [
       "<Figure size 640x480 with 1 Axes>"
      ]
     },
     "metadata": {},
     "output_type": "display_data"
    }
   ],
   "source": [
    "scn.kdeplot(clean_df['height_in_m'],shade='r')"
   ]
  },
  {
   "cell_type": "code",
   "execution_count": 147,
   "metadata": {},
   "outputs": [
    {
     "data": {
      "text/plain": [
       "<Axes: xlabel='age', ylabel='Count'>"
      ]
     },
     "execution_count": 147,
     "metadata": {},
     "output_type": "execute_result"
    },
    {
     "data": {
      "image/png": "[encoded data removed]",
      "text/plain": [
       "<Figure size 640x480 with 1 Axes>"
      ]
     },
     "metadata": {},
     "output_type": "display_data"
    }
   ],
   "source": [
    "scn.histplot(clean_df['age'])"
   ]
  },
  {
   "cell_type": "code",
   "execution_count": 148,
   "metadata": {},
   "outputs": [
    {
     "data": {
      "text/plain": [
       "<Axes: ylabel='bmi'>"
      ]
     },
     "execution_count": 148,
     "metadata": {},
     "output_type": "execute_result"
    },
    {
     "data": {
      "image/png": "[encoded data removed]",
      "text/plain": [
       "<Figure size 640x480 with 1 Axes>"
      ]
     },
     "metadata": {},
     "output_type": "display_data"
    }
   ],
   "source": [
    "scn.boxenplot(clean_df['bmi'])"
   ]
  },
  {
   "cell_type": "code",
   "execution_count": 149,
   "metadata": {},
   "outputs": [
    {
     "data": {
      "text/plain": [
       "<Axes: ylabel='age'>"
      ]
     },
     "execution_count": 149,
     "metadata": {},
     "output_type": "execute_result"
    },
    {
     "data": {
      "image/png": "[encoded data removed]",
      "text/plain": [
       "<Figure size 640x480 with 1 Axes>"
      ]
     },
     "metadata": {},
     "output_type": "display_data"
    }
   ],
   "source": [
    "scn.boxplot(clean_df['age'])"
   ]
  },
  {
   "cell_type": "code",
   "execution_count": 150,
   "metadata": {},
   "outputs": [
    {
     "data": {
      "text/plain": [
       "Text(0.5, 1.0, 'Scatter plot of age and bmi ')"
      ]
     },
     "execution_count": 150,
     "metadata": {},
     "output_type": "execute_result"
    },
    {
     "data": {
      "image/png": "[encoded data removed]",
      "text/plain": [
       "<Figure size 640x480 with 1 Axes>"
      ]
     },
     "metadata": {},
     "output_type": "display_data"
    }
   ],
   "source": [
    "scn.scatterplot(clean_df,x='age',y='bmi')\n",
    "plt.title(\"Scatter plot of age and bmi \")\n"
   ]
  },
  {
   "cell_type": "code",
   "execution_count": 151,
   "metadata": {},
   "outputs": [
    {
     "data": {
      "text/plain": [
       "<Axes: >"
      ]
     },
     "execution_count": 151,
     "metadata": {},
     "output_type": "execute_result"
    },
    {
     "data": {
      "image/png": "[encoded data removed]",
      "text/plain": [
       "<Figure size 700x700 with 2 Axes>"
      ]
     },
     "metadata": {},
     "output_type": "display_data"
    }
   ],
   "source": [
    "plt.figure(figsize=(7,7))\n",
    "scn.heatmap(data=clean_df.select_dtypes('number').corr(),cmap='hot',annot= True)"
   ]
  },
  {
   "cell_type": "markdown",
   "metadata": {},
   "source": [
    "**Analyze the relation between weight and avg_glucose_level**"
   ]
  },
  {
   "cell_type": "code",
   "execution_count": 171,
   "metadata": {},
   "outputs": [],
   "source": [
    "weight_df = pd.crosstab(clean_df['weight_in_kg'],clean_df['avg_glucose_level']).reset_index().value_counts()"
   ]
  },
  {
   "cell_type": "code",
   "execution_count": 173,
   "metadata": {},
   "outputs": [
    {
     "data": {
      "text/plain": [
       "weight_in_kg  55.12  55.22  55.23  55.25  55.26  55.27  55.28  55.32  55.34  55.35  55.39  55.41  55.42  55.46  55.47  55.51  55.57  55.58  55.59  55.61  55.62  55.64  55.67  55.72  55.78  55.79  55.83  55.84  55.86  55.93  55.96  56.07  56.08  56.11  56.12  56.13  56.18  56.21  56.23  56.3  56.31  56.32  56.33  56.34  56.37  56.42  56.43  56.47  56.48  56.51  56.63  56.64  56.67  56.71  56.74  56.75  56.77  56.79  56.84  56.85  56.87  56.89  56.9  56.94  56.95  56.96  56.99  57.02  57.06  57.08  57.09  57.1  57.15  57.17  57.26  57.27  57.28  57.3  57.33  57.37  57.38  57.4  57.42  57.43  57.46  57.47  57.51  57.56  57.57  57.59  57.6  57.76  57.77  57.79  57.8  57.82  57.83  57.89  57.92  57.93  57.94  57.95  57.96  58.01  58.02  58.03  58.09  58.14  58.19  58.23  58.25  58.26  58.29  58.3  58.35  58.37  58.38  58.39  58.41  58.42  58.47  58.48  58.51  58.55  58.57  58.63  58.64  58.65  58.66  58.69  58.7  58.71  58.72  58.81  58.86  58.87  58.88  58.89  58.95  58.96  59.0  59.05  59.07  59.11  59.14  59.15  59.17  59.2  59.26  59.28  59.31  59.32  59.35  59.36  59.43  59.48  59.49  59.52  59.54  59.61  59.62  59.63  59.67  59.68  59.74  59.76  59.78  59.82  59.83  59.85  59.86  59.87  59.89  59.91  59.93  59.99  60.01  60.02  60.05  60.06  60.09  60.13  60.17  60.2  60.22  60.26  60.32  60.34  60.35  60.36  60.37  60.39  60.4  60.41  60.5  60.53  60.56  60.57  60.6  60.61  60.64  60.67  60.69  60.7  60.73  60.74  60.77  60.84  60.91  60.96  60.98  60.99  61.01  61.04  61.07  61.1  61.11  61.13  61.27  61.29  61.32  61.34  61.36  61.38  61.42  61.45  61.47  61.53  61.54  61.57  61.61  61.67  61.68  61.75  61.78  61.8  61.81  61.83  61.87  61.88  61.94  61.96  61.98  62.0  62.02  62.08  62.12  62.13  62.2  62.21  62.25  62.27  62.32  62.37  62.4  62.41  62.44  62.46  62.47  62.48  62.49  62.52  62.54  62.55  62.56  62.57  62.6  62.61  62.62  62.63  62.64  62.66  62.67  62.68  62.69  62.78  62.81  62.89  62.91  62.93  62.99  63.01  63.08  63.16  63.18  63.19  63.22  63.26  63.27  63.28  63.32  63.33  63.37  63.4  63.41  63.42  63.43  63.45  63.47  63.49  63.53  63.56  63.57  63.6  63.61  63.63  63.64  63.65  63.69  63.71  63.72  63.73  63.74  63.78  63.82  63.86  63.9  63.94  63.95  63.98  64.02  64.06  64.07  64.08  64.09  64.1  64.14  64.15  64.17  64.18  64.2  64.27  64.29  64.37  64.4  64.41  64.44  64.45  64.51  64.55  64.6  64.62  64.64  64.66  64.68  64.84  64.85  64.87  64.92  64.94  64.99  65.01  65.04  65.05  65.07  65.08  65.09  65.12  65.15  65.16  65.21  65.22  65.24  65.25  65.28  65.29  65.3  65.32  65.33  65.34  65.36  65.38  65.4  65.41  65.42  65.43  65.44  65.45  65.46  65.47  65.48  65.49  65.5  65.51  65.52  65.58  65.59  65.6  65.61  65.63  65.66  65.67  65.69  65.7  65.71  65.77  65.78  65.79  65.81  65.82  65.84  65.85  65.87  65.88  65.9  65.91  65.93  65.95  65.96  65.98  66.01  66.03  66.06  66.07  66.08  66.11  66.13  66.16  66.17  66.2  66.22  66.24  66.25  66.29  66.3  66.32  66.33  66.36  66.42  66.46  66.47  66.51  66.55  66.59  66.61  66.67  66.69  66.7  66.71  66.72  66.85  66.96  67.02  67.06  67.07  67.08  67.1  67.21  67.26  67.28  67.29  67.3  67.33  67.38  67.39  67.41  67.5  67.53  67.55  67.56  67.66  67.68  67.73  67.75  67.76  67.78  67.79  67.8  67.81  67.84  67.87  67.9  67.92  67.96  67.97  67.99  68.01  68.02  68.07  68.09  68.12  68.13  68.17  68.18  68.19  68.24  68.27  68.34  68.35  68.37  68.38  68.4  68.41  68.42  68.44  68.48  68.49  68.52  68.53  68.56  68.6  68.61  68.62  68.66  68.68  68.7  68.72  68.76  68.78  68.79  68.8  68.84  68.86  68.88  68.91  68.94  68.96  68.98  68.99  69.01  69.04  69.06  69.09  69.11  69.12  69.15  69.16  69.17  69.18  69.2  69.21  69.22  69.23  69.24  69.25  69.26  69.28  69.3  69.34  69.37  69.38  69.4  69.42  69.45  69.46  69.47  69.48  69.5  69.52  69.53  69.54  69.58  69.61  69.67  69.68  69.7  69.72  69.74  69.76  69.77  69.79  69.82  69.84  69.87  69.88  69.89  69.91  69.92  69.94  69.97  69.99  70.0  70.01  70.02  70.03  70.04  70.06  70.07  70.08  70.09  70.11  70.13  70.15  70.16  70.18  70.19  70.21  70.22  70.23  70.25  70.28  70.29  70.3  70.31  70.32  70.33  70.34  70.35  70.38  70.43  70.45  70.48  70.51  70.52  70.53  70.54  70.55  70.56  70.58  70.59  70.61  70.65  70.66  70.67  70.7  70.71  70.73  70.75  70.78  70.87  70.89  70.91  70.92  70.93  70.94  70.96  70.98  71.02  71.06  71.08  71.12  71.15  71.16  71.18  71.2  71.22  71.25  71.26  71.29  71.3  71.31  71.32  71.34  71.37  71.38  71.4  71.42  71.43  71.44  71.46  71.5  71.58  71.59  71.63  71.66  71.7  71.71  71.77  71.79  71.8  71.81  71.88  71.89  71.91  71.92  71.93  71.94  71.97  71.98  72.0  72.01  72.02  72.03  72.04  72.06  72.07  72.09  72.1  72.12  72.13  72.16  72.17  72.18  72.19  72.2  72.28  72.29  72.33  72.34  72.35  72.36  72.42  72.49  72.5  72.52  72.53  72.54  72.55  72.56  72.6  72.61  72.62  72.63  72.64  72.65  72.67  72.71  72.73  72.75  72.76  72.79  72.81  72.84  72.88  72.93  72.94  72.96  72.99  73.0  73.01  73.02  73.04  73.06  73.07  73.08  73.18  73.19  73.2  73.24  73.27  73.28  73.29  73.31  73.32  73.33  73.36  73.39  73.4  73.41  73.44  73.48  73.49  73.5  73.54  73.56  73.57  73.58  73.6  73.62  73.63  73.65  73.66  73.67  73.69  73.7  73.71  73.72  73.73  73.74  73.75  73.76  73.78  73.81  73.83  73.87  73.89  73.92  73.94  73.98  73.99  74.0  74.01  74.02  74.04  74.05  74.08  74.09  74.1  74.11  74.12  74.14  74.15  74.16  74.17  74.19  74.2  74.22  74.23  74.24  74.28  74.29  74.32  74.33  74.34  74.35  74.36  74.39  74.42  74.43  74.44  74.46  74.5  74.51  74.52  74.53  74.54  74.55  74.58  74.61  74.63  74.64  74.65  74.66  74.7  74.72  74.79  74.8  74.81  74.82  74.83  74.85  74.86  74.88  74.9  74.91  74.96  74.98  74.99  75.0  75.03  75.04  75.05  75.06  75.07  75.08  75.09  75.1  75.13  75.15  75.16  75.18  75.19  75.22  75.23  75.25  75.27  75.28  75.29  75.3  75.34  75.39  75.4  75.41  75.42  75.43  75.46  75.47  75.5  75.52  75.53  75.56  75.62  75.64  75.67  75.69  75.7  75.73  75.74  75.77  75.78  75.79  75.82  75.84  75.85  75.86  75.87  75.88  75.9  75.91  75.92  75.93  75.94  75.95  75.98  76.0  76.03  76.04  76.05  76.08  76.09  76.1  76.11  76.12  76.13  76.19  76.2  76.21  76.22  76.25  76.26  76.28  76.3  76.31  76.34  76.35  76.36  76.42  76.43  76.44  76.45  76.46  76.47  76.5  76.51  76.52  76.55  76.56  76.57  76.58  76.62  76.63  76.64  76.66  76.68  76.7  76.72  76.74  76.77  76.78  76.79  76.81  76.82  76.83  76.88  76.89  76.92  76.93  76.98  76.99  77.01  77.04  77.06  77.07  77.08  77.1  77.12  77.16  77.19  77.2  77.23  77.24  77.26  77.28  77.29  77.3  77.32  77.33  77.35  77.37  77.42  77.43  77.44  77.45  77.46  77.49  77.5  77.51  77.52  77.53  77.54  77.55  77.57  77.59  77.6  77.63  77.65  77.66  77.67  77.68  77.72  77.73  77.75  77.76  77.77  77.79  77.82  77.83  77.86  77.87  77.88  77.91  77.92  77.93  77.94  77.95  77.96  77.99  78.0  78.02  78.03  78.04  78.05  78.08  78.09  78.11  78.12  78.14  78.16  78.18  78.23  78.24  78.26  78.28  78.29  78.3  78.32  78.34  78.35  78.38  78.4  78.42  78.43  78.44  78.45  78.46  78.48  78.49  78.5  78.52  78.53  78.57  78.59  78.65  78.68  78.7  78.73  78.74  78.75  78.78  78.79  78.8  78.81  78.85  78.88  78.9  78.91  78.92  78.93  78.94  78.96  78.97  78.98  78.99  79.0  79.02  79.03  79.05  79.08  79.09  79.13  79.14  79.15  79.16  79.17  79.18  79.2  79.21  79.22  79.25  79.26  79.27  79.3  79.33  79.34  79.35  79.36  79.39  79.42  79.44  79.47  79.49  79.51  79.53  79.54  79.55  79.56  79.57  79.58  79.59  79.6  79.61  79.62  79.63  79.66  79.7  79.73  79.76  79.77  79.79  79.8  79.81  79.82  79.83  79.84  79.85  79.87  79.89  79.91  79.92  79.94  79.95  79.96  79.98  79.99  80.0  80.01  80.05  80.06  80.07  80.08  80.09  80.1  80.13  80.15  80.17  80.18  80.19  80.2  80.21  80.22  80.24  80.25  80.27  80.28  80.3  80.33  80.34  80.35  80.4  80.42  80.43  80.44  80.47  80.48  80.51  80.54  80.55  80.57  80.59  80.63  80.67  80.72  80.73  80.74  80.75  80.76  80.77  80.79  80.8  80.81  80.82  80.83  80.84  80.85  80.86  80.88  80.89  80.92  80.93  80.94  80.96  80.97  80.98  80.99  81.0  81.02  81.03  81.05  81.06  81.1  81.11  81.13  81.15  81.18  81.2  81.21  81.24  81.25  81.26  81.28  81.31  81.32  81.33  81.36  81.38  81.42  81.44  81.51  81.53  81.54  81.58  81.59  81.6  81.64  81.66  81.68  81.71  81.73  81.74  81.76  81.77  81.78  81.84  81.87  81.88  81.9  81.92  81.94  81.95  81.96  81.99  82.0  82.01  82.02  82.05  82.06  82.07  82.08  82.09  82.1  82.12  82.13  82.14  82.15  82.18  82.19  82.2  82.21  82.24  82.25  82.26  82.27  82.28  82.3  82.31  82.32  82.33  82.34  82.35  82.36  82.37  82.38  82.39  82.4  82.41  82.42  82.43  82.44  82.46  82.47  82.48  82.49  82.53  82.56  82.57  82.58  82.59  82.61  82.62  82.63  82.64  82.67  82.68  82.69  82.71  82.72  82.73  82.77  82.81  82.83  82.84  82.85  82.86  82.88  82.89  82.9  82.91  82.93  82.94  82.95  82.99  83.01  83.02  83.03  83.06  83.07  83.09  83.1  83.12  83.13  83.14  83.15  83.16  83.2  83.24  83.26  83.27  83.28  83.3  83.33  83.34  83.37  83.41  83.42  83.43  83.44  83.5  83.51  83.52  83.53  83.55  83.56  83.57  83.58  83.59  83.6  83.61  83.62  83.64  83.65  83.66  83.68  83.7  83.73  83.74  83.75  83.78  83.79  83.8  83.82  83.83  83.84  83.85  83.86  83.88  83.89  83.91  83.93  83.95  83.97  84.02  84.03  84.04  84.06  84.07  84.08  84.09  84.1  84.11  84.12  84.13  84.14  84.16  84.17  84.18  84.19  84.2  84.21  84.25  84.27  84.3  84.31  84.35  84.37  84.38  84.4  84.41  84.42  84.43  84.44  84.46  84.47  84.48  84.49  84.5  84.54  84.56  84.58  84.59  84.6  84.62  84.63  84.66  84.68  84.69  84.7  84.75  84.78  84.79  84.81  84.84  84.85  84.86  84.88  84.9  84.91  84.92  84.93  84.96  84.99  85.0  85.02  85.03  85.04  85.06  85.07  85.08  85.12  85.13  85.15  85.16  85.17  85.18  85.22  85.23  85.27  85.28  85.29  85.33  85.35  85.37  85.38  85.46  85.51  85.52  85.53  85.54  85.55  85.57  85.59  85.6  85.62  85.64  85.65  85.66  85.68  85.77  85.79  85.81  85.82  85.83  85.84  85.86  85.87  85.88  85.9  85.91  85.92  85.96  85.97  85.98  85.99  86.0  86.03  86.04  86.05  86.06  86.07  86.09  86.1  86.11  86.15  86.19  86.21  86.23  86.24  86.25  86.26  86.3  86.32  86.33  86.34  86.35  86.36  86.37  86.38  86.39  86.4  86.46  86.49  86.53  86.55  86.57  86.58  86.6  86.61  86.62  86.67  86.68  86.7  86.73  86.74  86.75  86.78  86.84  86.85  86.86  86.87  86.91  86.92  86.93  86.94  86.95  86.96  86.97  86.99  87.0  87.01  87.03  87.06  87.08  87.09  87.1  87.11  87.12  87.15  87.16  87.17  87.18  87.2  87.21  87.24  87.25  87.26  87.27  87.29  87.33  87.34  87.39  87.4  87.41  87.43  87.44  87.47  87.49  87.5  87.51  87.52  87.54  87.56  87.62  87.66  87.69  87.7  87.71  87.72  87.74  87.77  87.78  87.79  87.81  87.82  87.84  87.85  87.86  87.87  87.88  87.91  87.92  87.93  87.94  87.95  87.96  87.98  88.0  88.02  88.04  88.05  88.06  88.1  88.11  88.13  88.17  88.18  88.19  88.2  88.23  88.24  88.29  88.31  88.32  88.33  88.34  88.38  88.39  88.41  88.43  88.44  88.47  88.48  88.49  88.5  88.51  88.52  88.53  88.54  88.56  88.57  88.6  88.62  88.63  88.65  88.66  88.68  88.69  88.75  88.78  88.79  88.81  88.82  88.83  88.85  88.88  88.89  88.9  88.92  88.97  88.98  89.0  89.01  89.02  89.03  89.04  89.05  89.06  89.11  89.13  89.14  89.16  89.17  89.18  89.21  89.22  89.24  89.28  89.29  89.3  89.31  89.32  89.33  89.37  89.38  89.41  89.42  89.43  89.44  89.45  89.52  89.53  89.57  89.58  89.59  89.61  89.63  89.68  89.7  89.72  89.73  89.74  89.75  89.81  89.83  89.84  89.85  89.86  89.87  89.88  89.93  89.95  89.96  89.98  89.99  90.0  90.01  90.04  90.06  90.07  90.1  90.11  90.12  90.15  90.16  90.19  90.21  90.22  90.26  90.28  90.29  90.3  90.31  90.35  90.36  90.38  90.39  90.4  90.42  90.43  90.44  90.46  90.49  90.51  90.52  90.54  90.55  90.57  90.58  90.6  90.61  90.62  90.65  90.66  90.67  90.68  90.69  90.71  90.73  90.74  90.77  90.78  90.84  90.87  90.9  90.91  90.92  90.95  90.96  90.97  91.0  91.01  91.02  91.04  91.05  91.08  91.09  91.13  91.16  91.18  91.19  91.21  91.25  91.28  91.3  91.32  91.34  91.35  91.36  91.45  91.46  91.47  91.53  91.54  91.56  91.57  91.58  91.6  91.61  91.63  91.65  91.68  91.69  91.71  91.72  91.81  91.82  91.85  91.88  91.89  91.9  91.92  91.93  91.95  91.96  91.97  91.98  92.0  92.02  92.04  92.06  92.08  92.11  92.13  92.14  92.15  92.16  92.17  92.2  92.21  92.22  92.23  92.24  92.26  92.27  92.3  92.32  92.34  92.35  92.37  92.39  92.4  92.44  92.48  92.49  92.56  92.59  92.62  92.64  92.65  92.67  92.7  92.71  92.72  92.73  92.74  92.75  92.76  92.77  92.78  92.81  92.82  92.86  92.87  92.9  92.95  92.96  92.98  92.99  93.0  93.02  93.03  93.04  93.05  93.07  93.11  93.13  93.14  93.15  93.17  93.18  93.2  93.21  93.24  93.25  93.28  93.29  93.3  93.34  93.36  93.47  93.48  93.51  93.52  93.55  93.58  93.6  93.61  93.62  93.64  93.67  93.68  93.71  93.72  93.73  93.74  93.76  93.78  93.79  93.8  93.81  93.85  93.88  93.89  93.9  93.93  93.96  93.97  93.99  94.03  94.04  94.06  94.07  94.09  94.11  94.12  94.14  94.15  94.18  94.19  94.2  94.22  94.23  94.24  94.25  94.26  94.27  94.29  94.3  94.33  94.34  94.37  94.38  94.39  94.4  94.44  94.45  94.47  94.48  94.49  94.53  94.59  94.61  94.62  94.63  94.64  94.65  94.66  94.67  94.68  94.69  94.71  94.75  94.76  94.77  94.78  94.88  94.89  94.92  94.96  94.98  95.01  95.04  95.05  95.07  95.08  95.1  95.12  95.16  95.18  95.19  95.2  95.23  95.24  95.25  95.27  95.28  95.29  95.31  95.32  95.33  95.36  95.37  95.38  95.39  95.4  95.42  95.43  95.44  95.46  95.47  95.49  95.5  95.52  95.57  95.59  95.62  95.66  95.7  95.75  95.79  95.8  95.82  95.84  95.85  95.86  95.87  95.88  95.89  95.93  95.94  95.98  96.0  96.01  96.02  96.03  96.04  96.06  96.1  96.14  96.15  96.16  96.17  96.18  96.19  96.2  96.21  96.24  96.25  96.26  96.28  96.29  96.3  96.35  96.37  96.42  96.43  96.47  96.52  96.57  96.58  96.59  96.62  96.63  96.69  96.7  96.73  96.75  96.77  96.78  96.79  96.81  96.82  96.84  96.85  96.86  96.88  96.91  96.93  96.95  96.97  96.98  96.99  97.04  97.05  97.06  97.08  97.12  97.14  97.16  97.22  97.23  97.24  97.25  97.26  97.27  97.28  97.31  97.32  97.34  97.35  97.37  97.39  97.4  97.41  97.43  97.46  97.47  97.49  97.5  97.51  97.52  97.53  97.55  97.57  97.58  97.59  97.6  97.61  97.64  97.65  97.68  97.73  97.76  97.78  97.81  97.84  97.86  97.89  97.9  97.92  97.93  97.95  97.96  97.97  97.99  98.01  98.02  98.03  98.05  98.07  98.09  98.1  98.12  98.14  98.22  98.23  98.24  98.27  98.3  98.34  98.35  98.37  98.39  98.41  98.42  98.44  98.45  98.46  98.52  98.53  98.54  98.55  98.56  98.57  98.58  98.61  98.65  98.66  98.67  98.69  98.7  98.71  98.73  98.74  98.76  98.84  98.85  98.9  98.91  98.92  98.99  99.0  99.01  99.06  99.07  99.1  99.12  99.13  99.14  99.15  99.16  99.2  99.21  99.23  99.29  99.3  99.33  99.34  99.35  99.36  99.4  99.44  99.47  99.48  99.49  99.58  99.6  99.64  99.65  99.67  99.68  99.69  99.71  99.72  99.73  99.75  99.76  99.78  99.79  99.8  99.82  99.83  99.84  99.87  99.91  99.92  99.94  99.96  99.97  100.01  100.02  100.03  100.05  100.06  100.08  100.09  100.12  100.15  100.16  100.19  100.2  100.22  100.26  100.29  100.31  100.33  100.35  100.39  100.41  100.42  100.47  100.49  100.52  100.54  100.6  100.61  100.65  100.66  100.71  100.74  100.75  100.8  100.81  100.82  100.83  100.84  100.85  100.88  100.91  100.93  100.96  100.97  100.98  101.02  101.05  101.06  101.07  101.09  101.13  101.15  101.19  101.24  101.25  101.26  101.28  101.3  101.31  101.32  101.34  101.35  101.37  101.41  101.43  101.46  101.5  101.52  101.53  101.56  101.57  101.58  101.6  101.61  101.65  101.66  101.75  101.79  101.81  101.83  101.85  101.87  101.89  101.92  101.93  101.95  101.96  101.98  101.99  102.0  102.01  102.03  102.04  102.05  102.07  102.08  102.1  102.11  102.13  102.15  102.16  102.21  102.27  102.28  102.3  102.34  102.35  102.36  102.37  102.39  102.4  102.42  102.46  102.47  102.48  102.5  102.51  102.53  102.54  102.58  102.61  102.64  102.71  102.73  102.76  102.77  102.84  102.87  102.88  102.89  102.9  102.91  102.92  102.96  102.97  103.0  103.01  103.06  103.08  103.09  103.11  103.12  103.15  103.17  103.21  103.22  103.25  103.26  103.28  103.29  103.34  103.35  103.37  103.43  103.44  103.45  103.46  103.48  103.5  103.51  103.55  103.56  103.58  103.6  103.61  103.62  103.65  103.66  103.68  103.69  103.72  103.73  103.76  103.78  103.79  103.81  103.86  103.89  103.92  103.94  104.0  104.02  104.03  104.04  104.05  104.07  104.08  104.09  104.12  104.16  104.21  104.23  104.24  104.26  104.3  104.33  104.34  104.36  104.37  104.38  104.4  104.42  104.47  104.48  104.51  104.55  104.62  104.64  104.66  104.7  104.75  104.77  104.79  104.86  104.9  104.92  104.95  105.05  105.08  105.19  105.22  105.26  105.28  105.29  105.34  105.36  105.47  105.48  105.49  105.51  105.52  105.59  105.61  105.63  105.72  105.73  105.74  105.75  105.76  105.77  105.88  105.9  105.91  105.92  105.93  105.95  105.99  106.01  106.02  106.03  106.08  106.1  106.11  106.13  106.18  106.22  106.24  106.27  106.33  106.35  106.4  106.41  106.43  106.47  106.51  106.52  106.53  106.54  106.56  106.58  106.59  106.65  106.68  106.69  106.7  106.73  106.74  106.76  106.8  106.83  106.84  106.85  106.95  106.97  106.98  107.17  107.18  107.21  107.22  107.25  107.26  107.27  107.29  107.33  107.4  107.41  107.42  107.43  107.45  107.46  107.47  107.49  107.5  107.52  107.58  107.59  107.61  107.69  107.72  107.74  107.78  107.82  107.83  107.84  107.91  107.97  107.98  107.99  108.03  108.06  108.08  108.1  108.12  108.14  108.18  108.2  108.23  108.32  108.33  108.34  108.35  108.38  108.43  108.47  108.51  108.53  108.56  108.61  108.62  108.63  108.64  108.65  108.68  108.71  108.72  108.75  108.79  108.8  108.82  108.87  108.89  108.96  109.02  109.03  109.09  109.1  109.12  109.16  109.19  109.22  109.23  109.27  109.3  109.32  109.33  109.39  109.4  109.46  109.47  109.51  109.52  109.56  109.59  109.65  109.68  109.69  109.73  109.81  109.82  109.85  109.88  109.97  110.07  110.1  110.14  110.15  110.17  110.18  110.2  110.23  110.25  110.28  110.32  110.33  110.36  110.38  110.41  110.42  110.47  110.52  110.53  110.55  110.6  110.63  110.68  110.69  110.7  110.73  110.76  110.78  110.84  110.85  110.87  110.89  110.91  110.92  110.96  110.97  110.99  111.02  111.04  111.08  111.1  111.13  111.15  111.19  111.21  111.22  111.24  111.27  111.32  111.33  111.36  111.37  111.38  111.41  111.43  111.47  111.48  111.61  111.64  111.65  111.68  111.71  111.73  111.76  111.77  111.78  111.79  111.81  111.84  111.85  111.92  111.93  111.94  111.96  111.99  112.02  112.06  112.07  112.08  112.09  112.11  112.12  112.16  112.17  112.19  112.22  112.23  112.24  112.25  112.29  112.3  112.31  112.33  112.34  112.35  112.37  112.38  112.39  112.41  112.43  112.44  112.46  112.47  112.54  112.55  112.62  112.64  112.66  112.69  112.7  112.72  112.75  112.77  112.79  112.83  112.92  112.94  112.95  112.96  112.98  113.01  113.05  113.08  113.1  113.11  113.2  113.21  113.24  113.25  113.26  113.28  113.34  113.4  113.41  113.45  113.47  113.57  113.63  113.64  113.65  113.68  113.74  113.8  113.84  113.85  113.86  113.87  113.95  113.96  114.01  114.02  114.05  114.09  114.16  114.18  114.21  114.25  114.32  114.33  114.34  114.37  114.41  114.45  114.46  114.47  114.5  114.53  114.54  114.61  114.71  114.76  114.79  114.82  114.84  114.88  114.89  114.92  114.94  114.99  115.03  115.07  115.12  115.13  115.16  115.21  115.22  115.23  115.29  115.4  115.42  115.43  115.46  115.47  115.52  115.54  115.68  115.69  115.71  115.79  115.83  115.86  115.91  115.93  115.98  115.99  116.02  116.04  116.06  116.1  116.12  116.14  116.2  116.21  116.23  116.25  116.38  116.44  116.49  116.5  116.55  116.6  116.64  116.66  116.67  116.68  116.69  116.76  116.78  116.84  116.85  116.93  116.95  116.98  117.03  117.04  117.31  117.34  117.45  117.59  117.63  117.69  117.75  117.77  117.92  117.98  118.03  118.21  118.22  118.41  118.44  118.46  118.51  118.55  118.61  118.62  118.66  118.69  118.7  118.75  118.81  118.82  118.85  118.87  118.88  118.89  118.93  119.01  119.03  119.04  119.13  119.3  119.32  119.34  119.4  119.52  119.58  119.61  119.62  119.67  119.77  119.88  119.9  119.96  120.03  120.05  120.06  120.07  120.09  120.15  120.22  120.23  120.25  120.27  120.31  120.43  120.44  120.46  120.56  120.58  120.77  120.85  120.94  120.96  121.04  121.11  121.14  121.15  121.17  121.19  121.27  121.32  121.39  121.43  121.44  121.46  121.6  121.66  121.71  121.8  121.83  121.99  122.01  122.04  122.1  122.19  122.22  122.23  122.25  122.26  122.31  122.32  122.38  122.39  122.41  122.43  122.46  122.48  122.5  122.73  122.74  122.75  122.83  122.91  123.0  123.04  123.08  123.1  123.15  123.21  123.23  123.36  123.39  123.47  123.49  123.61  123.65  123.66  123.79  123.81  123.83  123.87  123.89  123.94  123.95  123.98  124.01  124.06  124.08  124.13  124.16  124.26  124.31  124.34  124.35  124.37  124.38  124.39  124.45  124.48  124.49  124.5  124.54  124.6  124.61  124.64  124.66  124.78  124.92  125.03  125.09  125.11  125.14  125.2  125.26  125.29  125.3  125.32  125.33  125.38  125.43  125.63  125.68  125.74  125.87  125.89  125.98  126.04  126.09  126.12  126.18  126.32  126.34  126.35  126.39  126.57  126.67  126.68  126.82  126.85  126.96  126.99  127.13  127.18  127.2  127.21  127.23  127.25  127.28  127.29  127.32  127.4  127.42  127.57  127.71  127.75  127.78  128.04  128.17  128.23  128.28  128.61  128.63  128.72  128.97  129.01  129.07  129.16  129.19  129.31  129.43  129.53  129.54  129.66  129.73  129.97  129.98  130.0  130.07  130.15  130.34  130.37  130.54  130.56  130.61  131.05  131.19  131.23  131.28  131.3  131.4  131.41  131.42  131.43  131.51  131.63  131.77  131.8  131.81  131.85  131.89  131.99  132.08  132.41  132.46  132.85  132.88  133.13  133.19  133.2  133.24  133.58  133.62  133.63  133.76  133.82  134.12  134.23  134.24  134.29  134.33  134.39  134.45  134.59  134.61  134.65  134.76  134.8  135.19  135.32  135.63  135.64  135.74  135.75  135.79  135.82  135.84  135.89  136.1  136.18  136.2  136.23  136.8  136.81  136.96  137.22  137.27  137.3  137.45  137.74  137.77  137.91  137.94  137.96  138.02  138.06  138.07  138.16  138.29  138.44  138.47  138.51  138.55  139.2  139.43  139.48  139.67  139.72  139.77  139.81  139.87  139.9  140.07  140.08  140.1  140.14  140.28  140.39  140.4  140.52  140.93  140.96  141.09  141.15  141.16  141.23  141.24  141.37  141.8  141.84  142.02  142.12  142.31  142.38  142.57  142.63  142.64  142.68  142.82  143.15  143.43  143.45  143.47  144.08  144.1  144.14  144.15  144.16  144.2  144.23  144.33  144.48  144.9  145.03  145.15  145.18  145.22  145.23  145.25  145.26  145.37  145.46  145.5  145.71  145.94  146.01  146.08  146.1  146.21  146.44  146.59  146.61  146.97  147.04  147.12  147.14  147.42  147.48  147.5  147.74  148.24  148.37  148.52  148.72  148.91  149.13  149.15  149.17  149.42  149.62  149.68  149.75  149.8  149.9  149.95  150.0  150.03  150.1  150.27  150.45  150.74  151.16  151.23  151.25  151.26  151.3  151.33  151.56  152.02  152.38  152.56  152.81  152.84  152.87  153.08  153.24  153.31  153.34  153.38  153.48  153.6  153.76  154.03  154.08  154.6  154.67  154.75  155.14  155.17  155.23  155.32  155.43  155.86  156.18  156.43  156.45  156.57  156.69  156.7  156.82  157.01  157.57  157.67  157.77  158.31  158.33  158.48  158.89  158.9  158.93  159.39  159.67  159.7  159.79  160.0  160.64  160.76  160.83  160.94  161.0  161.28  161.57  161.95  162.14  162.23  162.24  162.3  162.72  162.93  162.96  163.02  163.17  163.7  163.82  164.67  164.7  164.77  165.11  165.36  165.47  165.99  166.29  166.38  167.16  167.31  167.41  167.59  167.66  168.06  168.15  168.68  169.35  169.43  169.49  169.74  169.97  250.2  250.8  250.89  251.46  251.6  251.99  252.72  253.16  253.86  254.6  254.63  254.95  255.17  256.74  259.63  261.67  263.32  263.56  266.59  267.6  267.61  267.76  271.74\n",
       "348.548423    0      0      0      0      0      0      0      0      0      0      0      0      0      0      0      0      0      0      0      0      0      0      0      0      0      0      0      0      0      0      0      0      0      0      0      0      0      0      0      0     0      0      0      0      0      0      0      0      0      0      0      0      0      0      0      0      0      0      0      0      0      0      0     0      0      0      0      0      0      0      0      0     0      0      0      0      0      0     0      0      0      0     0      0      0      0      0      0      0      0      0     0      0      0      0     0      0      0      0      0      0      0      0      0      0      0      0      0      0      0      0      0      0      0     0      0      0      0      0      0      0      0      0      0      0      0      0      0      0      0      0     0      0      0      0      0      0      0      0      0      0     0      0      0      0      0      0      0     0      0      0      0      0      0      0      0      0      0      0      0      0      0      0      0      0      0      0      0      0      0      0      0      0      0      0      0      0      0      0      0      0      0      0      0     0      0      0      0      0      0      0      0      0     0      0     0      0      0      0     0      0      0      0      0     0      0      0      0      0      0      0      0      0      0      0      0     0      0      0      0      0      0      0      0      0      0      0      0      0      0      0      1      0      0      0      0     0      0      0      0      0      0      0      0     0      0      0      0      0     0      0      0      0      0      0     0      0      0      0      0      0      0      0      0      0      0      0     0      0      0      0      0      0      0      0      0      0      0      0      0      0      0      0      0      0      0      0      0      0      0      0      0      0      0     0      0      0      0      0      0      0      0      0      0     0      0      0      0      0      0      0      0      0      0      0      0      0     0      0      0      0      0      0      0      0      0     0      0      0      0      0     0      0      0      0     0      0      0      0      0      0     0      0      0      0      0      0      0      0      0      0      0      0      0      0      0      0      0      0      0      0      0      0      0      0      0      0     0      0      0      0      0      0     0      0      0      0      0      0      0      0      0      0     0      0      0      0      0     0      0      0      0      0      0     0      0      0      0      0      0      0      0      0      0      0     0      0      0      0      0      0      0      0      0      0      0      0      0      0      0     0      0      0      0      0     0      0      0      0      0      0      0      0      0      0      0      0      0     0      0      0      0      0      0      0      0      0     0      0      0      0      0     0      0      0      0      0     0      0      0      0      0      0      0      0      0      0      0     0      0      0      0     0      0      0      0      0      0      0      0      0      0      0      0      0      0      0      0      0      0      0      0     0      0      0      0      0      0      0      0      0     0      0      0      0      0     0      0      0      0      0     0      0      0      0      0      0      0      0      0      0      0      0      0      0      0      0      0      0      0     0      0      0      0      0      0      0      0     0      0      0      0     0      0      0      0      0      0     0      0      0      0      0      0      0      0     0      0      0      0      0      0      0      0      0      0      0      0      0      0      0      0     0      0      0      0      0      0      0      0      0      0      0      0      0      0      0      0      0      0      0      0      0     0      0      0      0      0      0      0      0      0      0      0      0      0      0      0      0      0      0      0      0      0      0     0      0      0      0      0      0      0      0      0      0      0      0      0      0      0      0      0      0      0      0     0      0      0      0      0     0      0      0      0      0      0     0      0      0      0      0     0      0      0      0      0     0      0      0      0     0      0      0      0      0      0      0      0      0      0     0      0      0      0      0      0      0      0     0      0      0      0      0      0      0     0      0      0      0      0      0      0      0      0     0      0      0      0      0      0     0      0      0      0      0      0      0      0      0      0      0      0      0      0      0      0      0      0      0     0      0      0      0      0      0      0      0      0     0      0      0      0      0      0      0      0      0      0     0      0      0      0      0     0      0      0      0      0     0      0      0      0      0      0      0     0      0      0      0      0      0      0      0      0      0      0      0      0      0      0      0     0      0      0      0      0      0      0     0      0      0      0      0      0      0      0     0      0      0      0      0      0      0      0      0      0      0      0      0      0      0      0     0      0      0      0      0      0      0      0      0      0      0      0     0      0      0     0      0      0      0      0      0      0     0      0      0      0      0     0      0      0      0      0      0      0      0     0      0      0      0      0      0      0      0      0      0      0      0     0      0      0     0      0      0      0      0      0     0      0      0      0      0      0      0      0     0      0      0      0      0      0      0      0      0      0      0      0     0      0      0      0      0      0      0     0      0      0      0      0      0     0      0      0      0      0     0      0      0      0      0      0     0      0      0      0      0      0      0      0      0      0      0     0      0      0      0      0      0      0      0      0      0      0      0     0      0      0      0      0      0      0      0      0      0      0      0      0      0      0      0      0      0      0      0     0      0      0      0     0      0      0      0      0      0     0      0      0      0      0      0      0      0      0      0      0     0      0      0      0      0      0      0      0     0      0      0      0      0      0      0      0      0      0      0      0      0      0      0      0      0      0      0      0      0      0      0      0     0      0      0      0      0      0      0      0      0      0      0      0      0      0      0      0      0     0      0      0      0      0     0      0      0      0      0      0      0      0     0      0      0      0      0      0      0     0      0      0      0      0      0     0      0      0      0     0      0      0      0      0      0      0      0      0     0      0      0      0      0      0      0      0      0      0      0      0     0      0      0      0      0      0     0      0      0      0      0      0      0      0      0      0      0      0      0      0      0      0      0      0     0      0      0      0      0     0      0      0      0      0     0      0      0      0      0      0      0      0      0      0      0      0      0      0      0     0      0      0      0      0      0      0     0      0      0      0      0      0     0      0      0      0      0      0      0     0      0      0      0     0      0      0      0      0      0      0      0      0      0      0      0      0      0      0      0      0      0      0      0     0      0      0      0      0      0      0      0      0      0      0      0      0      0      0      0     0      0      0      0      0     0      0      0      0      0     0      0      0      0      0      0      0      0      0      0      0      0      0      0      0      0      0      0     0      0      0      0      0      0      0      0      0      0      0      0      0     0      0      0      0      0      0     0      0      0      0      0      0      0      0     0      0      0      0      0      0      0     0      0      0      0      0      0      0     0      0      0      0      0      0      0      0      0      0     0      0      0      0      0      0      0      0      0      0      0      0      0      0      0      0      0      0      0      0      0      0      0      0      0      0      0      0      0      0      0      0     0      0      0      0      0      0      0      0      0      0      0      0     0      0      0      0      0      0     0      0      0      0      0     0      0      0      0      0      0      0      0     0      0      0      0      0      0      0      0      0     0      0      0      0      0      0      0     0      0      0      0      0      0     0      0      0      0      0      0      0      0      0      0      0      0      0      0      0      0      0      0      0     0      0      0      0      0      0      0      0      0     0      0      0      0     0      0      0      0      0     0      0      0      0      0      0      0      0      0     0      0      0      0      0     0      0      0      0      0      0     0      0      0      0      0      0      0      0      0     0      0      0      0      0      0     0      0      0      0      0      0      0      0      0      0      0      0      0      0      0      0      0      0      0      0      0      0      0      0      0      0      0      0      0      0     0      0      0      0      0      0      0      0      0      0      0      0      0      0      0     0      0      0      0      0      0      0     0      0      0      0      0      0      0     0      0      0      0      0      0      0      0      0     0      0      0      0      0      0      0      0      0     0      0      0      0      0      0      0     0      0      0      0      0     0      0      0      0      0      0      0      0      0      0      0      0      0      0      0      0      0     0      0      0      0      0      0     0      0      0      0      0      0      0     0      0      0      0      0      0      0      0      0      0     0      0      0      0      0      0     0      0      0      0      0      0      0      0     0      0      0      0      0      0      0      0      0      0      0      0      0      0      0      0      0      0      0      0      0     0      0      0      0      0     0      0      0      0      0      0     0      0      0      0      0      0      0      0      0      0      0      0      0      0      0      0     0      0      0      0      0      0      0     0      0      0      0      0      0      0      0      0      0      0      0      0      0      0      0     0      0      0      0     0      0      0      0      0      0      0      0      0      0      0      0      0      0      0      0      0      0     0      0      0      0      0      0      0      0      0      0      0      0      0      0      0      0      0      0      0     0      0      0      0      0      0      0      0      0      0      0      0      0      0      0      0      0     0      0      0      0      0     0      0      0      0      0      0      0      0      0      0      0     0      0      0      0      0      0     0      0      0      0      0      0      0      0      0      0      0      0     0      0      0      0      0      0      0      0      0      0      0      0      0      0      0     0      0      0      0      0      0     0      0      0      0      0      0      0      0      0      0      0      0      0      0     0      0      0      0      0      0      0      0      0      0      0      0      0     0      0      0      0      0      0      0      0      0      0      0      0      0     0      0      0      0      0      0      0     0      0      0      0      0      0      0      0      0      0      0     0      0      0      0      0      0      0     0      0      0      0      0      0     0      0      0      0      0      0      0      0      0      0     0      0      0      0      0      0      0      0      0      0      0      0      0     0      0      0      0      0     0      0      0      0      0      0      0      0      0      0      0      0     0      0      0      0      0      0     0      0      0      0      0      0      0      0      0     0      0      0      0      0      0      0      0      0      0      0      0      0     0      0      0      0      0     0      0      0      0      0      0      0      0      0      0      0      0      0      0      0      0     0      0      0      0      0      0      0      0     0      0      0      0      0      0     0      0      0      0      0      0      0      0      0      0      0      0      0      0      0      0      0      0      0      0      0      0      0      0      0      0      0      0      0      0      0      0     0      0      0      0      0     0      0      0      0      0      0      0      0      0      0      0      0      0      0     0      0      0      0      0      0      0     0      0      0      0      0      0     0      0      0     0      0      0      0      0      0      0      0      0      0      0     0      0      0      0      0      0     0      0      0      0      0      0      0     0      0      0      0      0      0      0     0      0      0      0      0      0      0      0      0      0      0      0      0     0      0      0      0      0      0      0      0      0      0      0      0      0      0      0      0      0      0      0      0      0      0      0      0      0      0      0      0      0      0      0      0      0      0      0      0      0      0     0      0      0      0      0      0     0      0      0      0      0      0      0      0     0      0      0      0      0      0      0      0      0      0      0      0     0      0      0      0      0      0      0      0      0      0      0      0      0     0      0      0      0      0      0      0     0      0      0      0      0      0      0      0      0      0      0      0      0      0      0      0      0      0      0      0      0      0     0      0      0      0      0      0      0     0      0      0      0     0      0      0      0     0      0      0      0      0      0     0      0      0      0     0      0      0      0      0     0      0      0      0      0      0     0      0      0      0      0      0      0      0      0      0      0      0      0     0      0      0      0      0      0      0      0      0      0       0       0       0       0       0       0       0       0       0       0       0      0       0       0       0       0       0       0       0       0       0       0       0       0       0      0       0       0       0       0       0       0      0       0       0       0       0       0       0       0       0       0       0       0       0       0       0       0       0       0       0       0       0       0       0       0      0       0       0       0       0       0       0       0       0      0       0       0       0       0       0      0       0       0       0       0       0       0       0       0       0       0       0       0       0       0       0       0      0       0       0       0       0       0       0      0       0       0       0       0       0       0       0      0       0       0       0       0       0      0       0       0       0       0      0       0       0       0       0       0       0       0       0       0       0       0       0       0       0      0       0       0       0       0      0       0       0       0       0       0       0       0       0       0       0       0       0       0       0       0       0       0       0       0       0       0       0      0       0       0       0       0      0       0       0       0       0       0       0       0       0       0       0       0       0       0       0       0       0      0       0       0       0       0       0       0       0       0       0       0       0       0       0      0       0       0       0       0       0      0       0       0       0       0       0       0       0       0      0       0       0       0       0      0       0       0       0       0       0       0       0       0       0       0       0       0       0       0       0       0       0       0       0       0       0       0       0       0       0       0      0       0       0       0       0       0       0       0       0       0      0       0       0       0       0       0       0       0       0      0       0       0       0       0       0       0       0       0       0       0       0       0       0      0       0       0       0      0       0       0       0       0       0       0       0       0       0       0       0       0       0       0       0      0       0       0       0       0       0       0       0      0       0       0       0       0       0       0       0       0       0       0       0       0       0       0       0       0       0       0      0       0       0       0      0       0       0       0       0       0       0       0       0       0       0       0       0       0       0       0       0       0       0       0       0       0      0       0       0       0       0       0       0       0      0       0       0       0       0       0       0      0       0       0       0      0       0       0       0       0       0       0       0       0       0       0       0       0       0       0       0       0      0       0       0       0       0      0       0       0       0       0       0       0       0       0       0       0       0       0       0      0       0       0       0      0       0       0       0       0       0       0       0       0       0       0       0       0       0       0       0      0       0       0       0       0       0       0       0       0       0       0       0       0       0       0       0       0       0       0       0       0       0       0       0       0       0       0       0       0       0       0       0       0       0       0       0       0       0       0       0       0       0       0       0       0       0       0       0       0       0      0       0       0       0       0       0       0       0       0       0       0       0       0       0       0       0       0       0       0      0       0       0       0       0       0       0       0       0       0       0       0       0       0      0       0      0       0       0       0       0       0       0      0       0       0       0       0       0       0       0       0       0      0       0       0       0       0       0       0       0       0       0       0       0       0       0       0       0       0       0       0       0       0       0       0      0       0       0       0       0       0       0       0       0       0       0       0       0       0       0       0       0       0       0       0       0       0       0      0       0       0       0       0       0       0       0       0       0       0       0       0       0       0       0       0       0       0       0      0       0       0      0       0       0       0       0       0       0      0       0      0       0       0       0       0       0       0       0       0       0       0       0       0       0       0       0       0       0       0       0       0       0       0       0       0       0       0       0       0       0       0       0       0       0       0       0       0      0       0       0       0       0       0       0       0       0       0       0       0       0      0       0       0      0       0       0       0       0       0       0       0      0       0       0       0       0       0       0       0       0       0       0       0       0       0       0       0       0       0       0       0       0       0       0       0       0       0       0       0       0       0       0       0       0       0      0       0       0      0       0       0       0       0      0       0       0       0       0       0       0       0       0       0       0       0       0       0      0       0       0       0       0       0      0       0       0      0       0       0       0       0       0       0       0       0       0       0       0       0       0       0       0       0       0       0       0       0       0       0       0       0       0       0       0       0       0       0       0       0       0      0       0      0       0       0       0       0       0       0       0       0       0      0       0       0      0       0       0       0       0       0       0       0       0       0       0       0       0       0       0       0       0       0       0       0       0       0       0       0       0       0       0       0      0       0       0       0       0       0       0      0       0       0       0       0       0       0       0       0       0       0       0       0       0       0       0       0       0       0       0       0       0       0       0       0       0      0       0       0       0       0       0       0       0       0       0       0       0      0      0       0       0       0       0       0       0      0       0       0       0       0       0       0       0       0       0       0       0      0       0       0       0       0       0       0       0       0       0       0       0       0       0       0       0       0       0      0       0       0       0       0       0       0       0       0       0       0      0       0      0       0      0       0       0       0       0      0       0       0       0       0       0       0       0       0       0       0       0       0       0       0       0      0       0       0       0       0       0       0       0      0       0       0      0       0       0       0      0       0       0       0       0       0       0       0       0       0      0       0       0       0       0       0       0       0       0       0       0       0       0       0       0       0      0       0       0       0      0       0       0       0      0       0       0       0       0       0       0       0       0       0      0       0       0       0       0      0       0       0       0       0       0       0       0       0       0       0      0       0       0       0       0       0       0       0       0       0       0       0       0       0      0      0       0      0       0      0       0       0       0       0       0       0       0      0       0       0       0       0       0       0       0       0       0       0       0       0       0       0      0       0       0       0      0       0       0       0       0       0       0       0       0       0       0       0       0       0      0       0       0       0       0       0       0       0       0       0      0       0       0       0      0       0      0       0       0       0       0      0       0       0       0       0       0       0      0       0       0       0       0       0      0       0       0      0       0       0       0       0       0       0       0       0       0       0       0       0       0       0       0       0       0       0       0       0      0      0       0       0      0       0       0       0       0      0       0       0       0       0       0       0       0       0       0      0       0       0         1\n",
       "32.516064     0      0      0      0      0      0      0      0      0      0      0      0      0      0      0      0      0      0      0      0      0      0      0      0      0      0      0      0      0      0      0      0      0      0      0      0      0      0      0      0     0      0      0      0      0      0      0      0      0      0      0      0      0      0      0      0      0      0      0      0      0      0      0     0      0      0      0      0      0      0      0      0     0      0      0      0      0      0     0      0      0      0     0      0      0      0      0      0      0      0      0     0      0      0      0     0      0      0      0      0      0      0      0      0      0      0      0      0      0      0      0      0      0      0     0      0      0      0      0      0      0      0      0      0      0      0      0      0      0      0      0     0      0      0      0      0      0      0      0      0      0     0      0      0      0      0      0      0     0      0      0      0      0      0      0      0      0      0      0      0      0      0      0      0      0      0      0      0      0      0      0      0      0      0      0      0      0      0      0      0      0      0      0      0     0      0      0      0      0      0      0      0      0     0      0     0      0      0      0     0      0      0      0      0     0      0      0      0      0      0      0      0      0      0      0      0     0      0      0      0      0      0      0      0      0      0      0      0      0      0      0      0      0      0      0      0     0      0      0      0      0      0      0      0     0      0      0      0      0     0      0      0      0      0      0     0      0      0      0      0      0      0      0      0      0      0      0     0      0      0      0      0      0      0      0      0      0      0      0      0      0      0      0      0      0      0      0      0      0      0      0      0      0      0     0      0      0      0      0      0      0      0      0      0     0      0      0      0      0      0      0      0      0      0      0      0      0     0      0      0      0      0      0      0      0      0     0      0      0      0      0     0      0      0      0     0      0      0      0      0      0     0      0      0      0      0      0      0      0      0      0      0      0      0      0      0      0      0      0      0      0      0      0      0      0      0      0     0      0      0      0      0      0     0      0      0      0      0      0      0      0      0      0     0      0      0      0      0     0      0      0      0      0      0     0      0      0      0      0      0      0      0      0      0      0     0      0      0      0      0      0      0      0      0      0      0      0      0      0      0     0      0      0      0      0     0      0      0      0      0      0      0      0      0      0      0      0      0     0      0      0      0      0      0      0      0      0     0      0      0      0      0     0      0      0      0      0     0      0      0      0      0      0      0      0      0      0      0     0      0      0      0     0      0      0      0      0      0      0      0      0      0      0      0      0      0      0      0      0      0      0      0     0      0      0      0      0      0      0      0      0     0      0      0      0      0     0      0      0      0      0     0      0      0      0      0      0      0      0      0      0      0      0      0      0      0      0      0      0      0     0      0      0      0      0      0      0      0     0      0      0      0     0      0      0      0      0      0     0      0      0      0      0      0      0      0     0      0      0      0      0      0      0      0      0      0      0      0      0      0      0      0     0      0      0      0      0      0      0      0      0      0      0      0      0      0      0      0      0      0      0      0      0     0      0      0      0      0      0      0      0      0      0      0      0      0      0      0      0      0      0      0      0      0      0     0      0      0      0      0      0      0      0      0      0      0      0      0      0      0      0      0      0      0      0     0      0      0      0      0     0      0      0      0      0      0     0      0      0      0      0     0      0      0      0      0     0      0      0      0     0      0      0      0      0      0      0      0      0      0     0      0      0      0      0      0      0      0     0      0      0      0      0      0      0     0      0      0      0      0      0      0      0      0     0      0      0      0      0      0     0      0      0      0      0      0      0      0      0      0      0      0      0      0      0      0      0      0      0     0      0      0      0      0      0      0      0      0     0      0      0      0      0      0      0      0      0      0     0      0      0      0      0     0      0      0      0      0     0      0      0      0      0      0      0     0      0      0      0      0      0      0      0      0      0      0      0      0      0      0      0     0      0      0      0      0      0      0     0      0      0      0      0      0      0      0     0      0      0      0      0      0      0      0      0      0      0      0      0      0      0      0     0      0      0      0      0      0      0      0      0      0      0      0     0      0      0     0      0      0      0      0      0      0     0      0      0      0      0     0      0      0      0      0      0      0      0     0      0      0      0      0      0      0      0      0      0      0      0     0      0      0     0      0      0      0      0      0     0      0      0      0      0      0      0      0     0      0      0      0      0      0      0      0      0      0      0      0     0      0      0      0      0      0      0     0      0      0      0      0      0     0      0      0      0      0     0      0      0      0      0      0     0      0      0      0      0      0      0      0      0      0      0     0      0      0      0      0      0      0      0      0      0      0      0     0      0      0      0      0      0      0      0      0      0      0      0      0      0      0      0      0      0      0      0     0      0      0      0     0      0      0      0      0      0     0      0      0      0      0      0      0      0      0      0      0     0      0      0      0      0      0      0      0     0      0      0      0      0      0      0      0      0      0      0      0      0      0      0      0      0      0      0      0      0      0      0      0     0      0      0      0      0      0      0      0      0      0      0      0      0      0      0      0      0     0      0      0      0      0     0      0      0      0      0      0      0      0     0      0      0      0      0      0      0     0      0      0      0      0      0     0      0      0      0     0      0      0      0      0      0      0      0      0     0      0      0      0      0      0      0      0      0      0      0      0     0      0      0      0      0      0     0      0      0      0      0      0      0      0      0      0      0      0      0      0      0      0      0      0     0      0      0      0      0     0      0      0      0      0     0      0      0      0      0      0      0      0      0      0      0      0      0      0      0     0      0      0      0      0      0      0     0      0      0      0      0      0     0      0      0      0      0      0      0     0      0      0      0     0      0      0      0      0      0      0      0      0      0      0      0      0      0      0      0      0      0      0      0     0      0      0      0      0      0      0      0      0      0      0      0      0      0      0      0     0      0      0      0      0     0      0      0      0      0     0      0      0      0      0      0      0      0      0      0      0      0      0      0      0      0      0      0     0      0      0      0      0      0      0      0      0      0      0      0      0     0      0      0      0      0      0     0      0      0      0      0      0      0      0     0      0      0      0      0      0      0     0      0      0      0      0      0      0     0      0      0      0      0      0      0      0      0      0     0      0      0      0      0      0      0      0      0      0      0      0      0      0      0      0      0      0      0      0      0      0      0      0      0      0      0      0      0      0      0      0     0      0      0      0      0      0      0      0      0      0      0      0     0      0      0      0      0      0     0      0      0      0      0     0      0      0      0      0      0      0      0     0      0      0      0      0      0      0      0      0     0      0      0      0      0      0      0     0      0      0      0      0      0     0      0      0      0      0      0      0      0      0      0      0      0      0      0      0      0      0      0      0     0      0      0      0      0      0      0      0      0     0      0      0      0     0      0      0      0      0     0      0      0      0      0      0      0      0      0     0      0      0      0      0     0      0      0      0      0      0     0      0      0      0      0      0      0      0      0     0      0      0      0      0      0     0      0      0      0      0      0      0      0      0      0      0      0      0      0      0      0      0      0      0      0      0      0      0      0      0      0      0      0      0      0     0      0      0      0      0      0      0      0      0      0      0      0      0      0      0     0      0      0      0      0      0      0     0      0      0      0      0      0      0     0      0      0      0      0      0      0      0      0     0      0      0      0      0      0      0      0      0     0      0      0      0      0      0      0     0      0      0      0      0     0      0      0      0      0      0      0      0      0      0      0      0      0      0      0      0      0     0      0      0      0      0      0     0      0      0      0      0      0      0     0      0      0      0      0      0      0      0      0      0     0      0      0      0      0      0     0      0      0      0      0      0      0      0     0      0      0      0      0      0      0      0      0      0      0      0      0      0      0      0      0      0      0      0      0     0      0      0      0      0     0      0      0      0      0      0     0      0      0      0      0      0      0      0      0      0      0      0      0      0      0      0     0      0      0      0      0      0      0     0      0      0      0      0      0      0      0      0      0      0      0      0      0      0      0     0      0      0      0     0      0      0      0      0      0      0      0      0      0      0      0      0      0      0      0      0      0     0      0      0      0      0      0      0      0      0      0      0      0      0      0      0      0      0      0      0     0      0      0      0      0      0      0      0      0      0      0      0      0      0      0      0      0     0      0      0      0      0     0      0      0      0      0      0      0      0      0      0      0     0      0      0      0      0      0     0      0      0      0      0      0      0      0      0      0      0      0     0      0      0      0      0      0      0      0      0      0      0      0      0      0      0     0      0      0      0      0      0     0      0      0      0      0      0      0      0      0      0      0      0      0      0     0      0      0      0      0      0      0      0      0      0      0      0      0     0      0      0      0      0      0      0      0      0      0      0      0      0     0      0      0      0      0      0      0     0      0      0      0      0      0      0      0      0      0      0     0      0      0      0      0      0      0     0      0      0      0      0      0     0      0      0      0      0      0      0      0      0      0     0      0      0      0      0      0      0      0      0      0      0      0      0     0      0      0      0      0     0      0      0      0      0      0      0      0      0      0      0      0     0      0      0      0      0      0     0      0      0      0      0      0      0      0      0     0      0      0      0      0      0      0      0      0      0      0      0      0     0      0      0      0      0     0      0      0      0      0      0      0      0      0      0      0      0      0      0      0      0     0      0      0      0      0      1      0      0     0      0      0      0      0      0     0      0      0      0      0      0      0      0      0      0      0      0      0      0      0      0      0      0      0      0      0      0      0      0      0      0      0      0      0      0      0      0     0      0      0      0      0     0      0      0      0      0      0      0      0      0      0      0      0      0      0     0      0      0      0      0      0      0     0      0      0      0      0      0     0      0      0     0      0      0      0      0      0      0      0      0      0      0     0      0      0      0      0      0     0      0      0      0      0      0      0     0      0      0      0      0      0      0     0      0      0      0      0      0      0      0      0      0      0      0      0     0      0      0      0      0      0      0      0      0      0      0      0      0      0      0      0      0      0      0      0      0      0      0      0      0      0      0      0      0      0      0      0      0      0      0      0      0      0     0      0      0      0      0      0     0      0      0      0      0      0      0      0     0      0      0      0      0      0      0      0      0      0      0      0     0      0      0      0      0      0      0      0      0      0      0      0      0     0      0      0      0      0      0      0     0      0      0      0      0      0      0      0      0      0      0      0      0      0      0      0      0      0      0      0      0      0     0      0      0      0      0      0      0     0      0      0      0     0      0      0      0     0      0      0      0      0      0     0      0      0      0     0      0      0      0      0     0      0      0      0      0      0     0      0      0      0      0      0      0      0      0      0      0      0      0     0      0      0      0      0      0      0      0      0      0       0       0       0       0       0       0       0       0       0       0       0      0       0       0       0       0       0       0       0       0       0       0       0       0       0      0       0       0       0       0       0       0      0       0       0       0       0       0       0       0       0       0       0       0       0       0       0       0       0       0       0       0       0       0       0       0      0       0       0       0       0       0       0       0       0      0       0       0       0       0       0      0       0       0       0       0       0       0       0       0       0       0       0       0       0       0       0       0      0       0       0       0       0       0       0      0       0       0       0       0       0       0       0      0       0       0       0       0       0      0       0       0       0       0      0       0       0       0       0       0       0       0       0       0       0       0       0       0       0      0       0       0       0       0      0       0       0       0       0       0       0       0       0       0       0       0       0       0       0       0       0       0       0       0       0       0       0      0       0       0       0       0      0       0       0       0       0       0       0       0       0       0       0       0       0       0       0       0       0      0       0       0       0       0       0       0       0       0       0       0       0       0       0      0       0       0       0       0       0      0       0       0       0       0       0       0       0       0      0       0       0       0       0      0       0       0       0       0       0       0       0       0       0       0       0       0       0       0       0       0       0       0       0       0       0       0       0       0       0       0      0       0       0       0       0       0       0       0       0       0      0       0       0       0       0       0       0       0       0      0       0       0       0       0       0       0       0       0       0       0       0       0       0      0       0       0       0      0       0       0       0       0       0       0       0       0       0       0       0       0       0       0       0      0       0       0       0       0       0       0       0      0       0       0       0       0       0       0       0       0       0       0       0       0       0       0       0       0       0       0      0       0       0       0      0       0       0       0       0       0       0       0       0       0       0       0       0       0       0       0       0       0       0       0       0       0      0       0       0       0       0       0       0       0      0       0       0       0       0       0       0      0       0       0       0      0       0       0       0       0       0       0       0       0       0       0       0       0       0       0       0       0      0       0       0       0       0      0       0       0       0       0       0       0       0       0       0       0       0       0       0      0       0       0       0      0       0       0       0       0       0       0       0       0       0       0       0       0       0       0       0      0       0       0       0       0       0       0       0       0       0       0       0       0       0       0       0       0       0       0       0       0       0       0       0       0       0       0       0       0       0       0       0       0       0       0       0       0       0       0       0       0       0       0       0       0       0       0       0       0       0      0       0       0       0       0       0       0       0       0       0       0       0       0       0       0       0       0       0       0      0       0       0       0       0       0       0       0       0       0       0       0       0       0      0       0      0       0       0       0       0       0       0      0       0       0       0       0       0       0       0       0       0      0       0       0       0       0       0       0       0       0       0       0       0       0       0       0       0       0       0       0       0       0       0       0      0       0       0       0       0       0       0       0       0       0       0       0       0       0       0       0       0       0       0       0       0       0       0      0       0       0       0       0       0       0       0       0       0       0       0       0       0       0       0       0       0       0       0      0       0       0      0       0       0       0       0       0       0      0       0      0       0       0       0       0       0       0       0       0       0       0       0       0       0       0       0       0       0       0       0       0       0       0       0       0       0       0       0       0       0       0       0       0       0       0       0       0      0       0       0       0       0       0       0       0       0       0       0       0       0      0       0       0      0       0       0       0       0       0       0       0      0       0       0       0       0       0       0       0       0       0       0       0       0       0       0       0       0       0       0       0       0       0       0       0       0       0       0       0       0       0       0       0       0       0      0       0       0      0       0       0       0       0      0       0       0       0       0       0       0       0       0       0       0       0       0       0      0       0       0       0       0       0      0       0       0      0       0       0       0       0       0       0       0       0       0       0       0       0       0       0       0       0       0       0       0       0       0       0       0       0       0       0       0       0       0       0       0       0       0      0       0      0       0       0       0       0       0       0       0       0       0      0       0       0      0       0       0       0       0       0       0       0       0       0       0       0       0       0       0       0       0       0       0       0       0       0       0       0       0       0       0       0      0       0       0       0       0       0       0      0       0       0       0       0       0       0       0       0       0       0       0       0       0       0       0       0       0       0       0       0       0       0       0       0       0      0       0       0       0       0       0       0       0       0       0       0       0      0      0       0       0       0       0       0       0      0       0       0       0       0       0       0       0       0       0       0       0      0       0       0       0       0       0       0       0       0       0       0       0       0       0       0       0       0       0      0       0       0       0       0       0       0       0       0       0       0      0       0      0       0      0       0       0       0       0      0       0       0       0       0       0       0       0       0       0       0       0       0       0       0       0      0       0       0       0       0       0       0       0      0       0       0      0       0       0       0      0       0       0       0       0       0       0       0       0       0      0       0       0       0       0       0       0       0       0       0       0       0       0       0       0       0      0       0       0       0      0       0       0       0      0       0       0       0       0       0       0       0       0       0      0       0       0       0       0      0       0       0       0       0       0       0       0       0       0       0      0       0       0       0       0       0       0       0       0       0       0       0       0       0      0      0       0      0       0      0       0       0       0       0       0       0       0      0       0       0       0       0       0       0       0       0       0       0       0       0       0       0      0       0       0       0      0       0       0       0       0       0       0       0       0       0       0       0       0       0      0       0       0       0       0       0       0       0       0       0      0       0       0       0      0       0      0       0       0       0       0      0       0       0       0       0       0       0      0       0       0       0       0       0      0       0       0      0       0       0       0       0       0       0       0       0       0       0       0       0       0       0       0       0       0       0       0       0      0      0       0       0      0       0       0       0       0      0       0       0       0       0       0       0       0       0       0      0       0       0         1\n",
       "195.943660    0      0      0      0      0      0      0      0      0      0      0      0      0      0      0      0      0      0      0      0      0      0      0      0      0      0      0      0      0      0      0      0      0      0      0      0      0      0      0      0     0      0      0      0      0      0      0      0      0      0      0      0      0      0      0      0      0      0      0      0      0      0      0     0      0      0      0      0      0      0      0      0     0      0      0      0      0      0     0      0      0      0     0      0      0      0      0      0      0      0      0     0      0      0      0     0      0      0      0      0      0      0      0      0      0      0      0      0      0      0      0      0      0      0     0      0      0      0      0      0      0      0      0      0      0      0      0      0      0      0      0     0      0      0      0      0      0      0      0      0      0     0      0      0      0      0      0      0     0      0      0      0      0      0      0      0      0      0      0      0      0      0      0      0      0      0      0      0      0      0      0      0      0      0      0      0      0      0      0      0      0      0      0      0     0      0      0      0      0      0      0      0      0     0      0     0      0      0      0     0      0      0      0      0     0      0      0      0      0      0      0      0      0      0      0      0     0      0      0      0      0      0      0      0      0      0      0      0      0      0      0      0      0      0      0      0     0      0      0      0      0      0      0      0     0      0      0      0      0     0      0      0      0      0      0     0      0      0      0      0      0      0      0      0      0      0      0     0      0      0      0      0      0      0      0      0      0      0      0      0      0      0      0      0      0      0      0      0      0      0      0      0      0      0     0      0      0      0      0      0      0      0      0      0     0      0      0      0      0      0      0      0      0      0      0      0      0     0      0      0      0      0      0      0      0      0     0      0      0      0      0     0      0      0      0     0      0      0      0      0      0     0      0      0      0      0      0      0      0      0      0      0      0      0      0      0      0      0      0      0      0      0      0      0      0      0      0     0      0      0      0      0      0     0      0      0      0      0      0      0      0      0      0     0      0      0      0      0     0      0      0      0      0      0     0      0      0      0      0      0      0      0      0      0      0     0      0      0      0      0      0      0      0      0      0      0      0      0      0      0     0      0      0      0      0     0      0      0      0      0      0      0      0      0      0      0      0      0     0      0      0      0      0      0      0      0      0     0      0      0      0      0     0      0      0      0      0     0      0      0      0      0      0      0      0      0      0      0     0      0      0      0     0      0      0      0      0      0      0      0      0      0      0      0      0      0      0      0      0      0      0      0     0      0      0      0      0      0      0      0      0     0      0      0      0      0     0      0      0      0      0     0      0      0      0      0      0      0      0      0      0      0      0      0      0      0      0      0      0      0     0      0      0      0      0      0      0      0     0      0      0      0     0      0      0      0      0      0     0      0      0      0      0      0      0      0     0      0      0      0      0      0      0      0      0      0      0      0      0      0      0      0     0      0      1      0      0      0      0      0      0      0      0      0      0      0      0      0      0      0      0      0      0     0      0      0      0      0      0      0      0      0      0      0      0      0      0      0      0      0      0      0      0      0      0     0      0      0      0      0      0      0      0      0      0      0      0      0      0      0      0      0      0      0      0     0      0      0      0      0     0      0      0      0      0      0     0      0      0      0      0     0      0      0      0      0     0      0      0      0     0      0      0      0      0      0      0      0      0      0     0      0      0      0      0      0      0      0     0      0      0      0      0      0      0     0      0      0      0      0      0      0      0      0     0      0      0      0      0      0     0      0      0      0      0      0      0      0      0      0      0      0      0      0      0      0      0      0      0     0      0      0      0      0      0      0      0      0     0      0      0      0      0      0      0      0      0      0     0      0      0      0      0     0      0      0      0      0     0      0      0      0      0      0      0     0      0      0      0      0      0      0      0      0      0      0      0      0      0      0      0     0      0      0      0      0      0      0     0      0      0      0      0      0      0      0     0      0      0      0      0      0      0      0      0      0      0      0      0      0      0      0     0      0      0      0      0      0      0      0      0      0      0      0     0      0      0     0      0      0      0      0      0      0     0      0      0      0      0     0      0      0      0      0      0      0      0     0      0      0      0      0      0      0      0      0      0      0      0     0      0      0     0      0      0      0      0      0     0      0      0      0      0      0      0      0     0      0      0      0      0      0      0      0      0      0      0      0     0      0      0      0      0      0      0     0      0      0      0      0      0     0      0      0      0      0     0      0      0      0      0      0     0      0      0      0      0      0      0      0      0      0      0     0      0      0      0      0      0      0      0      0      0      0      0     0      0      0      0      0      0      0      0      0      0      0      0      0      0      0      0      0      0      0      0     0      0      0      0     0      0      0      0      0      0     0      0      0      0      0      0      0      0      0      0      0     0      0      0      0      0      0      0      0     0      0      0      0      0      0      0      0      0      0      0      0      0      0      0      0      0      0      0      0      0      0      0      0     0      0      0      0      0      0      0      0      0      0      0      0      0      0      0      0      0     0      0      0      0      0     0      0      0      0      0      0      0      0     0      0      0      0      0      0      0     0      0      0      0      0      0     0      0      0      0     0      0      0      0      0      0      0      0      0     0      0      0      0      0      0      0      0      0      0      0      0     0      0      0      0      0      0     0      0      0      0      0      0      0      0      0      0      0      0      0      0      0      0      0      0     0      0      0      0      0     0      0      0      0      0     0      0      0      0      0      0      0      0      0      0      0      0      0      0      0     0      0      0      0      0      0      0     0      0      0      0      0      0     0      0      0      0      0      0      0     0      0      0      0     0      0      0      0      0      0      0      0      0      0      0      0      0      0      0      0      0      0      0      0     0      0      0      0      0      0      0      0      0      0      0      0      0      0      0      0     0      0      0      0      0     0      0      0      0      0     0      0      0      0      0      0      0      0      0      0      0      0      0      0      0      0      0      0     0      0      0      0      0      0      0      0      0      0      0      0      0     0      0      0      0      0      0     0      0      0      0      0      0      0      0     0      0      0      0      0      0      0     0      0      0      0      0      0      0     0      0      0      0      0      0      0      0      0      0     0      0      0      0      0      0      0      0      0      0      0      0      0      0      0      0      0      0      0      0      0      0      0      0      0      0      0      0      0      0      0      0     0      0      0      0      0      0      0      0      0      0      0      0     0      0      0      0      0      0     0      0      0      0      0     0      0      0      0      0      0      0      0     0      0      0      0      0      0      0      0      0     0      0      0      0      0      0      0     0      0      0      0      0      0     0      0      0      0      0      0      0      0      0      0      0      0      0      0      0      0      0      0      0     0      0      0      0      0      0      0      0      0     0      0      0      0     0      0      0      0      0     0      0      0      0      0      0      0      0      0     0      0      0      0      0     0      0      0      0      0      0     0      0      0      0      0      0      0      0      0     0      0      0      0      0      0     0      0      0      0      0      0      0      0      0      0      0      0      0      0      0      0      0      0      0      0      0      0      0      0      0      0      0      0      0      0     0      0      0      0      0      0      0      0      0      0      0      0      0      0      0     0      0      0      0      0      0      0     0      0      0      0      0      0      0     0      0      0      0      0      0      0      0      0     0      0      0      0      0      0      0      0      0     0      0      0      0      0      0      0     0      0      0      0      0     0      0      0      0      0      0      0      0      0      0      0      0      0      0      0      0      0     0      0      0      0      0      0     0      0      0      0      0      0      0     0      0      0      0      0      0      0      0      0      0     0      0      0      0      0      0     0      0      0      0      0      0      0      0     0      0      0      0      0      0      0      0      0      0      0      0      0      0      0      0      0      0      0      0      0     0      0      0      0      0     0      0      0      0      0      0     0      0      0      0      0      0      0      0      0      0      0      0      0      0      0      0     0      0      0      0      0      0      0     0      0      0      0      0      0      0      0      0      0      0      0      0      0      0      0     0      0      0      0     0      0      0      0      0      0      0      0      0      0      0      0      0      0      0      0      0      0     0      0      0      0      0      0      0      0      0      0      0      0      0      0      0      0      0      0      0     0      0      0      0      0      0      0      0      0      0      0      0      0      0      0      0      0     0      0      0      0      0     0      0      0      0      0      0      0      0      0      0      0     0      0      0      0      0      0     0      0      0      0      0      0      0      0      0      0      0      0     0      0      0      0      0      0      0      0      0      0      0      0      0      0      0     0      0      0      0      0      0     0      0      0      0      0      0      0      0      0      0      0      0      0      0     0      0      0      0      0      0      0      0      0      0      0      0      0     0      0      0      0      0      0      0      0      0      0      0      0      0     0      0      0      0      0      0      0     0      0      0      0      0      0      0      0      0      0      0     0      0      0      0      0      0      0     0      0      0      0      0      0     0      0      0      0      0      0      0      0      0      0     0      0      0      0      0      0      0      0      0      0      0      0      0     0      0      0      0      0     0      0      0      0      0      0      0      0      0      0      0      0     0      0      0      0      0      0     0      0      0      0      0      0      0      0      0     0      0      0      0      0      0      0      0      0      0      0      0      0     0      0      0      0      0     0      0      0      0      0      0      0      0      0      0      0      0      0      0      0      0     0      0      0      0      0      0      0      0     0      0      0      0      0      0     0      0      0      0      0      0      0      0      0      0      0      0      0      0      0      0      0      0      0      0      0      0      0      0      0      0      0      0      0      0      0      0     0      0      0      0      0     0      0      0      0      0      0      0      0      0      0      0      0      0      0     0      0      0      0      0      0      0     0      0      0      0      0      0     0      0      0     0      0      0      0      0      0      0      0      0      0      0     0      0      0      0      0      0     0      0      0      0      0      0      0     0      0      0      0      0      0      0     0      0      0      0      0      0      0      0      0      0      0      0      0     0      0      0      0      0      0      0      0      0      0      0      0      0      0      0      0      0      0      0      0      0      0      0      0      0      0      0      0      0      0      0      0      0      0      0      0      0      0     0      0      0      0      0      0     0      0      0      0      0      0      0      0     0      0      0      0      0      0      0      0      0      0      0      0     0      0      0      0      0      0      0      0      0      0      0      0      0     0      0      0      0      0      0      0     0      0      0      0      0      0      0      0      0      0      0      0      0      0      0      0      0      0      0      0      0      0     0      0      0      0      0      0      0     0      0      0      0     0      0      0      0     0      0      0      0      0      0     0      0      0      0     0      0      0      0      0     0      0      0      0      0      0     0      0      0      0      0      0      0      0      0      0      0      0      0     0      0      0      0      0      0      0      0      0      0       0       0       0       0       0       0       0       0       0       0       0      0       0       0       0       0       0       0       0       0       0       0       0       0       0      0       0       0       0       0       0       0      0       0       0       0       0       0       0       0       0       0       0       0       0       0       0       0       0       0       0       0       0       0       0       0      0       0       0       0       0       0       0       0       0      0       0       0       0       0       0      0       0       0       0       0       0       0       0       0       0       0       0       0       0       0       0       0      0       0       0       0       0       0       0      0       0       0       0       0       0       0       0      0       0       0       0       0       0      0       0       0       0       0      0       0       0       0       0       0       0       0       0       0       0       0       0       0       0      0       0       0       0       0      0       0       0       0       0       0       0       0       0       0       0       0       0       0       0       0       0       0       0       0       0       0       0      0       0       0       0       0      0       0       0       0       0       0       0       0       0       0       0       0       0       0       0       0       0      0       0       0       0       0       0       0       0       0       0       0       0       0       0      0       0       0       0       0       0      0       0       0       0       0       0       0       0       0      0       0       0       0       0      0       0       0       0       0       0       0       0       0       0       0       0       0       0       0       0       0       0       0       0       0       0       0       0       0       0       0      0       0       0       0       0       0       0       0       0       0      0       0       0       0       0       0       0       0       0      0       0       0       0       0       0       0       0       0       0       0       0       0       0      0       0       0       0      0       0       0       0       0       0       0       0       0       0       0       0       0       0       0       0      0       0       0       0       0       0       0       0      0       0       0       0       0       0       0       0       0       0       0       0       0       0       0       0       0       0       0      0       0       0       0      0       0       0       0       0       0       0       0       0       0       0       0       0       0       0       0       0       0       0       0       0       0      0       0       0       0       0       0       0       0      0       0       0       0       0       0       0      0       0       0       0      0       0       0       0       0       0       0       0       0       0       0       0       0       0       0       0       0      0       0       0       0       0      0       0       0       0       0       0       0       0       0       0       0       0       0       0      0       0       0       0      0       0       0       0       0       0       0       0       0       0       0       0       0       0       0       0      0       0       0       0       0       0       0       0       0       0       0       0       0       0       0       0       0       0       0       0       0       0       0       0       0       0       0       0       0       0       0       0       0       0       0       0       0       0       0       0       0       0       0       0       0       0       0       0       0       0      0       0       0       0       0       0       0       0       0       0       0       0       0       0       0       0       0       0       0      0       0       0       0       0       0       0       0       0       0       0       0       0       0      0       0      0       0       0       0       0       0       0      0       0       0       0       0       0       0       0       0       0      0       0       0       0       0       0       0       0       0       0       0       0       0       0       0       0       0       0       0       0       0       0       0      0       0       0       0       0       0       0       0       0       0       0       0       0       0       0       0       0       0       0       0       0       0       0      0       0       0       0       0       0       0       0       0       0       0       0       0       0       0       0       0       0       0       0      0       0       0      0       0       0       0       0       0       0      0       0      0       0       0       0       0       0       0       0       0       0       0       0       0       0       0       0       0       0       0       0       0       0       0       0       0       0       0       0       0       0       0       0       0       0       0       0       0      0       0       0       0       0       0       0       0       0       0       0       0       0      0       0       0      0       0       0       0       0       0       0       0      0       0       0       0       0       0       0       0       0       0       0       0       0       0       0       0       0       0       0       0       0       0       0       0       0       0       0       0       0       0       0       0       0       0      0       0       0      0       0       0       0       0      0       0       0       0       0       0       0       0       0       0       0       0       0       0      0       0       0       0       0       0      0       0       0      0       0       0       0       0       0       0       0       0       0       0       0       0       0       0       0       0       0       0       0       0       0       0       0       0       0       0       0       0       0       0       0       0       0      0       0      0       0       0       0       0       0       0       0       0       0      0       0       0      0       0       0       0       0       0       0       0       0       0       0       0       0       0       0       0       0       0       0       0       0       0       0       0       0       0       0       0      0       0       0       0       0       0       0      0       0       0       0       0       0       0       0       0       0       0       0       0       0       0       0       0       0       0       0       0       0       0       0       0       0      0       0       0       0       0       0       0       0       0       0       0       0      0      0       0       0       0       0       0       0      0       0       0       0       0       0       0       0       0       0       0       0      0       0       0       0       0       0       0       0       0       0       0       0       0       0       0       0       0       0      0       0       0       0       0       0       0       0       0       0       0      0       0      0       0      0       0       0       0       0      0       0       0       0       0       0       0       0       0       0       0       0       0       0       0       0      0       0       0       0       0       0       0       0      0       0       0      0       0       0       0      0       0       0       0       0       0       0       0       0       0      0       0       0       0       0       0       0       0       0       0       0       0       0       0       0       0      0       0       0       0      0       0       0       0      0       0       0       0       0       0       0       0       0       0      0       0       0       0       0      0       0       0       0       0       0       0       0       0       0       0      0       0       0       0       0       0       0       0       0       0       0       0       0       0      0      0       0      0       0      0       0       0       0       0       0       0       0      0       0       0       0       0       0       0       0       0       0       0       0       0       0       0      0       0       0       0      0       0       0       0       0       0       0       0       0       0       0       0       0       0      0       0       0       0       0       0       0       0       0       0      0       0       0       0      0       0      0       0       0       0       0      0       0       0       0       0       0       0      0       0       0       0       0       0      0       0       0      0       0       0       0       0       0       0       0       0       0       0       0       0       0       0       0       0       0       0       0       0      0      0       0       0      0       0       0       0       0      0       0       0       0       0       0       0       0       0       0      0       0       0         1\n",
       "194.295095    0      0      0      0      0      0      0      0      0      0      0      0      0      0      0      0      0      0      0      0      0      0      0      0      0      0      0      0      0      0      0      0      0      0      0      0      0      0      0      0     0      0      0      0      0      0      0      0      0      0      0      0      0      0      0      0      0      0      0      0      0      0      0     0      0      0      0      0      0      0      0      0     0      0      0      0      0      0     0      0      0      0     0      0      0      0      0      0      0      0      0     0      0      0      0     0      0      0      0      0      0      0      0      0      0      0      0      0      0      0      0      0      0      0     0      0      0      0      0      0      0      0      0      0      0      0      0      0      0      0      0     0      0      0      0      0      0      0      0      0      0     0      0      0      0      0      0      0     0      0      0      0      0      0      0      0      0      0      0      0      0      0      0      0      0      0      0      0      0      0      0      0      0      0      0      0      0      0      0      0      0      0      0      0     0      0      0      0      0      0      0      0      0     0      0     0      0      0      0     0      0      0      0      0     0      0      0      0      0      0      0      0      0      0      0      0     0      0      0      0      0      0      0      0      0      0      0      0      0      0      0      0      0      0      0      0     0      0      0      0      0      0      0      0     0      0      0      0      0     0      0      0      0      0      0     0      0      0      0      0      0      0      0      0      0      0      0     0      0      0      0      0      0      0      0      0      0      0      0      0      0      0      0      0      0      0      0      0      0      0      0      0      0      0     0      0      0      0      0      0      0      0      0      0     0      0      0      0      0      0      0      0      0      0      0      0      0     0      0      0      0      0      0      0      0      0     0      0      0      0      0     0      0      0      0     0      0      0      0      0      0     0      0      0      0      0      0      0      0      0      0      0      0      0      0      0      0      0      0      0      0      0      0      0      0      0      0     0      0      0      0      0      0     0      0      0      0      0      0      0      0      0      0     0      0      0      0      0     0      0      0      0      0      0     0      0      0      0      0      0      0      0      0      0      0     0      0      0      0      0      0      0      0      0      0      0      0      0      0      0     0      0      0      0      0     0      0      0      0      0      0      0      0      0      0      0      0      0     0      0      0      0      0      0      0      0      0     0      0      0      0      0     0      0      0      0      0     0      0      0      0      0      0      0      0      0      0      0     0      0      0      0     0      0      0      0      0      0      0      0      0      0      0      0      0      0      0      0      0      0      0      0     0      0      0      0      0      0      0      0      0     0      0      0      0      0     0      0      0      0      0     0      0      0      0      0      0      0      0      0      0      0      0      0      0      0      0      0      0      0     0      0      0      0      0      0      0      0     0      0      0      0     0      0      0      0      0      0     0      0      0      0      0      0      0      0     0      0      0      0      0      0      0      0      0      0      0      0      0      0      0      0     0      0      0      0      0      0      0      0      0      0      0      0      0      0      0      0      0      0      0      0      0     0      0      0      0      0      0      0      0      0      0      0      0      0      0      0      0      0      0      0      0      0      0     0      0      0      0      0      0      0      0      0      0      0      0      0      0      0      0      0      0      0      0     0      0      0      0      0     0      0      0      0      0      0     0      0      0      0      0     0      0      0      0      0     0      0      0      0     0      0      0      0      0      0      0      0      0      0     0      0      0      0      0      0      0      0     0      0      0      0      0      0      0     0      0      0      0      0      0      0      0      0     0      0      0      0      0      0     0      0      0      0      0      0      0      0      0      0      0      0      0      0      0      0      0      0      0     0      0      0      0      0      0      0      0      0     0      0      0      0      0      0      0      0      0      0     0      0      0      0      0     0      0      0      0      0     0      0      0      0      0      0      0     0      0      0      0      0      0      0      0      0      0      0      0      0      0      0      0     0      0      0      0      0      0      0     0      0      0      0      0      0      0      0     0      0      0      0      0      0      0      0      0      0      0      0      0      0      0      0     0      0      0      0      0      0      0      0      0      0      0      0     0      0      0     0      0      0      0      0      0      0     0      0      0      0      0     0      0      0      0      0      0      0      0     0      0      0      0      0      0      0      0      0      0      0      0     0      0      0     0      0      0      0      0      0     0      0      0      0      0      0      0      0     0      0      0      0      0      0      0      0      0      0      0      0     0      0      0      0      0      0      0     0      0      0      0      0      0     0      0      0      0      0     0      0      0      0      0      0     0      0      0      0      0      0      0      0      0      0      0     0      0      0      0      0      0      0      0      0      0      0      0     0      0      0      0      0      0      0      0      0      0      0      0      0      0      0      0      0      0      0      0     0      0      0      0     0      0      0      0      0      0     0      0      0      0      0      0      0      0      0      0      0     0      0      0      0      0      0      0      0     0      0      0      0      0      0      0      0      0      0      0      0      0      0      0      0      0      0      0      0      0      0      0      0     0      0      0      0      0      0      0      0      0      0      0      0      0      0      0      0      0     0      0      0      0      0     0      0      0      0      0      0      0      0     0      0      0      0      0      0      0     0      0      0      0      0      0     0      0      0      0     0      0      0      0      0      0      0      0      0     0      0      0      0      0      0      0      0      0      0      0      0     0      0      0      0      0      0     0      0      0      0      0      0      0      0      0      0      0      0      0      0      0      0      0      0     0      0      0      0      0     0      0      0      0      0     0      0      0      0      0      0      0      0      0      0      0      0      0      0      0     0      0      0      0      0      0      0     0      0      0      0      0      0     0      0      0      0      0      0      0     0      0      0      0     0      0      0      0      0      0      0      0      0      0      0      0      0      0      0      0      0      0      0      0     0      0      0      0      0      0      0      0      0      0      0      0      0      0      0      0     0      0      0      0      0     0      0      0      0      0     0      0      0      0      0      0      0      0      0      0      0      0      0      0      0      0      0      0     0      0      0      0      0      0      0      0      0      0      0      0      0     0      0      0      0      0      0     0      0      0      0      0      0      0      0     0      0      0      0      0      0      0     0      0      0      0      0      0      0     0      0      0      0      0      0      0      0      0      0     0      0      0      0      0      0      0      0      0      0      0      0      0      0      0      0      0      0      0      0      0      0      0      0      0      0      0      0      0      0      0      0     0      0      0      0      0      0      0      0      0      0      0      0     0      0      0      0      0      0     0      0      0      0      0     0      0      0      0      0      0      0      0     0      0      0      0      0      0      0      0      0     0      0      0      0      0      0      0     0      0      0      0      0      0     0      0      0      0      0      0      0      0      0      0      0      0      0      0      0      0      0      0      0     0      0      0      0      0      0      0      0      0     0      0      0      0     0      0      0      0      0     0      0      0      0      0      0      0      0      0     0      0      0      0      0     0      0      0      0      0      0     0      0      0      0      0      0      0      0      0     0      0      0      0      0      0     0      0      0      0      0      0      0      0      0      0      0      0      0      0      0      0      0      0      0      0      0      0      0      0      0      0      0      0      0      0     0      0      0      0      0      0      0      0      0      0      0      0      0      0      0     0      0      0      0      0      0      0     0      0      0      0      0      0      0     0      0      0      0      0      0      0      0      0     0      0      0      0      0      0      0      0      0     0      0      0      0      0      0      0     0      0      0      0      0     0      0      0      0      0      0      0      0      0      0      0      0      0      0      0      0      0     0      0      0      0      0      0     0      0      0      0      0      0      0     0      0      0      0      0      0      0      0      0      0     0      0      0      0      0      0     0      0      0      0      0      0      0      0     0      0      0      0      0      0      0      0      0      0      0      0      0      0      0      0      0      0      0      0      0     0      0      0      0      0     0      0      0      0      0      0     0      0      0      0      0      0      0      0      0      0      0      0      0      0      0      0     0      0      0      0      0      0      0     0      0      0      0      0      0      0      0      0      0      0      0      0      0      0      0     0      0      0      0     0      0      0      0      0      0      0      0      0      0      0      0      0      0      0      0      0      0     0      0      0      0      0      0      0      0      0      0      0      0      0      0      0      0      0      0      0     0      0      0      0      0      0      0      0      0      0      0      0      0      0      0      0      0     0      0      0      0      0     0      0      0      0      0      0      0      0      0      0      0     0      0      0      0      0      0     0      0      0      0      0      0      0      0      0      0      0      0     0      0      0      0      0      0      0      0      0      0      0      0      0      0      0     0      0      0      0      0      0     0      0      0      0      0      0      0      0      0      0      0      0      0      0     0      0      0      0      0      0      0      0      0      0      0      0      0     0      0      0      0      0      0      0      0      0      0      0      0      0     0      0      0      0      0      0      0     0      0      0      0      0      0      0      0      0      0      0     0      0      0      0      0      0      0     0      0      0      0      0      0     0      0      0      0      0      0      0      0      0      0     0      0      0      0      0      0      0      0      0      0      0      0      0     0      0      0      0      0     0      0      0      0      0      0      0      0      0      0      0      0     0      0      0      0      0      0     0      0      0      0      0      0      0      0      0     0      0      0      0      0      0      0      0      0      0      0      0      0     0      0      0      0      0     0      0      0      0      0      0      0      0      0      0      0      0      0      0      0      0     0      0      0      0      0      0      0      0     0      0      0      0      0      0     0      0      0      0      0      0      0      0      0      0      0      0      0      0      0      0      0      0      0      0      0      0      0      0      0      0      0      0      0      0      0      0     0      0      0      0      0     0      0      0      0      0      0      0      0      0      0      0      0      0      0     0      0      0      0      0      0      0     0      0      0      0      0      0     0      0      0     0      0      0      0      0      0      0      0      0      0      0     0      0      0      0      0      0     0      0      0      0      0      0      0     0      0      0      0      0      0      0     0      0      0      0      0      0      0      0      0      0      0      0      0     0      0      0      0      0      0      0      0      0      0      0      0      0      0      0      0      0      0      0      0      0      0      0      0      0      0      0      0      0      0      0      0      0      0      0      0      0      0     0      0      0      0      0      0     0      0      0      0      0      0      0      0     0      0      0      0      0      0      0      0      0      0      0      0     0      0      0      0      0      0      0      0      0      0      0      0      0     0      0      0      0      0      0      0     0      0      0      0      0      0      0      0      0      0      0      0      0      0      0      0      0      0      0      0      0      0     0      0      0      0      0      0      0     0      0      0      0     0      0      0      0     0      0      0      0      0      0     0      0      0      0     0      0      0      0      0     0      0      0      0      0      0     0      0      0      0      0      0      0      0      0      0      0      0      0     0      0      0      0      0      0      0      0      0      0       0       0       0       0       0       0       0       0       0       0       0      0       0       0       0       0       0       0       0       0       0       0       0       0       0      0       0       0       0       0       0       0      0       0       0       0       0       0       0       0       0       0       0       0       0       0       0       0       0       0       0       0       0       0       0       0      0       0       0       0       0       0       0       0       0      0       0       0       0       0       0      0       0       0       0       0       0       0       0       0       0       0       0       0       0       0       0       0      0       0       0       0       0       0       0      0       0       0       0       0       0       0       0      0       0       0       0       0       0      0       0       0       0       0      0       0       0       0       0       0       0       0       0       0       0       0       0       0       0      0       0       0       0       0      0       0       0       0       0       0       0       0       0       0       0       0       0       0       0       0       0       0       0       0       0       0       0      0       0       0       0       0      0       0       0       0       0       0       0       0       0       0       0       0       0       0       0       0       0      0       0       0       0       0       0       0       0       0       0       0       0       0       0      0       0       0       0       0       0      0       0       0       0       0       0       0       0       0      0       0       0       0       0      0       0       0       0       0       0       0       0       0       0       0       0       0       0       0       0       0       0       0       0       0       0       0       0       0       0       0      0       0       0       0       0       0       0       0       0       0      0       0       0       0       0       0       0       0       0      0       0       0       0       0       0       0       0       0       0       0       0       0       0      0       0       0       0      0       0       0       0       0       0       0       0       0       0       0       0       0       0       0       0      0       0       0       0       0       0       0       0      0       0       0       0       0       0       0       0       0       0       0       0       0       0       0       0       0       0       0      0       0       0       0      0       0       0       0       0       0       0       0       0       0       0       0       0       0       0       0       0       0       0       0       0       0      0       0       0       0       0       0       0       0      0       0       0       0       0       0       0      0       0       0       0      0       0       0       0       0       0       0       0       0       0       0       0       0       0       0       0       0      0       0       0       0       0      0       0       0       0       0       0       0       0       0       0       0       0       0       0      0       0       0       0      0       0       0       0       0       0       0       0       0       0       0       0       0       0       0       0      0       0       0       0       0       0       0       0       0       0       0       0       0       0       0       0       0       0       0       0       0       0       0       0       0       0       0       0       0       0       0       0       0       0       0       0       0       0       0       0       0       0       0       0       0       0       0       0       0       0      0       0       0       0       0       0       0       0       0       0       0       0       0       0       0       0       0       0       0      0       0       0       0       0       0       0       0       0       0       0       0       0       0      0       0      0       0       0       0       0       0       0      0       0       0       0       0       0       0       0       0       0      0       0       0       0       0       0       0       0       0       0       0       0       0       0       0       0       0       0       0       0       0       0       0      0       0       0       0       0       0       0       0       0       0       0       0       0       0       0       0       0       0       0       0       0       0       0      0       0       0       0       0       0       0       0       0       0       0       0       0       0       0       0       0       0       0       0      0       0       0      0       0       0       0       0       0       0      0       0      0       0       0       0       0       0       0       0       0       0       0       0       0       0       0       0       0       0       0       0       0       0       0       0       0       0       0       0       0       0       0       0       0       0       0       0       0      0       0       0       0       0       0       0       0       0       0       0       0       0      0       0       0      0       0       0       0       0       0       0       0      0       0       0       0       0       0       0       0       0       0       0       0       0       0       0       0       0       0       0       0       0       0       0       0       0       0       0       0       0       0       0       0       0       0      0       0       0      0       0       0       0       0      0       0       0       0       0       0       0       0       0       0       0       0       0       0      0       0       0       0       0       0      0       0       0      0       0       0       0       0       0       0       0       0       0       0       0       0       0       0       0       0       0       0       0       0       0       0       0       0       0       0       0       0       0       0       0       0       0      0       0      0       0       0       0       0       0       0       0       0       0      0       0       0      0       0       0       0       0       0       0       0       0       0       0       0       0       0       0       0       0       0       0       0       0       0       1       0       0       0       0       0      0       0       0       0       0       0       0      0       0       0       0       0       0       0       0       0       0       0       0       0       0       0       0       0       0       0       0       0       0       0       0       0       0      0       0       0       0       0       0       0       0       0       0       0       0      0      0       0       0       0       0       0       0      0       0       0       0       0       0       0       0       0       0       0       0      0       0       0       0       0       0       0       0       0       0       0       0       0       0       0       0       0       0      0       0       0       0       0       0       0       0       0       0       0      0       0      0       0      0       0       0       0       0      0       0       0       0       0       0       0       0       0       0       0       0       0       0       0       0      0       0       0       0       0       0       0       0      0       0       0      0       0       0       0      0       0       0       0       0       0       0       0       0       0      0       0       0       0       0       0       0       0       0       0       0       0       0       0       0       0      0       0       0       0      0       0       0       0      0       0       0       0       0       0       0       0       0       0      0       0       0       0       0      0       0       0       0       0       0       0       0       0       0       0      0       0       0       0       0       0       0       0       0       0       0       0       0       0      0      0       0      0       0      0       0       0       0       0       0       0       0      0       0       0       0       0       0       0       0       0       0       0       0       0       0       0      0       0       0       0      0       0       0       0       0       0       0       0       0       0       0       0       0       0      0       0       0       0       0       0       0       0       0       0      0       0       0       0      0       0      0       0       0       0       0      0       0       0       0       0       0       0      0       0       0       0       0       0      0       0       0      0       0       0       0       0       0       0       0       0       0       0       0       0       0       0       0       0       0       0       0       0      0      0       0       0      0       0       0       0       0      0       0       0       0       0       0       0       0       0       0      0       0       0         1\n",
       "192.130176    0      0      0      0      0      0      0      0      0      0      0      0      0      0      0      0      0      0      0      0      0      0      0      0      0      0      0      0      0      0      0      0      0      0      0      0      0      0      0      0     0      0      0      0      0      0      0      0      0      0      0      0      0      0      0      0      0      0      0      0      0      0      0     0      0      0      0      0      0      0      0      0     0      0      0      0      0      0     0      0      0      0     0      0      0      0      0      0      0      0      0     0      0      0      0     0      0      0      0      0      0      0      0      0      0      0      0      0      0      0      0      0      0      0     0      0      0      0      0      0      0      0      0      0      0      0      0      0      0      0      0     0      0      0      0      0      0      0      0      0      0     0      0      0      0      0      0      0     0      0      0      0      0      0      0      0      0      0      0      0      0      0      0      0      0      0      0      0      0      0      0      0      0      0      0      0      0      0      0      0      0      0      0      0     0      0      0      0      0      0      0      0      0     0      0     0      0      0      0     0      0      0      0      0     0      0      0      0      0      0      0      0      0      0      0      0     0      0      0      0      0      0      0      0      0      0      0      0      0      0      0      0      0      0      0      0     0      0      0      0      0      0      0      0     0      0      0      0      0     0      0      0      0      0      0     0      0      0      0      0      0      0      0      0      0      0      0     0      0      0      0      0      0      0      0      0      0      0      0      0      0      0      0      0      0      0      0      0      0      0      0      0      0      0     0      0      0      0      0      0      0      0      0      0     0      0      0      0      0      0      0      0      0      0      0      0      0     0      0      0      0      0      0      0      0      0     0      0      0      0      0     0      0      0      0     0      0      0      0      0      0     0      0      0      0      0      0      0      0      0      0      0      0      0      0      0      0      0      0      0      0      0      0      0      0      0      0     0      0      0      0      0      0     0      0      0      0      0      0      0      0      0      0     0      0      0      0      0     0      0      0      0      0      0     0      0      0      0      0      0      0      0      0      0      0     0      0      0      0      0      0      0      0      0      0      0      0      0      0      0     0      0      0      0      0     0      0      0      0      0      0      0      0      0      0      0      0      0     0      0      0      0      0      0      0      0      0     0      0      0      0      0     0      0      0      0      0     0      0      0      0      0      0      0      0      0      0      0     0      0      0      0     0      0      0      0      0      0      0      0      0      0      0      0      0      0      0      0      0      0      0      0     0      0      0      0      0      0      0      0      0     0      0      0      0      0     0      0      0      0      0     0      0      0      0      0      0      0      0      0      0      0      0      0      0      0      0      0      0      0     0      0      0      0      0      0      0      0     0      0      0      0     0      0      0      0      0      0     0      0      0      0      0      0      0      0     0      0      0      0      0      0      0      0      0      0      0      0      0      0      0      0     0      0      0      0      0      0      0      0      0      0      0      0      0      0      0      0      0      0      0      0      0     0      0      0      0      0      0      0      0      0      0      0      0      0      0      0      0      0      0      0      0      0      0     0      0      0      0      0      0      0      0      0      0      0      0      0      0      0      0      0      0      0      0     0      0      0      0      0     0      0      0      0      0      0     0      0      0      0      0     0      0      0      0      0     0      0      0      0     0      0      0      0      0      0      0      0      0      0     0      0      0      0      0      0      0      0     0      0      0      0      0      0      0     0      0      0      0      0      0      0      0      0     0      0      0      0      0      0     0      0      0      0      0      0      0      0      0      0      0      0      0      0      0      0      0      0      0     0      0      0      0      0      0      0      0      0     0      0      0      0      0      0      0      0      0      0     0      0      0      0      0     0      0      0      0      0     0      0      0      0      0      0      0     0      0      0      0      0      0      0      0      0      0      0      0      0      0      0      0     0      0      0      0      0      0      0     0      0      0      0      0      0      0      0     0      0      0      0      0      0      0      0      0      0      0      0      0      0      0      0     0      0      0      0      0      0      0      0      0      0      0      0     0      0      0     0      0      0      0      0      0      0     0      0      0      0      0     0      0      0      0      0      0      0      0     0      0      0      0      0      0      0      0      0      0      0      0     0      0      0     0      0      0      0      0      0     0      0      0      0      0      0      0      0     0      0      0      0      0      0      0      0      0      0      0      0     0      0      0      0      0      0      0     0      0      0      0      0      0     0      0      0      0      0     0      0      0      0      0      0     0      0      0      0      0      0      0      0      0      0      0     0      0      0      0      0      0      0      0      0      0      0      0     0      0      0      0      0      0      0      0      0      0      0      0      0      0      0      0      0      0      0      0     0      0      0      0     0      0      0      0      0      0     0      0      0      0      0      0      0      0      0      0      0     0      0      0      0      0      0      0      0     0      0      0      0      0      0      0      0      0      0      0      0      0      0      0      0      0      0      0      0      0      0      0      0     0      0      0      0      0      0      0      0      0      0      0      0      0      0      0      0      0     0      0      0      0      0     0      0      0      0      0      0      0      0     0      0      0      0      0      0      0     0      0      0      0      0      0     0      0      0      0     0      0      0      0      0      0      0      0      0     0      0      0      0      0      0      0      0      0      0      0      0     0      0      0      0      0      0     0      0      0      0      0      0      0      0      0      0      0      0      0      0      0      0      0      0     0      0      0      0      0     0      0      0      0      0     0      0      0      0      0      0      0      0      0      0      0      0      0      0      0     0      0      0      0      0      0      0     0      0      0      0      0      0     0      0      0      0      0      0      0     0      0      0      0     0      0      0      0      0      0      0      0      0      0      0      0      0      0      0      0      0      0      0      0     0      0      0      0      0      0      0      0      0      0      0      0      0      0      0      0     0      0      0      0      0     0      0      0      0      0     0      0      0      0      0      0      0      0      0      0      0      0      0      0      0      0      0      0     0      0      0      0      0      0      0      0      0      0      0      0      0     0      0      0      0      0      0     0      0      0      0      0      0      0      0     0      0      0      0      0      0      0     0      0      0      0      0      0      0     0      0      0      0      0      0      0      0      0      0     0      0      0      0      0      0      0      0      0      0      0      0      0      0      0      0      0      0      0      0      0      0      0      0      0      0      0      0      0      0      0      0     0      0      0      0      0      0      0      0      0      0      0      0     0      0      0      0      0      0     0      0      0      0      0     0      0      0      0      0      0      0      0     0      0      0      0      0      0      0      0      0     0      0      0      0      0      0      0     0      0      0      0      0      0     0      0      0      0      0      0      0      0      0      0      0      0      0      0      0      0      0      0      0     0      0      0      0      0      0      0      0      0     0      0      0      0     0      0      0      0      0     0      0      0      0      0      0      0      0      0     0      0      0      0      0     0      0      0      0      0      0     0      0      0      0      0      0      0      0      0     0      0      0      0      0      0     0      0      0      0      0      0      0      0      0      0      0      0      0      0      0      0      0      0      0      0      0      0      0      0      0      0      0      0      0      0     0      0      0      0      0      0      0      0      0      0      0      0      0      0      0     0      0      0      0      0      0      0     0      0      0      0      0      0      0     0      0      0      0      0      0      0      0      0     0      0      0      0      0      0      0      0      0     0      0      0      0      0      0      0     0      0      0      0      0     0      0      0      0      0      0      0      0      0      0      0      0      0      0      0      0      0     0      0      0      0      0      0     0      0      0      0      0      0      0     0      0      0      0      0      0      0      0      0      0     0      0      0      0      0      0     0      0      0      0      0      0      0      0     0      0      0      0      0      0      0      0      0      0      0      0      0      0      0      0      0      0      0      0      0     0      0      0      0      0     0      0      0      0      0      0     0      0      0      0      0      0      0      0      0      0      0      0      0      0      0      0     0      0      0      0      0      0      0     0      0      0      0      0      0      0      0      0      0      0      0      0      0      0      0     0      0      0      0     0      0      0      0      0      0      0      0      0      0      0      0      0      0      0      0      0      0     0      0      0      0      0      0      0      0      0      0      0      0      0      0      0      0      0      0      0     0      0      0      0      0      0      0      0      0      0      0      0      0      0      0      0      0     0      0      0      0      0     0      0      0      0      0      0      0      0      0      0      0     0      0      0      0      0      0     0      0      0      0      0      0      0      0      0      0      0      0     0      0      0      0      0      0      0      0      0      0      0      0      0      0      0     0      0      0      0      0      0     0      0      0      0      0      0      0      0      0      0      0      0      0      0     0      0      0      0      0      0      0      0      0      0      0      0      0     0      0      0      0      0      0      0      0      0      0      0      0      0     0      0      0      0      0      0      0     0      0      0      0      0      0      0      0      0      0      0     0      0      0      0      0      0      0     0      0      0      0      0      0     0      0      0      0      0      0      0      0      0      0     0      0      0      0      0      0      0      0      0      0      0      0      0     0      0      0      0      0     0      0      0      0      0      0      0      0      0      0      0      0     0      0      0      0      0      0     0      0      0      0      0      0      0      0      0     0      0      0      0      0      0      0      0      0      0      0      0      0     0      0      0      0      0     0      0      0      0      0      0      0      0      0      0      0      0      0      0      0      0     0      0      0      0      0      0      0      0     0      0      0      0      0      0     0      0      0      0      0      0      0      0      0      0      0      0      0      0      0      0      0      0      0      0      0      0      0      0      0      0      0      0      0      0      0      0     0      0      0      0      0     0      0      0      0      0      0      0      0      0      0      0      0      0      0     0      0      0      0      0      0      0     0      0      0      0      0      0     0      0      0     0      0      0      0      0      0      0      0      0      0      0     0      0      0      0      0      0     0      0      0      0      0      0      0     0      0      0      0      0      0      0     0      0      0      0      0      0      0      0      0      0      0      0      0     0      0      0      0      0      0      0      0      0      0      0      0      0      0      0      0      0      0      0      0      0      0      0      0      0      0      0      0      0      0      0      0      0      0      0      0      0      0     0      0      0      0      0      0     0      0      0      0      0      0      0      0     0      0      0      0      0      0      0      0      0      0      0      0     0      0      0      0      0      0      0      0      0      0      0      0      0     0      0      0      0      0      0      0     0      0      0      0      0      0      0      0      0      0      0      0      0      0      0      0      0      0      0      0      0      0     0      0      0      0      0      0      0     0      0      0      0     0      0      0      0     0      0      0      0      0      0     0      0      0      0     0      0      0      0      0     0      0      0      0      0      0     0      0      0      0      0      0      0      0      0      0      0      0      0     0      0      0      0      0      0      0      0      0      0       0       0       0       0       0       0       0       0       0       0       0      0       0       0       0       0       0       0       0       0       0       0       0       0       0      0       0       0       0       0       0       0      0       0       0       0       0       0       0       0       0       0       0       0       0       0       0       0       0       0       0       0       0       0       0       0      0       0       0       0       0       0       0       0       0      0       0       0       0       0       0      0       0       0       0       0       0       0       0       0       0       0       0       0       0       0       0       0      0       0       0       0       0       0       0      0       0       0       0       0       0       0       0      0       0       0       0       0       0      0       0       0       0       0      0       0       0       0       0       0       0       0       0       0       0       0       0       0       0      0       0       0       0       0      0       0       0       0       0       0       0       0       0       0       0       0       0       0       0       0       0       0       0       0       0       0       0      0       0       0       0       0      0       0       0       0       0       0       0       0       0       0       0       0       0       0       0       0       0      0       0       0       0       0       0       0       0       0       0       0       0       0       0      0       0       0       0       0       0      0       0       0       0       0       0       0       0       0      0       0       0       0       0      0       0       0       0       0       0       0       0       0       0       0       0       0       0       0       0       0       0       0       0       0       0       0       0       0       0       0      0       0       0       0       0       0       0       0       0       0      0       0       0       0       0       0       0       0       0      0       0       0       0       0       0       0       0       0       0       0       0       0       0      0       0       0       0      0       0       0       0       0       0       0       0       0       0       0       0       0       0       0       0      0       0       0       0       0       0       0       0      0       0       0       0       0       0       0       0       0       0       0       0       0       0       0       0       0       0       0      0       0       0       0      0       0       0       0       0       0       0       0       0       0       0       0       0       0       0       0       0       0       0       0       0       0      0       0       0       0       0       0       0       0      0       0       0       0       0       0       0      0       0       0       0      0       0       0       0       0       0       0       0       0       0       0       0       0       0       0       0       0      0       0       0       0       0      0       0       0       0       0       0       0       0       0       0       0       0       0       0      0       0       0       0      0       0       0       0       0       0       0       0       0       0       0       0       0       0       0       0      0       0       0       0       0       0       0       0       0       0       0       0       0       0       0       0       0       0       0       0       0       0       0       0       0       0       0       0       0       0       0       0       0       0       0       0       0       0       0       0       0       0       0       0       0       0       0       0       0       0      0       0       0       0       0       0       0       0       0       0       0       0       0       0       0       0       0       0       0      0       0       0       0       0       0       0       0       0       0       0       0       0       0      0       0      0       0       0       0       0       0       0      0       0       0       0       0       0       0       0       0       0      0       0       0       0       0       0       0       0       0       0       0       0       0       0       0       0       0       0       0       0       0       0       0      0       0       0       0       0       0       0       0       0       0       0       0       0       0       0       0       0       0       0       0       0       0       0      0       0       0       0       0       0       0       0       0       0       0       0       0       0       0       0       0       0       0       0      0       0       0      0       0       0       0       0       0       0      0       0      0       0       0       0       0       0       0       0       0       0       0       0       0       0       0       0       0       0       0       0       0       0       0       0       0       0       0       0       0       0       0       0       0       0       0       0       0      0       0       0       0       0       0       0       0       0       0       0       0       0      0       0       0      0       0       0       0       0       0       0       0      0       0       0       0       0       0       0       0       0       0       0       0       0       0       0       0       0       0       0       0       0       0       0       0       0       0       0       0       0       0       0       0       0       0      0       0       0      0       0       0       0       0      0       0       0       0       0       0       0       0       0       0       0       0       0       0      0       0       0       0       0       0      0       0       0      0       0       0       0       0       0       0       0       0       0       0       0       0       0       0       0       0       0       0       0       0       0       0       0       0       0       0       0       0       0       0       0       0       0      0       0      0       0       0       0       0       0       0       0       0       0      0       0       0      0       0       0       0       0       0       0       0       0       0       0       0       0       0       0       0       0       0       0       0       0       0       0       0       0       0       0       0      0       0       0       0       0       0       0      0       0       0       0       0       0       0       0       0       0       0       0       0       0       0       0       0       0       0       0       0       0       0       0       0       0      0       0       0       0       0       0       0       0       0       0       0       0      0      0       0       0       0       0       0       0      0       0       0       0       0       0       0       0       0       0       0       0      0       0       0       0       0       0       0       0       0       0       0       0       0       0       0       0       0       0      0       0       0       0       0       0       0       0       0       0       0      0       0      0       0      0       0       0       0       0      0       0       0       0       0       0       0       0       0       0       0       0       0       0       0       0      0       0       0       0       0       0       0       0      0       0       0      0       0       0       0      0       0       0       0       0       0       0       0       0       0      0       0       0       0       0       0       0       0       0       0       0       0       0       0       0       0      0       0       0       0      0       0       0       0      0       0       0       0       0       0       0       0       0       0      0       0       0       0       0      0       0       0       0       0       0       0       0       0       0       0      0       0       0       0       0       0       0       0       0       0       0       0       0       0      0      0       0      0       0      0       0       0       0       0       0       0       0      0       0       0       0       0       0       0       0       0       0       0       0       0       0       0      0       0       0       0      0       0       0       0       0       0       0       0       0       0       0       0       0       0      0       0       0       0       0       0       0       0       0       0      0       0       0       0      0       0      0       0       0       0       0      0       0       0       0       0       0       0      0       0       0       0       0       0      0       0       0      0       0       0       0       0       0       0       0       0       0       0       0       0       0       0       1       0       0       0       0       0      0      0       0       0      0       0       0       0       0      0       0       0       0       0       0       0       0       0       0      0       0       0         1\n",
       "                                                                                                                                                                                                                                                                                                                                                                                                                                                                                                                                                                                                                                                                                                                                                                                                                                                                                                                                                                                                                                                                                                                                                                                                                                                                                                                                                                                                                                                                                                                                                                                                                                                                                                                                                                                                                                                                                                                                                                                                                                                                                                                                                                                                                                                                                                                                                                                                                                                                                                                                                                                                                                                                                                                                                                                                                                                                                                                                                                                                                                                                                                                                                                                                                                                                                                                                                                                                                                                                                                                                                                                                                                                                                                                                                                                                                                                                                                                                                                                                                                                                                                                                                                                                                                                                                                                                                                                                                                                                                                                                                                                                                                                                                                                                                                                                                                                                                                                                                                                                                                                                                                                                                                                                                                                                                                                                                                                                                                                                                                                                                                                                                                                                                                                                                                                                                                                                                                                                                                                                                                                                                                                                                                                                                                                                                                                                                                                                                                                                                                                                                                                                                                                                                                                                                                                                                                                                                                                                                                                                                                                                                                                                                                                                                                                                                                                                                                                                                                                                                                                                                                                                                                                                                                                                                                                                                                                                                                                                                                                                                                                                                                                                                                                                                                                                                                                                                                                                                                                                                                                                                                                                                                                                                                                                                                                                                                                                                                                                                                                                                                                                                                                                                                                                                                                                                                                                                                                                                                                                                                                                                                                                                                                                                                                                                                                                                                                                                                                                                                                                                                                                                                                                                                                                                                                                                                                                                                                                                                                                                                                                                                                                                                                                                                                                                                                                                                                                                                                                                                                                                                                                                                                                                                                                                                                                                                                                                                                                                                                                                                                                                                                                                                                                                                                                                                                                                                                                                                                                                                                                                                                                                                                                                                                                                                                                                                                                                                                                                                                                                                                                                                                                                                                                                                                                                                                                                                                                                                                                                                                                                                                                                                                                                                                                                                                                                                                                                                                                                                                                                                                                                                                                                                                                                                                                                                                                                                                                                                                                                                                                                                                                                                                                                                                                                                                                                                                                                                                                                                                                                                                                                                                                                                                                                                                                                                                                                                                                                                                                                                                                                                                                                                                                                                                                                                                                                                                                                                                                                                                                                                                                                                                                                                                                                                                                                                                                                                                                                                                                                                                                                                                                                                                                                                                                                                                                                                                                                                                                                                                                                                                                                                                                                                                                                                                                                                                                                                                                                                                                                                                                                                                                                                                                                                                                                                                                                                                                                                                                                                                                                                                                                                                                                                                                                                                                                                                                                                                                                                                                                                                                                                                                                                                                                                                                                                                                                                                                                                                                                                                                                                                                                                                                                                                                                                                                                                                                                                                                                                                                                                                                                                                                                                                                                                                                                                                                                                                                                                                                                                                                                                                                                                                                                                                                                                                                                                                                                                                                                                                                                                                                                                                                                                                                                                                                                                                                                                                                                                                                                                                                                                                                                                                                                                                                                                                                                                                                                                                                                                                                                                                                                                                                                                                                                                                                                                                                                                                                                                                                                                                                                                                                                                                                                                                                                                                                                                                                                                                                                                                                                                                                                                                                                                                                                                                                                                                                                                                                                                                                                                                                                                                                                                                                                                                                                                                                                                                                                                                                                                                                                                                                                                                                                                                                                                                                                                                                                                                                                                                                                                                                                                                                                                                                                                                                                                                                                                                                                                                                                                                                                                                                                                                                                                                                                                                                                                                                                                                                                                                                                                                                                                                                                                                                                                                                                                                                                                                                                                                                                                                                                                                                                                                                                                                ..\n",
       "34.447332     0      0      0      0      0      0      0      0      0      0      0      0      0      0      0      0      0      0      0      0      0      0      0      0      0      0      0      0      0      0      0      0      0      0      0      0      0      0      0      0     0      0      0      0      0      0      0      0      0      0      0      0      0      0      0      0      0      0      0      0      0      0      0     0      0      0      0      0      0      0      0      0     0      0      0      0      0      0     0      0      0      0     0      0      0      0      0      0      0      0      0     0      0      0      0     0      0      0      0      0      0      0      0      0      0      0      0      0      0      0      0      0      0      0     0      0      0      0      0      0      0      0      0      0      0      0      0      0      0      0      0     0      0      0      0      0      0      0      0      0      0     0      0      0      0      0      0      0     0      0      0      0      0      0      0      0      0      0      0      0      0      0      0      0      0      0      0      0      0      0      0      0      0      0      0      0      0      0      0      0      0      0      0      0     0      0      0      0      0      0      0      0      0     0      0     0      0      0      0     0      0      0      0      0     0      0      0      0      0      0      0      0      0      0      0      0     0      0      0      0      0      0      0      0      0      0      0      0      1      0      0      0      0      0      0      0     0      0      0      0      0      0      0      0     0      0      0      0      0     0      0      0      0      0      0     0      0      0      0      0      0      0      0      0      0      0      0     0      0      0      0      0      0      0      0      0      0      0      0      0      0      0      0      0      0      0      0      0      0      0      0      0      0      0     0      0      0      0      0      0      0      0      0      0     0      0      0      0      0      0      0      0      0      0      0      0      0     0      0      0      0      0      0      0      0      0     0      0      0      0      0     0      0      0      0     0      0      0      0      0      0     0      0      0      0      0      0      0      0      0      0      0      0      0      0      0      0      0      0      0      0      0      0      0      0      0      0     0      0      0      0      0      0     0      0      0      0      0      0      0      0      0      0     0      0      0      0      0     0      0      0      0      0      0     0      0      0      0      0      0      0      0      0      0      0     0      0      0      0      0      0      0      0      0      0      0      0      0      0      0     0      0      0      0      0     0      0      0      0      0      0      0      0      0      0      0      0      0     0      0      0      0      0      0      0      0      0     0      0      0      0      0     0      0      0      0      0     0      0      0      0      0      0      0      0      0      0      0     0      0      0      0     0      0      0      0      0      0      0      0      0      0      0      0      0      0      0      0      0      0      0      0     0      0      0      0      0      0      0      0      0     0      0      0      0      0     0      0      0      0      0     0      0      0      0      0      0      0      0      0      0      0      0      0      0      0      0      0      0      0     0      0      0      0      0      0      0      0     0      0      0      0     0      0      0      0      0      0     0      0      0      0      0      0      0      0     0      0      0      0      0      0      0      0      0      0      0      0      0      0      0      0     0      0      0      0      0      0      0      0      0      0      0      0      0      0      0      0      0      0      0      0      0     0      0      0      0      0      0      0      0      0      0      0      0      0      0      0      0      0      0      0      0      0      0     0      0      0      0      0      0      0      0      0      0      0      0      0      0      0      0      0      0      0      0     0      0      0      0      0     0      0      0      0      0      0     0      0      0      0      0     0      0      0      0      0     0      0      0      0     0      0      0      0      0      0      0      0      0      0     0      0      0      0      0      0      0      0     0      0      0      0      0      0      0     0      0      0      0      0      0      0      0      0     0      0      0      0      0      0     0      0      0      0      0      0      0      0      0      0      0      0      0      0      0      0      0      0      0     0      0      0      0      0      0      0      0      0     0      0      0      0      0      0      0      0      0      0     0      0      0      0      0     0      0      0      0      0     0      0      0      0      0      0      0     0      0      0      0      0      0      0      0      0      0      0      0      0      0      0      0     0      0      0      0      0      0      0     0      0      0      0      0      0      0      0     0      0      0      0      0      0      0      0      0      0      0      0      0      0      0      0     0      0      0      0      0      0      0      0      0      0      0      0     0      0      0     0      0      0      0      0      0      0     0      0      0      0      0     0      0      0      0      0      0      0      0     0      0      0      0      0      0      0      0      0      0      0      0     0      0      0     0      0      0      0      0      0     0      0      0      0      0      0      0      0     0      0      0      0      0      0      0      0      0      0      0      0     0      0      0      0      0      0      0     0      0      0      0      0      0     0      0      0      0      0     0      0      0      0      0      0     0      0      0      0      0      0      0      0      0      0      0     0      0      0      0      0      0      0      0      0      0      0      0     0      0      0      0      0      0      0      0      0      0      0      0      0      0      0      0      0      0      0      0     0      0      0      0     0      0      0      0      0      0     0      0      0      0      0      0      0      0      0      0      0     0      0      0      0      0      0      0      0     0      0      0      0      0      0      0      0      0      0      0      0      0      0      0      0      0      0      0      0      0      0      0      0     0      0      0      0      0      0      0      0      0      0      0      0      0      0      0      0      0     0      0      0      0      0     0      0      0      0      0      0      0      0     0      0      0      0      0      0      0     0      0      0      0      0      0     0      0      0      0     0      0      0      0      0      0      0      0      0     0      0      0      0      0      0      0      0      0      0      0      0     0      0      0      0      0      0     0      0      0      0      0      0      0      0      0      0      0      0      0      0      0      0      0      0     0      0      0      0      0     0      0      0      0      0     0      0      0      0      0      0      0      0      0      0      0      0      0      0      0     0      0      0      0      0      0      0     0      0      0      0      0      0     0      0      0      0      0      0      0     0      0      0      0     0      0      0      0      0      0      0      0      0      0      0      0      0      0      0      0      0      0      0      0     0      0      0      0      0      0      0      0      0      0      0      0      0      0      0      0     0      0      0      0      0     0      0      0      0      0     0      0      0      0      0      0      0      0      0      0      0      0      0      0      0      0      0      0     0      0      0      0      0      0      0      0      0      0      0      0      0     0      0      0      0      0      0     0      0      0      0      0      0      0      0     0      0      0      0      0      0      0     0      0      0      0      0      0      0     0      0      0      0      0      0      0      0      0      0     0      0      0      0      0      0      0      0      0      0      0      0      0      0      0      0      0      0      0      0      0      0      0      0      0      0      0      0      0      0      0      0     0      0      0      0      0      0      0      0      0      0      0      0     0      0      0      0      0      0     0      0      0      0      0     0      0      0      0      0      0      0      0     0      0      0      0      0      0      0      0      0     0      0      0      0      0      0      0     0      0      0      0      0      0     0      0      0      0      0      0      0      0      0      0      0      0      0      0      0      0      0      0      0     0      0      0      0      0      0      0      0      0     0      0      0      0     0      0      0      0      0     0      0      0      0      0      0      0      0      0     0      0      0      0      0     0      0      0      0      0      0     0      0      0      0      0      0      0      0      0     0      0      0      0      0      0     0      0      0      0      0      0      0      0      0      0      0      0      0      0      0      0      0      0      0      0      0      0      0      0      0      0      0      0      0      0     0      0      0      0      0      0      0      0      0      0      0      0      0      0      0     0      0      0      0      0      0      0     0      0      0      0      0      0      0     0      0      0      0      0      0      0      0      0     0      0      0      0      0      0      0      0      0     0      0      0      0      0      0      0     0      0      0      0      0     0      0      0      0      0      0      0      0      0      0      0      0      0      0      0      0      0     0      0      0      0      0      0     0      0      0      0      0      0      0     0      0      0      0      0      0      0      0      0      0     0      0      0      0      0      0     0      0      0      0      0      0      0      0     0      0      0      0      0      0      0      0      0      0      0      0      0      0      0      0      0      0      0      0      0     0      0      0      0      0     0      0      0      0      0      0     0      0      0      0      0      0      0      0      0      0      0      0      0      0      0      0     0      0      0      0      0      0      0     0      0      0      0      0      0      0      0      0      0      0      0      0      0      0      0     0      0      0      0     0      0      0      0      0      0      0      0      0      0      0      0      0      0      0      0      0      0     0      0      0      0      0      0      0      0      0      0      0      0      0      0      0      0      0      0      0     0      0      0      0      0      0      0      0      0      0      0      0      0      0      0      0      0     0      0      0      0      0     0      0      0      0      0      0      0      0      0      0      0     0      0      0      0      0      0     0      0      0      0      0      0      0      0      0      0      0      0     0      0      0      0      0      0      0      0      0      0      0      0      0      0      0     0      0      0      0      0      0     0      0      0      0      0      0      0      0      0      0      0      0      0      0     0      0      0      0      0      0      0      0      0      0      0      0      0     0      0      0      0      0      0      0      0      0      0      0      0      0     0      0      0      0      0      0      0     0      0      0      0      0      0      0      0      0      0      0     0      0      0      0      0      0      0     0      0      0      0      0      0     0      0      0      0      0      0      0      0      0      0     0      0      0      0      0      0      0      0      0      0      0      0      0     0      0      0      0      0     0      0      0      0      0      0      0      0      0      0      0      0     0      0      0      0      0      0     0      0      0      0      0      0      0      0      0     0      0      0      0      0      0      0      0      0      0      0      0      0     0      0      0      0      0     0      0      0      0      0      0      0      0      0      0      0      0      0      0      0      0     0      0      0      0      0      0      0      0     0      0      0      0      0      0     0      0      0      0      0      0      0      0      0      0      0      0      0      0      0      0      0      0      0      0      0      0      0      0      0      0      0      0      0      0      0      0     0      0      0      0      0     0      0      0      0      0      0      0      0      0      0      0      0      0      0     0      0      0      0      0      0      0     0      0      0      0      0      0     0      0      0     0      0      0      0      0      0      0      0      0      0      0     0      0      0      0      0      0     0      0      0      0      0      0      0     0      0      0      0      0      0      0     0      0      0      0      0      0      0      0      0      0      0      0      0     0      0      0      0      0      0      0      0      0      0      0      0      0      0      0      0      0      0      0      0      0      0      0      0      0      0      0      0      0      0      0      0      0      0      0      0      0      0     0      0      0      0      0      0     0      0      0      0      0      0      0      0     0      0      0      0      0      0      0      0      0      0      0      0     0      0      0      0      0      0      0      0      0      0      0      0      0     0      0      0      0      0      0      0     0      0      0      0      0      0      0      0      0      0      0      0      0      0      0      0      0      0      0      0      0      0     0      0      0      0      0      0      0     0      0      0      0     0      0      0      0     0      0      0      0      0      0     0      0      0      0     0      0      0      0      0     0      0      0      0      0      0     0      0      0      0      0      0      0      0      0      0      0      0      0     0      0      0      0      0      0      0      0      0      0       0       0       0       0       0       0       0       0       0       0       0      0       0       0       0       0       0       0       0       0       0       0       0       0       0      0       0       0       0       0       0       0      0       0       0       0       0       0       0       0       0       0       0       0       0       0       0       0       0       0       0       0       0       0       0       0      0       0       0       0       0       0       0       0       0      0       0       0       0       0       0      0       0       0       0       0       0       0       0       0       0       0       0       0       0       0       0       0      0       0       0       0       0       0       0      0       0       0       0       0       0       0       0      0       0       0       0       0       0      0       0       0       0       0      0       0       0       0       0       0       0       0       0       0       0       0       0       0       0      0       0       0       0       0      0       0       0       0       0       0       0       0       0       0       0       0       0       0       0       0       0       0       0       0       0       0       0      0       0       0       0       0      0       0       0       0       0       0       0       0       0       0       0       0       0       0       0       0       0      0       0       0       0       0       0       0       0       0       0       0       0       0       0      0       0       0       0       0       0      0       0       0       0       0       0       0       0       0      0       0       0       0       0      0       0       0       0       0       0       0       0       0       0       0       0       0       0       0       0       0       0       0       0       0       0       0       0       0       0       0      0       0       0       0       0       0       0       0       0       0      0       0       0       0       0       0       0       0       0      0       0       0       0       0       0       0       0       0       0       0       0       0       0      0       0       0       0      0       0       0       0       0       0       0       0       0       0       0       0       0       0       0       0      0       0       0       0       0       0       0       0      0       0       0       0       0       0       0       0       0       0       0       0       0       0       0       0       0       0       0      0       0       0       0      0       0       0       0       0       0       0       0       0       0       0       0       0       0       0       0       0       0       0       0       0       0      0       0       0       0       0       0       0       0      0       0       0       0       0       0       0      0       0       0       0      0       0       0       0       0       0       0       0       0       0       0       0       0       0       0       0       0      0       0       0       0       0      0       0       0       0       0       0       0       0       0       0       0       0       0       0      0       0       0       0      0       0       0       0       0       0       0       0       0       0       0       0       0       0       0       0      0       0       0       0       0       0       0       0       0       0       0       0       0       0       0       0       0       0       0       0       0       0       0       0       0       0       0       0       0       0       0       0       0       0       0       0       0       0       0       0       0       0       0       0       0       0       0       0       0       0      0       0       0       0       0       0       0       0       0       0       0       0       0       0       0       0       0       0       0      0       0       0       0       0       0       0       0       0       0       0       0       0       0      0       0      0       0       0       0       0       0       0      0       0       0       0       0       0       0       0       0       0      0       0       0       0       0       0       0       0       0       0       0       0       0       0       0       0       0       0       0       0       0       0       0      0       0       0       0       0       0       0       0       0       0       0       0       0       0       0       0       0       0       0       0       0       0       0      0       0       0       0       0       0       0       0       0       0       0       0       0       0       0       0       0       0       0       0      0       0       0      0       0       0       0       0       0       0      0       0      0       0       0       0       0       0       0       0       0       0       0       0       0       0       0       0       0       0       0       0       0       0       0       0       0       0       0       0       0       0       0       0       0       0       0       0       0      0       0       0       0       0       0       0       0       0       0       0       0       0      0       0       0      0       0       0       0       0       0       0       0      0       0       0       0       0       0       0       0       0       0       0       0       0       0       0       0       0       0       0       0       0       0       0       0       0       0       0       0       0       0       0       0       0       0      0       0       0      0       0       0       0       0      0       0       0       0       0       0       0       0       0       0       0       0       0       0      0       0       0       0       0       0      0       0       0      0       0       0       0       0       0       0       0       0       0       0       0       0       0       0       0       0       0       0       0       0       0       0       0       0       0       0       0       0       0       0       0       0       0      0       0      0       0       0       0       0       0       0       0       0       0      0       0       0      0       0       0       0       0       0       0       0       0       0       0       0       0       0       0       0       0       0       0       0       0       0       0       0       0       0       0       0      0       0       0       0       0       0       0      0       0       0       0       0       0       0       0       0       0       0       0       0       0       0       0       0       0       0       0       0       0       0       0       0       0      0       0       0       0       0       0       0       0       0       0       0       0      0      0       0       0       0       0       0       0      0       0       0       0       0       0       0       0       0       0       0       0      0       0       0       0       0       0       0       0       0       0       0       0       0       0       0       0       0       0      0       0       0       0       0       0       0       0       0       0       0      0       0      0       0      0       0       0       0       0      0       0       0       0       0       0       0       0       0       0       0       0       0       0       0       0      0       0       0       0       0       0       0       0      0       0       0      0       0       0       0      0       0       0       0       0       0       0       0       0       0      0       0       0       0       0       0       0       0       0       0       0       0       0       0       0       0      0       0       0       0      0       0       0       0      0       0       0       0       0       0       0       0       0       0      0       0       0       0       0      0       0       0       0       0       0       0       0       0       0       0      0       0       0       0       0       0       0       0       0       0       0       0       0       0      0      0       0      0       0      0       0       0       0       0       0       0       0      0       0       0       0       0       0       0       0       0       0       0       0       0       0       0      0       0       0       0      0       0       0       0       0       0       0       0       0       0       0       0       0       0      0       0       0       0       0       0       0       0       0       0      0       0       0       0      0       0      0       0       0       0       0      0       0       0       0       0       0       0      0       0       0       0       0       0      0       0       0      0       0       0       0       0       0       0       0       0       0       0       0       0       0       0       0       0       0       0       0       0      0      0       0       0      0       0       0       0       0      0       0       0       0       0       0       0       0       0       0      0       0       0         1\n",
       "34.312995     0      0      0      0      0      0      0      0      0      0      0      0      0      0      0      0      0      0      0      0      0      0      0      0      0      0      0      0      0      0      0      0      0      0      0      0      0      0      0      0     0      0      0      0      0      0      0      0      0      0      0      0      0      0      0      0      0      0      0      0      0      0      0     0      0      0      0      0      0      0      0      0     0      0      0      0      0      0     0      0      0      0     0      0      0      0      0      0      0      0      0     0      0      0      0     0      0      0      0      0      0      0      0      0      0      0      0      0      0      0      0      0      0      0     0      0      0      0      0      0      0      0      0      0      0      0      0      0      0      0      0     0      0      0      0      0      0      0      0      0      0     0      0      0      0      0      0      0     0      0      0      0      0      0      0      0      0      0      0      0      0      0      0      0      0      0      0      0      0      0      0      0      0      0      0      0      0      0      0      0      0      0      0      0     0      0      0      0      0      0      0      0      0     0      0     0      0      0      0     0      0      0      0      0     0      0      0      0      0      0      0      0      0      0      0      0     0      0      0      0      0      0      0      0      0      0      0      0      0      0      0      0      0      0      0      0     0      0      0      0      0      0      0      0     0      0      0      0      0     0      0      0      0      0      0     0      0      0      0      0      0      0      0      0      0      0      0     0      0      0      0      0      0      0      0      0      0      0      0      0      0      0      0      0      0      0      0      0      0      0      0      0      0      0     0      0      0      0      0      0      0      0      0      0     0      0      0      0      0      0      0      0      0      0      0      0      0     0      0      0      0      0      0      0      0      0     0      0      0      0      0     0      0      0      0     0      0      0      0      0      0     0      0      0      0      0      0      0      0      0      0      0      0      0      0      0      0      0      0      0      0      0      0      0      0      0      0     0      0      0      0      0      0     0      0      0      0      0      0      0      0      0      0     0      0      0      0      0     0      0      0      0      0      0     0      0      0      0      0      0      0      0      0      0      0     0      0      0      0      0      0      0      0      0      0      0      0      0      0      0     0      0      0      0      0     0      0      0      0      0      0      0      0      0      0      0      0      0     0      0      0      0      0      0      0      0      0     0      0      0      0      0     0      0      0      0      0     0      0      0      0      0      0      0      0      0      0      0     0      0      0      0     0      0      0      0      0      0      0      0      0      0      0      0      0      0      0      0      0      0      0      0     0      0      0      0      0      0      0      0      0     0      0      0      0      0     0      0      0      0      0     0      0      0      0      0      0      0      0      0      0      0      0      0      0      0      0      0      0      0     0      0      0      0      0      0      0      0     0      0      0      0     0      0      0      0      0      0     0      0      0      0      0      0      0      0     0      0      0      0      0      0      0      0      0      0      0      0      0      0      0      0     0      0      0      0      0      0      0      0      0      0      0      0      0      0      0      0      0      0      0      0      0     0      0      0      0      0      0      0      0      0      0      0      0      0      0      0      0      0      0      0      0      0      0     0      0      0      0      0      0      0      0      0      0      0      0      0      0      0      0      0      0      0      0     0      0      0      0      0     0      0      0      0      0      0     0      0      0      0      0     0      0      0      0      0     0      0      0      0     0      0      0      0      0      0      0      0      0      0     0      0      0      0      0      0      0      0     0      0      0      0      0      0      0     0      0      0      0      0      0      0      0      0     0      0      0      0      0      0     0      0      0      0      0      0      0      0      0      0      0      0      0      0      0      0      0      0      0     0      0      0      0      0      0      0      0      0     0      0      0      0      0      0      0      0      0      0     0      0      0      0      0     0      0      0      0      0     0      0      0      0      0      0      0     0      0      0      0      0      0      0      0      0      0      0      0      0      0      0      0     0      0      0      0      0      0      0     0      0      0      0      0      0      0      0     0      0      0      0      0      0      0      0      0      0      0      0      0      0      0      0     0      0      0      0      0      0      0      0      0      0      0      0     0      0      0     0      0      0      0      0      0      0     0      0      0      0      0     0      0      0      0      0      0      0      0     0      0      0      0      0      0      0      0      0      0      0      0     0      0      0     0      0      0      0      0      0     0      0      0      0      0      0      0      0     0      0      0      0      0      0      0      0      0      0      0      0     0      0      0      0      0      0      0     0      0      0      0      0      0     0      0      0      0      0     0      0      0      0      0      0     0      0      0      0      0      0      0      0      0      0      0     0      0      0      0      0      0      0      0      0      0      0      0     0      0      0      0      0      0      0      0      0      0      0      0      0      0      0      0      0      0      0      0     0      0      0      0     0      0      0      0      0      0     0      0      0      0      0      0      0      0      0      0      0     0      0      0      0      0      0      0      0     0      0      0      0      0      0      0      0      0      0      0      0      0      0      0      0      0      0      0      0      0      0      0      0     0      0      0      0      0      0      0      0      0      0      0      0      0      0      0      0      0     0      0      0      0      0     0      0      0      0      0      0      0      0     0      0      0      0      0      0      0     0      0      0      0      0      0     0      0      0      0     0      0      0      0      0      0      0      0      0     0      0      0      0      0      0      0      0      0      0      0      0     0      0      0      0      0      0     0      0      0      0      0      0      0      0      0      0      0      0      0      0      0      0      0      0     0      0      0      0      0     0      0      0      0      0     0      0      0      0      0      0      0      0      0      0      0      0      0      0      0     0      0      0      0      0      0      0     0      0      0      0      0      0     0      0      0      0      0      0      0     0      0      0      0     0      0      0      0      0      0      0      0      0      0      0      0      0      0      0      0      0      0      0      0     0      0      0      0      0      0      0      0      0      0      0      0      0      0      0      0     0      0      0      0      0     0      0      0      0      0     0      0      0      0      0      0      0      0      0      0      0      0      0      0      0      0      0      0     0      0      0      0      0      0      0      0      0      0      0      0      0     0      0      0      0      0      0     0      0      0      0      0      0      0      0     0      0      0      0      0      0      0     0      0      0      0      0      0      0     0      0      0      0      0      0      0      0      0      0     0      0      0      0      0      0      0      0      0      0      0      0      0      0      0      0      0      0      0      0      0      0      0      0      0      0      0      0      0      0      0      0     0      0      0      0      0      0      0      0      0      0      0      0     0      0      0      0      0      0     0      0      0      0      0     0      0      0      0      0      0      0      0     0      0      0      0      0      0      0      0      0     0      0      0      0      0      0      0     0      0      0      0      0      0     0      0      0      0      0      0      0      0      0      0      0      0      0      0      0      0      0      0      0     0      0      0      0      0      0      0      0      0     0      0      0      0     0      0      0      0      0     0      0      0      0      0      0      0      0      0     0      0      0      0      0     0      0      0      0      0      0     0      0      0      0      0      0      0      0      0     0      0      0      0      0      0     0      0      0      0      0      0      0      0      0      0      0      0      0      0      0      0      0      0      0      0      0      0      0      0      0      0      0      0      0      0     0      0      0      0      0      0      0      0      0      0      0      0      0      0      0     0      0      0      0      0      0      0     0      0      0      0      0      0      0     0      0      0      0      0      0      0      0      0     0      0      0      0      0      0      0      0      0     0      0      0      0      0      0      0     0      0      0      0      0     0      0      0      0      0      0      0      0      0      0      0      0      0      0      0      0      0     0      0      0      0      0      0     0      0      0      0      0      0      0     0      0      0      0      0      0      0      0      0      0     0      0      0      0      0      0     0      0      0      0      0      0      0      0     0      0      0      0      0      0      0      0      0      0      0      0      0      0      0      0      0      0      0      0      0     0      0      0      0      0     0      0      0      0      0      0     0      0      0      0      0      0      0      0      0      0      0      0      0      0      0      0     0      0      0      0      0      0      0     0      0      0      0      0      0      0      0      0      0      0      0      0      0      0      0     0      0      0      0     0      0      0      0      0      0      0      0      0      0      0      0      0      0      0      0      0      0     0      0      0      0      0      0      0      0      0      0      0      0      0      0      0      0      0      0      0     0      0      0      0      0      0      0      0      0      0      0      0      0      0      0      0      0     0      0      0      0      0     0      0      0      0      0      0      0      0      0      0      0     0      0      0      0      0      0     0      0      0      0      0      0      0      0      0      0      0      0     0      0      0      0      0      0      0      0      0      0      0      0      0      0      0     0      0      0      0      0      0     0      0      0      0      0      0      0      0      0      0      0      0      0      0     0      0      0      0      0      0      0      0      0      0      0      0      0     0      0      0      0      0      0      0      0      0      0      0      0      0     0      0      0      0      0      0      0     0      0      0      0      0      0      0      0      0      0      0     0      0      0      0      0      0      0     0      0      0      0      0      0     0      0      0      0      0      0      0      0      0      0     0      0      0      0      0      0      0      0      0      0      0      0      0     0      0      0      0      0     0      0      0      0      0      0      0      0      0      0      0      0     0      0      0      0      0      0     0      0      0      0      0      0      0      0      0     0      0      0      0      0      0      0      0      0      0      0      0      0     0      0      0      0      0     0      0      0      0      0      0      0      0      0      0      0      0      0      0      0      0     0      0      0      0      0      0      0      0     0      0      0      0      0      0     0      0      0      0      0      0      0      0      0      0      0      0      0      0      0      0      0      0      0      0      0      0      0      0      0      0      0      0      0      0      0      0     0      0      0      0      0     0      0      0      0      0      0      0      0      0      0      0      0      0      0     0      0      0      0      0      0      0     0      0      0      0      0      0     0      0      0     0      0      0      0      0      0      0      0      0      0      0     0      0      0      0      0      0     0      0      0      0      0      0      0     0      0      0      0      0      0      0     0      0      0      0      0      0      0      0      0      0      0      0      0     0      0      0      0      0      0      0      0      0      0      0      0      0      0      0      0      0      0      0      0      0      0      0      0      0      0      0      0      0      0      0      0      0      0      0      0      0      0     0      0      0      0      0      0     0      0      0      0      0      0      0      0     0      0      0      0      0      0      0      0      0      0      0      0     0      0      0      0      0      0      0      0      0      0      0      0      0     0      0      0      0      0      0      0     0      0      0      0      0      0      0      0      0      0      0      0      0      0      0      0      0      0      0      0      0      0     0      0      0      0      0      0      0     0      0      0      0     0      0      0      0     0      0      0      0      0      0     0      0      0      0     0      0      0      0      0     0      0      0      0      0      0     0      0      0      0      0      0      0      0      0      0      0      0      0     0      0      0      0      0      0      0      0      0      0       0       0       0       0       0       0       0       0       0       0       0      0       0       0       0       0       0       0       0       0       0       0       0       0       0      0       0       0       0       0       0       0      0       0       0       0       0       0       0       0       0       0       0       0       0       0       0       0       0       0       0       0       0       0       0       0      0       0       0       0       0       0       0       0       0      0       0       0       0       0       0      0       0       0       0       0       0       0       0       0       0       0       0       0       0       0       0       0      0       0       0       0       0       0       0      0       0       0       0       0       0       0       0      0       0       0       0       0       0      0       0       0       0       0      0       0       0       0       0       0       0       0       0       0       0       0       0       0       0      0       0       0       0       0      0       0       0       0       0       0       0       0       0       0       0       0       0       0       0       0       0       0       0       0       0       0       0      0       0       0       0       0      0       0       0       0       0       0       0       0       0       0       0       0       0       0       0       0       0      0       0       0       0       0       0       0       0       0       0       0       0       0       0      0       0       0       0       0       0      0       0       0       0       0       0       0       0       0      0       0       0       0       0      0       0       0       0       0       0       0       0       0       0       0       0       0       0       0       0       0       0       0       0       0       0       0       0       0       0       0      0       0       0       0       0       0       0       0       0       0      0       0       0       0       0       0       0       0       0      0       0       0       0       0       0       0       0       0       0       0       0       0       0      0       0       0       0      0       0       0       0       0       0       0       0       0       0       0       0       0       0       0       0      0       0       0       0       0       0       0       0      0       0       0       0       0       0       0       0       0       0       0       0       0       0       0       0       0       0       0      0       0       0       0      0       1       0       0       0       0       0       0       0       0       0       0       0       0       0       0       0       0       0       0       0       0      0       0       0       0       0       0       0       0      0       0       0       0       0       0       0      0       0       0       0      0       0       0       0       0       0       0       0       0       0       0       0       0       0       0       0       0      0       0       0       0       0      0       0       0       0       0       0       0       0       0       0       0       0       0       0      0       0       0       0      0       0       0       0       0       0       0       0       0       0       0       0       0       0       0       0      0       0       0       0       0       0       0       0       0       0       0       0       0       0       0       0       0       0       0       0       0       0       0       0       0       0       0       0       0       0       0       0       0       0       0       0       0       0       0       0       0       0       0       0       0       0       0       0       0       0      0       0       0       0       0       0       0       0       0       0       0       0       0       0       0       0       0       0       0      0       0       0       0       0       0       0       0       0       0       0       0       0       0      0       0      0       0       0       0       0       0       0      0       0       0       0       0       0       0       0       0       0      0       0       0       0       0       0       0       0       0       0       0       0       0       0       0       0       0       0       0       0       0       0       0      0       0       0       0       0       0       0       0       0       0       0       0       0       0       0       0       0       0       0       0       0       0       0      0       0       0       0       0       0       0       0       0       0       0       0       0       0       0       0       0       0       0       0      0       0       0      0       0       0       0       0       0       0      0       0      0       0       0       0       0       0       0       0       0       0       0       0       0       0       0       0       0       0       0       0       0       0       0       0       0       0       0       0       0       0       0       0       0       0       0       0       0      0       0       0       0       0       0       0       0       0       0       0       0       0      0       0       0      0       0       0       0       0       0       0       0      0       0       0       0       0       0       0       0       0       0       0       0       0       0       0       0       0       0       0       0       0       0       0       0       0       0       0       0       0       0       0       0       0       0      0       0       0      0       0       0       0       0      0       0       0       0       0       0       0       0       0       0       0       0       0       0      0       0       0       0       0       0      0       0       0      0       0       0       0       0       0       0       0       0       0       0       0       0       0       0       0       0       0       0       0       0       0       0       0       0       0       0       0       0       0       0       0       0       0      0       0      0       0       0       0       0       0       0       0       0       0      0       0       0      0       0       0       0       0       0       0       0       0       0       0       0       0       0       0       0       0       0       0       0       0       0       0       0       0       0       0       0      0       0       0       0       0       0       0      0       0       0       0       0       0       0       0       0       0       0       0       0       0       0       0       0       0       0       0       0       0       0       0       0       0      0       0       0       0       0       0       0       0       0       0       0       0      0      0       0       0       0       0       0       0      0       0       0       0       0       0       0       0       0       0       0       0      0       0       0       0       0       0       0       0       0       0       0       0       0       0       0       0       0       0      0       0       0       0       0       0       0       0       0       0       0      0       0      0       0      0       0       0       0       0      0       0       0       0       0       0       0       0       0       0       0       0       0       0       0       0      0       0       0       0       0       0       0       0      0       0       0      0       0       0       0      0       0       0       0       0       0       0       0       0       0      0       0       0       0       0       0       0       0       0       0       0       0       0       0       0       0      0       0       0       0      0       0       0       0      0       0       0       0       0       0       0       0       0       0      0       0       0       0       0      0       0       0       0       0       0       0       0       0       0       0      0       0       0       0       0       0       0       0       0       0       0       0       0       0      0      0       0      0       0      0       0       0       0       0       0       0       0      0       0       0       0       0       0       0       0       0       0       0       0       0       0       0      0       0       0       0      0       0       0       0       0       0       0       0       0       0       0       0       0       0      0       0       0       0       0       0       0       0       0       0      0       0       0       0      0       0      0       0       0       0       0      0       0       0       0       0       0       0      0       0       0       0       0       0      0       0       0      0       0       0       0       0       0       0       0       0       0       0       0       0       0       0       0       0       0       0       0       0      0      0       0       0      0       0       0       0       0      0       0       0       0       0       0       0       0       0       0      0       0       0         1\n",
       "34.071354     0      0      0      0      0      0      0      0      0      0      0      0      0      0      0      0      0      0      0      0      0      0      0      0      0      0      0      0      0      0      0      0      0      0      0      0      0      0      0      0     0      0      0      0      0      0      0      0      0      0      0      0      0      0      0      0      0      0      0      0      0      0      0     0      0      0      0      0      0      0      0      0     0      0      0      0      0      0     0      0      0      0     0      0      0      0      0      0      0      0      0     0      0      0      0     0      0      0      0      0      0      0      0      0      0      0      0      0      0      0      0      0      0      0     0      0      0      0      0      0      0      0      0      0      0      0      0      0      0      0      0     0      0      0      0      0      0      0      0      0      0     0      0      0      0      0      0      0     0      0      0      0      0      0      0      0      0      0      0      0      0      0      0      0      0      0      0      0      0      0      0      0      0      0      0      0      0      0      0      0      0      0      0      0     0      0      0      0      0      0      0      0      0     0      0     0      0      0      0     0      0      0      0      0     0      0      0      0      0      0      0      0      0      0      0      0     0      0      0      0      0      0      0      0      0      0      0      0      0      0      0      0      0      0      0      0     0      0      0      0      0      0      0      0     0      0      0      0      0     0      0      0      0      0      0     0      0      0      0      0      0      0      0      0      0      0      0     0      0      0      0      0      0      0      0      0      0      0      0      0      0      0      0      0      0      0      0      0      0      0      0      0      0      0     0      0      0      0      0      0      0      0      0      0     0      0      0      0      0      0      0      0      0      0      0      0      0     0      0      0      0      0      0      0      0      0     0      0      0      0      0     0      0      0      0     0      0      0      0      0      0     0      0      0      0      0      0      0      0      0      0      0      0      0      0      0      0      0      0      0      0      0      0      0      0      0      0     0      0      0      0      0      0     0      0      0      0      0      0      0      0      0      0     0      0      0      0      0     0      0      0      0      0      0     0      0      0      0      0      0      0      0      0      0      0     0      0      0      0      0      0      0      0      0      0      0      0      0      0      0     0      0      0      0      0     0      0      0      0      0      0      0      0      0      0      0      0      0     0      0      0      0      0      0      0      0      0     0      0      0      0      0     0      0      0      0      0     0      0      0      0      0      0      0      0      0      0      0     0      0      0      0     0      0      0      0      0      0      0      0      0      0      0      0      0      0      0      0      0      0      0      0     0      0      0      0      0      0      0      0      0     0      0      0      0      0     0      0      0      0      0     0      0      0      0      0      0      0      0      0      0      0      0      0      0      0      0      0      0      0     0      0      0      0      0      0      0      0     0      0      0      0     0      0      0      0      0      0     0      0      0      0      0      0      0      0     0      0      0      0      0      0      0      0      0      0      0      0      0      0      0      0     0      0      0      0      0      0      0      0      0      0      0      0      0      0      0      0      0      0      0      0      0     0      0      0      0      0      0      0      0      0      0      0      0      0      0      0      0      0      0      0      0      0      0     0      0      0      0      0      0      0      0      0      0      0      0      0      0      0      0      0      0      0      0     0      0      0      0      0     0      0      0      0      0      0     0      0      0      0      0     0      0      0      0      0     0      0      0      0     0      0      0      0      0      0      0      0      0      0     0      0      0      0      0      0      0      0     0      0      0      0      0      0      0     0      0      0      0      0      0      0      0      0     0      0      0      0      0      0     0      0      0      0      0      0      0      0      0      0      0      0      0      0      0      0      0      0      0     0      0      0      0      0      0      0      0      0     0      0      0      0      0      0      0      0      0      0     0      0      0      0      0     0      0      0      0      0     0      0      0      0      0      0      0     0      0      0      0      0      0      0      0      0      0      0      0      0      0      0      0     0      0      0      0      0      0      0     0      0      0      0      0      0      0      0     0      0      0      0      0      0      0      0      0      0      0      0      0      0      0      0     0      0      0      0      0      0      0      0      0      0      0      0     0      0      0     0      0      0      0      0      0      0     0      0      0      0      0     0      0      0      0      0      0      0      0     0      0      0      0      0      0      0      0      0      0      0      0     0      0      0     0      0      0      0      0      0     0      0      0      0      0      0      0      0     0      0      0      0      0      0      0      0      0      0      0      0     0      0      0      0      0      0      0     0      0      0      0      0      0     0      0      0      0      0     0      0      0      0      0      0     0      0      0      0      0      0      0      0      0      0      0     0      0      0      0      0      0      0      0      0      0      0      0     0      0      0      0      0      0      0      0      0      0      0      0      0      0      0      0      0      0      0      0     0      0      0      0     0      0      0      0      0      0     0      0      0      0      0      0      0      0      0      0      0     0      0      0      0      0      0      0      0     0      0      0      0      0      0      0      0      0      0      0      0      0      0      0      0      0      0      0      0      0      0      0      0     0      0      0      0      0      0      0      0      0      0      0      0      0      0      0      0      0     0      0      0      0      0     0      0      0      0      0      0      0      0     0      0      0      0      0      0      0     0      0      0      0      0      0     0      0      0      0     0      0      0      0      0      0      0      0      0     0      0      0      0      0      0      0      0      0      0      0      0     0      0      0      0      0      0     0      0      0      0      0      0      0      0      0      0      0      0      0      0      0      0      0      0     0      0      0      0      0     0      0      0      0      0     0      0      0      0      0      0      0      0      0      0      0      0      0      0      0     0      0      0      0      0      0      0     0      0      0      0      0      0     0      0      0      0      0      0      0     0      0      0      0     0      0      0      0      0      0      0      0      0      0      0      0      0      0      0      0      0      0      0      0     0      0      0      0      0      0      0      0      0      0      0      0      0      0      0      0     0      0      0      0      0     0      0      0      0      0     0      0      0      0      0      0      0      0      0      0      0      0      0      0      0      0      0      0     0      0      0      0      0      0      0      0      0      0      0      0      0     0      0      0      0      0      0     0      0      0      0      0      0      0      0     0      0      0      0      0      0      0     0      0      0      0      0      0      0     0      0      0      0      0      0      0      0      0      0     0      0      0      0      0      0      0      0      0      0      0      0      0      0      0      0      0      0      0      0      0      0      0      0      0      0      0      0      0      0      0      0     0      0      0      0      0      0      0      0      0      0      0      0     0      0      0      0      0      0     0      0      0      0      0     0      0      0      0      0      0      0      0     0      0      0      0      0      0      0      0      0     0      0      0      0      0      0      0     0      0      0      0      0      0     0      0      0      0      0      0      0      0      0      0      0      0      0      0      0      0      0      0      0     0      0      0      0      0      0      0      0      0     0      0      0      0     0      0      0      0      0     0      0      0      0      0      0      0      0      0     0      0      0      0      0     0      0      0      0      0      0     0      0      0      0      0      0      0      0      0     0      0      0      0      0      0     0      0      0      0      0      0      0      0      0      0      0      0      0      0      0      0      0      0      0      0      0      0      0      0      0      0      0      0      0      0     0      0      0      0      0      0      0      0      0      0      0      0      0      0      0     0      0      0      0      0      0      0     0      0      0      0      0      0      0     0      0      0      0      0      0      0      0      0     0      0      0      0      0      0      0      0      0     0      0      0      0      0      0      0     0      0      0      0      0     0      0      0      0      0      0      0      0      0      0      0      0      0      0      0      0      0     0      0      0      0      0      0     0      0      0      0      0      0      0     0      0      0      0      0      0      0      0      0      0     0      0      0      0      0      0     0      0      0      0      0      0      0      0     0      0      0      0      0      0      0      0      0      0      0      0      0      0      0      0      0      0      0      0      0     0      0      0      0      0     0      0      0      0      0      0     0      0      0      0      0      0      0      0      0      0      0      0      0      0      0      0     0      0      0      0      0      0      0     0      0      0      0      0      0      0      0      0      0      0      0      0      0      0      0     0      0      0      0     0      0      0      0      0      0      0      0      0      0      0      0      0      0      0      0      0      0     0      0      0      0      0      0      0      0      0      0      0      0      0      0      0      0      0      0      0     0      0      0      0      0      0      0      0      0      0      0      0      0      0      0      0      0     0      0      0      0      0     0      0      0      0      0      0      0      0      0      0      0     0      0      0      0      0      0     0      0      0      0      0      0      0      0      0      0      0      0     0      0      0      0      0      0      0      0      0      0      0      0      0      0      0     0      0      0      0      0      0     0      0      0      0      0      0      0      0      0      0      0      0      0      0     0      0      0      0      0      0      0      0      0      0      0      0      0     0      0      0      0      0      0      0      0      0      0      0      0      0     0      0      0      0      0      0      0     0      0      0      0      0      0      0      0      0      0      0     0      0      0      0      0      0      0     0      0      0      0      0      0     0      0      0      0      0      0      0      0      0      0     0      0      0      0      0      0      0      0      0      0      0      0      0     0      0      0      0      0     0      0      0      0      0      0      0      0      0      0      0      0     0      0      0      0      0      0     0      0      0      0      0      0      0      0      0     0      0      0      0      0      0      0      0      0      0      0      0      0     0      0      0      0      0     0      0      0      0      0      0      0      0      0      0      0      0      0      0      0      0     0      0      0      0      0      0      0      0     0      0      0      0      0      0     0      0      0      0      0      0      0      0      0      0      0      0      0      0      0      0      0      0      0      0      0      0      0      0      0      0      0      0      0      0      0      0     0      0      0      0      0     0      0      0      0      0      0      0      0      0      0      0      0      0      0     0      0      0      0      0      0      0     0      0      0      0      0      0     0      0      0     0      0      0      0      0      0      0      0      0      0      0     0      0      0      0      0      0     0      0      0      0      0      0      0     0      0      0      0      0      0      0     0      0      0      0      0      0      0      0      0      0      0      0      0     0      0      0      0      0      0      0      0      0      0      0      0      0      0      0      0      0      0      0      0      0      0      0      0      0      0      0      0      0      0      0      0      0      0      0      0      0      0     0      0      0      0      0      0     0      0      0      0      0      0      0      0     0      0      0      0      0      0      0      0      0      0      0      0     0      0      0      0      0      0      0      0      0      0      0      0      0     0      0      0      1      0      0      0     0      0      0      0      0      0      0      0      0      0      0      0      0      0      0      0      0      0      0      0      0      0     0      0      0      0      0      0      0     0      0      0      0     0      0      0      0     0      0      0      0      0      0     0      0      0      0     0      0      0      0      0     0      0      0      0      0      0     0      0      0      0      0      0      0      0      0      0      0      0      0     0      0      0      0      0      0      0      0      0      0       0       0       0       0       0       0       0       0       0       0       0      0       0       0       0       0       0       0       0       0       0       0       0       0       0      0       0       0       0       0       0       0      0       0       0       0       0       0       0       0       0       0       0       0       0       0       0       0       0       0       0       0       0       0       0       0      0       0       0       0       0       0       0       0       0      0       0       0       0       0       0      0       0       0       0       0       0       0       0       0       0       0       0       0       0       0       0       0      0       0       0       0       0       0       0      0       0       0       0       0       0       0       0      0       0       0       0       0       0      0       0       0       0       0      0       0       0       0       0       0       0       0       0       0       0       0       0       0       0      0       0       0       0       0      0       0       0       0       0       0       0       0       0       0       0       0       0       0       0       0       0       0       0       0       0       0       0      0       0       0       0       0      0       0       0       0       0       0       0       0       0       0       0       0       0       0       0       0       0      0       0       0       0       0       0       0       0       0       0       0       0       0       0      0       0       0       0       0       0      0       0       0       0       0       0       0       0       0      0       0       0       0       0      0       0       0       0       0       0       0       0       0       0       0       0       0       0       0       0       0       0       0       0       0       0       0       0       0       0       0      0       0       0       0       0       0       0       0       0       0      0       0       0       0       0       0       0       0       0      0       0       0       0       0       0       0       0       0       0       0       0       0       0      0       0       0       0      0       0       0       0       0       0       0       0       0       0       0       0       0       0       0       0      0       0       0       0       0       0       0       0      0       0       0       0       0       0       0       0       0       0       0       0       0       0       0       0       0       0       0      0       0       0       0      0       0       0       0       0       0       0       0       0       0       0       0       0       0       0       0       0       0       0       0       0       0      0       0       0       0       0       0       0       0      0       0       0       0       0       0       0      0       0       0       0      0       0       0       0       0       0       0       0       0       0       0       0       0       0       0       0       0      0       0       0       0       0      0       0       0       0       0       0       0       0       0       0       0       0       0       0      0       0       0       0      0       0       0       0       0       0       0       0       0       0       0       0       0       0       0       0      0       0       0       0       0       0       0       0       0       0       0       0       0       0       0       0       0       0       0       0       0       0       0       0       0       0       0       0       0       0       0       0       0       0       0       0       0       0       0       0       0       0       0       0       0       0       0       0       0       0      0       0       0       0       0       0       0       0       0       0       0       0       0       0       0       0       0       0       0      0       0       0       0       0       0       0       0       0       0       0       0       0       0      0       0      0       0       0       0       0       0       0      0       0       0       0       0       0       0       0       0       0      0       0       0       0       0       0       0       0       0       0       0       0       0       0       0       0       0       0       0       0       0       0       0      0       0       0       0       0       0       0       0       0       0       0       0       0       0       0       0       0       0       0       0       0       0       0      0       0       0       0       0       0       0       0       0       0       0       0       0       0       0       0       0       0       0       0      0       0       0      0       0       0       0       0       0       0      0       0      0       0       0       0       0       0       0       0       0       0       0       0       0       0       0       0       0       0       0       0       0       0       0       0       0       0       0       0       0       0       0       0       0       0       0       0       0      0       0       0       0       0       0       0       0       0       0       0       0       0      0       0       0      0       0       0       0       0       0       0       0      0       0       0       0       0       0       0       0       0       0       0       0       0       0       0       0       0       0       0       0       0       0       0       0       0       0       0       0       0       0       0       0       0       0      0       0       0      0       0       0       0       0      0       0       0       0       0       0       0       0       0       0       0       0       0       0      0       0       0       0       0       0      0       0       0      0       0       0       0       0       0       0       0       0       0       0       0       0       0       0       0       0       0       0       0       0       0       0       0       0       0       0       0       0       0       0       0       0       0      0       0      0       0       0       0       0       0       0       0       0       0      0       0       0      0       0       0       0       0       0       0       0       0       0       0       0       0       0       0       0       0       0       0       0       0       0       0       0       0       0       0       0      0       0       0       0       0       0       0      0       0       0       0       0       0       0       0       0       0       0       0       0       0       0       0       0       0       0       0       0       0       0       0       0       0      0       0       0       0       0       0       0       0       0       0       0       0      0      0       0       0       0       0       0       0      0       0       0       0       0       0       0       0       0       0       0       0      0       0       0       0       0       0       0       0       0       0       0       0       0       0       0       0       0       0      0       0       0       0       0       0       0       0       0       0       0      0       0      0       0      0       0       0       0       0      0       0       0       0       0       0       0       0       0       0       0       0       0       0       0       0      0       0       0       0       0       0       0       0      0       0       0      0       0       0       0      0       0       0       0       0       0       0       0       0       0      0       0       0       0       0       0       0       0       0       0       0       0       0       0       0       0      0       0       0       0      0       0       0       0      0       0       0       0       0       0       0       0       0       0      0       0       0       0       0      0       0       0       0       0       0       0       0       0       0       0      0       0       0       0       0       0       0       0       0       0       0       0       0       0      0      0       0      0       0      0       0       0       0       0       0       0       0      0       0       0       0       0       0       0       0       0       0       0       0       0       0       0      0       0       0       0      0       0       0       0       0       0       0       0       0       0       0       0       0       0      0       0       0       0       0       0       0       0       0       0      0       0       0       0      0       0      0       0       0       0       0      0       0       0       0       0       0       0      0       0       0       0       0       0      0       0       0      0       0       0       0       0       0       0       0       0       0       0       0       0       0       0       0       0       0       0       0       0      0      0       0       0      0       0       0       0       0      0       0       0       0       0       0       0       0       0       0      0       0       0         1\n",
       "33.925403     0      0      0      0      0      0      0      0      0      0      0      0      0      0      0      0      0      0      0      0      0      0      0      0      0      0      0      0      0      0      0      0      0      0      0      0      0      0      0      0     0      0      0      0      0      0      0      0      0      0      0      0      0      0      0      0      0      0      0      0      0      0      0     0      0      0      0      0      0      0      0      0     0      0      0      0      0      0     0      0      0      0     0      0      0      0      0      0      0      0      0     0      0      0      0     0      0      0      0      0      0      0      0      0      0      0      0      0      0      0      0      0      0      0     0      0      0      0      0      0      0      0      0      0      0      0      0      0      0      0      0     0      0      0      0      0      0      0      0      0      0     0      0      0      0      0      0      0     0      0      0      0      0      0      0      0      0      0      0      0      0      0      0      0      0      0      0      0      0      0      0      0      0      0      0      0      0      0      0      0      0      0      0      0     0      0      0      0      0      0      0      0      0     0      0     0      0      0      0     0      0      0      0      0     0      0      0      0      0      0      0      0      0      0      0      0     0      0      0      0      0      0      0      0      0      0      0      0      0      0      0      0      0      0      0      0     0      0      0      0      0      0      0      0     0      0      0      0      0     0      0      0      0      0      0     0      0      0      0      0      0      0      0      0      0      0      0     0      0      0      0      0      0      0      0      0      0      0      0      0      0      0      0      0      0      0      0      0      0      0      0      0      0      0     0      0      0      0      0      0      0      0      0      0     0      0      0      0      0      0      0      0      0      0      0      0      0     0      0      0      0      0      0      0      0      0     0      0      0      0      0     0      0      0      0     0      0      0      0      0      0     0      0      0      0      0      0      0      0      0      0      0      0      0      0      0      0      0      0      0      0      0      0      0      0      0      0     0      0      0      0      0      0     0      0      0      0      0      0      0      0      0      0     0      0      0      0      0     0      0      0      0      0      0     0      0      0      0      0      0      0      0      0      0      0     0      0      0      0      0      0      0      0      0      0      0      0      0      0      0     0      0      0      0      0     0      0      0      0      0      0      0      0      0      0      0      0      0     0      0      0      0      0      0      0      0      0     0      0      0      0      0     0      0      0      0      0     0      0      0      0      0      0      0      0      0      0      0     0      0      0      0     0      0      0      0      0      0      0      0      0      0      0      0      0      0      0      0      0      0      0      0     0      0      0      0      0      0      0      0      0     0      0      0      0      0     0      0      0      0      0     0      0      0      0      0      0      0      0      0      0      0      0      0      0      0      0      0      0      0     0      0      0      0      0      0      0      0     0      0      0      0     0      0      0      0      0      0     0      0      0      0      0      0      0      0     0      0      0      0      1      0      0      0      0      0      0      0      0      0      0      0     0      0      0      0      0      0      0      0      0      0      0      0      0      0      0      0      0      0      0      0      0     0      0      0      0      0      0      0      0      0      0      0      0      0      0      0      0      0      0      0      0      0      0     0      0      0      0      0      0      0      0      0      0      0      0      0      0      0      0      0      0      0      0     0      0      0      0      0     0      0      0      0      0      0     0      0      0      0      0     0      0      0      0      0     0      0      0      0     0      0      0      0      0      0      0      0      0      0     0      0      0      0      0      0      0      0     0      0      0      0      0      0      0     0      0      0      0      0      0      0      0      0     0      0      0      0      0      0     0      0      0      0      0      0      0      0      0      0      0      0      0      0      0      0      0      0      0     0      0      0      0      0      0      0      0      0     0      0      0      0      0      0      0      0      0      0     0      0      0      0      0     0      0      0      0      0     0      0      0      0      0      0      0     0      0      0      0      0      0      0      0      0      0      0      0      0      0      0      0     0      0      0      0      0      0      0     0      0      0      0      0      0      0      0     0      0      0      0      0      0      0      0      0      0      0      0      0      0      0      0     0      0      0      0      0      0      0      0      0      0      0      0     0      0      0     0      0      0      0      0      0      0     0      0      0      0      0     0      0      0      0      0      0      0      0     0      0      0      0      0      0      0      0      0      0      0      0     0      0      0     0      0      0      0      0      0     0      0      0      0      0      0      0      0     0      0      0      0      0      0      0      0      0      0      0      0     0      0      0      0      0      0      0     0      0      0      0      0      0     0      0      0      0      0     0      0      0      0      0      0     0      0      0      0      0      0      0      0      0      0      0     0      0      0      0      0      0      0      0      0      0      0      0     0      0      0      0      0      0      0      0      0      0      0      0      0      0      0      0      0      0      0      0     0      0      0      0     0      0      0      0      0      0     0      0      0      0      0      0      0      0      0      0      0     0      0      0      0      0      0      0      0     0      0      0      0      0      0      0      0      0      0      0      0      0      0      0      0      0      0      0      0      0      0      0      0     0      0      0      0      0      0      0      0      0      0      0      0      0      0      0      0      0     0      0      0      0      0     0      0      0      0      0      0      0      0     0      0      0      0      0      0      0     0      0      0      0      0      0     0      0      0      0     0      0      0      0      0      0      0      0      0     0      0      0      0      0      0      0      0      0      0      0      0     0      0      0      0      0      0     0      0      0      0      0      0      0      0      0      0      0      0      0      0      0      0      0      0     0      0      0      0      0     0      0      0      0      0     0      0      0      0      0      0      0      0      0      0      0      0      0      0      0     0      0      0      0      0      0      0     0      0      0      0      0      0     0      0      0      0      0      0      0     0      0      0      0     0      0      0      0      0      0      0      0      0      0      0      0      0      0      0      0      0      0      0      0     0      0      0      0      0      0      0      0      0      0      0      0      0      0      0      0     0      0      0      0      0     0      0      0      0      0     0      0      0      0      0      0      0      0      0      0      0      0      0      0      0      0      0      0     0      0      0      0      0      0      0      0      0      0      0      0      0     0      0      0      0      0      0     0      0      0      0      0      0      0      0     0      0      0      0      0      0      0     0      0      0      0      0      0      0     0      0      0      0      0      0      0      0      0      0     0      0      0      0      0      0      0      0      0      0      0      0      0      0      0      0      0      0      0      0      0      0      0      0      0      0      0      0      0      0      0      0     0      0      0      0      0      0      0      0      0      0      0      0     0      0      0      0      0      0     0      0      0      0      0     0      0      0      0      0      0      0      0     0      0      0      0      0      0      0      0      0     0      0      0      0      0      0      0     0      0      0      0      0      0     0      0      0      0      0      0      0      0      0      0      0      0      0      0      0      0      0      0      0     0      0      0      0      0      0      0      0      0     0      0      0      0     0      0      0      0      0     0      0      0      0      0      0      0      0      0     0      0      0      0      0     0      0      0      0      0      0     0      0      0      0      0      0      0      0      0     0      0      0      0      0      0     0      0      0      0      0      0      0      0      0      0      0      0      0      0      0      0      0      0      0      0      0      0      0      0      0      0      0      0      0      0     0      0      0      0      0      0      0      0      0      0      0      0      0      0      0     0      0      0      0      0      0      0     0      0      0      0      0      0      0     0      0      0      0      0      0      0      0      0     0      0      0      0      0      0      0      0      0     0      0      0      0      0      0      0     0      0      0      0      0     0      0      0      0      0      0      0      0      0      0      0      0      0      0      0      0      0     0      0      0      0      0      0     0      0      0      0      0      0      0     0      0      0      0      0      0      0      0      0      0     0      0      0      0      0      0     0      0      0      0      0      0      0      0     0      0      0      0      0      0      0      0      0      0      0      0      0      0      0      0      0      0      0      0      0     0      0      0      0      0     0      0      0      0      0      0     0      0      0      0      0      0      0      0      0      0      0      0      0      0      0      0     0      0      0      0      0      0      0     0      0      0      0      0      0      0      0      0      0      0      0      0      0      0      0     0      0      0      0     0      0      0      0      0      0      0      0      0      0      0      0      0      0      0      0      0      0     0      0      0      0      0      0      0      0      0      0      0      0      0      0      0      0      0      0      0     0      0      0      0      0      0      0      0      0      0      0      0      0      0      0      0      0     0      0      0      0      0     0      0      0      0      0      0      0      0      0      0      0     0      0      0      0      0      0     0      0      0      0      0      0      0      0      0      0      0      0     0      0      0      0      0      0      0      0      0      0      0      0      0      0      0     0      0      0      0      0      0     0      0      0      0      0      0      0      0      0      0      0      0      0      0     0      0      0      0      0      0      0      0      0      0      0      0      0     0      0      0      0      0      0      0      0      0      0      0      0      0     0      0      0      0      0      0      0     0      0      0      0      0      0      0      0      0      0      0     0      0      0      0      0      0      0     0      0      0      0      0      0     0      0      0      0      0      0      0      0      0      0     0      0      0      0      0      0      0      0      0      0      0      0      0     0      0      0      0      0     0      0      0      0      0      0      0      0      0      0      0      0     0      0      0      0      0      0     0      0      0      0      0      0      0      0      0     0      0      0      0      0      0      0      0      0      0      0      0      0     0      0      0      0      0     0      0      0      0      0      0      0      0      0      0      0      0      0      0      0      0     0      0      0      0      0      0      0      0     0      0      0      0      0      0     0      0      0      0      0      0      0      0      0      0      0      0      0      0      0      0      0      0      0      0      0      0      0      0      0      0      0      0      0      0      0      0     0      0      0      0      0     0      0      0      0      0      0      0      0      0      0      0      0      0      0     0      0      0      0      0      0      0     0      0      0      0      0      0     0      0      0     0      0      0      0      0      0      0      0      0      0      0     0      0      0      0      0      0     0      0      0      0      0      0      0     0      0      0      0      0      0      0     0      0      0      0      0      0      0      0      0      0      0      0      0     0      0      0      0      0      0      0      0      0      0      0      0      0      0      0      0      0      0      0      0      0      0      0      0      0      0      0      0      0      0      0      0      0      0      0      0      0      0     0      0      0      0      0      0     0      0      0      0      0      0      0      0     0      0      0      0      0      0      0      0      0      0      0      0     0      0      0      0      0      0      0      0      0      0      0      0      0     0      0      0      0      0      0      0     0      0      0      0      0      0      0      0      0      0      0      0      0      0      0      0      0      0      0      0      0      0     0      0      0      0      0      0      0     0      0      0      0     0      0      0      0     0      0      0      0      0      0     0      0      0      0     0      0      0      0      0     0      0      0      0      0      0     0      0      0      0      0      0      0      0      0      0      0      0      0     0      0      0      0      0      0      0      0      0      0       0       0       0       0       0       0       0       0       0       0       0      0       0       0       0       0       0       0       0       0       0       0       0       0       0      0       0       0       0       0       0       0      0       0       0       0       0       0       0       0       0       0       0       0       0       0       0       0       0       0       0       0       0       0       0       0      0       0       0       0       0       0       0       0       0      0       0       0       0       0       0      0       0       0       0       0       0       0       0       0       0       0       0       0       0       0       0       0      0       0       0       0       0       0       0      0       0       0       0       0       0       0       0      0       0       0       0       0       0      0       0       0       0       0      0       0       0       0       0       0       0       0       0       0       0       0       0       0       0      0       0       0       0       0      0       0       0       0       0       0       0       0       0       0       0       0       0       0       0       0       0       0       0       0       0       0       0      0       0       0       0       0      0       0       0       0       0       0       0       0       0       0       0       0       0       0       0       0       0      0       0       0       0       0       0       0       0       0       0       0       0       0       0      0       0       0       0       0       0      0       0       0       0       0       0       0       0       0      0       0       0       0       0      0       0       0       0       0       0       0       0       0       0       0       0       0       0       0       0       0       0       0       0       0       0       0       0       0       0       0      0       0       0       0       0       0       0       0       0       0      0       0       0       0       0       0       0       0       0      0       0       0       0       0       0       0       0       0       0       0       0       0       0      0       0       0       0      0       0       0       0       0       0       0       0       0       0       0       0       0       0       0       0      0       0       0       0       0       0       0       0      0       0       0       0       0       0       0       0       0       0       0       0       0       0       0       0       0       0       0      0       0       0       0      0       0       0       0       0       0       0       0       0       0       0       0       0       0       0       0       0       0       0       0       0       0      0       0       0       0       0       0       0       0      0       0       0       0       0       0       0      0       0       0       0      0       0       0       0       0       0       0       0       0       0       0       0       0       0       0       0       0      0       0       0       0       0      0       0       0       0       0       0       0       0       0       0       0       0       0       0      0       0       0       0      0       0       0       0       0       0       0       0       0       0       0       0       0       0       0       0      0       0       0       0       0       0       0       0       0       0       0       0       0       0       0       0       0       0       0       0       0       0       0       0       0       0       0       0       0       0       0       0       0       0       0       0       0       0       0       0       0       0       0       0       0       0       0       0       0       0      0       0       0       0       0       0       0       0       0       0       0       0       0       0       0       0       0       0       0      0       0       0       0       0       0       0       0       0       0       0       0       0       0      0       0      0       0       0       0       0       0       0      0       0       0       0       0       0       0       0       0       0      0       0       0       0       0       0       0       0       0       0       0       0       0       0       0       0       0       0       0       0       0       0       0      0       0       0       0       0       0       0       0       0       0       0       0       0       0       0       0       0       0       0       0       0       0       0      0       0       0       0       0       0       0       0       0       0       0       0       0       0       0       0       0       0       0       0      0       0       0      0       0       0       0       0       0       0      0       0      0       0       0       0       0       0       0       0       0       0       0       0       0       0       0       0       0       0       0       0       0       0       0       0       0       0       0       0       0       0       0       0       0       0       0       0       0      0       0       0       0       0       0       0       0       0       0       0       0       0      0       0       0      0       0       0       0       0       0       0       0      0       0       0       0       0       0       0       0       0       0       0       0       0       0       0       0       0       0       0       0       0       0       0       0       0       0       0       0       0       0       0       0       0       0      0       0       0      0       0       0       0       0      0       0       0       0       0       0       0       0       0       0       0       0       0       0      0       0       0       0       0       0      0       0       0      0       0       0       0       0       0       0       0       0       0       0       0       0       0       0       0       0       0       0       0       0       0       0       0       0       0       0       0       0       0       0       0       0       0      0       0      0       0       0       0       0       0       0       0       0       0      0       0       0      0       0       0       0       0       0       0       0       0       0       0       0       0       0       0       0       0       0       0       0       0       0       0       0       0       0       0       0      0       0       0       0       0       0       0      0       0       0       0       0       0       0       0       0       0       0       0       0       0       0       0       0       0       0       0       0       0       0       0       0       0      0       0       0       0       0       0       0       0       0       0       0       0      0      0       0       0       0       0       0       0      0       0       0       0       0       0       0       0       0       0       0       0      0       0       0       0       0       0       0       0       0       0       0       0       0       0       0       0       0       0      0       0       0       0       0       0       0       0       0       0       0      0       0      0       0      0       0       0       0       0      0       0       0       0       0       0       0       0       0       0       0       0       0       0       0       0      0       0       0       0       0       0       0       0      0       0       0      0       0       0       0      0       0       0       0       0       0       0       0       0       0      0       0       0       0       0       0       0       0       0       0       0       0       0       0       0       0      0       0       0       0      0       0       0       0      0       0       0       0       0       0       0       0       0       0      0       0       0       0       0      0       0       0       0       0       0       0       0       0       0       0      0       0       0       0       0       0       0       0       0       0       0       0       0       0      0      0       0      0       0      0       0       0       0       0       0       0       0      0       0       0       0       0       0       0       0       0       0       0       0       0       0       0      0       0       0       0      0       0       0       0       0       0       0       0       0       0       0       0       0       0      0       0       0       0       0       0       0       0       0       0      0       0       0       0      0       0      0       0       0       0       0      0       0       0       0       0       0       0      0       0       0       0       0       0      0       0       0      0       0       0       0       0       0       0       0       0       0       0       0       0       0       0       0       0       0       0       0       0      0      0       0       0      0       0       0       0       0      0       0       0       0       0       0       0       0       0       0      0       0       0         1\n",
       "33.403474     0      0      0      0      0      0      0      0      0      0      0      0      0      0      0      0      0      0      0      0      0      0      0      0      0      0      0      0      0      0      0      0      0      0      0      0      0      0      0      0     0      0      0      0      0      0      0      0      0      0      0      0      0      0      0      0      0      0      0      0      0      0      0     0      0      0      0      0      0      0      0      0     0      0      0      0      0      0     0      0      0      0     0      0      0      0      0      0      0      0      0     0      0      0      0     0      0      0      0      0      0      0      0      0      0      0      0      0      0      0      0      0      0      0     0      0      0      0      0      0      0      0      0      0      0      0      0      0      0      0      0     0      0      0      0      0      0      0      0      0      0     0      0      0      0      0      0      0     0      0      0      0      0      0      0      0      0      0      0      0      0      0      0      0      0      0      0      0      0      0      0      0      0      0      0      0      0      0      0      0      0      0      0      0     0      0      0      0      0      0      0      0      0     0      0     0      0      0      0     0      0      0      0      0     0      0      0      0      0      0      0      0      0      0      0      0     0      0      0      0      0      0      0      0      0      0      0      0      0      0      0      0      0      0      0      0     0      0      0      0      0      0      0      0     0      0      0      0      0     0      0      0      0      0      0     0      0      0      0      0      0      0      0      0      0      0      0     0      0      0      0      0      0      0      0      0      0      0      0      0      0      0      0      0      0      0      0      0      0      0      0      0      0      0     0      0      0      0      0      0      0      0      0      0     0      0      0      0      0      0      0      0      0      0      0      0      0     0      0      0      0      0      0      0      0      0     0      0      0      0      0     0      0      0      0     0      0      0      0      0      0     0      0      0      0      0      0      0      0      0      0      0      0      0      0      0      0      0      0      0      0      0      0      0      0      0      0     0      0      0      0      0      0     0      0      0      0      0      0      0      0      0      0     0      0      0      0      0     0      0      0      0      0      0     0      0      0      0      0      0      0      0      0      0      0     0      0      0      0      0      0      0      0      0      0      0      0      0      0      0     0      0      0      0      0     0      0      0      0      0      0      0      0      0      0      0      0      0     0      0      0      0      0      0      0      0      0     0      0      0      0      0     0      0      0      0      0     0      0      0      0      0      0      0      0      0      0      0     0      0      0      0     0      0      0      0      0      0      0      0      0      0      0      0      0      0      0      0      0      0      0      0     0      0      0      0      0      0      0      0      0     0      0      0      0      0     0      0      0      0      0     0      0      0      0      0      0      0      0      0      0      0      0      0      0      0      0      0      0      0     0      0      0      0      0      0      0      0     0      0      0      0     0      0      0      0      0      0     0      0      0      0      0      0      0      0     0      0      0      0      0      0      0      0      0      0      0      0      0      0      0      0     0      0      0      0      0      0      0      0      0      0      0      0      0      0      0      0      0      0      0      0      0     0      0      0      0      0      0      0      0      0      0      0      0      0      0      0      0      0      0      0      0      0      0     0      0      0      0      0      0      0      0      0      0      0      0      0      0      0      0      0      0      0      0     0      0      0      0      0     0      0      0      0      0      0     0      0      0      0      0     0      0      0      0      0     0      0      0      0     0      0      0      0      0      0      0      0      0      0     0      0      0      0      0      0      0      0     0      0      0      0      0      0      0     0      0      0      0      0      0      0      0      0     0      0      0      0      0      0     0      0      0      0      0      0      0      0      0      0      0      0      0      0      0      0      0      0      0     0      0      0      0      0      0      0      0      0     0      0      0      0      0      0      0      0      0      0     0      0      0      0      0     0      0      0      0      0     0      0      0      0      0      0      0     0      0      0      0      0      0      0      0      0      0      0      0      0      0      0      0     0      0      0      0      0      0      0     0      0      0      0      0      0      0      0     0      0      0      0      0      0      0      0      0      0      0      0      0      0      0      0     0      0      0      0      0      0      0      0      0      0      0      0     0      0      0     0      0      0      0      0      0      0     0      0      0      0      0     0      0      0      0      0      0      0      0     0      0      0      0      0      0      0      0      0      0      0      0     0      0      0     0      0      0      0      0      0     0      0      0      0      0      0      0      0     0      0      0      0      0      0      0      0      0      0      0      0     0      0      0      0      0      0      0     0      0      0      0      0      0     0      0      0      0      0     0      0      0      0      0      0     0      0      0      0      0      0      0      0      0      0      0     0      0      0      0      0      0      0      0      0      0      0      0     0      0      0      0      0      0      0      0      0      0      0      0      0      0      0      0      0      0      0      0     0      0      0      0     0      0      0      0      0      0     0      0      0      0      0      0      0      0      0      0      0     0      0      0      0      0      0      0      0     0      0      0      0      0      0      0      0      0      0      0      0      0      0      0      0      0      0      0      0      0      0      0      0     0      0      0      0      0      0      0      0      0      0      0      0      0      0      0      0      0     0      0      0      0      0     0      0      0      0      0      0      0      0     0      0      0      0      0      0      0     0      0      0      0      0      0     0      0      0      0     0      0      0      0      0      0      0      0      0     0      0      0      0      0      0      0      0      0      0      0      0     0      0      0      0      0      0     0      0      0      0      0      0      0      0      0      0      0      0      0      0      0      0      0      0     0      0      0      0      0     0      0      0      0      0     0      0      0      0      0      0      0      0      0      0      0      0      0      0      0     0      0      0      0      0      0      0     0      0      0      0      0      0     0      0      0      0      0      0      0     0      0      0      0     0      0      0      0      0      0      0      0      0      0      0      0      0      0      0      0      0      0      0      0     0      0      0      0      0      0      0      0      0      0      0      0      0      0      0      0     0      0      0      0      0     0      0      0      0      0     0      0      0      0      0      0      0      0      0      0      0      0      0      0      0      0      0      0     0      0      0      0      0      0      0      0      0      0      0      0      0     0      0      0      0      0      0     0      0      0      0      0      0      0      0     0      0      0      0      0      0      0     0      0      0      0      0      0      0     0      0      0      0      0      0      0      0      0      0     0      0      0      0      0      0      0      0      0      0      0      0      0      0      0      0      0      0      0      0      0      0      0      0      0      0      0      0      0      0      0      0     0      0      0      0      0      0      0      0      0      0      0      0     0      0      0      0      0      0     0      0      0      0      0     0      0      0      0      0      0      0      0     0      0      0      0      0      0      0      0      0     0      0      0      0      0      0      0     0      0      0      0      0      0     0      0      0      0      0      0      0      0      0      0      0      0      0      0      0      0      0      0      0     0      0      0      0      0      0      0      0      0     0      0      0      0     0      0      0      0      0     0      0      0      0      0      0      0      0      0     0      0      0      0      0     0      0      0      0      0      0     0      0      0      0      0      0      0      0      0     0      0      0      0      0      0     0      0      0      0      0      0      0      0      0      0      0      0      0      0      0      0      0      0      0      0      0      0      0      0      0      0      0      0      0      0     0      0      0      0      0      0      0      0      0      0      0      0      0      0      0     0      0      0      0      0      0      0     0      0      0      0      0      0      0     0      0      0      0      0      0      0      0      0     0      0      0      0      0      0      0      0      0     0      0      0      0      0      0      0     0      0      0      0      0     0      0      0      0      0      0      0      0      0      0      0      0      0      0      0      0      0     0      0      0      0      0      0     0      0      0      0      0      0      0     0      0      0      0      0      0      0      0      0      0     0      0      0      0      0      0     0      0      0      0      0      0      0      0     0      0      0      0      0      0      0      0      0      0      0      0      0      0      0      0      0      0      0      0      0     0      0      0      0      0     0      0      0      0      0      0     0      0      0      0      0      0      0      0      0      0      0      0      0      0      0      0     0      0      0      0      0      0      0     0      0      0      0      0      0      0      0      0      0      0      0      0      0      0      0     0      0      0      0     0      0      0      0      0      0      0      0      0      0      0      0      0      0      0      0      0      0     0      0      0      0      0      0      0      0      0      0      0      0      0      0      0      0      0      0      0     0      0      0      0      0      0      0      0      0      0      0      0      0      0      0      0      0     0      0      0      0      0     0      0      0      0      0      0      0      0      0      0      0     0      0      0      0      0      0     0      0      0      0      0      0      0      0      0      0      0      0     0      0      0      0      0      0      0      0      0      0      0      0      0      0      0     0      0      0      0      0      0     0      0      0      0      0      0      0      0      0      0      0      0      0      0     0      0      0      0      0      0      0      0      0      0      0      0      0     0      0      0      0      0      0      0      0      0      0      0      0      0     0      0      0      0      0      0      0     0      0      0      0      0      0      0      0      0      0      0     0      0      0      0      0      0      0     0      0      0      0      0      0     0      0      0      0      0      0      0      0      0      0     0      0      0      0      0      0      0      0      0      0      0      0      0     0      0      0      0      0     0      0      0      0      0      0      0      0      0      0      0      0     0      0      0      0      0      0     0      0      0      0      0      0      0      0      0     0      0      0      0      0      0      0      0      0      0      0      0      0     0      0      0      0      0     0      0      0      0      0      0      0      0      0      0      0      0      0      0      0      0     0      0      0      0      0      0      0      0     0      0      0      0      0      0     0      0      0      0      0      0      0      0      0      0      0      0      0      0      0      0      0      0      0      0      0      0      0      0      0      0      0      0      0      0      0      0     0      0      0      0      0     0      0      0      0      0      0      0      0      0      0      0      0      0      0     0      0      0      0      0      0      0     0      0      0      0      0      0     0      0      0     0      0      0      0      0      0      0      0      0      0      0     0      0      0      0      0      0     0      0      0      0      0      0      0     0      0      0      0      0      0      0     0      0      0      0      0      0      0      0      0      0      0      0      0     0      0      0      0      0      0      0      0      0      0      0      0      0      0      0      0      0      0      0      0      0      0      0      0      0      0      0      0      0      0      0      0      0      0      0      0      0      0     0      0      0      0      0      0     0      0      0      0      0      0      0      0     0      0      0      0      0      0      0      0      0      0      0      0     0      0      0      0      0      0      0      0      0      0      0      0      0     0      0      0      0      0      0      0     0      0      0      0      0      0      0      0      0      0      0      0      0      0      0      0      0      0      0      0      0      0     0      0      0      0      0      0      0     0      0      0      0     0      0      0      0     0      0      0      0      0      0     0      0      0      0     0      0      0      0      0     0      0      0      0      0      0     0      0      0      0      0      0      0      0      0      0      0      0      0     0      0      0      0      0      0      0      0      0      0       0       0       0       0       0       0       0       0       0       0       0      0       0       0       0       0       0       0       0       0       0       0       0       0       0      0       0       0       0       0       0       0      0       0       0       0       0       0       0       0       0       0       0       0       0       0       0       0       0       0       0       0       0       0       0       0      0       0       0       0       0       0       0       0       0      0       0       0       0       0       0      0       0       0       0       0       0       0       0       0       0       0       0       0       0       0       0       0      0       0       0       0       0       0       0      0       0       0       0       0       0       0       0      0       0       0       0       0       0      0       0       0       0       0      0       0       0       0       0       0       0       0       0       0       0       0       0       0       0      0       0       0       0       0      0       0       0       0       0       0       0       0       0       0       0       0       0       0       0       0       0       0       0       0       0       0       0      0       0       0       0       0      0       0       0       0       0       0       0       0       0       0       0       0       0       0       0       0       0      0       0       0       0       0       0       0       0       0       0       0       0       0       0      0       0       0       0       0       0      0       0       0       0       0       0       0       0       0      0       0       0       0       0      0       0       0       0       0       0       0       0       0       0       0       0       0       0       0       0       0       0       0       0       0       0       0       0       0       0       0      0       0       0       0       0       0       0       0       0       0      0       0       0       0       0       0       0       0       0      0       0       0       0       0       0       0       0       0       0       0       0       0       0      0       0       0       0      0       0       0       0       0       0       0       0       0       0       0       0       0       0       0       0      0       0       0       0       0       0       0       0      0       0       0       0       0       0       0       0       0       0       0       0       0       0       0       0       0       0       0      0       0       0       0      0       0       0       0       0       0       0       0       0       0       0       0       0       0       0       0       0       0       0       0       0       0      0       0       0       0       0       0       0       0      0       0       0       0       0       0       0      0       0       0       0      0       0       0       0       0       0       0       0       0       0       0       0       0       0       0       0       0      0       0       0       0       0      0       0       0       0       0       0       0       0       0       0       0       0       0       0      0       0       0       0      0       0       0       0       0       0       0       0       0       0       0       0       0       0       0       0      0       0       0       0       0       0       0       0       0       0       0       0       0       0       0       0       0       0       0       0       0       0       0       0       0       0       0       0       0       0       0       0       0       0       0       0       0       0       0       0       0       0       0       0       0       0       0       0       0       0      0       0       0       0       0       0       0       0       0       0       0       0       0       0       0       0       0       0       0      0       0       0       0       0       0       0       0       0       0       0       0       0       0      0       0      0       0       0       0       0       0       0      0       0       0       0       0       0       0       0       0       0      0       0       0       0       0       0       0       0       0       0       0       0       0       0       0       0       0       0       0       0       0       0       0      0       0       0       0       0       0       0       0       0       0       0       0       0       0       0       0       0       0       0       0       0       0       0      0       0       0       0       0       0       0       0       0       0       0       0       0       0       0       0       0       0       0       0      0       0       0      0       0       0       0       0       0       0      0       0      0       0       0       0       0       0       0       0       0       0       0       0       0       0       0       0       0       0       0       0       0       0       0       0       0       0       0       0       0       0       0       0       0       0       0       0       0      0       0       0       0       0       0       0       0       0       0       0       0       0      0       0       0      0       0       0       0       0       0       0       0      0       0       0       0       0       0       0       0       0       0       0       0       0       0       0       0       0       0       0       0       0       0       0       0       0       0       0       0       0       0       0       0       0       0      0       0       0      0       0       0       0       0      0       0       0       0       0       0       0       0       0       0       0       0       0       0      0       0       0       0       0       0      0       0       0      0       0       0       0       0       0       0       0       0       0       0       0       0       0       0       0       0       0       0       0       0       0       0       0       0       0       0       0       0       0       0       0       0       0      0       0      0       0       0       0       0       0       0       0       0       0      0       0       0      0       0       0       0       0       0       0       0       0       0       0       0       0       0       0       0       0       0       0       0       0       0       0       0       0       0       0       0      0       0       0       0       0       0       0      0       0       0       0       0       0       0       0       0       0       0       0       0       0       0       0       0       0       0       0       0       0       0       0       0       0      0       0       0       0       0       0       0       0       0       0       0       0      0      0       0       0       0       0       0       0      0       0       0       0       0       0       0       0       0       0       0       0      0       0       0       0       0       0       0       0       0       0       0       0       0       0       0       0       0       0      0       0       0       0       0       0       0       0       0       0       0      0       0      0       0      0       0       0       0       0      0       0       0       0       0       0       0       0       0       0       0       0       0       0       0       0      0       0       0       0       0       0       0       0      0       0       0      0       0       0       0      0       0       0       0       0       0       0       0       0       0      0       0       0       0       0       0       0       0       0       0       0       0       0       0       0       0      0       0       0       0      0       0       0       0      0       0       0       0       0       0       0       0       0       0      0       0       0       0       0      0       0       0       0       0       0       0       0       0       0       0      0       0       0       0       0       0       0       0       0       0       0       0       0       0      0      0       0      0       0      0       0       0       0       0       0       0       0      0       0       0       0       0       0       0       0       0       0       0       0       0       0       0      0       0       0       0      0       0       0       0       0       0       0       0       0       0       0       0       0       0      0       0       0       0       0       0       0       0       0       0      0       1       0       0      0       0      0       0       0       0       0      0       0       0       0       0       0       0      0       0       0       0       0       0      0       0       0      0       0       0       0       0       0       0       0       0       0       0       0       0       0       0       0       0       0       0       0       0      0      0       0       0      0       0       0       0       0      0       0       0       0       0       0       0       0       0       0      0       0       0         1\n",
       "Name: count, Length: 2946, dtype: int64"
      ]
     },
     "execution_count": 173,
     "metadata": {},
     "output_type": "execute_result"
    }
   ],
   "source": [
    "weight_df"
   ]
  }
 ],
 "metadata": {
  "kernelspec": {
   "display_name": "Python 3",
   "language": "python",
   "name": "python3"
  },
  "language_info": {
   "codemirror_mode": {
    "name": "ipython",
    "version": 3
   },
   "file_extension": ".py",
   "mimetype": "text/x-python",
   "name": "python",
   "nbconvert_exporter": "python",
   "pygments_lexer": "ipython3",
   "version": "3.13.1"
  }
 },
 "nbformat": 4,
 "nbformat_minor": 4
}

{
 "cells": [
  {
   "cell_type": "markdown",
   "id": "53517833-e801-4d6a-8290-6c06129a0f44",
   "metadata": {},
   "source": [
    "# Introduction to Recommendation system"
   ]
  },
  {
   "cell_type": "markdown",
   "id": "bed5d1e6-c19e-4ef2-b412-de7594fe5dfe",
   "metadata": {},
   "source": [
    "<div align=\"center\">\n",
    "  <img src=\"./images/social_media_recommendation.png\" alt=\"Recommendation Systems Overview\" width=\"800\">\n",
    "</div>"
   ]
  },
  {
   "cell_type": "markdown",
   "id": "cf5b12dc-9651-4322-aecb-53de0d09e6e8",
   "metadata": {},
   "source": [
    "A **Recommendation System** is a type of information filtering system that predicts and suggests items to users based on their preferences, behavior, or past interactions. These systems are widely used in applications such as e-commerce, streaming platforms, social media, and more."
   ]
  },
  {
   "cell_type": "markdown",
   "id": "5934ef39-175d-459e-909b-77ecd30387c8",
   "metadata": {},
   "source": [
    "<div align=\"center\">\n",
    "  <img src=\"./images/recommendation%20system%20users.png\" alt=\"Recommendation System Use Cases\" width=\"600\">\n",
    "</div>"
   ]
  },
  {
   "cell_type": "markdown",
   "id": "e1b87b3e-c3c0-4152-a02a-cd5d3bce072c",
   "metadata": {},
   "source": [
    "### use cases of recommendation system "
   ]
  },
  {
   "cell_type": "markdown",
   "id": "e38a57a2-b302-4fe9-8de8-989ae92c94d9",
   "metadata": {},
   "source": [
    "Recommendation systems are widely used to enhance user experience and engagement across various domains:\n",
    "\n",
    "- **E-commerce**: Product recommendations based on user behavior.\n",
    "- **Streaming Services**: Movie, show, and music suggestions.\n",
    "- **Social Media**: Content and friend recommendations.\n",
    "- **Online News**: Article and topic recommendations.\n",
    "\n",
    "**Recommendation systems are not only convenient for users but also drive business growth by improving engagement and conversion rates.**\n",
    "Driving sales, increasing user retention, and boosting customer satisfaction through personalized experiences.\n",
    "\n",
    "<div align=\"center\">\n",
    "  <img src=\"D:\\pujan\\cs50\\images\\recommendation system uses.png\" alt=\"Recommendation System Use Cases\" width=\"600\">\n",
    "</div>"
   ]
  },
  {
   "cell_type": "markdown",
   "id": "ac0df0a8-8700-47ca-bb03-15109dde191e",
   "metadata": {},
   "source": [
    "# Types of Recommendation Systems\n",
    "\n",
    "1. **Content-Based**: Recommends items similar to what the user has liked, based on item features (e.g., product description, movie genre).\n",
    "\n",
    "2. **Collaborative Filtering**: Recommends items by analyzing users' past behavior and preferences, using either **user-user** or **item-item** similarities.\n",
    "\n",
    "3. **Hybrid**: Combines content-based and collaborative methods to improve recommendation accuracy and diversity.\n"
   ]
  },
  {
   "cell_type": "markdown",
   "id": "650a46fa-99ef-4989-899a-5da3f4be650a",
   "metadata": {},
   "source": [
    "### Today's Goal:\n",
    "- Build a simple content-based recommendation system to recommend articles based on their title and content.\n",
    "- Dataset: Deskdrop, containing user-shared articles with relevant information.\n",
    "\n",
    "### Step-by-Step Plan:\n",
    "1. **Data Cleaning**: Handle missing values, remove duplicates, and preprocess text.\n",
    "2. **Exploratory Data Analysis (EDA)**: Understand the dataset, visualize distributions.\n",
    "3. **Data Preprocessing**: Convert text data to numerical features (e.g., using TF-IDF).\n",
    "4. **Modeling**: Build the recommendation model using similarity measures (e.g., cosine similarity).\n",
    "5. **Evaluation**: Test the model’s performance and fine-tune if necessary.\n"
   ]
  },
  {
   "cell_type": "markdown",
   "id": "9f118b65-ef06-4c93-8aff-d74f427a3903",
   "metadata": {},
   "source": [
    "## Fill the code cells replacing the **`<mask>`**"
   ]
  },
  {
   "cell_type": "markdown",
   "id": "eefa2407-21fc-4af5-8a2b-0b5d83e8e0ef",
   "metadata": {},
   "source": [
    "# Let's get started !!"
   ]
  },
  {
   "cell_type": "markdown",
   "id": "39e29397-88c6-474e-a143-5cfcc8b30846",
   "metadata": {},
   "source": [
    "#### Import the required libraries such as numpy, pandas, matplotlib,etc"
   ]
  },
  {
   "cell_type": "code",
   "execution_count": 2,
   "id": "3e9aa270",
   "metadata": {},
   "outputs": [
    {
     "name": "stdout",
     "output_type": "stream",
     "text": [
      "Requirement already satisfied: nltk in c:\\users\\bisha\\appdata\\local\\programs\\python\\python313\\lib\\site-packages (3.9.1)\n",
      "Requirement already satisfied: wordcloud in c:\\users\\bisha\\appdata\\local\\programs\\python\\python313\\lib\\site-packages (1.9.4)\n",
      "Requirement already satisfied: click in c:\\users\\bisha\\appdata\\local\\programs\\python\\python313\\lib\\site-packages (from nltk) (8.1.8)\n",
      "Requirement already satisfied: joblib in c:\\users\\bisha\\appdata\\local\\programs\\python\\python313\\lib\\site-packages (from nltk) (1.4.2)\n",
      "Requirement already satisfied: regex>=2021.8.3 in c:\\users\\bisha\\appdata\\local\\programs\\python\\python313\\lib\\site-packages (from nltk) (2024.11.6)\n",
      "Requirement already satisfied: tqdm in c:\\users\\bisha\\appdata\\local\\programs\\python\\python313\\lib\\site-packages (from nltk) (4.67.1)\n",
      "Requirement already satisfied: numpy>=1.6.1 in c:\\users\\bisha\\appdata\\local\\programs\\python\\python313\\lib\\site-packages (from wordcloud) (2.2.1)\n",
      "Requirement already satisfied: pillow in c:\\users\\bisha\\appdata\\local\\programs\\python\\python313\\lib\\site-packages (from wordcloud) (11.1.0)\n",
      "Requirement already satisfied: matplotlib in c:\\users\\bisha\\appdata\\local\\programs\\python\\python313\\lib\\site-packages (from wordcloud) (3.10.0)\n",
      "Requirement already satisfied: colorama in c:\\users\\bisha\\appdata\\local\\programs\\python\\python313\\lib\\site-packages (from click->nltk) (0.4.6)\n",
      "Requirement already satisfied: contourpy>=1.0.1 in c:\\users\\bisha\\appdata\\local\\programs\\python\\python313\\lib\\site-packages (from matplotlib->wordcloud) (1.3.1)\n",
      "Requirement already satisfied: cycler>=0.10 in c:\\users\\bisha\\appdata\\local\\programs\\python\\python313\\lib\\site-packages (from matplotlib->wordcloud) (0.12.1)\n",
      "Requirement already satisfied: fonttools>=4.22.0 in c:\\users\\bisha\\appdata\\local\\programs\\python\\python313\\lib\\site-packages (from matplotlib->wordcloud) (4.55.3)\n",
      "Requirement already satisfied: kiwisolver>=1.3.1 in c:\\users\\bisha\\appdata\\local\\programs\\python\\python313\\lib\\site-packages (from matplotlib->wordcloud) (1.4.8)\n",
      "Requirement already satisfied: packaging>=20.0 in c:\\users\\bisha\\appdata\\local\\programs\\python\\python313\\lib\\site-packages (from matplotlib->wordcloud) (24.2)\n",
      "Requirement already satisfied: pyparsing>=2.3.1 in c:\\users\\bisha\\appdata\\local\\programs\\python\\python313\\lib\\site-packages (from matplotlib->wordcloud) (3.2.1)\n",
      "Requirement already satisfied: python-dateutil>=2.7 in c:\\users\\bisha\\appdata\\local\\programs\\python\\python313\\lib\\site-packages (from matplotlib->wordcloud) (2.9.0.post0)\n",
      "Requirement already satisfied: six>=1.5 in c:\\users\\bisha\\appdata\\local\\programs\\python\\python313\\lib\\site-packages (from python-dateutil>=2.7->matplotlib->wordcloud) (1.17.0)\n"
     ]
    }
   ],
   "source": [
    "# !pip install nltk wordcloud"
   ]
  },
  {
   "cell_type": "code",
   "execution_count": 3,
   "id": "a08163b4-0259-436d-9e01-6cca34284ea4",
   "metadata": {},
   "outputs": [],
   "source": [
    "import numpy as np\n",
    "import pandas as pd\n",
    "import matplotlib.pyplot as plt"
   ]
  },
  {
   "cell_type": "markdown",
   "id": "d8653c1a-a3a0-46e8-88ab-520eda157672",
   "metadata": {},
   "source": [
    "#### Read the csv files using pandas"
   ]
  },
  {
   "cell_type": "code",
   "execution_count": 4,
   "id": "a7f3e4e1-df09-41bd-adbe-c26c487d99fc",
   "metadata": {},
   "outputs": [],
   "source": [
    "df = pd.read_csv('shared_articles.csv')"
   ]
  },
  {
   "cell_type": "code",
   "execution_count": 5,
   "id": "43658c01-71a5-45ce-baf3-d01c12190065",
   "metadata": {},
   "outputs": [],
   "source": [
    "assert df[\"timestamp\"][0] == 1459192779, \"Incorrect file\""
   ]
  },
  {
   "cell_type": "markdown",
   "id": "f6a6d420-83ca-4d67-80ac-16a7b56dcf5a",
   "metadata": {},
   "source": [
    "## PRELIMINARY DATA PREPROCESSING"
   ]
  },
  {
   "cell_type": "markdown",
   "id": "696ad979-face-4931-ac18-2d464e0a0a8b",
   "metadata": {},
   "source": [
    "#### find out the shape and other info of the dataframe"
   ]
  },
  {
   "cell_type": "code",
   "execution_count": 6,
   "id": "a7c72cb5-16a4-430f-a01d-6157a95c88ac",
   "metadata": {},
   "outputs": [
    {
     "data": {
      "text/plain": [
       "(3122, 13)"
      ]
     },
     "execution_count": 6,
     "metadata": {},
     "output_type": "execute_result"
    }
   ],
   "source": [
    "df.shape"
   ]
  },
  {
   "cell_type": "code",
   "execution_count": 7,
   "id": "dfb95b7d-1d9d-46ba-8177-2fe57b9654fa",
   "metadata": {},
   "outputs": [],
   "source": [
    "assert df.shape[0] == 3122, \"Assertion Failed! Try again\""
   ]
  },
  {
   "cell_type": "code",
   "execution_count": 8,
   "id": "5dabade1-11de-4c84-875a-d150ca07eb72",
   "metadata": {},
   "outputs": [
    {
     "name": "stdout",
     "output_type": "stream",
     "text": [
      "<class 'pandas.core.frame.DataFrame'>\n",
      "RangeIndex: 3122 entries, 0 to 3121\n",
      "Data columns (total 13 columns):\n",
      " #   Column           Non-Null Count  Dtype \n",
      "---  ------           --------------  ----- \n",
      " 0   timestamp        3122 non-null   int64 \n",
      " 1   eventType        3122 non-null   object\n",
      " 2   contentId        3122 non-null   int64 \n",
      " 3   authorPersonId   3122 non-null   int64 \n",
      " 4   authorSessionId  3122 non-null   int64 \n",
      " 5   authorUserAgent  680 non-null    object\n",
      " 6   authorRegion     680 non-null    object\n",
      " 7   authorCountry    680 non-null    object\n",
      " 8   contentType      3122 non-null   object\n",
      " 9   url              3122 non-null   object\n",
      " 10  title            3122 non-null   object\n",
      " 11  text             3122 non-null   object\n",
      " 12  lang             3122 non-null   object\n",
      "dtypes: int64(4), object(9)\n",
      "memory usage: 317.2+ KB\n"
     ]
    }
   ],
   "source": [
    "df.info()"
   ]
  },
  {
   "cell_type": "markdown",
   "id": "db0c8e68-a3e6-414d-8cdd-70419432620b",
   "metadata": {},
   "source": [
    "#### Find out the all columns name of the df"
   ]
  },
  {
   "cell_type": "code",
   "execution_count": 9,
   "id": "035c6898-5172-40a7-b5a1-03d4792d3173",
   "metadata": {},
   "outputs": [
    {
     "data": {
      "text/plain": [
       "Index(['timestamp', 'eventType', 'contentId', 'authorPersonId',\n",
       "       'authorSessionId', 'authorUserAgent', 'authorRegion', 'authorCountry',\n",
       "       'contentType', 'url', 'title', 'text', 'lang'],\n",
       "      dtype='object')"
      ]
     },
     "execution_count": 9,
     "metadata": {},
     "output_type": "execute_result"
    }
   ],
   "source": [
    "columns = df.columns\n",
    "columns"
   ]
  },
  {
   "cell_type": "markdown",
   "id": "4f4c81be-89a0-4179-8923-3a594ec75dda",
   "metadata": {},
   "source": [
    "#### find out the missing values"
   ]
  },
  {
   "cell_type": "code",
   "execution_count": 10,
   "id": "4f0e1824-6b19-4d72-ad6e-30f6d8b907df",
   "metadata": {},
   "outputs": [
    {
     "data": {
      "text/html": [
       "<div>\n",
       "<style scoped>\n",
       "    .dataframe tbody tr th:only-of-type {\n",
       "        vertical-align: middle;\n",
       "    }\n",
       "\n",
       "    .dataframe tbody tr th {\n",
       "        vertical-align: top;\n",
       "    }\n",
       "\n",
       "    .dataframe thead th {\n",
       "        text-align: right;\n",
       "    }\n",
       "</style>\n",
       "<table border=\"1\" class=\"dataframe\">\n",
       "  <thead>\n",
       "    <tr style=\"text-align: right;\">\n",
       "      <th></th>\n",
       "      <th>timestamp</th>\n",
       "      <th>eventType</th>\n",
       "      <th>contentId</th>\n",
       "      <th>authorPersonId</th>\n",
       "      <th>authorSessionId</th>\n",
       "      <th>authorUserAgent</th>\n",
       "      <th>authorRegion</th>\n",
       "      <th>authorCountry</th>\n",
       "      <th>contentType</th>\n",
       "      <th>url</th>\n",
       "      <th>title</th>\n",
       "      <th>text</th>\n",
       "      <th>lang</th>\n",
       "    </tr>\n",
       "  </thead>\n",
       "  <tbody>\n",
       "    <tr>\n",
       "      <th>0</th>\n",
       "      <td>False</td>\n",
       "      <td>False</td>\n",
       "      <td>False</td>\n",
       "      <td>False</td>\n",
       "      <td>False</td>\n",
       "      <td>True</td>\n",
       "      <td>True</td>\n",
       "      <td>True</td>\n",
       "      <td>False</td>\n",
       "      <td>False</td>\n",
       "      <td>False</td>\n",
       "      <td>False</td>\n",
       "      <td>False</td>\n",
       "    </tr>\n",
       "    <tr>\n",
       "      <th>1</th>\n",
       "      <td>False</td>\n",
       "      <td>False</td>\n",
       "      <td>False</td>\n",
       "      <td>False</td>\n",
       "      <td>False</td>\n",
       "      <td>True</td>\n",
       "      <td>True</td>\n",
       "      <td>True</td>\n",
       "      <td>False</td>\n",
       "      <td>False</td>\n",
       "      <td>False</td>\n",
       "      <td>False</td>\n",
       "      <td>False</td>\n",
       "    </tr>\n",
       "    <tr>\n",
       "      <th>2</th>\n",
       "      <td>False</td>\n",
       "      <td>False</td>\n",
       "      <td>False</td>\n",
       "      <td>False</td>\n",
       "      <td>False</td>\n",
       "      <td>True</td>\n",
       "      <td>True</td>\n",
       "      <td>True</td>\n",
       "      <td>False</td>\n",
       "      <td>False</td>\n",
       "      <td>False</td>\n",
       "      <td>False</td>\n",
       "      <td>False</td>\n",
       "    </tr>\n",
       "    <tr>\n",
       "      <th>3</th>\n",
       "      <td>False</td>\n",
       "      <td>False</td>\n",
       "      <td>False</td>\n",
       "      <td>False</td>\n",
       "      <td>False</td>\n",
       "      <td>True</td>\n",
       "      <td>True</td>\n",
       "      <td>True</td>\n",
       "      <td>False</td>\n",
       "      <td>False</td>\n",
       "      <td>False</td>\n",
       "      <td>False</td>\n",
       "      <td>False</td>\n",
       "    </tr>\n",
       "    <tr>\n",
       "      <th>4</th>\n",
       "      <td>False</td>\n",
       "      <td>False</td>\n",
       "      <td>False</td>\n",
       "      <td>False</td>\n",
       "      <td>False</td>\n",
       "      <td>True</td>\n",
       "      <td>True</td>\n",
       "      <td>True</td>\n",
       "      <td>False</td>\n",
       "      <td>False</td>\n",
       "      <td>False</td>\n",
       "      <td>False</td>\n",
       "      <td>False</td>\n",
       "    </tr>\n",
       "    <tr>\n",
       "      <th>...</th>\n",
       "      <td>...</td>\n",
       "      <td>...</td>\n",
       "      <td>...</td>\n",
       "      <td>...</td>\n",
       "      <td>...</td>\n",
       "      <td>...</td>\n",
       "      <td>...</td>\n",
       "      <td>...</td>\n",
       "      <td>...</td>\n",
       "      <td>...</td>\n",
       "      <td>...</td>\n",
       "      <td>...</td>\n",
       "      <td>...</td>\n",
       "    </tr>\n",
       "    <tr>\n",
       "      <th>3117</th>\n",
       "      <td>False</td>\n",
       "      <td>False</td>\n",
       "      <td>False</td>\n",
       "      <td>False</td>\n",
       "      <td>False</td>\n",
       "      <td>False</td>\n",
       "      <td>False</td>\n",
       "      <td>False</td>\n",
       "      <td>False</td>\n",
       "      <td>False</td>\n",
       "      <td>False</td>\n",
       "      <td>False</td>\n",
       "      <td>False</td>\n",
       "    </tr>\n",
       "    <tr>\n",
       "      <th>3118</th>\n",
       "      <td>False</td>\n",
       "      <td>False</td>\n",
       "      <td>False</td>\n",
       "      <td>False</td>\n",
       "      <td>False</td>\n",
       "      <td>False</td>\n",
       "      <td>False</td>\n",
       "      <td>False</td>\n",
       "      <td>False</td>\n",
       "      <td>False</td>\n",
       "      <td>False</td>\n",
       "      <td>False</td>\n",
       "      <td>False</td>\n",
       "    </tr>\n",
       "    <tr>\n",
       "      <th>3119</th>\n",
       "      <td>False</td>\n",
       "      <td>False</td>\n",
       "      <td>False</td>\n",
       "      <td>False</td>\n",
       "      <td>False</td>\n",
       "      <td>False</td>\n",
       "      <td>False</td>\n",
       "      <td>False</td>\n",
       "      <td>False</td>\n",
       "      <td>False</td>\n",
       "      <td>False</td>\n",
       "      <td>False</td>\n",
       "      <td>False</td>\n",
       "    </tr>\n",
       "    <tr>\n",
       "      <th>3120</th>\n",
       "      <td>False</td>\n",
       "      <td>False</td>\n",
       "      <td>False</td>\n",
       "      <td>False</td>\n",
       "      <td>False</td>\n",
       "      <td>False</td>\n",
       "      <td>False</td>\n",
       "      <td>False</td>\n",
       "      <td>False</td>\n",
       "      <td>False</td>\n",
       "      <td>False</td>\n",
       "      <td>False</td>\n",
       "      <td>False</td>\n",
       "    </tr>\n",
       "    <tr>\n",
       "      <th>3121</th>\n",
       "      <td>False</td>\n",
       "      <td>False</td>\n",
       "      <td>False</td>\n",
       "      <td>False</td>\n",
       "      <td>False</td>\n",
       "      <td>False</td>\n",
       "      <td>False</td>\n",
       "      <td>False</td>\n",
       "      <td>False</td>\n",
       "      <td>False</td>\n",
       "      <td>False</td>\n",
       "      <td>False</td>\n",
       "      <td>False</td>\n",
       "    </tr>\n",
       "  </tbody>\n",
       "</table>\n",
       "<p>3122 rows × 13 columns</p>\n",
       "</div>"
      ],
      "text/plain": [
       "      timestamp  eventType  contentId  authorPersonId  authorSessionId  \\\n",
       "0         False      False      False           False            False   \n",
       "1         False      False      False           False            False   \n",
       "2         False      False      False           False            False   \n",
       "3         False      False      False           False            False   \n",
       "4         False      False      False           False            False   \n",
       "...         ...        ...        ...             ...              ...   \n",
       "3117      False      False      False           False            False   \n",
       "3118      False      False      False           False            False   \n",
       "3119      False      False      False           False            False   \n",
       "3120      False      False      False           False            False   \n",
       "3121      False      False      False           False            False   \n",
       "\n",
       "      authorUserAgent  authorRegion  authorCountry  contentType    url  title  \\\n",
       "0                True          True           True        False  False  False   \n",
       "1                True          True           True        False  False  False   \n",
       "2                True          True           True        False  False  False   \n",
       "3                True          True           True        False  False  False   \n",
       "4                True          True           True        False  False  False   \n",
       "...               ...           ...            ...          ...    ...    ...   \n",
       "3117            False         False          False        False  False  False   \n",
       "3118            False         False          False        False  False  False   \n",
       "3119            False         False          False        False  False  False   \n",
       "3120            False         False          False        False  False  False   \n",
       "3121            False         False          False        False  False  False   \n",
       "\n",
       "       text   lang  \n",
       "0     False  False  \n",
       "1     False  False  \n",
       "2     False  False  \n",
       "3     False  False  \n",
       "4     False  False  \n",
       "...     ...    ...  \n",
       "3117  False  False  \n",
       "3118  False  False  \n",
       "3119  False  False  \n",
       "3120  False  False  \n",
       "3121  False  False  \n",
       "\n",
       "[3122 rows x 13 columns]"
      ]
     },
     "execution_count": 10,
     "metadata": {},
     "output_type": "execute_result"
    }
   ],
   "source": [
    "df.isna()"
   ]
  },
  {
   "cell_type": "markdown",
   "id": "1fe547cb-5918-4184-8492-4dbdef5f5101",
   "metadata": {},
   "source": [
    "#### many columns contains many missing values and also we don't need other columns . so, removing unneccesary columns\n",
    "\n",
    "#### Hint :- you can use **drop()** method to remove the columns"
   ]
  },
  {
   "cell_type": "code",
   "execution_count": 11,
   "id": "2afecbea-6546-4af2-b7c4-5ce0e4482e9e",
   "metadata": {},
   "outputs": [],
   "source": [
    "df.dropna(inplace=True)"
   ]
  },
  {
   "cell_type": "code",
   "execution_count": 12,
   "id": "427d5be4",
   "metadata": {},
   "outputs": [
    {
     "data": {
      "text/plain": [
       "(680, 13)"
      ]
     },
     "execution_count": 12,
     "metadata": {},
     "output_type": "execute_result"
    }
   ],
   "source": [
    "df.shape"
   ]
  },
  {
   "cell_type": "code",
   "execution_count": 13,
   "id": "f04674a5",
   "metadata": {},
   "outputs": [
    {
     "data": {
      "text/plain": [
       "(680, 13)"
      ]
     },
     "execution_count": 13,
     "metadata": {},
     "output_type": "execute_result"
    }
   ],
   "source": [
    "df.shape"
   ]
  },
  {
   "cell_type": "markdown",
   "id": "0f44f88a",
   "metadata": {},
   "source": []
  },
  {
   "cell_type": "code",
   "execution_count": 14,
   "id": "33cdac82-fea3-4341-bae7-0b167e61fc16",
   "metadata": {},
   "outputs": [],
   "source": [
    "assert df.shape[1] == 13, \"Assertion Failed ! Try again \""
   ]
  },
  {
   "cell_type": "code",
   "execution_count": 15,
   "id": "16efba1d-f56c-421c-ae57-ab83d5b96634",
   "metadata": {},
   "outputs": [
    {
     "data": {
      "text/html": [
       "<div>\n",
       "<style scoped>\n",
       "    .dataframe tbody tr th:only-of-type {\n",
       "        vertical-align: middle;\n",
       "    }\n",
       "\n",
       "    .dataframe tbody tr th {\n",
       "        vertical-align: top;\n",
       "    }\n",
       "\n",
       "    .dataframe thead th {\n",
       "        text-align: right;\n",
       "    }\n",
       "</style>\n",
       "<table border=\"1\" class=\"dataframe\">\n",
       "  <thead>\n",
       "    <tr style=\"text-align: right;\">\n",
       "      <th></th>\n",
       "      <th>timestamp</th>\n",
       "      <th>eventType</th>\n",
       "      <th>contentId</th>\n",
       "      <th>authorPersonId</th>\n",
       "      <th>authorSessionId</th>\n",
       "      <th>authorUserAgent</th>\n",
       "      <th>authorRegion</th>\n",
       "      <th>authorCountry</th>\n",
       "      <th>contentType</th>\n",
       "      <th>url</th>\n",
       "      <th>title</th>\n",
       "      <th>text</th>\n",
       "      <th>lang</th>\n",
       "    </tr>\n",
       "  </thead>\n",
       "  <tbody>\n",
       "    <tr>\n",
       "      <th>2442</th>\n",
       "      <td>1474982976</td>\n",
       "      <td>CONTENT SHARED</td>\n",
       "      <td>6031953227014493100</td>\n",
       "      <td>-35428957105270993</td>\n",
       "      <td>2954312914497351516</td>\n",
       "      <td>Mozilla/5.0 (X11; Linux x86_64) AppleWebKit/53...</td>\n",
       "      <td>MG</td>\n",
       "      <td>BR</td>\n",
       "      <td>HTML</td>\n",
       "      <td>http://epoca.globo.com/vida/noticia/2016/09/o-...</td>\n",
       "      <td>O chefe é gay. E daí?</td>\n",
       "      <td>O técnico de laboratório de cinema Lucca Najar...</td>\n",
       "      <td>pt</td>\n",
       "    </tr>\n",
       "    <tr>\n",
       "      <th>2443</th>\n",
       "      <td>1474985039</td>\n",
       "      <td>CONTENT SHARED</td>\n",
       "      <td>-7638840925036528150</td>\n",
       "      <td>-3203894957285229214</td>\n",
       "      <td>3585854664925733577</td>\n",
       "      <td>Mozilla/5.0 (Windows NT 10.0; WOW64) AppleWebK...</td>\n",
       "      <td>ON</td>\n",
       "      <td>CA</td>\n",
       "      <td>HTML</td>\n",
       "      <td>https://blog.docker.com/2016/09/dockerforws2016/</td>\n",
       "      <td>Introducing Docker for Windows Server 2016 - D...</td>\n",
       "      <td>Today, Microsoft is announcing general availab...</td>\n",
       "      <td>en</td>\n",
       "    </tr>\n",
       "    <tr>\n",
       "      <th>2444</th>\n",
       "      <td>1474991327</td>\n",
       "      <td>CONTENT SHARED</td>\n",
       "      <td>-1676378465482420452</td>\n",
       "      <td>5660542693104786364</td>\n",
       "      <td>3377959081859050551</td>\n",
       "      <td>Mozilla/5.0 (Windows NT 10.0; WOW64) AppleWebK...</td>\n",
       "      <td>SP</td>\n",
       "      <td>BR</td>\n",
       "      <td>HTML</td>\n",
       "      <td>http://newsroom.bankofamerica.com/press-releas...</td>\n",
       "      <td>Microsoft and Bank of America Merrill Lynch Co...</td>\n",
       "      <td>Today at Sibos, an annual conference organized...</td>\n",
       "      <td>en</td>\n",
       "    </tr>\n",
       "    <tr>\n",
       "      <th>2445</th>\n",
       "      <td>1474992827</td>\n",
       "      <td>CONTENT SHARED</td>\n",
       "      <td>-1150591229250318592</td>\n",
       "      <td>6960073744377754728</td>\n",
       "      <td>7794013629444506686</td>\n",
       "      <td>Mozilla/5.0 (Macintosh; Intel Mac OS X 10_11_6...</td>\n",
       "      <td>GA</td>\n",
       "      <td>US</td>\n",
       "      <td>HTML</td>\n",
       "      <td>https://medium.com/posted-by-sypartners/digiti...</td>\n",
       "      <td>Digitization and The Loss of Iconography - Pos...</td>\n",
       "      <td>It's not the first time iconography has change...</td>\n",
       "      <td>en</td>\n",
       "    </tr>\n",
       "    <tr>\n",
       "      <th>2446</th>\n",
       "      <td>1474993822</td>\n",
       "      <td>CONTENT SHARED</td>\n",
       "      <td>-2487699318115820990</td>\n",
       "      <td>-1479311724257856983</td>\n",
       "      <td>5693827395561674937</td>\n",
       "      <td>Mozilla/5.0 (X11; Linux x86_64) AppleWebKit/53...</td>\n",
       "      <td>SP</td>\n",
       "      <td>BR</td>\n",
       "      <td>HTML</td>\n",
       "      <td>http://tech.firstpost.com/news-analysis/google...</td>\n",
       "      <td>Google saves Allo conversations, a win for mac...</td>\n",
       "      <td>Google has been teasing Allo , an instant mess...</td>\n",
       "      <td>en</td>\n",
       "    </tr>\n",
       "  </tbody>\n",
       "</table>\n",
       "</div>"
      ],
      "text/plain": [
       "       timestamp       eventType            contentId       authorPersonId  \\\n",
       "2442  1474982976  CONTENT SHARED  6031953227014493100   -35428957105270993   \n",
       "2443  1474985039  CONTENT SHARED -7638840925036528150 -3203894957285229214   \n",
       "2444  1474991327  CONTENT SHARED -1676378465482420452  5660542693104786364   \n",
       "2445  1474992827  CONTENT SHARED -1150591229250318592  6960073744377754728   \n",
       "2446  1474993822  CONTENT SHARED -2487699318115820990 -1479311724257856983   \n",
       "\n",
       "          authorSessionId                                    authorUserAgent  \\\n",
       "2442  2954312914497351516  Mozilla/5.0 (X11; Linux x86_64) AppleWebKit/53...   \n",
       "2443  3585854664925733577  Mozilla/5.0 (Windows NT 10.0; WOW64) AppleWebK...   \n",
       "2444  3377959081859050551  Mozilla/5.0 (Windows NT 10.0; WOW64) AppleWebK...   \n",
       "2445  7794013629444506686  Mozilla/5.0 (Macintosh; Intel Mac OS X 10_11_6...   \n",
       "2446  5693827395561674937  Mozilla/5.0 (X11; Linux x86_64) AppleWebKit/53...   \n",
       "\n",
       "     authorRegion authorCountry contentType  \\\n",
       "2442           MG            BR        HTML   \n",
       "2443           ON            CA        HTML   \n",
       "2444           SP            BR        HTML   \n",
       "2445           GA            US        HTML   \n",
       "2446           SP            BR        HTML   \n",
       "\n",
       "                                                    url  \\\n",
       "2442  http://epoca.globo.com/vida/noticia/2016/09/o-...   \n",
       "2443   https://blog.docker.com/2016/09/dockerforws2016/   \n",
       "2444  http://newsroom.bankofamerica.com/press-releas...   \n",
       "2445  https://medium.com/posted-by-sypartners/digiti...   \n",
       "2446  http://tech.firstpost.com/news-analysis/google...   \n",
       "\n",
       "                                                  title  \\\n",
       "2442                              O chefe é gay. E daí?   \n",
       "2443  Introducing Docker for Windows Server 2016 - D...   \n",
       "2444  Microsoft and Bank of America Merrill Lynch Co...   \n",
       "2445  Digitization and The Loss of Iconography - Pos...   \n",
       "2446  Google saves Allo conversations, a win for mac...   \n",
       "\n",
       "                                                   text lang  \n",
       "2442  O técnico de laboratório de cinema Lucca Najar...   pt  \n",
       "2443  Today, Microsoft is announcing general availab...   en  \n",
       "2444  Today at Sibos, an annual conference organized...   en  \n",
       "2445  It's not the first time iconography has change...   en  \n",
       "2446  Google has been teasing Allo , an instant mess...   en  "
      ]
     },
     "execution_count": 15,
     "metadata": {},
     "output_type": "execute_result"
    }
   ],
   "source": [
    "df.head()"
   ]
  },
  {
   "cell_type": "markdown",
   "id": "b1e639f5-baaf-4238-ae9a-426fce59b92a",
   "metadata": {},
   "source": [
    "#### We will only use English language articles for now.\n",
    "\n",
    "#### First check how many different languages are present in this dataset"
   ]
  },
  {
   "cell_type": "code",
   "execution_count": 16,
   "id": "626c1148-d3f5-4040-98a8-49581274660c",
   "metadata": {},
   "outputs": [
    {
     "data": {
      "text/plain": [
       "lang\n",
       "en    473\n",
       "pt    207\n",
       "Name: count, dtype: int64"
      ]
     },
     "execution_count": 16,
     "metadata": {},
     "output_type": "execute_result"
    }
   ],
   "source": [
    "df['lang'].value_counts()"
   ]
  },
  {
   "cell_type": "markdown",
   "id": "66d9f297-3088-453d-bcd6-90f6e1ac07f1",
   "metadata": {},
   "source": [
    "Now, use filtering condition to remove all other values except for english"
   ]
  },
  {
   "cell_type": "code",
   "execution_count": 17,
   "id": "bbd37547-2a58-477d-ae6c-986887365a17",
   "metadata": {},
   "outputs": [],
   "source": [
    "df = df.loc[df['lang'] == \"en\", ['title','text']]"
   ]
  },
  {
   "cell_type": "code",
   "execution_count": 18,
   "id": "7a36d701-b5d9-42c5-8f9d-1e8783481c53",
   "metadata": {},
   "outputs": [],
   "source": [
    "# assert df.shape == (2264,2), \"Assertion Failed !\""
   ]
  },
  {
   "cell_type": "code",
   "execution_count": 19,
   "id": "215ad863-612a-4845-b6ed-4740a632cdc7",
   "metadata": {},
   "outputs": [
    {
     "data": {
      "text/plain": [
       "(473, 2)"
      ]
     },
     "execution_count": 19,
     "metadata": {},
     "output_type": "execute_result"
    }
   ],
   "source": [
    "df.shape"
   ]
  },
  {
   "cell_type": "code",
   "execution_count": 20,
   "id": "3927d52d-8a25-4383-9631-b417917cb8d5",
   "metadata": {},
   "outputs": [
    {
     "data": {
      "text/html": [
       "<div>\n",
       "<style scoped>\n",
       "    .dataframe tbody tr th:only-of-type {\n",
       "        vertical-align: middle;\n",
       "    }\n",
       "\n",
       "    .dataframe tbody tr th {\n",
       "        vertical-align: top;\n",
       "    }\n",
       "\n",
       "    .dataframe thead th {\n",
       "        text-align: right;\n",
       "    }\n",
       "</style>\n",
       "<table border=\"1\" class=\"dataframe\">\n",
       "  <thead>\n",
       "    <tr style=\"text-align: right;\">\n",
       "      <th></th>\n",
       "      <th>title</th>\n",
       "      <th>text</th>\n",
       "    </tr>\n",
       "  </thead>\n",
       "  <tbody>\n",
       "    <tr>\n",
       "      <th>2443</th>\n",
       "      <td>Introducing Docker for Windows Server 2016 - D...</td>\n",
       "      <td>Today, Microsoft is announcing general availab...</td>\n",
       "    </tr>\n",
       "    <tr>\n",
       "      <th>2444</th>\n",
       "      <td>Microsoft and Bank of America Merrill Lynch Co...</td>\n",
       "      <td>Today at Sibos, an annual conference organized...</td>\n",
       "    </tr>\n",
       "    <tr>\n",
       "      <th>2445</th>\n",
       "      <td>Digitization and The Loss of Iconography - Pos...</td>\n",
       "      <td>It's not the first time iconography has change...</td>\n",
       "    </tr>\n",
       "    <tr>\n",
       "      <th>2446</th>\n",
       "      <td>Google saves Allo conversations, a win for mac...</td>\n",
       "      <td>Google has been teasing Allo , an instant mess...</td>\n",
       "    </tr>\n",
       "    <tr>\n",
       "      <th>2447</th>\n",
       "      <td>A Neural Network for Machine Translation, at P...</td>\n",
       "      <td>Ten years ago, we announced the launch of Goog...</td>\n",
       "    </tr>\n",
       "  </tbody>\n",
       "</table>\n",
       "</div>"
      ],
      "text/plain": [
       "                                                  title  \\\n",
       "2443  Introducing Docker for Windows Server 2016 - D...   \n",
       "2444  Microsoft and Bank of America Merrill Lynch Co...   \n",
       "2445  Digitization and The Loss of Iconography - Pos...   \n",
       "2446  Google saves Allo conversations, a win for mac...   \n",
       "2447  A Neural Network for Machine Translation, at P...   \n",
       "\n",
       "                                                   text  \n",
       "2443  Today, Microsoft is announcing general availab...  \n",
       "2444  Today at Sibos, an annual conference organized...  \n",
       "2445  It's not the first time iconography has change...  \n",
       "2446  Google has been teasing Allo , an instant mess...  \n",
       "2447  Ten years ago, we announced the launch of Goog...  "
      ]
     },
     "execution_count": 20,
     "metadata": {},
     "output_type": "execute_result"
    }
   ],
   "source": [
    "df.head()"
   ]
  },
  {
   "cell_type": "markdown",
   "id": "da54ba33-5de2-451b-9e75-037b6a3512df",
   "metadata": {},
   "source": [
    "### Now Check for any duplicates row. if yes, remove it "
   ]
  },
  {
   "cell_type": "markdown",
   "id": "3c95ecfa-484e-43f1-9483-54e86d2c1b01",
   "metadata": {},
   "source": [
    "Hint: You can use read the documentation for **[checking](https://pandas.pydata.org/docs/reference/api/pandas.DataFrame.duplicated.html)** and **[removing](https://pandas.pydata.org/docs/reference/api/pandas.DataFrame.drop_duplicates.html)** the duplicates"
   ]
  },
  {
   "cell_type": "code",
   "execution_count": 21,
   "id": "9b7a7821-1d82-4710-9c1b-3e9b648d150e",
   "metadata": {},
   "outputs": [
    {
     "data": {
      "text/html": [
       "<div>\n",
       "<style scoped>\n",
       "    .dataframe tbody tr th:only-of-type {\n",
       "        vertical-align: middle;\n",
       "    }\n",
       "\n",
       "    .dataframe tbody tr th {\n",
       "        vertical-align: top;\n",
       "    }\n",
       "\n",
       "    .dataframe thead th {\n",
       "        text-align: right;\n",
       "    }\n",
       "</style>\n",
       "<table border=\"1\" class=\"dataframe\">\n",
       "  <thead>\n",
       "    <tr style=\"text-align: right;\">\n",
       "      <th></th>\n",
       "      <th>title</th>\n",
       "      <th>text</th>\n",
       "    </tr>\n",
       "  </thead>\n",
       "  <tbody>\n",
       "    <tr>\n",
       "      <th>2443</th>\n",
       "      <td>Introducing Docker for Windows Server 2016 - D...</td>\n",
       "      <td>Today, Microsoft is announcing general availab...</td>\n",
       "    </tr>\n",
       "    <tr>\n",
       "      <th>2444</th>\n",
       "      <td>Microsoft and Bank of America Merrill Lynch Co...</td>\n",
       "      <td>Today at Sibos, an annual conference organized...</td>\n",
       "    </tr>\n",
       "    <tr>\n",
       "      <th>2445</th>\n",
       "      <td>Digitization and The Loss of Iconography - Pos...</td>\n",
       "      <td>It's not the first time iconography has change...</td>\n",
       "    </tr>\n",
       "    <tr>\n",
       "      <th>2446</th>\n",
       "      <td>Google saves Allo conversations, a win for mac...</td>\n",
       "      <td>Google has been teasing Allo , an instant mess...</td>\n",
       "    </tr>\n",
       "    <tr>\n",
       "      <th>2447</th>\n",
       "      <td>A Neural Network for Machine Translation, at P...</td>\n",
       "      <td>Ten years ago, we announced the launch of Goog...</td>\n",
       "    </tr>\n",
       "    <tr>\n",
       "      <th>...</th>\n",
       "      <td>...</td>\n",
       "      <td>...</td>\n",
       "    </tr>\n",
       "    <tr>\n",
       "      <th>3116</th>\n",
       "      <td>Swift Top 10 Articles For The Past Year (v.2017)</td>\n",
       "      <td>For the past year , we've ranked nearly 9,000 ...</td>\n",
       "    </tr>\n",
       "    <tr>\n",
       "      <th>3118</th>\n",
       "      <td>Amazon takes on Skype and GoToMeeting with its...</td>\n",
       "      <td>Amazon has launched Chime, a video conferencin...</td>\n",
       "    </tr>\n",
       "    <tr>\n",
       "      <th>3119</th>\n",
       "      <td>Code.org 2016 Annual Report</td>\n",
       "      <td>February 9, 2017 - We begin each year with a l...</td>\n",
       "    </tr>\n",
       "    <tr>\n",
       "      <th>3120</th>\n",
       "      <td>JPMorgan Software Does in Seconds What Took La...</td>\n",
       "      <td>At JPMorgan Chase &amp; Co., a learning machine is...</td>\n",
       "    </tr>\n",
       "    <tr>\n",
       "      <th>3121</th>\n",
       "      <td>The 2017 Acquia Partners of the Year</td>\n",
       "      <td>The Acquia Partner Awards Program is comprised...</td>\n",
       "    </tr>\n",
       "  </tbody>\n",
       "</table>\n",
       "<p>464 rows × 2 columns</p>\n",
       "</div>"
      ],
      "text/plain": [
       "                                                  title  \\\n",
       "2443  Introducing Docker for Windows Server 2016 - D...   \n",
       "2444  Microsoft and Bank of America Merrill Lynch Co...   \n",
       "2445  Digitization and The Loss of Iconography - Pos...   \n",
       "2446  Google saves Allo conversations, a win for mac...   \n",
       "2447  A Neural Network for Machine Translation, at P...   \n",
       "...                                                 ...   \n",
       "3116   Swift Top 10 Articles For The Past Year (v.2017)   \n",
       "3118  Amazon takes on Skype and GoToMeeting with its...   \n",
       "3119                        Code.org 2016 Annual Report   \n",
       "3120  JPMorgan Software Does in Seconds What Took La...   \n",
       "3121               The 2017 Acquia Partners of the Year   \n",
       "\n",
       "                                                   text  \n",
       "2443  Today, Microsoft is announcing general availab...  \n",
       "2444  Today at Sibos, an annual conference organized...  \n",
       "2445  It's not the first time iconography has change...  \n",
       "2446  Google has been teasing Allo , an instant mess...  \n",
       "2447  Ten years ago, we announced the launch of Goog...  \n",
       "...                                                 ...  \n",
       "3116  For the past year , we've ranked nearly 9,000 ...  \n",
       "3118  Amazon has launched Chime, a video conferencin...  \n",
       "3119  February 9, 2017 - We begin each year with a l...  \n",
       "3120  At JPMorgan Chase & Co., a learning machine is...  \n",
       "3121  The Acquia Partner Awards Program is comprised...  \n",
       "\n",
       "[464 rows x 2 columns]"
      ]
     },
     "execution_count": 21,
     "metadata": {},
     "output_type": "execute_result"
    }
   ],
   "source": [
    "df.drop_duplicates()"
   ]
  },
  {
   "cell_type": "code",
   "execution_count": 22,
   "id": "2a80b49c-06bc-4ddf-9daa-9ef4678d94be",
   "metadata": {},
   "outputs": [
    {
     "data": {
      "text/plain": [
       "(473, 2)"
      ]
     },
     "execution_count": 22,
     "metadata": {},
     "output_type": "execute_result"
    }
   ],
   "source": [
    "df.shape"
   ]
  },
  {
   "cell_type": "code",
   "execution_count": 23,
   "id": "b529b534-c502-4c5a-b0e1-5ee025134665",
   "metadata": {},
   "outputs": [],
   "source": [
    "# assert df.shape == (2191,2), \"Assertion Failed !\""
   ]
  },
  {
   "cell_type": "code",
   "execution_count": 24,
   "id": "998c49c7-e116-4398-a6c4-f6dd7c01bab9",
   "metadata": {},
   "outputs": [
    {
     "data": {
      "text/html": [
       "<div>\n",
       "<style scoped>\n",
       "    .dataframe tbody tr th:only-of-type {\n",
       "        vertical-align: middle;\n",
       "    }\n",
       "\n",
       "    .dataframe tbody tr th {\n",
       "        vertical-align: top;\n",
       "    }\n",
       "\n",
       "    .dataframe thead th {\n",
       "        text-align: right;\n",
       "    }\n",
       "</style>\n",
       "<table border=\"1\" class=\"dataframe\">\n",
       "  <thead>\n",
       "    <tr style=\"text-align: right;\">\n",
       "      <th></th>\n",
       "      <th>title</th>\n",
       "      <th>text</th>\n",
       "    </tr>\n",
       "  </thead>\n",
       "  <tbody>\n",
       "    <tr>\n",
       "      <th>2443</th>\n",
       "      <td>Introducing Docker for Windows Server 2016 - D...</td>\n",
       "      <td>Today, Microsoft is announcing general availab...</td>\n",
       "    </tr>\n",
       "    <tr>\n",
       "      <th>2444</th>\n",
       "      <td>Microsoft and Bank of America Merrill Lynch Co...</td>\n",
       "      <td>Today at Sibos, an annual conference organized...</td>\n",
       "    </tr>\n",
       "    <tr>\n",
       "      <th>2445</th>\n",
       "      <td>Digitization and The Loss of Iconography - Pos...</td>\n",
       "      <td>It's not the first time iconography has change...</td>\n",
       "    </tr>\n",
       "    <tr>\n",
       "      <th>2446</th>\n",
       "      <td>Google saves Allo conversations, a win for mac...</td>\n",
       "      <td>Google has been teasing Allo , an instant mess...</td>\n",
       "    </tr>\n",
       "    <tr>\n",
       "      <th>2447</th>\n",
       "      <td>A Neural Network for Machine Translation, at P...</td>\n",
       "      <td>Ten years ago, we announced the launch of Goog...</td>\n",
       "    </tr>\n",
       "  </tbody>\n",
       "</table>\n",
       "</div>"
      ],
      "text/plain": [
       "                                                  title  \\\n",
       "2443  Introducing Docker for Windows Server 2016 - D...   \n",
       "2444  Microsoft and Bank of America Merrill Lynch Co...   \n",
       "2445  Digitization and The Loss of Iconography - Pos...   \n",
       "2446  Google saves Allo conversations, a win for mac...   \n",
       "2447  A Neural Network for Machine Translation, at P...   \n",
       "\n",
       "                                                   text  \n",
       "2443  Today, Microsoft is announcing general availab...  \n",
       "2444  Today at Sibos, an annual conference organized...  \n",
       "2445  It's not the first time iconography has change...  \n",
       "2446  Google has been teasing Allo , an instant mess...  \n",
       "2447  Ten years ago, we announced the launch of Goog...  "
      ]
     },
     "execution_count": 24,
     "metadata": {},
     "output_type": "execute_result"
    }
   ],
   "source": [
    "df.head()"
   ]
  },
  {
   "cell_type": "markdown",
   "id": "851a7f65-3ca2-4847-9283-155d01fcb563",
   "metadata": {},
   "source": [
    "#### we can see that after dropping duplicates , the index has also dropped. use suitable function to reset the index"
   ]
  },
  {
   "cell_type": "code",
   "execution_count": 25,
   "id": "30abeafa-b61a-487c-896d-c72dcc339d7a",
   "metadata": {},
   "outputs": [],
   "source": [
    "# df = df.shape"
   ]
  },
  {
   "cell_type": "code",
   "execution_count": 26,
   "id": "1b918386-3707-4aa5-909d-1d4c30ec4cba",
   "metadata": {},
   "outputs": [],
   "source": [
    "# df.shape"
   ]
  },
  {
   "cell_type": "code",
   "execution_count": 27,
   "id": "b8d1e309-7150-43cb-9fea-b181ea6cb489",
   "metadata": {
    "scrolled": true
   },
   "outputs": [
    {
     "data": {
      "text/html": [
       "<div>\n",
       "<style scoped>\n",
       "    .dataframe tbody tr th:only-of-type {\n",
       "        vertical-align: middle;\n",
       "    }\n",
       "\n",
       "    .dataframe tbody tr th {\n",
       "        vertical-align: top;\n",
       "    }\n",
       "\n",
       "    .dataframe thead th {\n",
       "        text-align: right;\n",
       "    }\n",
       "</style>\n",
       "<table border=\"1\" class=\"dataframe\">\n",
       "  <thead>\n",
       "    <tr style=\"text-align: right;\">\n",
       "      <th></th>\n",
       "      <th>title</th>\n",
       "      <th>text</th>\n",
       "    </tr>\n",
       "  </thead>\n",
       "  <tbody>\n",
       "    <tr>\n",
       "      <th>2443</th>\n",
       "      <td>Introducing Docker for Windows Server 2016 - D...</td>\n",
       "      <td>Today, Microsoft is announcing general availab...</td>\n",
       "    </tr>\n",
       "    <tr>\n",
       "      <th>2444</th>\n",
       "      <td>Microsoft and Bank of America Merrill Lynch Co...</td>\n",
       "      <td>Today at Sibos, an annual conference organized...</td>\n",
       "    </tr>\n",
       "    <tr>\n",
       "      <th>2445</th>\n",
       "      <td>Digitization and The Loss of Iconography - Pos...</td>\n",
       "      <td>It's not the first time iconography has change...</td>\n",
       "    </tr>\n",
       "    <tr>\n",
       "      <th>2446</th>\n",
       "      <td>Google saves Allo conversations, a win for mac...</td>\n",
       "      <td>Google has been teasing Allo , an instant mess...</td>\n",
       "    </tr>\n",
       "    <tr>\n",
       "      <th>2447</th>\n",
       "      <td>A Neural Network for Machine Translation, at P...</td>\n",
       "      <td>Ten years ago, we announced the launch of Goog...</td>\n",
       "    </tr>\n",
       "  </tbody>\n",
       "</table>\n",
       "</div>"
      ],
      "text/plain": [
       "                                                  title  \\\n",
       "2443  Introducing Docker for Windows Server 2016 - D...   \n",
       "2444  Microsoft and Bank of America Merrill Lynch Co...   \n",
       "2445  Digitization and The Loss of Iconography - Pos...   \n",
       "2446  Google saves Allo conversations, a win for mac...   \n",
       "2447  A Neural Network for Machine Translation, at P...   \n",
       "\n",
       "                                                   text  \n",
       "2443  Today, Microsoft is announcing general availab...  \n",
       "2444  Today at Sibos, an annual conference organized...  \n",
       "2445  It's not the first time iconography has change...  \n",
       "2446  Google has been teasing Allo , an instant mess...  \n",
       "2447  Ten years ago, we announced the launch of Goog...  "
      ]
     },
     "execution_count": 27,
     "metadata": {},
     "output_type": "execute_result"
    }
   ],
   "source": [
    "df.head()"
   ]
  },
  {
   "cell_type": "code",
   "execution_count": 28,
   "id": "41893891-ad14-4ec6-b7b5-18a0209c17a7",
   "metadata": {},
   "outputs": [],
   "source": [
    "df1 = df.copy()"
   ]
  },
  {
   "cell_type": "markdown",
   "id": "68f9d08b-805d-4abb-8926-fb13c746a175",
   "metadata": {},
   "source": [
    "## EXPLORATORY DATA ANALYSIS"
   ]
  },
  {
   "cell_type": "markdown",
   "id": "7284cc52-c163-47f7-a923-54194af2386c",
   "metadata": {},
   "source": [
    "### Couting the number of words in each text rows\n",
    "\n",
    "Hint :- use your own technique such as making a function to count no of word or manipulation the particular series directly  and make a new column as 'no_of_words'. \n",
    "You can use python inbuilt string methods along with regular expressions.\n",
    "**regular expression** or **regex** is a inbuilt module for advanced pattern matching and text manipulation"
   ]
  },
  {
   "cell_type": "markdown",
   "id": "7ca5912d-3850-46c1-844a-514b959e528e",
   "metadata": {},
   "source": [
    "firstly, we will remove extra whitespaces if present because it may interfere with the real counting of the words\n",
    "and also lowerscaping the characters"
   ]
  },
  {
   "cell_type": "code",
   "execution_count": 29,
   "id": "734ed6a7-0218-496d-bc15-a11cd6511695",
   "metadata": {},
   "outputs": [],
   "source": [
    "import re \n",
    "\n",
    "def remove_whitespaces(row):\n",
    "    pattern = r\"\\s+\"\n",
    "    row = re.sub(pattern,\" \",row).lower()\n",
    "    return row"
   ]
  },
  {
   "cell_type": "markdown",
   "id": "d1754cf1-16b6-4530-8163-670dd562d7ad",
   "metadata": {},
   "source": [
    "#### Now apply the **remove_whitespaces** function to **title** and **text** columns"
   ]
  },
  {
   "cell_type": "code",
   "execution_count": 30,
   "id": "1974ac6b-28fa-4253-b5ff-b0e223a2f528",
   "metadata": {},
   "outputs": [],
   "source": [
    "df[\"title\"]= df['title'].apply(remove_whitespaces)\n",
    "df[\"text\"]= df['text'].apply(remove_whitespaces)"
   ]
  },
  {
   "cell_type": "code",
   "execution_count": 31,
   "id": "d6e18cb0-e262-4250-b004-1ae5d533a403",
   "metadata": {},
   "outputs": [
    {
     "data": {
      "text/html": [
       "<div>\n",
       "<style scoped>\n",
       "    .dataframe tbody tr th:only-of-type {\n",
       "        vertical-align: middle;\n",
       "    }\n",
       "\n",
       "    .dataframe tbody tr th {\n",
       "        vertical-align: top;\n",
       "    }\n",
       "\n",
       "    .dataframe thead th {\n",
       "        text-align: right;\n",
       "    }\n",
       "</style>\n",
       "<table border=\"1\" class=\"dataframe\">\n",
       "  <thead>\n",
       "    <tr style=\"text-align: right;\">\n",
       "      <th></th>\n",
       "      <th>title</th>\n",
       "      <th>text</th>\n",
       "    </tr>\n",
       "  </thead>\n",
       "  <tbody>\n",
       "    <tr>\n",
       "      <th>2443</th>\n",
       "      <td>introducing docker for windows server 2016 - d...</td>\n",
       "      <td>today, microsoft is announcing general availab...</td>\n",
       "    </tr>\n",
       "    <tr>\n",
       "      <th>2444</th>\n",
       "      <td>microsoft and bank of america merrill lynch co...</td>\n",
       "      <td>today at sibos, an annual conference organized...</td>\n",
       "    </tr>\n",
       "    <tr>\n",
       "      <th>2445</th>\n",
       "      <td>digitization and the loss of iconography - pos...</td>\n",
       "      <td>it's not the first time iconography has change...</td>\n",
       "    </tr>\n",
       "    <tr>\n",
       "      <th>2446</th>\n",
       "      <td>google saves allo conversations, a win for mac...</td>\n",
       "      <td>google has been teasing allo , an instant mess...</td>\n",
       "    </tr>\n",
       "    <tr>\n",
       "      <th>2447</th>\n",
       "      <td>a neural network for machine translation, at p...</td>\n",
       "      <td>ten years ago, we announced the launch of goog...</td>\n",
       "    </tr>\n",
       "  </tbody>\n",
       "</table>\n",
       "</div>"
      ],
      "text/plain": [
       "                                                  title  \\\n",
       "2443  introducing docker for windows server 2016 - d...   \n",
       "2444  microsoft and bank of america merrill lynch co...   \n",
       "2445  digitization and the loss of iconography - pos...   \n",
       "2446  google saves allo conversations, a win for mac...   \n",
       "2447  a neural network for machine translation, at p...   \n",
       "\n",
       "                                                   text  \n",
       "2443  today, microsoft is announcing general availab...  \n",
       "2444  today at sibos, an annual conference organized...  \n",
       "2445  it's not the first time iconography has change...  \n",
       "2446  google has been teasing allo , an instant mess...  \n",
       "2447  ten years ago, we announced the launch of goog...  "
      ]
     },
     "execution_count": 31,
     "metadata": {},
     "output_type": "execute_result"
    }
   ],
   "source": [
    "df.head()"
   ]
  },
  {
   "cell_type": "markdown",
   "id": "9bbdc713-dcc8-43a3-b0ba-74e9fb3895e8",
   "metadata": {},
   "source": [
    "#### Now make a column to store the count of no of words \n",
    "Hint: You can use split() method "
   ]
  },
  {
   "cell_type": "code",
   "execution_count": 32,
   "id": "288b92e8-c740-4cf0-9781-f0188b2dd22f",
   "metadata": {},
   "outputs": [],
   "source": [
    "df[\"no_of_words\"] = df[\"text\"].str.split(\" \").apply(len)"
   ]
  },
  {
   "cell_type": "markdown",
   "id": "599134f2-90b4-44da-93c0-427bca9cf5e9",
   "metadata": {},
   "source": [
    "# VISUALIZATION\n",
    "#### \"Data is not just numbers; it's a story waiting to be visualized. A well-crafted visualization can tell you a thousand insights.\"\n"
   ]
  },
  {
   "cell_type": "markdown",
   "id": "4f6a5bd3-0849-4dc3-b5b1-1185b58de047",
   "metadata": {},
   "source": [
    "Apply right visualization techniques to see how the no of words are scattered across each row of data \n",
    "\n",
    "#### Hint: You can use **histogram** either using **matplotlib** or **seaborn** "
   ]
  },
  {
   "cell_type": "code",
   "execution_count": 33,
   "id": "639355bf-362c-466d-8f83-166d7b446cc8",
   "metadata": {},
   "outputs": [
    {
     "data": {
      "image/png": "[encoded data removed]",
      "text/plain": [
       "<Figure size 500x500 with 1 Axes>"
      ]
     },
     "metadata": {},
     "output_type": "display_data"
    }
   ],
   "source": [
    "import seaborn as sns\n",
    "plt.figure(figsize=(5,5))\n",
    "sns.histplot(df[\"no_of_words\"])\n",
    "plt.show()"
   ]
  },
  {
   "cell_type": "markdown",
   "id": "e7a91cc2-1973-497d-a508-1921b7f78a7d",
   "metadata": {},
   "source": [
    "#### Now, visualize the unique no. of words present in each rows for this data "
   ]
  },
  {
   "cell_type": "code",
   "execution_count": 34,
   "id": "da710f2f-64cd-4f13-aec5-af0b08df3a38",
   "metadata": {},
   "outputs": [],
   "source": [
    "df[\"unique_no_of_words\"] = df[\"text\"].str.split(\" \").apply(set).apply(len)"
   ]
  },
  {
   "cell_type": "code",
   "execution_count": 35,
   "id": "3bbe1776-a978-42b8-8b20-6f7949a325fb",
   "metadata": {},
   "outputs": [
    {
     "data": {
      "text/html": [
       "<div>\n",
       "<style scoped>\n",
       "    .dataframe tbody tr th:only-of-type {\n",
       "        vertical-align: middle;\n",
       "    }\n",
       "\n",
       "    .dataframe tbody tr th {\n",
       "        vertical-align: top;\n",
       "    }\n",
       "\n",
       "    .dataframe thead th {\n",
       "        text-align: right;\n",
       "    }\n",
       "</style>\n",
       "<table border=\"1\" class=\"dataframe\">\n",
       "  <thead>\n",
       "    <tr style=\"text-align: right;\">\n",
       "      <th></th>\n",
       "      <th>title</th>\n",
       "      <th>text</th>\n",
       "      <th>no_of_words</th>\n",
       "      <th>unique_no_of_words</th>\n",
       "    </tr>\n",
       "  </thead>\n",
       "  <tbody>\n",
       "    <tr>\n",
       "      <th>2443</th>\n",
       "      <td>introducing docker for windows server 2016 - d...</td>\n",
       "      <td>today, microsoft is announcing general availab...</td>\n",
       "      <td>1296</td>\n",
       "      <td>500</td>\n",
       "    </tr>\n",
       "    <tr>\n",
       "      <th>2444</th>\n",
       "      <td>microsoft and bank of america merrill lynch co...</td>\n",
       "      <td>today at sibos, an annual conference organized...</td>\n",
       "      <td>890</td>\n",
       "      <td>448</td>\n",
       "    </tr>\n",
       "    <tr>\n",
       "      <th>2445</th>\n",
       "      <td>digitization and the loss of iconography - pos...</td>\n",
       "      <td>it's not the first time iconography has change...</td>\n",
       "      <td>413</td>\n",
       "      <td>257</td>\n",
       "    </tr>\n",
       "    <tr>\n",
       "      <th>2446</th>\n",
       "      <td>google saves allo conversations, a win for mac...</td>\n",
       "      <td>google has been teasing allo , an instant mess...</td>\n",
       "      <td>378</td>\n",
       "      <td>206</td>\n",
       "    </tr>\n",
       "    <tr>\n",
       "      <th>2447</th>\n",
       "      <td>a neural network for machine translation, at p...</td>\n",
       "      <td>ten years ago, we announced the launch of goog...</td>\n",
       "      <td>952</td>\n",
       "      <td>486</td>\n",
       "    </tr>\n",
       "  </tbody>\n",
       "</table>\n",
       "</div>"
      ],
      "text/plain": [
       "                                                  title  \\\n",
       "2443  introducing docker for windows server 2016 - d...   \n",
       "2444  microsoft and bank of america merrill lynch co...   \n",
       "2445  digitization and the loss of iconography - pos...   \n",
       "2446  google saves allo conversations, a win for mac...   \n",
       "2447  a neural network for machine translation, at p...   \n",
       "\n",
       "                                                   text  no_of_words  \\\n",
       "2443  today, microsoft is announcing general availab...         1296   \n",
       "2444  today at sibos, an annual conference organized...          890   \n",
       "2445  it's not the first time iconography has change...          413   \n",
       "2446  google has been teasing allo , an instant mess...          378   \n",
       "2447  ten years ago, we announced the launch of goog...          952   \n",
       "\n",
       "      unique_no_of_words  \n",
       "2443                 500  \n",
       "2444                 448  \n",
       "2445                 257  \n",
       "2446                 206  \n",
       "2447                 486  "
      ]
     },
     "execution_count": 35,
     "metadata": {},
     "output_type": "execute_result"
    }
   ],
   "source": [
    "df.head()"
   ]
  },
  {
   "cell_type": "code",
   "execution_count": 36,
   "id": "4aca8df2",
   "metadata": {},
   "outputs": [
    {
     "data": {
      "text/plain": [
       "2443     500\n",
       "2444     448\n",
       "2445     257\n",
       "2446     206\n",
       "2447     486\n",
       "        ... \n",
       "3116     122\n",
       "3118     193\n",
       "3119    1020\n",
       "3120     578\n",
       "3121      36\n",
       "Name: unique_no_of_words, Length: 473, dtype: int64"
      ]
     },
     "execution_count": 36,
     "metadata": {},
     "output_type": "execute_result"
    }
   ],
   "source": [
    "df['unique_no_of_words']"
   ]
  },
  {
   "cell_type": "code",
   "execution_count": 37,
   "id": "8705ee51-648c-450c-b093-0f606ce2884b",
   "metadata": {},
   "outputs": [
    {
     "data": {
      "image/png": "[encoded data removed]",
      "text/plain": [
       "<Figure size 500x500 with 1 Axes>"
      ]
     },
     "metadata": {},
     "output_type": "display_data"
    }
   ],
   "source": [
    "plt.figure(figsize=(5,5))\n",
    "sns.histplot(df[\"unique_no_of_words\"])\n",
    "plt.show()"
   ]
  },
  {
   "cell_type": "markdown",
   "id": "160acee0-18c3-4a02-b3ba-134fe0767124",
   "metadata": {},
   "source": [
    "## NLP DATA PREPROCESSING (may vary accoringly to specific NLP Tasks)"
   ]
  },
  {
   "cell_type": "markdown",
   "id": "89948649-8b1a-44f1-8f72-e9f7da343c01",
   "metadata": {},
   "source": [
    "### Removal of punctuations and numbers (yo paxi modelling garda thapako)"
   ]
  },
  {
   "cell_type": "code",
   "execution_count": 38,
   "id": "ef3d4373-e86c-4bb2-aa3a-a590e435c906",
   "metadata": {},
   "outputs": [],
   "source": [
    "import string \n",
    "\n",
    "def remove_punctuations(row):\n",
    "    punctuation = re.escape(string.punctuation)\n",
    "    pattern = f\"[{punctuation}0-9]\"\n",
    "    row = re.sub(pattern,\"\",row)\n",
    "    return row"
   ]
  },
  {
   "cell_type": "markdown",
   "id": "02a7d978-d7f9-41dd-8c78-ca82ddcdd4b0",
   "metadata": {},
   "source": [
    "#### Now apply the **remove_punctuations** to the **title** and **text** columns"
   ]
  },
  {
   "cell_type": "code",
   "execution_count": 39,
   "id": "559738d0-658b-43be-b7b6-684fef29deb5",
   "metadata": {},
   "outputs": [],
   "source": [
    "df[\"title\"] = df['title'].apply(remove_punctuations)\n",
    "df[\"text\"] = df['text'].apply(remove_punctuations)"
   ]
  },
  {
   "cell_type": "code",
   "execution_count": 40,
   "id": "5f1d379e-382c-4f83-a832-bb6519cc7e26",
   "metadata": {},
   "outputs": [
    {
     "data": {
      "text/html": [
       "<div>\n",
       "<style scoped>\n",
       "    .dataframe tbody tr th:only-of-type {\n",
       "        vertical-align: middle;\n",
       "    }\n",
       "\n",
       "    .dataframe tbody tr th {\n",
       "        vertical-align: top;\n",
       "    }\n",
       "\n",
       "    .dataframe thead th {\n",
       "        text-align: right;\n",
       "    }\n",
       "</style>\n",
       "<table border=\"1\" class=\"dataframe\">\n",
       "  <thead>\n",
       "    <tr style=\"text-align: right;\">\n",
       "      <th></th>\n",
       "      <th>title</th>\n",
       "      <th>text</th>\n",
       "      <th>no_of_words</th>\n",
       "      <th>unique_no_of_words</th>\n",
       "    </tr>\n",
       "  </thead>\n",
       "  <tbody>\n",
       "    <tr>\n",
       "      <th>2443</th>\n",
       "      <td>introducing docker for windows server   docker...</td>\n",
       "      <td>today microsoft is announcing general availabi...</td>\n",
       "      <td>1296</td>\n",
       "      <td>500</td>\n",
       "    </tr>\n",
       "    <tr>\n",
       "      <th>2444</th>\n",
       "      <td>microsoft and bank of america merrill lynch co...</td>\n",
       "      <td>today at sibos an annual conference organized ...</td>\n",
       "      <td>890</td>\n",
       "      <td>448</td>\n",
       "    </tr>\n",
       "    <tr>\n",
       "      <th>2445</th>\n",
       "      <td>digitization and the loss of iconography  post...</td>\n",
       "      <td>its not the first time iconography has changed...</td>\n",
       "      <td>413</td>\n",
       "      <td>257</td>\n",
       "    </tr>\n",
       "    <tr>\n",
       "      <th>2446</th>\n",
       "      <td>google saves allo conversations a win for mach...</td>\n",
       "      <td>google has been teasing allo  an instant messa...</td>\n",
       "      <td>378</td>\n",
       "      <td>206</td>\n",
       "    </tr>\n",
       "    <tr>\n",
       "      <th>2447</th>\n",
       "      <td>a neural network for machine translation at pr...</td>\n",
       "      <td>ten years ago we announced the launch of googl...</td>\n",
       "      <td>952</td>\n",
       "      <td>486</td>\n",
       "    </tr>\n",
       "  </tbody>\n",
       "</table>\n",
       "</div>"
      ],
      "text/plain": [
       "                                                  title  \\\n",
       "2443  introducing docker for windows server   docker...   \n",
       "2444  microsoft and bank of america merrill lynch co...   \n",
       "2445  digitization and the loss of iconography  post...   \n",
       "2446  google saves allo conversations a win for mach...   \n",
       "2447  a neural network for machine translation at pr...   \n",
       "\n",
       "                                                   text  no_of_words  \\\n",
       "2443  today microsoft is announcing general availabi...         1296   \n",
       "2444  today at sibos an annual conference organized ...          890   \n",
       "2445  its not the first time iconography has changed...          413   \n",
       "2446  google has been teasing allo  an instant messa...          378   \n",
       "2447  ten years ago we announced the launch of googl...          952   \n",
       "\n",
       "      unique_no_of_words  \n",
       "2443                 500  \n",
       "2444                 448  \n",
       "2445                 257  \n",
       "2446                 206  \n",
       "2447                 486  "
      ]
     },
     "execution_count": 40,
     "metadata": {},
     "output_type": "execute_result"
    }
   ],
   "source": [
    "df.head()"
   ]
  },
  {
   "cell_type": "markdown",
   "id": "8ea2dd18-3958-464f-869e-63517093249b",
   "metadata": {},
   "source": [
    "### STOPWORD REMOVALS"
   ]
  },
  {
   "cell_type": "markdown",
   "id": "31122d80-9903-4339-8721-d732024dc0f6",
   "metadata": {},
   "source": [
    "Stopwords are common words (e.g., \"the\", \"is\", \"in\", \"and\") that don't carry significant meaning in text analysis. They are typically removed in NLP tasks because they occur frequently across texts but do not contribute to distinguishing meaningful patterns or relationships.\n",
    "\n",
    "#### Why Remove Stopwords?\n",
    "- **Reduce noise**: They can dominate text data and hinder meaningful analysis.\n",
    "- **Improve efficiency**: Removing stopwords reduces dimensionality and computation time.\n",
    "- **Enhance model performance**: Focusing on important words helps in building better models for tasks like text classification, information retrieval,etc."
   ]
  },
  {
   "cell_type": "markdown",
   "id": "a9af0b5e-7a92-4967-bd21-63afec5d28f6",
   "metadata": {},
   "source": [
    "You can make your own list of frequently used stopwords or either use stopwords provided by the packages such as **nltk**, **scikit-learn**,etc"
   ]
  },
  {
   "cell_type": "code",
   "execution_count": 41,
   "id": "4c23d3a5-4a6e-487f-90f9-d276eef7fc84",
   "metadata": {},
   "outputs": [],
   "source": [
    "import nltk\n",
    "from nltk.corpus import stopwords"
   ]
  },
  {
   "cell_type": "code",
   "execution_count": 42,
   "id": "f53b3e93-ac40-4ea3-96f2-1c32b622354c",
   "metadata": {
    "scrolled": true
   },
   "outputs": [
    {
     "name": "stdout",
     "output_type": "stream",
     "text": [
      "CPU times: total: 109 ms\n",
      "Wall time: 346 ms\n"
     ]
    },
    {
     "name": "stderr",
     "output_type": "stream",
     "text": [
      "[nltk_data] Downloading package stopwords to\n",
      "[nltk_data]     C:\\Users\\bisha\\AppData\\Roaming\\nltk_data...\n",
      "[nltk_data]   Package stopwords is already up-to-date!\n"
     ]
    },
    {
     "data": {
      "text/plain": [
       "True"
      ]
     },
     "execution_count": 42,
     "metadata": {},
     "output_type": "execute_result"
    }
   ],
   "source": [
    "%%time\n",
    "\n",
    "nltk.download('stopwords')"
   ]
  },
  {
   "cell_type": "code",
   "execution_count": 43,
   "id": "65779671-ecf1-4059-b187-b41ca33ddc33",
   "metadata": {},
   "outputs": [],
   "source": [
    "words = stopwords.words('english')"
   ]
  },
  {
   "cell_type": "code",
   "execution_count": 44,
   "id": "a066b57d-314d-4b84-a90c-f2f06e13bbf1",
   "metadata": {},
   "outputs": [
    {
     "data": {
      "text/plain": [
       "179"
      ]
     },
     "execution_count": 44,
     "metadata": {},
     "output_type": "execute_result"
    }
   ],
   "source": [
    "len(words)"
   ]
  },
  {
   "cell_type": "code",
   "execution_count": 45,
   "id": "92a9dbab-3f7f-4f5b-be7f-4a07452c3335",
   "metadata": {},
   "outputs": [
    {
     "data": {
      "text/plain": [
       "318"
      ]
     },
     "execution_count": 45,
     "metadata": {},
     "output_type": "execute_result"
    }
   ],
   "source": [
    "from sklearn.feature_extraction.text import ENGLISH_STOP_WORDS\n",
    "len(ENGLISH_STOP_WORDS)"
   ]
  },
  {
   "cell_type": "code",
   "execution_count": 46,
   "id": "5a2d5557-074f-4d62-ba6f-2b3f828e474e",
   "metadata": {},
   "outputs": [
    {
     "data": {
      "image/png": "[encoded data removed]",
      "text/plain": [
       "<Figure size 600x600 with 1 Axes>"
      ]
     },
     "metadata": {},
     "output_type": "display_data"
    }
   ],
   "source": [
    "from sklearn.feature_extraction.text import ENGLISH_STOP_WORDS\n",
    "from collections import Counter\n",
    "\n",
    "stopwords = [word for text in df['text'] for word in text.split() if word.lower() in ENGLISH_STOP_WORDS]\n",
    "stopword_counts = Counter(stopwords)\n",
    "\n",
    "# Plot top 15 stopwords\n",
    "stopword_freq = stopword_counts.most_common(15)\n",
    "stopword_words, stopword_freqs = zip(*stopword_freq)\n",
    "\n",
    "plt.figure(figsize=(6, 6))\n",
    "sns.barplot(x=list(stopword_words), y=list(stopword_freqs))\n",
    "plt.title('Top 10 Most Frequent Stopwords')\n",
    "plt.xlabel('Stopword')\n",
    "plt.ylabel('Frequency')\n",
    "plt.xticks(rotation=45)\n",
    "plt.show()\n"
   ]
  },
  {
   "cell_type": "markdown",
   "id": "55ea076e-7a2f-4164-bb54-e60a3f667dd4",
   "metadata": {},
   "source": [
    "#### Make **remove_stopwords** function to remove stopwords"
   ]
  },
  {
   "cell_type": "code",
   "execution_count": 47,
   "id": "efc7713e-73e6-42aa-b376-6c5417afd5fd",
   "metadata": {},
   "outputs": [],
   "source": [
    "def remove_stopwords(row):\n",
    "    row = row.split(\" \")\n",
    "    row =[word for word in words if word not in ENGLISH_STOP_WORDS]\n",
    "    return \" \".join(row)"
   ]
  },
  {
   "cell_type": "markdown",
   "id": "9a6a2d98-de3f-49e0-8fd3-4d56b0417794",
   "metadata": {},
   "source": [
    "#### Make new dataframe named as **df**"
   ]
  },
  {
   "cell_type": "code",
   "execution_count": 48,
   "id": "d306a9cd",
   "metadata": {},
   "outputs": [
    {
     "data": {
      "text/html": [
       "<div>\n",
       "<style scoped>\n",
       "    .dataframe tbody tr th:only-of-type {\n",
       "        vertical-align: middle;\n",
       "    }\n",
       "\n",
       "    .dataframe tbody tr th {\n",
       "        vertical-align: top;\n",
       "    }\n",
       "\n",
       "    .dataframe thead th {\n",
       "        text-align: right;\n",
       "    }\n",
       "</style>\n",
       "<table border=\"1\" class=\"dataframe\">\n",
       "  <thead>\n",
       "    <tr style=\"text-align: right;\">\n",
       "      <th></th>\n",
       "      <th>title</th>\n",
       "      <th>text</th>\n",
       "      <th>no_of_words</th>\n",
       "      <th>unique_no_of_words</th>\n",
       "    </tr>\n",
       "  </thead>\n",
       "  <tbody>\n",
       "    <tr>\n",
       "      <th>2443</th>\n",
       "      <td>introducing docker for windows server   docker...</td>\n",
       "      <td>today microsoft is announcing general availabi...</td>\n",
       "      <td>1296</td>\n",
       "      <td>500</td>\n",
       "    </tr>\n",
       "    <tr>\n",
       "      <th>2444</th>\n",
       "      <td>microsoft and bank of america merrill lynch co...</td>\n",
       "      <td>today at sibos an annual conference organized ...</td>\n",
       "      <td>890</td>\n",
       "      <td>448</td>\n",
       "    </tr>\n",
       "    <tr>\n",
       "      <th>2445</th>\n",
       "      <td>digitization and the loss of iconography  post...</td>\n",
       "      <td>its not the first time iconography has changed...</td>\n",
       "      <td>413</td>\n",
       "      <td>257</td>\n",
       "    </tr>\n",
       "    <tr>\n",
       "      <th>2446</th>\n",
       "      <td>google saves allo conversations a win for mach...</td>\n",
       "      <td>google has been teasing allo  an instant messa...</td>\n",
       "      <td>378</td>\n",
       "      <td>206</td>\n",
       "    </tr>\n",
       "    <tr>\n",
       "      <th>2447</th>\n",
       "      <td>a neural network for machine translation at pr...</td>\n",
       "      <td>ten years ago we announced the launch of googl...</td>\n",
       "      <td>952</td>\n",
       "      <td>486</td>\n",
       "    </tr>\n",
       "    <tr>\n",
       "      <th>...</th>\n",
       "      <td>...</td>\n",
       "      <td>...</td>\n",
       "      <td>...</td>\n",
       "      <td>...</td>\n",
       "    </tr>\n",
       "    <tr>\n",
       "      <th>3116</th>\n",
       "      <td>swift top  articles for the past year v</td>\n",
       "      <td>for the past year  weve ranked nearly  swift a...</td>\n",
       "      <td>161</td>\n",
       "      <td>122</td>\n",
       "    </tr>\n",
       "    <tr>\n",
       "      <th>3118</th>\n",
       "      <td>amazon takes on skype and gotomeeting with its...</td>\n",
       "      <td>amazon has launched chime a video conferencing...</td>\n",
       "      <td>297</td>\n",
       "      <td>193</td>\n",
       "    </tr>\n",
       "    <tr>\n",
       "      <th>3119</th>\n",
       "      <td>codeorg  annual report</td>\n",
       "      <td>february    we begin each year with a look at ...</td>\n",
       "      <td>2662</td>\n",
       "      <td>1020</td>\n",
       "    </tr>\n",
       "    <tr>\n",
       "      <th>3120</th>\n",
       "      <td>jpmorgan software does in seconds what took la...</td>\n",
       "      <td>at jpmorgan chase  co a learning machine is pa...</td>\n",
       "      <td>1029</td>\n",
       "      <td>578</td>\n",
       "    </tr>\n",
       "    <tr>\n",
       "      <th>3121</th>\n",
       "      <td>the  acquia partners of the year</td>\n",
       "      <td>the acquia partner awards program is comprised...</td>\n",
       "      <td>55</td>\n",
       "      <td>36</td>\n",
       "    </tr>\n",
       "  </tbody>\n",
       "</table>\n",
       "<p>473 rows × 4 columns</p>\n",
       "</div>"
      ],
      "text/plain": [
       "                                                  title  \\\n",
       "2443  introducing docker for windows server   docker...   \n",
       "2444  microsoft and bank of america merrill lynch co...   \n",
       "2445  digitization and the loss of iconography  post...   \n",
       "2446  google saves allo conversations a win for mach...   \n",
       "2447  a neural network for machine translation at pr...   \n",
       "...                                                 ...   \n",
       "3116            swift top  articles for the past year v   \n",
       "3118  amazon takes on skype and gotomeeting with its...   \n",
       "3119                             codeorg  annual report   \n",
       "3120  jpmorgan software does in seconds what took la...   \n",
       "3121                   the  acquia partners of the year   \n",
       "\n",
       "                                                   text  no_of_words  \\\n",
       "2443  today microsoft is announcing general availabi...         1296   \n",
       "2444  today at sibos an annual conference organized ...          890   \n",
       "2445  its not the first time iconography has changed...          413   \n",
       "2446  google has been teasing allo  an instant messa...          378   \n",
       "2447  ten years ago we announced the launch of googl...          952   \n",
       "...                                                 ...          ...   \n",
       "3116  for the past year  weve ranked nearly  swift a...          161   \n",
       "3118  amazon has launched chime a video conferencing...          297   \n",
       "3119  february    we begin each year with a look at ...         2662   \n",
       "3120  at jpmorgan chase  co a learning machine is pa...         1029   \n",
       "3121  the acquia partner awards program is comprised...           55   \n",
       "\n",
       "      unique_no_of_words  \n",
       "2443                 500  \n",
       "2444                 448  \n",
       "2445                 257  \n",
       "2446                 206  \n",
       "2447                 486  \n",
       "...                  ...  \n",
       "3116                 122  \n",
       "3118                 193  \n",
       "3119                1020  \n",
       "3120                 578  \n",
       "3121                  36  \n",
       "\n",
       "[473 rows x 4 columns]"
      ]
     },
     "execution_count": 48,
     "metadata": {},
     "output_type": "execute_result"
    }
   ],
   "source": [
    "df"
   ]
  },
  {
   "cell_type": "markdown",
   "id": "f3f73f99-27dc-406a-abf7-42cb6959425c",
   "metadata": {},
   "source": [
    "#### make new columns **title** and **text** in **df** by applying **remove_stopwords** to the **df** columns"
   ]
  },
  {
   "cell_type": "code",
   "execution_count": 49,
   "id": "d0f9db7a-777e-484e-9e14-2c94c9cc9191",
   "metadata": {
    "scrolled": true
   },
   "outputs": [],
   "source": [
    "df[\"title\"] = df['title'].apply(remove_stopwords)\n",
    "df[\"text\"] = df['text'].apply(remove_stopwords)"
   ]
  },
  {
   "cell_type": "code",
   "execution_count": 50,
   "id": "866c3f03-3cd9-4ac6-abda-1fb66b2e63b0",
   "metadata": {},
   "outputs": [
    {
     "data": {
      "text/html": [
       "<div>\n",
       "<style scoped>\n",
       "    .dataframe tbody tr th:only-of-type {\n",
       "        vertical-align: middle;\n",
       "    }\n",
       "\n",
       "    .dataframe tbody tr th {\n",
       "        vertical-align: top;\n",
       "    }\n",
       "\n",
       "    .dataframe thead th {\n",
       "        text-align: right;\n",
       "    }\n",
       "</style>\n",
       "<table border=\"1\" class=\"dataframe\">\n",
       "  <thead>\n",
       "    <tr style=\"text-align: right;\">\n",
       "      <th></th>\n",
       "      <th>title</th>\n",
       "      <th>text</th>\n",
       "      <th>no_of_words</th>\n",
       "      <th>unique_no_of_words</th>\n",
       "    </tr>\n",
       "  </thead>\n",
       "  <tbody>\n",
       "    <tr>\n",
       "      <th>2443</th>\n",
       "      <td>you're you've you'll you'd she's it's theirs t...</td>\n",
       "      <td>you're you've you'll you'd she's it's theirs t...</td>\n",
       "      <td>1296</td>\n",
       "      <td>500</td>\n",
       "    </tr>\n",
       "    <tr>\n",
       "      <th>2444</th>\n",
       "      <td>you're you've you'll you'd she's it's theirs t...</td>\n",
       "      <td>you're you've you'll you'd she's it's theirs t...</td>\n",
       "      <td>890</td>\n",
       "      <td>448</td>\n",
       "    </tr>\n",
       "    <tr>\n",
       "      <th>2445</th>\n",
       "      <td>you're you've you'll you'd she's it's theirs t...</td>\n",
       "      <td>you're you've you'll you'd she's it's theirs t...</td>\n",
       "      <td>413</td>\n",
       "      <td>257</td>\n",
       "    </tr>\n",
       "    <tr>\n",
       "      <th>2446</th>\n",
       "      <td>you're you've you'll you'd she's it's theirs t...</td>\n",
       "      <td>you're you've you'll you'd she's it's theirs t...</td>\n",
       "      <td>378</td>\n",
       "      <td>206</td>\n",
       "    </tr>\n",
       "    <tr>\n",
       "      <th>2447</th>\n",
       "      <td>you're you've you'll you'd she's it's theirs t...</td>\n",
       "      <td>you're you've you'll you'd she's it's theirs t...</td>\n",
       "      <td>952</td>\n",
       "      <td>486</td>\n",
       "    </tr>\n",
       "  </tbody>\n",
       "</table>\n",
       "</div>"
      ],
      "text/plain": [
       "                                                  title  \\\n",
       "2443  you're you've you'll you'd she's it's theirs t...   \n",
       "2444  you're you've you'll you'd she's it's theirs t...   \n",
       "2445  you're you've you'll you'd she's it's theirs t...   \n",
       "2446  you're you've you'll you'd she's it's theirs t...   \n",
       "2447  you're you've you'll you'd she's it's theirs t...   \n",
       "\n",
       "                                                   text  no_of_words  \\\n",
       "2443  you're you've you'll you'd she's it's theirs t...         1296   \n",
       "2444  you're you've you'll you'd she's it's theirs t...          890   \n",
       "2445  you're you've you'll you'd she's it's theirs t...          413   \n",
       "2446  you're you've you'll you'd she's it's theirs t...          378   \n",
       "2447  you're you've you'll you'd she's it's theirs t...          952   \n",
       "\n",
       "      unique_no_of_words  \n",
       "2443                 500  \n",
       "2444                 448  \n",
       "2445                 257  \n",
       "2446                 206  \n",
       "2447                 486  "
      ]
     },
     "execution_count": 50,
     "metadata": {},
     "output_type": "execute_result"
    }
   ],
   "source": [
    "df.head()"
   ]
  },
  {
   "cell_type": "markdown",
   "id": "eb00417a-f4f5-41f1-95e7-ac01c9263aa8",
   "metadata": {},
   "source": [
    "# STEMMIZATION and LEMMATIZATION "
   ]
  },
  {
   "cell_type": "markdown",
   "id": "2f9bf2b3-83e1-4122-b891-21bcbc30ed68",
   "metadata": {},
   "source": [
    "## Stemmization vs Lemmatization in NLP\n",
    "\n",
    "### 1. Stemmization\n",
    "- **Definition**: Reduces words to their root form by removing suffixes using predefined rules.\n",
    "- **Result**: The root may not be a valid word.\n",
    "- **Example**:\n",
    "  - Running → Run\n",
    "  - Caring → Car\n",
    "  - Plays → Play\n",
    "  - Happiness → Happi\n",
    "\n",
    "### 2. Lemmatization\n",
    "- **Definition**: Reduces words to their dictionary form (lemma) using context and part-of-speech.\n",
    "- **Result**: The reduced form is always a valid word.\n",
    "- **Example**:\n",
    "  - Running → Run (verb)\n",
    "  - Better → Good (adjective)\n",
    "  - Caring → Care (noun/verb)\n",
    "  - Happiness → Happiness (noun)\n",
    "\n",
    "### Conclusion:\n",
    "- **Stemmization** is faster but less accurate.\n",
    "- **Lemmatization** is more accurate but slower.\n",
    "- **Deep Learning models** (e.g., BERT, GPT) often reduce the need for both.\n"
   ]
  },
  {
   "cell_type": "code",
   "execution_count": 51,
   "id": "33cdc569-4f84-4f5f-82b0-80ce345a328b",
   "metadata": {},
   "outputs": [
    {
     "name": "stderr",
     "output_type": "stream",
     "text": [
      "[nltk_data] Downloading package punkt_tab to\n",
      "[nltk_data]     C:\\Users\\bisha\\AppData\\Roaming\\nltk_data...\n",
      "[nltk_data]   Package punkt_tab is already up-to-date!\n"
     ]
    },
    {
     "data": {
      "text/plain": [
       "True"
      ]
     },
     "execution_count": 51,
     "metadata": {},
     "output_type": "execute_result"
    }
   ],
   "source": [
    "from nltk.tokenize import word_tokenize\n",
    "from nltk.stem import PorterStemmer  #stemming tool\n",
    "nltk.download('punkt_tab')"
   ]
  },
  {
   "cell_type": "code",
   "execution_count": 52,
   "id": "d7c8fb37-324f-4c25-b2f5-0a2aeaf017be",
   "metadata": {},
   "outputs": [],
   "source": [
    "stemmer = PorterStemmer()"
   ]
  },
  {
   "cell_type": "code",
   "execution_count": null,
   "id": "b8358fb7-8c18-4538-9841-6e8ee28ac63d",
   "metadata": {},
   "outputs": [],
   "source": []
  },
  {
   "cell_type": "code",
   "execution_count": 53,
   "id": "5996dffd-1b1e-4e02-ba35-872f9d0570a5",
   "metadata": {},
   "outputs": [],
   "source": [
    "def stem_words(row):\n",
    "    tokens = word_tokenize(row)\n",
    "    steamed_tokens = [stemmer.stem(token) for token in tokens]\n",
    "    return \" \".join(steamed_tokens)"
   ]
  },
  {
   "cell_type": "markdown",
   "id": "e3feb867-9c8e-4225-87de-63631ea4d105",
   "metadata": {},
   "source": [
    "#### apply **stem_words** function to **title** and **text** column of **df**"
   ]
  },
  {
   "cell_type": "code",
   "execution_count": 86,
   "id": "c4189cf4-77b4-4dab-9e58-d397e85504c0",
   "metadata": {},
   "outputs": [
    {
     "name": "stdout",
     "output_type": "stream",
     "text": [
      "CPU times: total: 1.14 s\n",
      "Wall time: 1.19 s\n"
     ]
    }
   ],
   "source": [
    "%%time\n",
    "df[\"title\"] = df[\"title\"].apply(stem_words)\n",
    "df[\"text\"] = df[\"text\"].apply(stem_words)"
   ]
  },
  {
   "cell_type": "code",
   "execution_count": 55,
   "id": "6bcbd30a-734d-4acd-b4aa-c4e24398f550",
   "metadata": {},
   "outputs": [
    {
     "data": {
      "text/html": [
       "<div>\n",
       "<style scoped>\n",
       "    .dataframe tbody tr th:only-of-type {\n",
       "        vertical-align: middle;\n",
       "    }\n",
       "\n",
       "    .dataframe tbody tr th {\n",
       "        vertical-align: top;\n",
       "    }\n",
       "\n",
       "    .dataframe thead th {\n",
       "        text-align: right;\n",
       "    }\n",
       "</style>\n",
       "<table border=\"1\" class=\"dataframe\">\n",
       "  <thead>\n",
       "    <tr style=\"text-align: right;\">\n",
       "      <th></th>\n",
       "      <th>title</th>\n",
       "      <th>text</th>\n",
       "      <th>no_of_words</th>\n",
       "      <th>unique_no_of_words</th>\n",
       "    </tr>\n",
       "  </thead>\n",
       "  <tbody>\n",
       "    <tr>\n",
       "      <th>3116</th>\n",
       "      <td>you 're you 've you 'll you 'd she 's it 's th...</td>\n",
       "      <td>you 're you 've you 'll you 'd she 's it 's th...</td>\n",
       "      <td>161</td>\n",
       "      <td>122</td>\n",
       "    </tr>\n",
       "    <tr>\n",
       "      <th>3118</th>\n",
       "      <td>you 're you 've you 'll you 'd she 's it 's th...</td>\n",
       "      <td>you 're you 've you 'll you 'd she 's it 's th...</td>\n",
       "      <td>297</td>\n",
       "      <td>193</td>\n",
       "    </tr>\n",
       "    <tr>\n",
       "      <th>3119</th>\n",
       "      <td>you 're you 've you 'll you 'd she 's it 's th...</td>\n",
       "      <td>you 're you 've you 'll you 'd she 's it 's th...</td>\n",
       "      <td>2662</td>\n",
       "      <td>1020</td>\n",
       "    </tr>\n",
       "    <tr>\n",
       "      <th>3120</th>\n",
       "      <td>you 're you 've you 'll you 'd she 's it 's th...</td>\n",
       "      <td>you 're you 've you 'll you 'd she 's it 's th...</td>\n",
       "      <td>1029</td>\n",
       "      <td>578</td>\n",
       "    </tr>\n",
       "    <tr>\n",
       "      <th>3121</th>\n",
       "      <td>you 're you 've you 'll you 'd she 's it 's th...</td>\n",
       "      <td>you 're you 've you 'll you 'd she 's it 's th...</td>\n",
       "      <td>55</td>\n",
       "      <td>36</td>\n",
       "    </tr>\n",
       "  </tbody>\n",
       "</table>\n",
       "</div>"
      ],
      "text/plain": [
       "                                                  title  \\\n",
       "3116  you 're you 've you 'll you 'd she 's it 's th...   \n",
       "3118  you 're you 've you 'll you 'd she 's it 's th...   \n",
       "3119  you 're you 've you 'll you 'd she 's it 's th...   \n",
       "3120  you 're you 've you 'll you 'd she 's it 's th...   \n",
       "3121  you 're you 've you 'll you 'd she 's it 's th...   \n",
       "\n",
       "                                                   text  no_of_words  \\\n",
       "3116  you 're you 've you 'll you 'd she 's it 's th...          161   \n",
       "3118  you 're you 've you 'll you 'd she 's it 's th...          297   \n",
       "3119  you 're you 've you 'll you 'd she 's it 's th...         2662   \n",
       "3120  you 're you 've you 'll you 'd she 's it 's th...         1029   \n",
       "3121  you 're you 've you 'll you 'd she 's it 's th...           55   \n",
       "\n",
       "      unique_no_of_words  \n",
       "3116                 122  \n",
       "3118                 193  \n",
       "3119                1020  \n",
       "3120                 578  \n",
       "3121                  36  "
      ]
     },
     "execution_count": 55,
     "metadata": {},
     "output_type": "execute_result"
    }
   ],
   "source": [
    "df.tail()"
   ]
  },
  {
   "cell_type": "markdown",
   "id": "14a92702-2275-4a8b-ac0b-8bb853cb8dde",
   "metadata": {},
   "source": [
    "#### make a new column **data** by concatenating the **title** and **text** column of **df**"
   ]
  },
  {
   "cell_type": "code",
   "execution_count": 56,
   "id": "69297b54-f327-4acc-a489-c9e9978884a8",
   "metadata": {},
   "outputs": [],
   "source": [
    "df[\"data\"] = df['title'] + df['text']"
   ]
  },
  {
   "cell_type": "code",
   "execution_count": 57,
   "id": "8a8a9458-ea38-45bb-8412-acd42d446aea",
   "metadata": {},
   "outputs": [
    {
     "data": {
      "text/html": [
       "<div>\n",
       "<style scoped>\n",
       "    .dataframe tbody tr th:only-of-type {\n",
       "        vertical-align: middle;\n",
       "    }\n",
       "\n",
       "    .dataframe tbody tr th {\n",
       "        vertical-align: top;\n",
       "    }\n",
       "\n",
       "    .dataframe thead th {\n",
       "        text-align: right;\n",
       "    }\n",
       "</style>\n",
       "<table border=\"1\" class=\"dataframe\">\n",
       "  <thead>\n",
       "    <tr style=\"text-align: right;\">\n",
       "      <th></th>\n",
       "      <th>title</th>\n",
       "      <th>text</th>\n",
       "      <th>no_of_words</th>\n",
       "      <th>unique_no_of_words</th>\n",
       "      <th>data</th>\n",
       "    </tr>\n",
       "  </thead>\n",
       "  <tbody>\n",
       "    <tr>\n",
       "      <th>3116</th>\n",
       "      <td>you 're you 've you 'll you 'd she 's it 's th...</td>\n",
       "      <td>you 're you 've you 'll you 'd she 's it 's th...</td>\n",
       "      <td>161</td>\n",
       "      <td>122</td>\n",
       "      <td>you 're you 've you 'll you 'd she 's it 's th...</td>\n",
       "    </tr>\n",
       "    <tr>\n",
       "      <th>3118</th>\n",
       "      <td>you 're you 've you 'll you 'd she 's it 's th...</td>\n",
       "      <td>you 're you 've you 'll you 'd she 's it 's th...</td>\n",
       "      <td>297</td>\n",
       "      <td>193</td>\n",
       "      <td>you 're you 've you 'll you 'd she 's it 's th...</td>\n",
       "    </tr>\n",
       "    <tr>\n",
       "      <th>3119</th>\n",
       "      <td>you 're you 've you 'll you 'd she 's it 's th...</td>\n",
       "      <td>you 're you 've you 'll you 'd she 's it 's th...</td>\n",
       "      <td>2662</td>\n",
       "      <td>1020</td>\n",
       "      <td>you 're you 've you 'll you 'd she 's it 's th...</td>\n",
       "    </tr>\n",
       "    <tr>\n",
       "      <th>3120</th>\n",
       "      <td>you 're you 've you 'll you 'd she 's it 's th...</td>\n",
       "      <td>you 're you 've you 'll you 'd she 's it 's th...</td>\n",
       "      <td>1029</td>\n",
       "      <td>578</td>\n",
       "      <td>you 're you 've you 'll you 'd she 's it 's th...</td>\n",
       "    </tr>\n",
       "    <tr>\n",
       "      <th>3121</th>\n",
       "      <td>you 're you 've you 'll you 'd she 's it 's th...</td>\n",
       "      <td>you 're you 've you 'll you 'd she 's it 's th...</td>\n",
       "      <td>55</td>\n",
       "      <td>36</td>\n",
       "      <td>you 're you 've you 'll you 'd she 's it 's th...</td>\n",
       "    </tr>\n",
       "  </tbody>\n",
       "</table>\n",
       "</div>"
      ],
      "text/plain": [
       "                                                  title  \\\n",
       "3116  you 're you 've you 'll you 'd she 's it 's th...   \n",
       "3118  you 're you 've you 'll you 'd she 's it 's th...   \n",
       "3119  you 're you 've you 'll you 'd she 's it 's th...   \n",
       "3120  you 're you 've you 'll you 'd she 's it 's th...   \n",
       "3121  you 're you 've you 'll you 'd she 's it 's th...   \n",
       "\n",
       "                                                   text  no_of_words  \\\n",
       "3116  you 're you 've you 'll you 'd she 's it 's th...          161   \n",
       "3118  you 're you 've you 'll you 'd she 's it 's th...          297   \n",
       "3119  you 're you 've you 'll you 'd she 's it 's th...         2662   \n",
       "3120  you 're you 've you 'll you 'd she 's it 's th...         1029   \n",
       "3121  you 're you 've you 'll you 'd she 's it 's th...           55   \n",
       "\n",
       "      unique_no_of_words                                               data  \n",
       "3116                 122  you 're you 've you 'll you 'd she 's it 's th...  \n",
       "3118                 193  you 're you 've you 'll you 'd she 's it 's th...  \n",
       "3119                1020  you 're you 've you 'll you 'd she 's it 's th...  \n",
       "3120                 578  you 're you 've you 'll you 'd she 's it 's th...  \n",
       "3121                  36  you 're you 've you 'll you 'd she 's it 's th...  "
      ]
     },
     "execution_count": 57,
     "metadata": {},
     "output_type": "execute_result"
    }
   ],
   "source": [
    "df.tail()"
   ]
  },
  {
   "cell_type": "code",
   "execution_count": 58,
   "id": "e3c740d7-2f07-4f82-a491-ecb697bf2226",
   "metadata": {},
   "outputs": [
    {
     "data": {
      "image/png": "[encoded data removed]",
      "text/plain": [
       "<Figure size 1000x500 with 1 Axes>"
      ]
     },
     "metadata": {},
     "output_type": "display_data"
    }
   ],
   "source": [
    "from wordcloud import WordCloud\n",
    "wordcloud = WordCloud(background_color=\"white\", width=800, height=400).generate(' '.join(df['data']))\n",
    "\n",
    "# Display the wordcloud\n",
    "plt.figure(figsize=(10, 5))\n",
    "plt.imshow(wordcloud, interpolation=\"bilinear\")\n",
    "plt.axis(\"off\")\n",
    "plt.show()"
   ]
  },
  {
   "cell_type": "markdown",
   "id": "63b53e73-90f8-4481-aac1-70bbf5df9062",
   "metadata": {},
   "source": [
    "# Modelling part\n",
    "\n",
    "### Feature Representation: Converting Text to Vectors\n",
    "\n",
    "- **Why convert text to vectors?**\n",
    "  - Machine learning models process numerical data, not raw text.\n",
    "  - Converts unstructured text into structured, numerical format.\n",
    "  - Enables comparison and similarity measurement between articles.\n",
    "  - Facilitates meaningful pattern extraction for recommendations.\n",
    "\n",
    "\n",
    "- **Techniques for feature representation:**  \n",
    "  - One-Hot Encoding (OHE), Bag of Words, TF-IDF, etc.  \n",
    "  - Each technique has its own advantages and disadvantages.\n"
   ]
  },
  {
   "cell_type": "markdown",
   "id": "b90b62e1-0afb-490a-8c0d-30666a2a735c",
   "metadata": {},
   "source": [
    "### **Bag of Words (BoW)**\n",
    "\n",
    "- Represents text as a collection of word counts or frequencies.  \n",
    "- Simple and easy to implement.  \n",
    "- Ignores word order and context.  \n"
   ]
  },
  {
   "cell_type": "code",
   "execution_count": 59,
   "id": "2aac25e1-2fe4-471b-9787-57a42fbf4321",
   "metadata": {},
   "outputs": [],
   "source": [
    "from sklearn.feature_extraction.text import CountVectorizer\n",
    "\n",
    "vectorizer = CountVectorizer(max_features=5000)\n"
   ]
  },
  {
   "cell_type": "code",
   "execution_count": 60,
   "id": "7f2a3794-cf09-4b45-ab25-47891dd6f482",
   "metadata": {},
   "outputs": [],
   "source": [
    "vectorized_data = vectorizer.fit_transform(df[\"data\"]).toarray()"
   ]
  },
  {
   "cell_type": "code",
   "execution_count": 61,
   "id": "14e6c601-f5a4-4242-8862-f93a09b4811d",
   "metadata": {},
   "outputs": [
    {
     "data": {
      "text/plain": [
       "array([[2, 2, 2, ..., 2, 2, 7],\n",
       "       [2, 2, 2, ..., 2, 2, 7],\n",
       "       [2, 2, 2, ..., 2, 2, 7],\n",
       "       ...,\n",
       "       [2, 2, 2, ..., 2, 2, 7],\n",
       "       [2, 2, 2, ..., 2, 2, 7],\n",
       "       [2, 2, 2, ..., 2, 2, 7]], shape=(473, 48))"
      ]
     },
     "execution_count": 61,
     "metadata": {},
     "output_type": "execute_result"
    }
   ],
   "source": [
    "vectorized_data"
   ]
  },
  {
   "cell_type": "markdown",
   "id": "9154a04c-89d1-4a52-8463-5ef3b8c96c39",
   "metadata": {},
   "source": [
    "### Cosine Similarity\n",
    "\n",
    "- Measures similarity between two vectors based on their angle.  \n",
    "- Values range from -1 (opposite) to 1 (identical).  \n",
    "- Ideal for text data, as vector magnitude is ignored.  \n"
   ]
  },
  {
   "cell_type": "code",
   "execution_count": 62,
   "id": "f89694ac-23ed-4252-9a7f-fb1c036271fa",
   "metadata": {},
   "outputs": [],
   "source": [
    "from sklearn.metrics.pairwise import cosine_similarity"
   ]
  },
  {
   "cell_type": "code",
   "execution_count": 63,
   "id": "7372ad1b-c4af-4c9a-8b23-e9e635fea519",
   "metadata": {},
   "outputs": [],
   "source": [
    "similarity_score = cosine_similarity(vectorized_data)"
   ]
  },
  {
   "cell_type": "markdown",
   "id": "5db49b72-c3b0-4919-9297-257f8e9bd394",
   "metadata": {},
   "source": [
    "### TF-IDF (Term Frequency-Inverse Document Frequency)\n",
    "\n",
    "- Weighs words based on importance in a document relative to the corpus.  \n",
    "- Reduces impact of common words (e.g., \"the\", \"is\").  \n",
    "- Captures more relevant features compared to simple word counts.  \n"
   ]
  },
  {
   "cell_type": "code",
   "execution_count": 64,
   "id": "8fedc13f-47b5-4147-ba3b-66ac6b32a50e",
   "metadata": {},
   "outputs": [],
   "source": [
    "from sklearn.feature_extraction.text import TfidfVectorizer\n",
    "\n",
    "\n",
    "tfidf = TfidfVectorizer(max_features=5000)"
   ]
  },
  {
   "cell_type": "code",
   "execution_count": 65,
   "id": "cbfa1ffd-e167-476a-a13a-2d10770e5608",
   "metadata": {},
   "outputs": [],
   "source": [
    "tf_vectors = tfidf.fit_transform(df[\"data\"]).toarray()"
   ]
  },
  {
   "cell_type": "code",
   "execution_count": 66,
   "id": "a3cb5552-a868-4ac0-997a-ab628fe1b6b4",
   "metadata": {},
   "outputs": [],
   "source": [
    "tf_similarity = cosine_similarity(tf_vectors)"
   ]
  },
  {
   "cell_type": "markdown",
   "id": "f0ca5ef2-9ca1-4947-ba25-ec5d43c37f73",
   "metadata": {},
   "source": [
    "Function to recommend article"
   ]
  },
  {
   "cell_type": "code",
   "execution_count": 67,
   "id": "57913f38-3e5c-473c-98b0-27525fb8ebde",
   "metadata": {},
   "outputs": [],
   "source": [
    "def recommend_article(title:str):\n",
    "    title_idx = df1[df1[\"title\"]==title].index[0]\n",
    "    similar_idx_scores = list(enumerate(tf_similarity[title_idx]))\n",
    "    sorted_similar_idx = sorted(similar_idx_scores,key=lambda x:x[1],reverse=True)\n",
    "    recommended_idx = sorted_similar_idx[1:10]\n",
    "    return recommended_idx\n",
    "    "
   ]
  },
  {
   "cell_type": "code",
   "execution_count": 68,
   "id": "d27d2fc1-adff-4bb8-a337-aab405559cb3",
   "metadata": {},
   "outputs": [
    {
     "data": {
      "text/plain": [
       "0      Introducing Docker for Windows Server 2016 - D...\n",
       "1      Microsoft and Bank of America Merrill Lynch Co...\n",
       "2      Digitization and The Loss of Iconography - Pos...\n",
       "3      Google saves Allo conversations, a win for mac...\n",
       "4      A Neural Network for Machine Translation, at P...\n",
       "                             ...                        \n",
       "468     Swift Top 10 Articles For The Past Year (v.2017)\n",
       "469    Amazon takes on Skype and GoToMeeting with its...\n",
       "470                          Code.org 2016 Annual Report\n",
       "471    JPMorgan Software Does in Seconds What Took La...\n",
       "472                 The 2017 Acquia Partners of the Year\n",
       "Name: title, Length: 473, dtype: object"
      ]
     },
     "execution_count": 68,
     "metadata": {},
     "output_type": "execute_result"
    }
   ],
   "source": [
    "# title = df1[\"title\"][]\n",
    "# title\n",
    "df1 = df1.reset_index(drop=True)\n",
    "title = df1[\"title\"]\n",
    "title\n"
   ]
  },
  {
   "cell_type": "code",
   "execution_count": 69,
   "id": "45f47c89-42ac-4bb9-a653-ea0fb52dfa1a",
   "metadata": {},
   "outputs": [],
   "source": [
    "recommended_articles = recommend_article(title)"
   ]
  },
  {
   "cell_type": "code",
   "execution_count": 70,
   "id": "f810d4ce-464c-4f2a-aee7-4876e00dca04",
   "metadata": {},
   "outputs": [
    {
     "name": "stdout",
     "output_type": "stream",
     "text": [
      "1 --- Microsoft and Bank of America Merrill Lynch Collaborate to Transform Trade Finance Transacting With Azure Blockchain as a Service\n",
      "\n",
      "2 --- Digitization and The Loss of Iconography - Posted by SYPartners\n",
      "\n",
      "3 --- Google saves Allo conversations, a win for machine learning but a loss for privacy - Tech2\n",
      "\n",
      "4 --- A Neural Network for Machine Translation, at Production Scale\n",
      "\n",
      "5 --- Onion Creates a $5 Linux Computer with Wi-Fi, Designed for IoT Applications\n",
      "\n",
      "6 --- ​Kubernetes 1.4: One DevOps tool to rule all the containers | ZDNet\n",
      "\n",
      "7 --- Today in Apple history: 'Here's to the crazy ones...' | Cult of Mac\n",
      "\n",
      "8 --- Baidu Research grills AI models on deep learning\n",
      "\n",
      "9 --- Your health insurance might score you an Apple Watch\n",
      "\n"
     ]
    }
   ],
   "source": [
    "for i,val in enumerate(recommended_articles):\n",
    "    print(f\"{i+1} --- {df1[\"title\"][val[0]]}\\n\")"
   ]
  }
 ],
 "metadata": {
  "kernelspec": {
   "display_name": "Python 3",
   "language": "python",
   "name": "python3"
  },
  "language_info": {
   "codemirror_mode": {
    "name": "ipython",
    "version": 3
   },
   "file_extension": ".py",
   "mimetype": "text/x-python",
   "name": "python",
   "nbconvert_exporter": "python",
   "pygments_lexer": "ipython3",
   "version": "3.13.1"
  }
 },
 "nbformat": 4,
 "nbformat_minor": 5
}

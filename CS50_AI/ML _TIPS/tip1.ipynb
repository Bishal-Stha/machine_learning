{
 "cells": [
  {
   "cell_type": "markdown",
   "metadata": {},
   "source": [
    "### **🚀 Crucial Steps for Working with Any Machine Learning Model**  \n",
    "\n",
    "✅ **1. Import Dataset**  \n",
    "✅ **2. Check for duplicates and null values** (drop or fill missing values)  \n",
    "✅ **3. Convert categorical variables** (One-Hot Encoding or Label Encoding)\n",
    "\n",
    "<audio controls>\n",
    "  <source src=\"#\" type=\"audio/mpeg\">\n",
    "</audio>\n",
    "<p>One Hot Encoding</p>\n",
    "\n",
    "✅ **4. Split dataset into features (X) and target variable (y)**  \n",
    "✅ **5. Normalize or Standardize features** (if needed)  \n",
    "✅ **6. Split dataset into training and testing sets (e.g., 80-20 split)**  \n",
    "✅ **7. Choose the appropriate ML model** (Linear Regression, Decision Tree, etc.)\n",
    "\n",
    "<audio controls>\n",
    "  <source src=\"./oneHotEncodingVsLabelEncoding.mp3\" type=\"audio/mpeg\">\n",
    "</audio>\n",
    "<p>One TF-IDF Vectorizer</p>\n",
    "\n",
    "✅ **8. Train the model using `X_train` and `y_train`**  \n",
    "✅ **9. Predict results using `X_test`**  \n",
    "✅ **10. Evaluate the model** (MSE, Accuracy, R² Score, etc.)  \n",
    "\n",
    "\n",
    "<audio controls>\n",
    "  <source src=\"./Cross_Validation.mp3\" type=\"audio/mpeg\">\n",
    "</audio>\n",
    "<p>Cross Validation</p>\n",
    "\n",
    "✅ **11. Tune hyperparameters** (Grid Search, Random Search, etc.)\n",
    "\n",
    "\n",
    "<audio controls>\n",
    "  <source src=\"./Hyper_parameter_tuning.mp3\" type=\"audio/mpeg\">\n",
    "</audio>\n",
    "<p>Hyperprameter tuning</p>\n",
    "\n",
    "✅ **12. Test the model on new/unseen data**  \n",
    "✅ **13. Save the trained model** (Pickle, Joblib, or TensorFlow SavedModel)  \n",
    "✅ **14. Deploy model if needed** (FastAPI, Flask, or Streamlit)"
   ]
  },
  {
   "cell_type": "markdown",
   "metadata": {},
   "source": [
    "\n",
    "## Machine Learning Suggestion\n",
    "<video width=\"400\" controls>\n",
    "  <source src=\"./Machine_Learning_Suggestion.mp4\" type=\"video/mp4\">\n",
    "</video>"
   ]
  }
 ],
 "metadata": {
  "kernelspec": {
   "display_name": "Python 3",
   "language": "python",
   "name": "python3"
  },
  "language_info": {
   "name": "python",
   "version": "3.13.1"
  }
 },
 "nbformat": 4,
 "nbformat_minor": 2
}

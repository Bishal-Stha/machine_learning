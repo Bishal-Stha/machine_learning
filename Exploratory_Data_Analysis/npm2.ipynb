{
 "cells": [
  {
   "cell_type": "code",
   "execution_count": null,
   "id": "e7503a93",
   "metadata": {},
   "outputs": [],
   "source": [
    "#Here i will be dealing with mathematics and statistics using pandas\n",
    "#statistics: mean, median, mode, min, max, correlation, regression, sd, quartile deviation, "
   ]
  },
  {
   "cell_type": "code",
   "execution_count": 2,
   "id": "e9110cd9",
   "metadata": {},
   "outputs": [],
   "source": [
    "import pandas as pd\n",
    "import numpy as np\n",
    "from sklearn.datasets import load_diabetes\n",
    "diabetes = load_diabetes(as_frame=True)\n",
    "df = diabetes.frame # type: ignore\n"
   ]
  },
  {
   "cell_type": "code",
   "execution_count": null,
   "id": "7c2192a1",
   "metadata": {},
   "outputs": [],
   "source": []
  },
  {
   "cell_type": "code",
   "execution_count": 3,
   "id": "0d04e822",
   "metadata": {},
   "outputs": [],
   "source": [
    "#Summary statistics\n",
    "# mean\n",
    "# median\n",
    "mean = df['bmi'].mean()\n",
    "median = df['bmi'].median()\n",
    "max_val = df['bmi'].max()\n",
    "min_val = df['bmi'].min()"
   ]
  },
  {
   "cell_type": "code",
   "execution_count": 4,
   "id": "f74a49b6",
   "metadata": {},
   "outputs": [
    {
     "name": "stdout",
     "output_type": "stream",
     "text": [
      "mean: -2.2455642172282577e-16, median: -0.007283766209687899, max_value: 0.17055522598064407, min_val: -0.09027529589850945\n"
     ]
    }
   ],
   "source": [
    "print(f\"mean: {mean}, median: {median}, max_value: {max_val}, min_val: {min_val}\")"
   ]
  },
  {
   "cell_type": "code",
   "execution_count": 5,
   "id": "0d1bfdfc",
   "metadata": {},
   "outputs": [
    {
     "name": "stdout",
     "output_type": "stream",
     "text": [
      "-0.007283766209687899\n"
     ]
    }
   ],
   "source": [
    "#Quantile means quartile itself but has flexibility of any sub-division.\n",
    "\n",
    "# quartile = df['bmi'].quantile(0.75)\n",
    "# \n",
    "# print(quartile)\n",
    "\n",
    "def pct50(column):\n",
    "    return column.quantile(0.50)\n",
    "quartile = df['bmi'].agg(pct50)\n",
    "print(quartile)"
   ]
  },
  {
   "cell_type": "code",
   "execution_count": 8,
   "id": "f7d2769b",
   "metadata": {},
   "outputs": [
    {
     "name": "stdout",
     "output_type": "stream",
     "text": [
      "mean              -2.511817e-19\n",
      "median             5.383060e-03\n",
      "max                1.107267e-01\n",
      "min               -1.072256e-01\n",
      "75th_percentile    3.807591e-02\n",
      "Name: age, dtype: float64\n"
     ]
    }
   ],
   "source": [
    "#multiple summary statistics using .agg()\n",
    "\n",
    "ddf_bmi_summary_stats = df['age'].agg({\n",
    "    'mean': 'mean',\n",
    "    'median': 'median',\n",
    "    'max': 'max',\n",
    "    'min': 'min',\n",
    "    '75th_percentile': lambda x: x.quantile(0.75)\n",
    "})\n",
    "\n",
    "print(ddf_bmi_summary_stats)"
   ]
  },
  {
   "cell_type": "code",
   "execution_count": 7,
   "id": "838de424",
   "metadata": {},
   "outputs": [],
   "source": [
    "#detecting outliers\n",
    "\n",
    "\n",
    "Q1 = df['bmi'].quantile(0.25)\n",
    "Q3 = df['bmi'].quantile(0.75)\n",
    "\n",
    "IQR = Q3-Q1\n",
    "lw_outliers = Q1-1.5*IQR\n",
    "upr_outliers = Q3+1.5*IQR"
   ]
  },
  {
   "cell_type": "markdown",
   "id": "e9841224",
   "metadata": {},
   "source": [
    "### counting in pandas\n",
    "**- df.value_counts() -> sort, normalize**\n",
    "\n",
    "**-df.drop_duplicates()**"
   ]
  },
  {
   "cell_type": "code",
   "execution_count": 11,
   "id": "a561f4ad",
   "metadata": {},
   "outputs": [
    {
     "name": "stdout",
     "output_type": "stream",
     "text": [
      "age\n",
      " 0.038076    10\n",
      "-0.001882    14\n",
      " 0.085299     1\n",
      "-0.089063     3\n",
      " 0.005383    13\n",
      "Name: count, dtype: int64\n"
     ]
    }
   ],
   "source": [
    "count = df['age'].value_counts(sort=False)\n",
    "print(count.head(5))"
   ]
  },
  {
   "cell_type": "code",
   "execution_count": null,
   "id": "e37f74bc",
   "metadata": {},
   "outputs": [],
   "source": []
  }
 ],
 "metadata": {
  "kernelspec": {
   "display_name": "Python 3",
   "language": "python",
   "name": "python3"
  },
  "language_info": {
   "codemirror_mode": {
    "name": "ipython",
    "version": 3
   },
   "file_extension": ".py",
   "mimetype": "text/x-python",
   "name": "python",
   "nbconvert_exporter": "python",
   "pygments_lexer": "ipython3",
   "version": "3.10.0"
  }
 },
 "nbformat": 4,
 "nbformat_minor": 5
}
